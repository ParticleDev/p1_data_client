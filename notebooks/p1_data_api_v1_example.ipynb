{
 "cells": [
  {
   "cell_type": "markdown",
   "metadata": {},
   "source": [
    "# P1 REST API\n",
    "\n",
    "- This Jupyter notebook is an example of how to access the RestAPI interface, described at:\n",
    "  https://doc.particle.one/"
   ]
  },
  {
   "cell_type": "markdown",
   "metadata": {},
   "source": [
    "# Credentials / Settings"
   ]
  },
  {
   "cell_type": "code",
   "execution_count": 1,
   "metadata": {
    "ExecuteTime": {
     "end_time": "2020-12-20T01:49:48.071341Z",
     "start_time": "2020-12-20T01:49:47.331065Z"
    }
   },
   "outputs": [],
   "source": [
    "%load_ext autoreload\n",
    "%autoreload 2\n",
    "\n",
    "import json\n",
    "import os\n",
    "\n",
    "import pandas as pd\n",
    "import requests"
   ]
  },
  {
   "cell_type": "code",
   "execution_count": 2,
   "metadata": {
    "ExecuteTime": {
     "end_time": "2020-12-20T01:49:48.112144Z",
     "start_time": "2020-12-20T01:49:48.073743Z"
    }
   },
   "outputs": [
    {
     "name": "stdout",
     "output_type": "stream",
     "text": [
      "P1_API_TOKEN= e44e7c6b04ef3ea1cfb7a8a67db74751c177259e\n"
     ]
    }
   ],
   "source": [
    "# Enter your token here.\n",
    "# You can get your token by signing up at `www.particle.one`.\n",
    "# P1_API_TOKEN = \"YOUR_TOKEN_HERE\"\n",
    "# An example token is like:\n",
    "# P1_API_TOKEN = \"e44e7c6b04ef3ea1cfb7a8a67db74751c177259e\"\n",
    "P1_API_TOKEN = os.environ[\"P1_API_TOKEN\"]\n",
    "print(\"P1_API_TOKEN=\", P1_API_TOKEN)\n",
    "\n",
    "HEADERS = {\n",
    "    \"Authorization\": f\"Token {P1_API_TOKEN}\",\n",
    "    \"Content-Type\": \"application/json\",\n",
    "}"
   ]
  },
  {
   "cell_type": "markdown",
   "metadata": {},
   "source": [
    "# Search query structure\n",
    "\n",
    "Search query is a Python `dict` with the following structure:\n",
    "```python\n",
    "query = {\n",
    "    \"text\": \"\",\n",
    "    \"commodity\": [],\n",
    "    \"business_category\": \"\",\n",
    "    \"country\": [],\n",
    "    \"frequency\": []\n",
    "}\n",
    "```\n",
    "The fields are:\n",
    "- `text`: string. Works as a filter. Free text. Everything that have no match with this phrase will be filtered out.\n",
    "- `commodity`: list of strings. Works as a filter. You can find valid values in paragraph 7.1 of this notebook.\n",
    "- `business_category`: string. Works as a filter. You can find valid values in paragraph 7.2 of this notebook.\n",
    "- `country`: list of strings. Works as a filter. You can find valid values in paragraph 7.3 of this notebook.\n",
    "- `frequency`: list of strings. Works as a filter. You can find valid values in paragraph 7.4 of this notebook.\n",
    "\n",
    "Combination of fields work with logical operator AND.\n",
    "E.g. you will get all records that satisfy all filters.\n",
    "\n",
    "`text` **AND** `commodity` **AND** `business_category` **AND** `country` **AND** `frequency`"
   ]
  },
  {
   "cell_type": "markdown",
   "metadata": {
    "lines_to_next_cell": 2
   },
   "source": [
    "# Imports"
   ]
  },
  {
   "cell_type": "markdown",
   "metadata": {},
   "source": [
    "# POST data-api/v1/search-count/\n",
    "Returns count for the given query."
   ]
  },
  {
   "cell_type": "code",
   "execution_count": 3,
   "metadata": {
    "ExecuteTime": {
     "end_time": "2020-12-20T01:49:48.140093Z",
     "start_time": "2020-12-20T01:49:48.114733Z"
    }
   },
   "outputs": [
    {
     "name": "stdout",
     "output_type": "stream",
     "text": [
      "count_url= https://data.particle.one/data-api/v1/search-count/\n"
     ]
    }
   ],
   "source": [
    "# Build entrypoint url.\n",
    "base_url = \"https://data.particle.one\"\n",
    "count_url = os.path.join(base_url, \"data-api/v1/search-count/\")\n",
    "print(\"count_url=\", count_url)"
   ]
  },
  {
   "cell_type": "code",
   "execution_count": 4,
   "metadata": {
    "ExecuteTime": {
     "end_time": "2020-12-20T01:49:48.170713Z",
     "start_time": "2020-12-20T01:49:48.141945Z"
    }
   },
   "outputs": [],
   "source": [
    "# Prepare query.\n",
    "query = {\n",
    "    \"text\": \"\",\n",
    "    \"commodity\": [\"Corn\"],\n",
    "    \"business_category\": \"\",\n",
    "    \"country\": [],\n",
    "    \"frequency\": [],\n",
    "}\n",
    "payload = json.dumps(query)"
   ]
  },
  {
   "cell_type": "code",
   "execution_count": 5,
   "metadata": {
    "ExecuteTime": {
     "end_time": "2020-12-20T01:49:48.448878Z",
     "start_time": "2020-12-20T01:49:48.172671Z"
    }
   },
   "outputs": [
    {
     "name": "stdout",
     "output_type": "stream",
     "text": [
      "data= {'message': 'OK', 'count': 3715}\n"
     ]
    }
   ],
   "source": [
    "# Perform query.\n",
    "response = requests.request(\"POST\", count_url, headers=HEADERS, data=payload)\n",
    "data = json.loads(response.text.encode(\"utf8\"))\n",
    "print(\"data=\", data)"
   ]
  },
  {
   "cell_type": "markdown",
   "metadata": {},
   "source": [
    "# POST data-api/v1/search/\n",
    "\n",
    "- It returns the first chunk of the payload metadata for the given query, where a chunk is 1000 records.\n",
    "- It also returns `scroll_id` to get the next portion of the data."
   ]
  },
  {
   "cell_type": "code",
   "execution_count": 6,
   "metadata": {
    "ExecuteTime": {
     "end_time": "2020-12-20T01:49:48.477867Z",
     "start_time": "2020-12-20T01:49:48.450629Z"
    }
   },
   "outputs": [
    {
     "name": "stdout",
     "output_type": "stream",
     "text": [
      "search_url= https://data.particle.one/data-api/v1/search/\n"
     ]
    }
   ],
   "source": [
    "search_url = os.path.join(base_url, \"data-api/v1/search/\")\n",
    "print(\"search_url=\", search_url)"
   ]
  },
  {
   "cell_type": "code",
   "execution_count": 7,
   "metadata": {
    "ExecuteTime": {
     "end_time": "2020-12-20T01:49:48.510700Z",
     "start_time": "2020-12-20T01:49:48.483260Z"
    }
   },
   "outputs": [],
   "source": [
    "# Prepare query.\n",
    "query = {\n",
    "    \"text\": \"Gas\",\n",
    "    \"commodity\": [],\n",
    "    \"business_category\": \"\",\n",
    "    \"country\": [],\n",
    "    \"frequency\": [],\n",
    "}\n",
    "payload = json.dumps(query)"
   ]
  },
  {
   "cell_type": "code",
   "execution_count": 8,
   "metadata": {
    "ExecuteTime": {
     "end_time": "2020-12-20T01:49:50.380276Z",
     "start_time": "2020-12-20T01:49:48.513815Z"
    }
   },
   "outputs": [
    {
     "name": "stdout",
     "output_type": "stream",
     "text": [
      "data.keys()= ['message', 'scroll_id', 'total_count', 'rows']\n",
      "total_count= 452593\n",
      "scroll_id= DXF1ZXJ5QW5kRmV0Y2gBAAAAAABs8aYWQUFleVN5Ym9RT0daMWhMQU1KNXJ4dw==\n",
      "df.shape= (1000, 8)\n",
      "df.head()=\n"
     ]
    },
    {
     "data": {
      "text/html": [
       "<div>\n",
       "<style scoped>\n",
       "    .dataframe tbody tr th:only-of-type {\n",
       "        vertical-align: middle;\n",
       "    }\n",
       "\n",
       "    .dataframe tbody tr th {\n",
       "        vertical-align: top;\n",
       "    }\n",
       "\n",
       "    .dataframe thead th {\n",
       "        text-align: right;\n",
       "    }\n",
       "</style>\n",
       "<table border=\"1\" class=\"dataframe\">\n",
       "  <thead>\n",
       "    <tr style=\"text-align: right;\">\n",
       "      <th></th>\n",
       "      <th>name</th>\n",
       "      <th>commodity</th>\n",
       "      <th>payload_id</th>\n",
       "      <th>business_category</th>\n",
       "      <th>country</th>\n",
       "      <th>frequency</th>\n",
       "      <th>unit</th>\n",
       "      <th>start_date</th>\n",
       "    </tr>\n",
       "  </thead>\n",
       "  <tbody>\n",
       "    <tr>\n",
       "      <th>0</th>\n",
       "      <td>\"Non-durable goods – 04 Housing,water,electric...</td>\n",
       "      <td>Natural Gas</td>\n",
       "      <td>fd978f2dd9dde797bfb90315474e2efefd64c83d</td>\n",
       "      <td>Undefined</td>\n",
       "      <td>United Kingdom</td>\n",
       "      <td>Annual</td>\n",
       "      <td>None</td>\n",
       "      <td>1944-01-01</td>\n",
       "    </tr>\n",
       "    <tr>\n",
       "      <th>1</th>\n",
       "      <td>\"Non-durable goods – 04 Housing,water,electric...</td>\n",
       "      <td>Natural Gas</td>\n",
       "      <td>3799f257a7e7d03686893c9b85de0215a43272e8</td>\n",
       "      <td>Undefined</td>\n",
       "      <td>United Kingdom</td>\n",
       "      <td>Annual</td>\n",
       "      <td>None</td>\n",
       "      <td>1955-01-01</td>\n",
       "    </tr>\n",
       "    <tr>\n",
       "      <th>2</th>\n",
       "      <td>\"Non-durable goods – 04 Housing,water,electric...</td>\n",
       "      <td>Natural Gas</td>\n",
       "      <td>1ed8eff51a6361383318ca3c51e41cbeb05def05</td>\n",
       "      <td>Undefined</td>\n",
       "      <td>United Kingdom</td>\n",
       "      <td>Quarterly</td>\n",
       "      <td>None</td>\n",
       "      <td>1955-01-01</td>\n",
       "    </tr>\n",
       "    <tr>\n",
       "      <th>3</th>\n",
       "      <td>\"Non-durable goods – 04 Housing,water,electric...</td>\n",
       "      <td>Electricity</td>\n",
       "      <td>fd978f2dd9dde797bfb90315474e2efefd64c83d</td>\n",
       "      <td>Undefined</td>\n",
       "      <td>United Kingdom</td>\n",
       "      <td>Annual</td>\n",
       "      <td>None</td>\n",
       "      <td>1944-01-01</td>\n",
       "    </tr>\n",
       "    <tr>\n",
       "      <th>4</th>\n",
       "      <td>\"Non-durable goods – 04 Housing,water,electric...</td>\n",
       "      <td>Electricity</td>\n",
       "      <td>3799f257a7e7d03686893c9b85de0215a43272e8</td>\n",
       "      <td>Undefined</td>\n",
       "      <td>United Kingdom</td>\n",
       "      <td>Annual</td>\n",
       "      <td>None</td>\n",
       "      <td>1955-01-01</td>\n",
       "    </tr>\n",
       "  </tbody>\n",
       "</table>\n",
       "</div>"
      ],
      "text/plain": [
       "                                                name    commodity  \\\n",
       "0  \"Non-durable goods – 04 Housing,water,electric...  Natural Gas   \n",
       "1  \"Non-durable goods – 04 Housing,water,electric...  Natural Gas   \n",
       "2  \"Non-durable goods – 04 Housing,water,electric...  Natural Gas   \n",
       "3  \"Non-durable goods – 04 Housing,water,electric...  Electricity   \n",
       "4  \"Non-durable goods – 04 Housing,water,electric...  Electricity   \n",
       "\n",
       "                                 payload_id business_category         country  \\\n",
       "0  fd978f2dd9dde797bfb90315474e2efefd64c83d         Undefined  United Kingdom   \n",
       "1  3799f257a7e7d03686893c9b85de0215a43272e8         Undefined  United Kingdom   \n",
       "2  1ed8eff51a6361383318ca3c51e41cbeb05def05         Undefined  United Kingdom   \n",
       "3  fd978f2dd9dde797bfb90315474e2efefd64c83d         Undefined  United Kingdom   \n",
       "4  3799f257a7e7d03686893c9b85de0215a43272e8         Undefined  United Kingdom   \n",
       "\n",
       "   frequency  unit  start_date  \n",
       "0     Annual  None  1944-01-01  \n",
       "1     Annual  None  1955-01-01  \n",
       "2  Quarterly  None  1955-01-01  \n",
       "3     Annual  None  1944-01-01  \n",
       "4     Annual  None  1955-01-01  "
      ]
     },
     "metadata": {},
     "output_type": "display_data"
    }
   ],
   "source": [
    "# Perform query.\n",
    "response = requests.request(\"POST\", search_url, headers=HEADERS, data=payload)\n",
    "data = json.loads(response.text.encode(\"utf8\"))\n",
    "print(\"data.keys()=\", list(data.keys()))\n",
    "\n",
    "assert \"detail\" not in data, data\n",
    "\n",
    "print(\"total_count=\", data[\"total_count\"])\n",
    "\n",
    "# Saving scroll_id for the next query.\n",
    "scroll_id = data[\"scroll_id\"]\n",
    "print(\"scroll_id=\", scroll_id)\n",
    "\n",
    "df = pd.DataFrame.from_records(data[\"rows\"])\n",
    "print(\"df.shape=\", df.shape)\n",
    "print(\"df.head()=\")\n",
    "display(df.head())"
   ]
  },
  {
   "cell_type": "markdown",
   "metadata": {},
   "source": [
    "# GET data-api/v1/search-scroll/?scroll_id="
   ]
  },
  {
   "cell_type": "code",
   "execution_count": 9,
   "metadata": {
    "ExecuteTime": {
     "end_time": "2020-12-20T01:49:50.423214Z",
     "start_time": "2020-12-20T01:49:50.382286Z"
    }
   },
   "outputs": [
    {
     "name": "stdout",
     "output_type": "stream",
     "text": [
      "search_scroll_url= https://data.particle.one/data-api/v1/search-scroll/?scroll_id=DXF1ZXJ5QW5kRmV0Y2gBAAAAAABs8aYWQUFleVN5Ym9RT0daMWhMQU1KNXJ4dw==\n"
     ]
    }
   ],
   "source": [
    "# Build entrypoint url.\n",
    "\n",
    "# We use scroll id from the previous query.\n",
    "search_scroll_url = os.path.join(\n",
    "    base_url, f\"data-api/v1/search-scroll/?scroll_id={scroll_id}\"\n",
    ")\n",
    "print(\"search_scroll_url=\", search_scroll_url)"
   ]
  },
  {
   "cell_type": "code",
   "execution_count": 10,
   "metadata": {
    "ExecuteTime": {
     "end_time": "2020-12-20T01:49:52.066263Z",
     "start_time": "2020-12-20T01:49:50.427927Z"
    }
   },
   "outputs": [
    {
     "name": "stdout",
     "output_type": "stream",
     "text": [
      "data.keys()= ['message', 'scroll_id', 'rows']\n",
      "data['rows'][0]= {'name': 'Alabama (with State Offshore) Natural Gas Liquids Lease Condensate – Proved Reserves Extensions – Million Barrels', 'commodity': 'Natural Gas', 'payload_id': 'b17aefbfef91149d965d6668b0b9004d3e4c829a', 'business_category': 'Undefined', 'country': 'United States', 'frequency': 'Annual', 'unit': 'bbl, in millions', 'start_date': None}\n",
      "df.shape= (1000, 8)\n",
      "df.head()=\n"
     ]
    },
    {
     "data": {
      "text/html": [
       "<div>\n",
       "<style scoped>\n",
       "    .dataframe tbody tr th:only-of-type {\n",
       "        vertical-align: middle;\n",
       "    }\n",
       "\n",
       "    .dataframe tbody tr th {\n",
       "        vertical-align: top;\n",
       "    }\n",
       "\n",
       "    .dataframe thead th {\n",
       "        text-align: right;\n",
       "    }\n",
       "</style>\n",
       "<table border=\"1\" class=\"dataframe\">\n",
       "  <thead>\n",
       "    <tr style=\"text-align: right;\">\n",
       "      <th></th>\n",
       "      <th>name</th>\n",
       "      <th>commodity</th>\n",
       "      <th>payload_id</th>\n",
       "      <th>business_category</th>\n",
       "      <th>country</th>\n",
       "      <th>frequency</th>\n",
       "      <th>unit</th>\n",
       "      <th>start_date</th>\n",
       "    </tr>\n",
       "  </thead>\n",
       "  <tbody>\n",
       "    <tr>\n",
       "      <th>0</th>\n",
       "      <td>Alabama (with State Offshore) Natural Gas Liqu...</td>\n",
       "      <td>Natural Gas</td>\n",
       "      <td>b17aefbfef91149d965d6668b0b9004d3e4c829a</td>\n",
       "      <td>Undefined</td>\n",
       "      <td>United States</td>\n",
       "      <td>Annual</td>\n",
       "      <td>bbl, in millions</td>\n",
       "      <td>None</td>\n",
       "    </tr>\n",
       "    <tr>\n",
       "      <th>1</th>\n",
       "      <td>Alabama (with State Offshore) Natural Gas Liqu...</td>\n",
       "      <td>Natural Gas</td>\n",
       "      <td>307d1fd5008a3c0c6055205f1f412bc02b4209a7</td>\n",
       "      <td>Undefined</td>\n",
       "      <td>United States</td>\n",
       "      <td>Annual</td>\n",
       "      <td>bbl, in millions</td>\n",
       "      <td>None</td>\n",
       "    </tr>\n",
       "    <tr>\n",
       "      <th>2</th>\n",
       "      <td>Alabama (with State Offshore) Natural Gas Liqu...</td>\n",
       "      <td>Natural Gas</td>\n",
       "      <td>52522653edb88ff5c5fbcf6806a22c8f11ac86c7</td>\n",
       "      <td>Undefined</td>\n",
       "      <td>United States</td>\n",
       "      <td>Annual</td>\n",
       "      <td>bbl, in millions</td>\n",
       "      <td>None</td>\n",
       "    </tr>\n",
       "    <tr>\n",
       "      <th>3</th>\n",
       "      <td>Alabama (with State Offshore) Natural Gas Liqu...</td>\n",
       "      <td>Natural Gas</td>\n",
       "      <td>8dee70358b27a7cd26977944a5dbacd2a76218dd</td>\n",
       "      <td>Undefined</td>\n",
       "      <td>United States</td>\n",
       "      <td>Annual</td>\n",
       "      <td>bbl, in millions</td>\n",
       "      <td>None</td>\n",
       "    </tr>\n",
       "    <tr>\n",
       "      <th>4</th>\n",
       "      <td>Alabama (with State Offshore) Natural Gas Liqu...</td>\n",
       "      <td>Natural Gas</td>\n",
       "      <td>ca80ff1e7a888dd798ad0fe00d9d095ae0f2457c</td>\n",
       "      <td>Undefined</td>\n",
       "      <td>United States</td>\n",
       "      <td>Annual</td>\n",
       "      <td>bbl, in millions</td>\n",
       "      <td>None</td>\n",
       "    </tr>\n",
       "  </tbody>\n",
       "</table>\n",
       "</div>"
      ],
      "text/plain": [
       "                                                name    commodity  \\\n",
       "0  Alabama (with State Offshore) Natural Gas Liqu...  Natural Gas   \n",
       "1  Alabama (with State Offshore) Natural Gas Liqu...  Natural Gas   \n",
       "2  Alabama (with State Offshore) Natural Gas Liqu...  Natural Gas   \n",
       "3  Alabama (with State Offshore) Natural Gas Liqu...  Natural Gas   \n",
       "4  Alabama (with State Offshore) Natural Gas Liqu...  Natural Gas   \n",
       "\n",
       "                                 payload_id business_category        country  \\\n",
       "0  b17aefbfef91149d965d6668b0b9004d3e4c829a         Undefined  United States   \n",
       "1  307d1fd5008a3c0c6055205f1f412bc02b4209a7         Undefined  United States   \n",
       "2  52522653edb88ff5c5fbcf6806a22c8f11ac86c7         Undefined  United States   \n",
       "3  8dee70358b27a7cd26977944a5dbacd2a76218dd         Undefined  United States   \n",
       "4  ca80ff1e7a888dd798ad0fe00d9d095ae0f2457c         Undefined  United States   \n",
       "\n",
       "  frequency              unit start_date  \n",
       "0    Annual  bbl, in millions       None  \n",
       "1    Annual  bbl, in millions       None  \n",
       "2    Annual  bbl, in millions       None  \n",
       "3    Annual  bbl, in millions       None  \n",
       "4    Annual  bbl, in millions       None  "
      ]
     },
     "metadata": {},
     "output_type": "display_data"
    }
   ],
   "source": [
    "# Perform query.\n",
    "\n",
    "response = requests.request(\"GET\", search_scroll_url, headers=HEADERS)\n",
    "data = json.loads(response.text.encode(\"utf8\"))\n",
    "print(\"data.keys()=\", list(data.keys()))\n",
    "print(\"data['rows'][0]=\", data[\"rows\"][0])\n",
    "\n",
    "df = pd.DataFrame.from_records(data[\"rows\"])\n",
    "print(\"df.shape=\", df.shape)\n",
    "print(\"df.head()=\")\n",
    "display(df.head())"
   ]
  },
  {
   "cell_type": "markdown",
   "metadata": {},
   "source": [
    "# GET data-api/v1/payload/?payload_id=\n",
    "Returns payload for the given `payload_id`"
   ]
  },
  {
   "cell_type": "code",
   "execution_count": 11,
   "metadata": {
    "ExecuteTime": {
     "end_time": "2020-12-20T01:49:52.094508Z",
     "start_time": "2020-12-20T01:49:52.068113Z"
    }
   },
   "outputs": [
    {
     "name": "stdout",
     "output_type": "stream",
     "text": [
      "payload_url= https://data.particle.one/data-api/v1/payload/?payload_id=8f26ba4734df3a62352cce9d64987d64da54b400\n"
     ]
    }
   ],
   "source": [
    "# Build entrypoint url.\n",
    "\n",
    "# We use one of the `payload_id` from one of the previous queries.\n",
    "payload_id = \"8f26ba4734df3a62352cce9d64987d64da54b400\"\n",
    "payload_url = os.path.join(\n",
    "    base_url, f\"data-api/v1/payload/?payload_id={payload_id}\"\n",
    ")\n",
    "print(\"payload_url=\", payload_url)"
   ]
  },
  {
   "cell_type": "code",
   "execution_count": 12,
   "metadata": {
    "ExecuteTime": {
     "end_time": "2020-12-20T01:49:52.302373Z",
     "start_time": "2020-12-20T01:49:52.096816Z"
    }
   },
   "outputs": [
    {
     "name": "stdout",
     "output_type": "stream",
     "text": [
      "data.keys()= ['message', 'payload_data']\n",
      "df.shape= (166, 4)\n",
      "df.head()=\n"
     ]
    },
    {
     "data": {
      "text/html": [
       "<div>\n",
       "<style scoped>\n",
       "    .dataframe tbody tr th:only-of-type {\n",
       "        vertical-align: middle;\n",
       "    }\n",
       "\n",
       "    .dataframe tbody tr th {\n",
       "        vertical-align: top;\n",
       "    }\n",
       "\n",
       "    .dataframe thead th {\n",
       "        text-align: right;\n",
       "    }\n",
       "</style>\n",
       "<table border=\"1\" class=\"dataframe\">\n",
       "  <thead>\n",
       "    <tr style=\"text-align: right;\">\n",
       "      <th></th>\n",
       "      <th>original_period</th>\n",
       "      <th>original_value</th>\n",
       "      <th>period</th>\n",
       "      <th>value</th>\n",
       "    </tr>\n",
       "  </thead>\n",
       "  <tbody>\n",
       "    <tr>\n",
       "      <th>0</th>\n",
       "      <td>1980</td>\n",
       "      <td>0.0</td>\n",
       "      <td>1980-01-01T00:00:00</td>\n",
       "      <td>0</td>\n",
       "    </tr>\n",
       "    <tr>\n",
       "      <th>1</th>\n",
       "      <td>1981</td>\n",
       "      <td>0.0</td>\n",
       "      <td>1981-01-01T00:00:00</td>\n",
       "      <td>0</td>\n",
       "    </tr>\n",
       "    <tr>\n",
       "      <th>2</th>\n",
       "      <td>1982</td>\n",
       "      <td>0.0</td>\n",
       "      <td>1982-01-01T00:00:00</td>\n",
       "      <td>0</td>\n",
       "    </tr>\n",
       "    <tr>\n",
       "      <th>3</th>\n",
       "      <td>1983</td>\n",
       "      <td>0.0</td>\n",
       "      <td>1983-01-01T00:00:00</td>\n",
       "      <td>0</td>\n",
       "    </tr>\n",
       "    <tr>\n",
       "      <th>4</th>\n",
       "      <td>1984</td>\n",
       "      <td>0.0</td>\n",
       "      <td>1984-01-01T00:00:00</td>\n",
       "      <td>0</td>\n",
       "    </tr>\n",
       "  </tbody>\n",
       "</table>\n",
       "</div>"
      ],
      "text/plain": [
       "  original_period original_value               period value\n",
       "0            1980            0.0  1980-01-01T00:00:00     0\n",
       "1            1981            0.0  1981-01-01T00:00:00     0\n",
       "2            1982            0.0  1982-01-01T00:00:00     0\n",
       "3            1983            0.0  1983-01-01T00:00:00     0\n",
       "4            1984            0.0  1984-01-01T00:00:00     0"
      ]
     },
     "metadata": {},
     "output_type": "display_data"
    }
   ],
   "source": [
    "# Perform query.\n",
    "response = requests.request(\"GET\", payload_url, headers=HEADERS)\n",
    "data = json.loads(response.text.encode(\"utf8\"))\n",
    "print(\"data.keys()=\", list(data.keys()))\n",
    "\n",
    "df = pd.DataFrame.from_records(data[\"payload_data\"])\n",
    "print(\"df.shape=\", df.shape)\n",
    "print(\"df.head()=\")\n",
    "display(df.head())"
   ]
  },
  {
   "cell_type": "markdown",
   "metadata": {},
   "source": [
    "# Helpers\n",
    "\n",
    "To search we use several predefined lists of names for each parameter of metadata. Such as:\n",
    "- `commodity`\n",
    "- `business-category`\n",
    "- `country`\n",
    "- `frequency`\n",
    "\n",
    "Each parameter has its own set of valid names."
   ]
  },
  {
   "cell_type": "markdown",
   "metadata": {},
   "source": [
    "## GET data-api/v1/commodities/"
   ]
  },
  {
   "cell_type": "code",
   "execution_count": 13,
   "metadata": {
    "ExecuteTime": {
     "end_time": "2020-12-20T01:49:52.340395Z",
     "start_time": "2020-12-20T01:49:52.308240Z"
    }
   },
   "outputs": [
    {
     "name": "stdout",
     "output_type": "stream",
     "text": [
      "commodities_url= https://data.particle.one/data-api/v1/commodities/\n"
     ]
    }
   ],
   "source": [
    "# Build entrypoint url.\n",
    "commodities_url = os.path.join(base_url, \"data-api/v1/commodities/\")\n",
    "print(\"commodities_url=\", commodities_url)"
   ]
  },
  {
   "cell_type": "code",
   "execution_count": 14,
   "metadata": {
    "ExecuteTime": {
     "end_time": "2020-12-20T01:49:52.488551Z",
     "start_time": "2020-12-20T01:49:52.342752Z"
    }
   },
   "outputs": [
    {
     "name": "stdout",
     "output_type": "stream",
     "text": [
      "data.keys()= ['message', 'data']\n",
      "df.shape= (77, 1)\n",
      "df.head()=\n"
     ]
    },
    {
     "data": {
      "text/html": [
       "<div>\n",
       "<style scoped>\n",
       "    .dataframe tbody tr th:only-of-type {\n",
       "        vertical-align: middle;\n",
       "    }\n",
       "\n",
       "    .dataframe tbody tr th {\n",
       "        vertical-align: top;\n",
       "    }\n",
       "\n",
       "    .dataframe thead th {\n",
       "        text-align: right;\n",
       "    }\n",
       "</style>\n",
       "<table border=\"1\" class=\"dataframe\">\n",
       "  <thead>\n",
       "    <tr style=\"text-align: right;\">\n",
       "      <th></th>\n",
       "      <th>name</th>\n",
       "    </tr>\n",
       "  </thead>\n",
       "  <tbody>\n",
       "    <tr>\n",
       "      <th>0</th>\n",
       "      <td>Aluminum</td>\n",
       "    </tr>\n",
       "    <tr>\n",
       "      <th>1</th>\n",
       "      <td>Benzene</td>\n",
       "    </tr>\n",
       "    <tr>\n",
       "      <th>2</th>\n",
       "      <td>Biodiesel</td>\n",
       "    </tr>\n",
       "    <tr>\n",
       "      <th>3</th>\n",
       "      <td>Biofuel</td>\n",
       "    </tr>\n",
       "    <tr>\n",
       "      <th>4</th>\n",
       "      <td>Butadiene</td>\n",
       "    </tr>\n",
       "  </tbody>\n",
       "</table>\n",
       "</div>"
      ],
      "text/plain": [
       "        name\n",
       "0   Aluminum\n",
       "1    Benzene\n",
       "2  Biodiesel\n",
       "3    Biofuel\n",
       "4  Butadiene"
      ]
     },
     "metadata": {},
     "output_type": "display_data"
    }
   ],
   "source": [
    "# Perform query.\n",
    "response = requests.request(\"GET\", commodities_url, headers=HEADERS)\n",
    "data = json.loads(response.text.encode(\"utf8\"))\n",
    "print(\"data.keys()=\", list(data.keys()))\n",
    "\n",
    "df = pd.DataFrame.from_records(data[\"data\"])\n",
    "print(\"df.shape=\", df.shape)\n",
    "print(\"df.head()=\")\n",
    "display(df.head())"
   ]
  },
  {
   "cell_type": "markdown",
   "metadata": {},
   "source": [
    "## GET data-api/v1/business-categories/"
   ]
  },
  {
   "cell_type": "code",
   "execution_count": 15,
   "metadata": {
    "ExecuteTime": {
     "end_time": "2020-12-20T01:49:52.518050Z",
     "start_time": "2020-12-20T01:49:52.490488Z"
    }
   },
   "outputs": [
    {
     "name": "stdout",
     "output_type": "stream",
     "text": [
      "bc_url= https://data.particle.one/data-api/v1/business-categories/\n"
     ]
    }
   ],
   "source": [
    "# Build entrypoint url.\n",
    "bc_url = os.path.join(base_url, \"data-api/v1/business-categories/\")\n",
    "print(\"bc_url=\", bc_url)"
   ]
  },
  {
   "cell_type": "code",
   "execution_count": 16,
   "metadata": {
    "ExecuteTime": {
     "end_time": "2020-12-20T01:49:52.678738Z",
     "start_time": "2020-12-20T01:49:52.520204Z"
    }
   },
   "outputs": [
    {
     "name": "stdout",
     "output_type": "stream",
     "text": [
      "data.keys()= ['message', 'data']\n",
      "df.shape= (4, 1)\n",
      "df.head()=\n"
     ]
    },
    {
     "data": {
      "text/html": [
       "<div>\n",
       "<style scoped>\n",
       "    .dataframe tbody tr th:only-of-type {\n",
       "        vertical-align: middle;\n",
       "    }\n",
       "\n",
       "    .dataframe tbody tr th {\n",
       "        vertical-align: top;\n",
       "    }\n",
       "\n",
       "    .dataframe thead th {\n",
       "        text-align: right;\n",
       "    }\n",
       "</style>\n",
       "<table border=\"1\" class=\"dataframe\">\n",
       "  <thead>\n",
       "    <tr style=\"text-align: right;\">\n",
       "      <th></th>\n",
       "      <th>name</th>\n",
       "    </tr>\n",
       "  </thead>\n",
       "  <tbody>\n",
       "    <tr>\n",
       "      <th>0</th>\n",
       "      <td>Downstream</td>\n",
       "    </tr>\n",
       "    <tr>\n",
       "      <th>1</th>\n",
       "      <td>Midstream</td>\n",
       "    </tr>\n",
       "    <tr>\n",
       "      <th>2</th>\n",
       "      <td>Undefined</td>\n",
       "    </tr>\n",
       "    <tr>\n",
       "      <th>3</th>\n",
       "      <td>Upstream</td>\n",
       "    </tr>\n",
       "  </tbody>\n",
       "</table>\n",
       "</div>"
      ],
      "text/plain": [
       "         name\n",
       "0  Downstream\n",
       "1   Midstream\n",
       "2   Undefined\n",
       "3    Upstream"
      ]
     },
     "metadata": {},
     "output_type": "display_data"
    }
   ],
   "source": [
    "# Perform query.\n",
    "\n",
    "response = requests.request(\"GET\", bc_url, headers=HEADERS)\n",
    "data = json.loads(response.text.encode(\"utf8\"))\n",
    "print(\"data.keys()=\", list(data.keys()))\n",
    "\n",
    "df = pd.DataFrame.from_records(data[\"data\"])\n",
    "print(\"df.shape=\", df.shape)\n",
    "print(\"df.head()=\")\n",
    "display(df.head())"
   ]
  },
  {
   "cell_type": "markdown",
   "metadata": {},
   "source": [
    "## GET data-api/v1/countries/"
   ]
  },
  {
   "cell_type": "code",
   "execution_count": 17,
   "metadata": {
    "ExecuteTime": {
     "end_time": "2020-12-20T01:49:52.717923Z",
     "start_time": "2020-12-20T01:49:52.681576Z"
    }
   },
   "outputs": [
    {
     "name": "stdout",
     "output_type": "stream",
     "text": [
      "countries_url= https://data.particle.one/data-api/v1/countries/\n"
     ]
    }
   ],
   "source": [
    "# Build entrypoint url.\n",
    "countries_url = os.path.join(base_url, \"data-api/v1/countries/\")\n",
    "print(\"countries_url=\", countries_url)"
   ]
  },
  {
   "cell_type": "code",
   "execution_count": 18,
   "metadata": {
    "ExecuteTime": {
     "end_time": "2020-12-20T01:49:52.971563Z",
     "start_time": "2020-12-20T01:49:52.722473Z"
    }
   },
   "outputs": [
    {
     "name": "stdout",
     "output_type": "stream",
     "text": [
      "data.keys()= ['message', 'data']\n",
      "df.shape= (237, 1)\n",
      "df.head()=\n"
     ]
    },
    {
     "data": {
      "text/html": [
       "<div>\n",
       "<style scoped>\n",
       "    .dataframe tbody tr th:only-of-type {\n",
       "        vertical-align: middle;\n",
       "    }\n",
       "\n",
       "    .dataframe tbody tr th {\n",
       "        vertical-align: top;\n",
       "    }\n",
       "\n",
       "    .dataframe thead th {\n",
       "        text-align: right;\n",
       "    }\n",
       "</style>\n",
       "<table border=\"1\" class=\"dataframe\">\n",
       "  <thead>\n",
       "    <tr style=\"text-align: right;\">\n",
       "      <th></th>\n",
       "      <th>name</th>\n",
       "    </tr>\n",
       "  </thead>\n",
       "  <tbody>\n",
       "    <tr>\n",
       "      <th>0</th>\n",
       "      <td>Afghanistan</td>\n",
       "    </tr>\n",
       "    <tr>\n",
       "      <th>1</th>\n",
       "      <td>Albania</td>\n",
       "    </tr>\n",
       "    <tr>\n",
       "      <th>2</th>\n",
       "      <td>Algeria</td>\n",
       "    </tr>\n",
       "    <tr>\n",
       "      <th>3</th>\n",
       "      <td>American Samoa</td>\n",
       "    </tr>\n",
       "    <tr>\n",
       "      <th>4</th>\n",
       "      <td>Andorra</td>\n",
       "    </tr>\n",
       "  </tbody>\n",
       "</table>\n",
       "</div>"
      ],
      "text/plain": [
       "             name\n",
       "0     Afghanistan\n",
       "1         Albania\n",
       "2         Algeria\n",
       "3  American Samoa\n",
       "4         Andorra"
      ]
     },
     "metadata": {},
     "output_type": "display_data"
    }
   ],
   "source": [
    "# Perform query.\n",
    "response = requests.request(\"GET\", countries_url, headers=HEADERS)\n",
    "data = json.loads(response.text.encode(\"utf8\"))\n",
    "print(\"data.keys()=\", list(data.keys()))\n",
    "\n",
    "df = pd.DataFrame.from_records(data[\"data\"])\n",
    "print(\"df.shape=\", df.shape)\n",
    "print(\"df.head()=\")\n",
    "display(df.head())"
   ]
  },
  {
   "cell_type": "markdown",
   "metadata": {},
   "source": [
    "## GET data-api/v1/frequencies/"
   ]
  },
  {
   "cell_type": "code",
   "execution_count": 19,
   "metadata": {
    "ExecuteTime": {
     "end_time": "2020-12-20T01:49:53.002234Z",
     "start_time": "2020-12-20T01:49:52.973446Z"
    }
   },
   "outputs": [
    {
     "name": "stdout",
     "output_type": "stream",
     "text": [
      "https://data.particle.one/data-api/v1/frequencies/\n"
     ]
    }
   ],
   "source": [
    "# Build entrypoint url.\n",
    "frequencies_url = os.path.join(base_url, \"data-api/v1/frequencies/\")\n",
    "print(frequencies_url)"
   ]
  },
  {
   "cell_type": "code",
   "execution_count": 20,
   "metadata": {
    "ExecuteTime": {
     "end_time": "2020-12-20T01:49:53.148514Z",
     "start_time": "2020-12-20T01:49:53.004566Z"
    }
   },
   "outputs": [
    {
     "name": "stdout",
     "output_type": "stream",
     "text": [
      "data.keys()= ['message', 'data']\n",
      "df.shape= (11, 1)\n",
      "df.head()=\n"
     ]
    },
    {
     "data": {
      "text/html": [
       "<div>\n",
       "<style scoped>\n",
       "    .dataframe tbody tr th:only-of-type {\n",
       "        vertical-align: middle;\n",
       "    }\n",
       "\n",
       "    .dataframe tbody tr th {\n",
       "        vertical-align: top;\n",
       "    }\n",
       "\n",
       "    .dataframe thead th {\n",
       "        text-align: right;\n",
       "    }\n",
       "</style>\n",
       "<table border=\"1\" class=\"dataframe\">\n",
       "  <thead>\n",
       "    <tr style=\"text-align: right;\">\n",
       "      <th></th>\n",
       "      <th>name</th>\n",
       "    </tr>\n",
       "  </thead>\n",
       "  <tbody>\n",
       "    <tr>\n",
       "      <th>0</th>\n",
       "      <td>Hourly - UTC Time</td>\n",
       "    </tr>\n",
       "    <tr>\n",
       "      <th>1</th>\n",
       "      <td>Business daily</td>\n",
       "    </tr>\n",
       "    <tr>\n",
       "      <th>2</th>\n",
       "      <td>Daily</td>\n",
       "    </tr>\n",
       "    <tr>\n",
       "      <th>3</th>\n",
       "      <td>Weekly</td>\n",
       "    </tr>\n",
       "    <tr>\n",
       "      <th>4</th>\n",
       "      <td>Bi-Weekly</td>\n",
       "    </tr>\n",
       "  </tbody>\n",
       "</table>\n",
       "</div>"
      ],
      "text/plain": [
       "                name\n",
       "0  Hourly - UTC Time\n",
       "1     Business daily\n",
       "2              Daily\n",
       "3             Weekly\n",
       "4          Bi-Weekly"
      ]
     },
     "metadata": {},
     "output_type": "display_data"
    }
   ],
   "source": [
    "# Perform query.\n",
    "response = requests.request(\"GET\", frequencies_url, headers=HEADERS)\n",
    "data = json.loads(response.text.encode(\"utf8\"))\n",
    "print(\"data.keys()=\", list(data.keys()))\n",
    "\n",
    "df = pd.DataFrame.from_records(data[\"data\"])\n",
    "print(\"df.shape=\", df.shape)\n",
    "print(\"df.head()=\")\n",
    "display(df.head())"
   ]
  }
 ],
 "metadata": {
  "hide_input": false,
  "jupytext": {
   "text_representation": {
    "extension": ".py",
    "format_name": "percent",
    "format_version": "1.3",
    "jupytext_version": "1.4.2"
   }
  },
  "kernelspec": {
   "display_name": "Python 3",
   "language": "python",
   "name": "python3"
  },
  "language_info": {
   "codemirror_mode": {
    "name": "ipython",
    "version": 3
   },
   "file_extension": ".py",
   "mimetype": "text/x-python",
   "name": "python",
   "nbconvert_exporter": "python",
   "pygments_lexer": "ipython3",
   "version": "3.7.6"
  },
  "toc": {
   "base_numbering": 1,
   "nav_menu": {},
   "number_sections": true,
   "sideBar": true,
   "skip_h1_title": false,
   "title_cell": "Table of Contents",
   "title_sidebar": "Contents",
   "toc_cell": false,
   "toc_position": {},
   "toc_section_display": true,
   "toc_window_display": true
  },
  "varInspector": {
   "cols": {
    "lenName": 16,
    "lenType": 16,
    "lenVar": 40
   },
   "kernels_config": {
    "python": {
     "delete_cmd_postfix": "",
     "delete_cmd_prefix": "del ",
     "library": "var_list.py",
     "varRefreshCmd": "print(var_dic_list())"
    },
    "r": {
     "delete_cmd_postfix": ") ",
     "delete_cmd_prefix": "rm(",
     "library": "var_list.r",
     "varRefreshCmd": "cat(var_dic_list()) "
    }
   },
   "types_to_exclude": [
    "module",
    "function",
    "builtin_function_or_method",
    "instance",
    "_Feature"
   ],
   "window_display": false
  }
 },
 "nbformat": 4,
 "nbformat_minor": 4
}
