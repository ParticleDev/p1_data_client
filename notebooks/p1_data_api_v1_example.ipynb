{
 "cells": [
  {
   "cell_type": "markdown",
   "metadata": {},
   "source": [
    "# P1 REST API\n",
    "\n",
    "- This Jupyter notebook is an example of how to access the RestAPI interface, described at:\n",
    "  https://doc.particle.one/"
   ]
  },
  {
   "cell_type": "markdown",
   "metadata": {},
   "source": [
    "# Credentials / Settings"
   ]
  },
  {
   "cell_type": "code",
   "execution_count": 1,
   "metadata": {
    "ExecuteTime": {
     "end_time": "2020-09-26T16:02:02.908047Z",
     "start_time": "2020-09-26T16:02:02.597546Z"
    }
   },
   "outputs": [],
   "source": [
    "# Make sure you have `pandas` installed.\n",
    "# If you don't have it installed, install it in your usual way (with pip, conda)\n",
    "\n",
    "#! pip install requests pandas\n",
    "\n",
    "import json\n",
    "\n",
    "import os\n",
    "\n",
    "import pandas as pd\n",
    "import requests"
   ]
  },
  {
   "cell_type": "code",
   "execution_count": 2,
   "metadata": {
    "ExecuteTime": {
     "end_time": "2020-09-26T16:02:02.912649Z",
     "start_time": "2020-09-26T16:02:02.910084Z"
    }
   },
   "outputs": [],
   "source": [
    "# Enter your token here.\n",
    "# You can get your token by signing up at `www.particle.one`.\n",
    "#TOKEN = \"YOUR_TOKEN_HERE\"\n",
    "# An example token is like:\n",
    "TOKEN = \"e44e7c6b04ef3ea1cfb7a8a67db74751c177259e\"\n",
    "\n",
    "API_URL = \"https://data.particle.one\"\n",
    "HEADERS = {\"Authorization\": f\"Token {TOKEN}\", \"Content-Type\": \"application/json\"}"
   ]
  },
  {
   "cell_type": "markdown",
   "metadata": {},
   "source": [
    "# Search query structure\n",
    "\n",
    "Search query is a Python `dict` with the following structure:\n",
    "```python\n",
    "query = {\n",
    "    \"text\": \"\",\n",
    "    \"commodity\": [],\n",
    "    \"business_category\": \"\",\n",
    "    \"country\": [],\n",
    "    \"frequency\": []\n",
    "}\n",
    "```\n",
    "The fields are:\n",
    "- `text`: string. Works as a filter. Free text. Everything that have no match with this phrase will be filtered out.\n",
    "- `commodity`: list of strings. Works as a filter. You can find valid values in paragraph 7.1 of this notebook.\n",
    "- `business_category`: string. Works as a filter. You can find valid values in paragraph 7.2 of this notebook.\n",
    "- `country`: list of strings. Works as a filter. You can find valid values in paragraph 7.3 of this notebook.\n",
    "- `frequency`: list of strings. Works as a filter. You can find valid values in paragraph 7.4 of this notebook.\n",
    "\n",
    "Combination of fields work with logical operator AND.\n",
    "E.g. you will get all records that satisfy all filters.\n",
    "\n",
    "`text` **AND** `commodity` **AND** `business_category` **AND** `country` **AND** `frequency`"
   ]
  },
  {
   "cell_type": "markdown",
   "metadata": {
    "lines_to_next_cell": 2
   },
   "source": [
    "# Imports"
   ]
  },
  {
   "cell_type": "markdown",
   "metadata": {},
   "source": [
    "# POST data-api/v1/search-count/\n",
    "Returns count for the given query."
   ]
  },
  {
   "cell_type": "code",
   "execution_count": 3,
   "metadata": {
    "ExecuteTime": {
     "end_time": "2020-09-26T16:02:02.917036Z",
     "start_time": "2020-09-26T16:02:02.914389Z"
    }
   },
   "outputs": [
    {
     "name": "stdout",
     "output_type": "stream",
     "text": [
      "count_url= https://data.particle.one/data-api/v1/search-count/\n"
     ]
    }
   ],
   "source": [
    "# Build entrypoint url.\n",
    "count_url = os.path.join(API_URL, \"data-api/v1/search-count/\")\n",
    "print(\"count_url=\", count_url)"
   ]
  },
  {
   "cell_type": "code",
   "execution_count": 4,
   "metadata": {
    "ExecuteTime": {
     "end_time": "2020-09-26T16:02:02.921616Z",
     "start_time": "2020-09-26T16:02:02.918888Z"
    }
   },
   "outputs": [],
   "source": [
    "# Prepare query.\n",
    "query = {\n",
    "    \"text\": \"\",\n",
    "    \"commodity\": [\"Corn\"],\n",
    "    \"business_category\": \"\",\n",
    "    \"country\": [],\n",
    "    \"frequency\": [],\n",
    "}\n",
    "payload = json.dumps(query)"
   ]
  },
  {
   "cell_type": "code",
   "execution_count": 5,
   "metadata": {
    "ExecuteTime": {
     "end_time": "2020-09-26T16:02:03.133553Z",
     "start_time": "2020-09-26T16:02:02.923039Z"
    }
   },
   "outputs": [
    {
     "name": "stdout",
     "output_type": "stream",
     "text": [
      "data= {'message': 'OK', 'count': 899}\n"
     ]
    }
   ],
   "source": [
    "# Perform query.\n",
    "response = requests.request(\"POST\", count_url, headers=HEADERS, data=payload)\n",
    "data = json.loads(response.text.encode(\"utf8\"))\n",
    "print(\"data=\", data)"
   ]
  },
  {
   "cell_type": "markdown",
   "metadata": {},
   "source": [
    "# POST data-api/v1/search/\n",
    "\n",
    "- It returns the first chunk of the payload metadata for the given query, where a chunk is 1000 records.\n",
    "- It also returns `scroll_id` to get the next portion of the data."
   ]
  },
  {
   "cell_type": "code",
   "execution_count": 6,
   "metadata": {
    "ExecuteTime": {
     "end_time": "2020-09-26T16:02:03.139889Z",
     "start_time": "2020-09-26T16:02:03.136962Z"
    }
   },
   "outputs": [
    {
     "name": "stdout",
     "output_type": "stream",
     "text": [
      "search_url= https://data.particle.one/data-api/v1/search/\n"
     ]
    }
   ],
   "source": [
    "search_url = os.path.join(API_URL, \"data-api/v1/search/\")\n",
    "print(\"search_url=\", search_url)"
   ]
  },
  {
   "cell_type": "code",
   "execution_count": 7,
   "metadata": {
    "ExecuteTime": {
     "end_time": "2020-09-26T16:02:03.145207Z",
     "start_time": "2020-09-26T16:02:03.142436Z"
    }
   },
   "outputs": [],
   "source": [
    "# Prepare query.\n",
    "query = {\n",
    "    \"text\": \"Gas\",\n",
    "    \"commodity\": [],\n",
    "    \"business_category\": \"\",\n",
    "    \"country\": [],\n",
    "    \"frequency\": [],\n",
    "}\n",
    "payload = json.dumps(query)"
   ]
  },
  {
   "cell_type": "code",
   "execution_count": 8,
   "metadata": {
    "ExecuteTime": {
     "end_time": "2020-09-26T16:02:04.645368Z",
     "start_time": "2020-09-26T16:02:03.147029Z"
    }
   },
   "outputs": [
    {
     "name": "stdout",
     "output_type": "stream",
     "text": [
      "data.keys()= ['message', 'scroll_id', 'total_count', 'rows']\n",
      "total_count= 425473\n",
      "scroll_id= DXF1ZXJ5QW5kRmV0Y2gBAAAAAABfNdkWQUFleVN5Ym9RT0daMWhMQU1KNXJ4dw==\n",
      "df.shape= (1000, 8)\n",
      "df.head()=\n"
     ]
    },
    {
     "data": {
      "text/html": [
       "<div>\n",
       "<style scoped>\n",
       "    .dataframe tbody tr th:only-of-type {\n",
       "        vertical-align: middle;\n",
       "    }\n",
       "\n",
       "    .dataframe tbody tr th {\n",
       "        vertical-align: top;\n",
       "    }\n",
       "\n",
       "    .dataframe thead th {\n",
       "        text-align: right;\n",
       "    }\n",
       "</style>\n",
       "<table border=\"1\" class=\"dataframe\">\n",
       "  <thead>\n",
       "    <tr style=\"text-align: right;\">\n",
       "      <th></th>\n",
       "      <th>name</th>\n",
       "      <th>commodity</th>\n",
       "      <th>payload_id</th>\n",
       "      <th>business_category</th>\n",
       "      <th>country</th>\n",
       "      <th>frequency</th>\n",
       "      <th>unit</th>\n",
       "      <th>start_date</th>\n",
       "    </tr>\n",
       "  </thead>\n",
       "  <tbody>\n",
       "    <tr>\n",
       "      <th>0</th>\n",
       "      <td>Accounts Payable of Industrial Enterprises abo...</td>\n",
       "      <td>Crude Oil</td>\n",
       "      <td>4d12ccd2a4a95be4bacbf7d969bb26807191e534</td>\n",
       "      <td>Undefined</td>\n",
       "      <td>China</td>\n",
       "      <td>Annual</td>\n",
       "      <td>100</td>\n",
       "      <td>1949-01-01</td>\n",
       "    </tr>\n",
       "    <tr>\n",
       "      <th>1</th>\n",
       "      <td>Accounts Payable of Industrial Enterprises abo...</td>\n",
       "      <td>Crude Oil</td>\n",
       "      <td>326e65235ea7f59719500be55023fd3981982df4</td>\n",
       "      <td>Undefined</td>\n",
       "      <td>China</td>\n",
       "      <td>Annual</td>\n",
       "      <td>100</td>\n",
       "      <td>1949-01-01</td>\n",
       "    </tr>\n",
       "    <tr>\n",
       "      <th>2</th>\n",
       "      <td>Accounts Payable of Industrial Enterprises abo...</td>\n",
       "      <td>Crude Oil</td>\n",
       "      <td>b29a00b70540607334fea66f491f7b28e209fc7f</td>\n",
       "      <td>Undefined</td>\n",
       "      <td>China</td>\n",
       "      <td>Annual</td>\n",
       "      <td>100</td>\n",
       "      <td>1949-01-01</td>\n",
       "    </tr>\n",
       "    <tr>\n",
       "      <th>3</th>\n",
       "      <td>Accounts Payable of Industrial Enterprises abo...</td>\n",
       "      <td>Natural Gas</td>\n",
       "      <td>4d12ccd2a4a95be4bacbf7d969bb26807191e534</td>\n",
       "      <td>Undefined</td>\n",
       "      <td>China</td>\n",
       "      <td>Annual</td>\n",
       "      <td>100</td>\n",
       "      <td>1949-01-01</td>\n",
       "    </tr>\n",
       "    <tr>\n",
       "      <th>4</th>\n",
       "      <td>Accounts Payable of Industrial Enterprises abo...</td>\n",
       "      <td>Natural Gas</td>\n",
       "      <td>326e65235ea7f59719500be55023fd3981982df4</td>\n",
       "      <td>Undefined</td>\n",
       "      <td>China</td>\n",
       "      <td>Annual</td>\n",
       "      <td>100</td>\n",
       "      <td>1949-01-01</td>\n",
       "    </tr>\n",
       "  </tbody>\n",
       "</table>\n",
       "</div>"
      ],
      "text/plain": [
       "                                                name    commodity  \\\n",
       "0  Accounts Payable of Industrial Enterprises abo...    Crude Oil   \n",
       "1  Accounts Payable of Industrial Enterprises abo...    Crude Oil   \n",
       "2  Accounts Payable of Industrial Enterprises abo...    Crude Oil   \n",
       "3  Accounts Payable of Industrial Enterprises abo...  Natural Gas   \n",
       "4  Accounts Payable of Industrial Enterprises abo...  Natural Gas   \n",
       "\n",
       "                                 payload_id business_category country  \\\n",
       "0  4d12ccd2a4a95be4bacbf7d969bb26807191e534         Undefined   China   \n",
       "1  326e65235ea7f59719500be55023fd3981982df4         Undefined   China   \n",
       "2  b29a00b70540607334fea66f491f7b28e209fc7f         Undefined   China   \n",
       "3  4d12ccd2a4a95be4bacbf7d969bb26807191e534         Undefined   China   \n",
       "4  326e65235ea7f59719500be55023fd3981982df4         Undefined   China   \n",
       "\n",
       "  frequency unit  start_date  \n",
       "0    Annual  100  1949-01-01  \n",
       "1    Annual  100  1949-01-01  \n",
       "2    Annual  100  1949-01-01  \n",
       "3    Annual  100  1949-01-01  \n",
       "4    Annual  100  1949-01-01  "
      ]
     },
     "metadata": {},
     "output_type": "display_data"
    }
   ],
   "source": [
    "# Perform query.\n",
    "response = requests.request(\"POST\", search_url, headers=HEADERS, data=payload)\n",
    "data = json.loads(response.text.encode(\"utf8\"))\n",
    "print(\"data.keys()=\", list(data.keys()))\n",
    "\n",
    "assert \"detail\" not in data, data\n",
    "\n",
    "print(\"total_count=\", data[\"total_count\"])\n",
    "\n",
    "# Saving scroll_id for the next query.\n",
    "scroll_id = data[\"scroll_id\"]\n",
    "print(\"scroll_id=\", scroll_id)\n",
    "\n",
    "df = pd.DataFrame.from_records(data[\"rows\"])\n",
    "print(\"df.shape=\", df.shape)\n",
    "print(\"df.head()=\")\n",
    "display(df.head())"
   ]
  },
  {
   "cell_type": "markdown",
   "metadata": {},
   "source": [
    "# GET data-api/v1/search-scroll/?scroll_id="
   ]
  },
  {
   "cell_type": "code",
   "execution_count": 9,
   "metadata": {
    "ExecuteTime": {
     "end_time": "2020-09-26T16:02:04.649197Z",
     "start_time": "2020-09-26T16:02:04.646656Z"
    }
   },
   "outputs": [
    {
     "name": "stdout",
     "output_type": "stream",
     "text": [
      "search_scroll_url= https://data.particle.one/data-api/v1/search-scroll/?scroll_id=DXF1ZXJ5QW5kRmV0Y2gBAAAAAABfNdkWQUFleVN5Ym9RT0daMWhMQU1KNXJ4dw==\n"
     ]
    }
   ],
   "source": [
    "# Build entrypoint url.\n",
    "\n",
    "# We use scroll id from the previous query.\n",
    "search_scroll_url = os.path.join(\n",
    "    API_URL, f\"data-api/v1/search-scroll/?scroll_id={scroll_id}\"\n",
    ")\n",
    "print(\"search_scroll_url=\", search_scroll_url)"
   ]
  },
  {
   "cell_type": "code",
   "execution_count": 10,
   "metadata": {
    "ExecuteTime": {
     "end_time": "2020-09-26T16:02:06.010203Z",
     "start_time": "2020-09-26T16:02:04.650491Z"
    }
   },
   "outputs": [
    {
     "name": "stdout",
     "output_type": "stream",
     "text": [
      "data.keys()= ['message', 'scroll_id', 'rows']\n",
      "data['rows'][0]= {'name': 'Arizona Distillate Fuel Oil – Greater than 15 to 500 ppm Sulfur Stocks at Refineries – Bulk Terminals, and Natural Gas Plants – Thousand Barrels', 'commodity': 'Fuel Oil', 'payload_id': 'b43fe7b80525f1dbe5404c56ceff7919fb188f8c', 'business_category': 'Undefined', 'country': 'United States', 'frequency': 'Monthly', 'unit': 'Thousand Barrels  per Day', 'start_date': None}\n",
      "df.shape= (1000, 8)\n",
      "df.head()=\n"
     ]
    },
    {
     "data": {
      "text/html": [
       "<div>\n",
       "<style scoped>\n",
       "    .dataframe tbody tr th:only-of-type {\n",
       "        vertical-align: middle;\n",
       "    }\n",
       "\n",
       "    .dataframe tbody tr th {\n",
       "        vertical-align: top;\n",
       "    }\n",
       "\n",
       "    .dataframe thead th {\n",
       "        text-align: right;\n",
       "    }\n",
       "</style>\n",
       "<table border=\"1\" class=\"dataframe\">\n",
       "  <thead>\n",
       "    <tr style=\"text-align: right;\">\n",
       "      <th></th>\n",
       "      <th>name</th>\n",
       "      <th>commodity</th>\n",
       "      <th>payload_id</th>\n",
       "      <th>business_category</th>\n",
       "      <th>country</th>\n",
       "      <th>frequency</th>\n",
       "      <th>unit</th>\n",
       "      <th>start_date</th>\n",
       "    </tr>\n",
       "  </thead>\n",
       "  <tbody>\n",
       "    <tr>\n",
       "      <th>0</th>\n",
       "      <td>Arizona Distillate Fuel Oil – Greater than 15 ...</td>\n",
       "      <td>Fuel Oil</td>\n",
       "      <td>b43fe7b80525f1dbe5404c56ceff7919fb188f8c</td>\n",
       "      <td>Undefined</td>\n",
       "      <td>United States</td>\n",
       "      <td>Monthly</td>\n",
       "      <td>Thousand Barrels  per Day</td>\n",
       "      <td>None</td>\n",
       "    </tr>\n",
       "    <tr>\n",
       "      <th>1</th>\n",
       "      <td>Arizona Distillate Fuel Oil – Greater than 15 ...</td>\n",
       "      <td>Natural Gas</td>\n",
       "      <td>f2dbc21d4e4048f44a030865caee884fbe997d84</td>\n",
       "      <td>Undefined</td>\n",
       "      <td>United States</td>\n",
       "      <td>Annual</td>\n",
       "      <td>Thousand Barrels  per Day</td>\n",
       "      <td>None</td>\n",
       "    </tr>\n",
       "    <tr>\n",
       "      <th>2</th>\n",
       "      <td>Arizona Distillate Fuel Oil – Greater than 15 ...</td>\n",
       "      <td>Natural Gas</td>\n",
       "      <td>b43fe7b80525f1dbe5404c56ceff7919fb188f8c</td>\n",
       "      <td>Undefined</td>\n",
       "      <td>United States</td>\n",
       "      <td>Monthly</td>\n",
       "      <td>Thousand Barrels  per Day</td>\n",
       "      <td>None</td>\n",
       "    </tr>\n",
       "    <tr>\n",
       "      <th>3</th>\n",
       "      <td>Arizona Distillate Fuel Oil, 0 to 15 ppm Sulfu...</td>\n",
       "      <td>Fuel Oil</td>\n",
       "      <td>e38a47c064110a3dfdfeadb867b8d425641cee76</td>\n",
       "      <td>Undefined</td>\n",
       "      <td>United States</td>\n",
       "      <td>Annual</td>\n",
       "      <td>Thousand Barrels  per Day</td>\n",
       "      <td>None</td>\n",
       "    </tr>\n",
       "    <tr>\n",
       "      <th>4</th>\n",
       "      <td>Arizona Distillate Fuel Oil, 0 to 15 ppm Sulfu...</td>\n",
       "      <td>Fuel Oil</td>\n",
       "      <td>9abde4c9c16137d0d44b5b26341d07592a0c5843</td>\n",
       "      <td>Undefined</td>\n",
       "      <td>United States</td>\n",
       "      <td>Monthly</td>\n",
       "      <td>Thousand Barrels  per Day</td>\n",
       "      <td>None</td>\n",
       "    </tr>\n",
       "  </tbody>\n",
       "</table>\n",
       "</div>"
      ],
      "text/plain": [
       "                                                name    commodity  \\\n",
       "0  Arizona Distillate Fuel Oil – Greater than 15 ...     Fuel Oil   \n",
       "1  Arizona Distillate Fuel Oil – Greater than 15 ...  Natural Gas   \n",
       "2  Arizona Distillate Fuel Oil – Greater than 15 ...  Natural Gas   \n",
       "3  Arizona Distillate Fuel Oil, 0 to 15 ppm Sulfu...     Fuel Oil   \n",
       "4  Arizona Distillate Fuel Oil, 0 to 15 ppm Sulfu...     Fuel Oil   \n",
       "\n",
       "                                 payload_id business_category        country  \\\n",
       "0  b43fe7b80525f1dbe5404c56ceff7919fb188f8c         Undefined  United States   \n",
       "1  f2dbc21d4e4048f44a030865caee884fbe997d84         Undefined  United States   \n",
       "2  b43fe7b80525f1dbe5404c56ceff7919fb188f8c         Undefined  United States   \n",
       "3  e38a47c064110a3dfdfeadb867b8d425641cee76         Undefined  United States   \n",
       "4  9abde4c9c16137d0d44b5b26341d07592a0c5843         Undefined  United States   \n",
       "\n",
       "  frequency                       unit start_date  \n",
       "0   Monthly  Thousand Barrels  per Day       None  \n",
       "1    Annual  Thousand Barrels  per Day       None  \n",
       "2   Monthly  Thousand Barrels  per Day       None  \n",
       "3    Annual  Thousand Barrels  per Day       None  \n",
       "4   Monthly  Thousand Barrels  per Day       None  "
      ]
     },
     "metadata": {},
     "output_type": "display_data"
    }
   ],
   "source": [
    "# Perform query.\n",
    "\n",
    "response = requests.request(\"GET\", search_scroll_url, headers=HEADERS)\n",
    "data = json.loads(response.text.encode(\"utf8\"))\n",
    "print(\"data.keys()=\", list(data.keys()))\n",
    "print(\"data['rows'][0]=\", data[\"rows\"][0])\n",
    "\n",
    "df = pd.DataFrame.from_records(data[\"rows\"])\n",
    "print(\"df.shape=\", df.shape)\n",
    "print(\"df.head()=\")\n",
    "display(df.head())"
   ]
  },
  {
   "cell_type": "markdown",
   "metadata": {},
   "source": [
    "# GET data-api/v1/payload/?payload_id=\n",
    "Returns payload for the given `payload_id`"
   ]
  },
  {
   "cell_type": "code",
   "execution_count": 11,
   "metadata": {
    "ExecuteTime": {
     "end_time": "2020-09-26T16:02:06.014537Z",
     "start_time": "2020-09-26T16:02:06.011924Z"
    }
   },
   "outputs": [
    {
     "name": "stdout",
     "output_type": "stream",
     "text": [
      "payload_url= https://data.particle.one/data-api/v1/payload/?payload_id=8f26ba4734df3a62352cce9d64987d64da54b400\n"
     ]
    }
   ],
   "source": [
    "# Build entrypoint url.\n",
    "\n",
    "# We use one of the `payload_id` from one of the previous queries.\n",
    "payload_id = \"8f26ba4734df3a62352cce9d64987d64da54b400\"\n",
    "payload_url = os.path.join(\n",
    "    API_URL, f\"data-api/v1/payload/?payload_id={payload_id}\"\n",
    ")\n",
    "print(\"payload_url=\", payload_url)"
   ]
  },
  {
   "cell_type": "code",
   "execution_count": 12,
   "metadata": {
    "ExecuteTime": {
     "end_time": "2020-09-26T16:02:06.150444Z",
     "start_time": "2020-09-26T16:02:06.015979Z"
    }
   },
   "outputs": [
    {
     "name": "stdout",
     "output_type": "stream",
     "text": [
      "data.keys()= ['message', 'payload_data']\n",
      "df.shape= (166, 4)\n",
      "df.head()=\n"
     ]
    },
    {
     "data": {
      "text/html": [
       "<div>\n",
       "<style scoped>\n",
       "    .dataframe tbody tr th:only-of-type {\n",
       "        vertical-align: middle;\n",
       "    }\n",
       "\n",
       "    .dataframe tbody tr th {\n",
       "        vertical-align: top;\n",
       "    }\n",
       "\n",
       "    .dataframe thead th {\n",
       "        text-align: right;\n",
       "    }\n",
       "</style>\n",
       "<table border=\"1\" class=\"dataframe\">\n",
       "  <thead>\n",
       "    <tr style=\"text-align: right;\">\n",
       "      <th></th>\n",
       "      <th>original_period</th>\n",
       "      <th>original_value</th>\n",
       "      <th>period</th>\n",
       "      <th>value</th>\n",
       "    </tr>\n",
       "  </thead>\n",
       "  <tbody>\n",
       "    <tr>\n",
       "      <th>0</th>\n",
       "      <td>1980</td>\n",
       "      <td>0.0</td>\n",
       "      <td>1980-01-01T00:00:00</td>\n",
       "      <td>0</td>\n",
       "    </tr>\n",
       "    <tr>\n",
       "      <th>1</th>\n",
       "      <td>1981</td>\n",
       "      <td>0.0</td>\n",
       "      <td>1981-01-01T00:00:00</td>\n",
       "      <td>0</td>\n",
       "    </tr>\n",
       "    <tr>\n",
       "      <th>2</th>\n",
       "      <td>1982</td>\n",
       "      <td>0.0</td>\n",
       "      <td>1982-01-01T00:00:00</td>\n",
       "      <td>0</td>\n",
       "    </tr>\n",
       "    <tr>\n",
       "      <th>3</th>\n",
       "      <td>1983</td>\n",
       "      <td>0.0</td>\n",
       "      <td>1983-01-01T00:00:00</td>\n",
       "      <td>0</td>\n",
       "    </tr>\n",
       "    <tr>\n",
       "      <th>4</th>\n",
       "      <td>1984</td>\n",
       "      <td>0.0</td>\n",
       "      <td>1984-01-01T00:00:00</td>\n",
       "      <td>0</td>\n",
       "    </tr>\n",
       "  </tbody>\n",
       "</table>\n",
       "</div>"
      ],
      "text/plain": [
       "  original_period original_value               period value\n",
       "0            1980            0.0  1980-01-01T00:00:00     0\n",
       "1            1981            0.0  1981-01-01T00:00:00     0\n",
       "2            1982            0.0  1982-01-01T00:00:00     0\n",
       "3            1983            0.0  1983-01-01T00:00:00     0\n",
       "4            1984            0.0  1984-01-01T00:00:00     0"
      ]
     },
     "metadata": {},
     "output_type": "display_data"
    }
   ],
   "source": [
    "# Perform query.\n",
    "response = requests.request(\"GET\", payload_url, headers=HEADERS)\n",
    "data = json.loads(response.text.encode(\"utf8\"))\n",
    "print(\"data.keys()=\", list(data.keys()))\n",
    "\n",
    "df = pd.DataFrame.from_records(data[\"payload_data\"])\n",
    "print(\"df.shape=\", df.shape)\n",
    "print(\"df.head()=\")\n",
    "display(df.head())"
   ]
  },
  {
   "cell_type": "markdown",
   "metadata": {},
   "source": [
    "# Helpers\n",
    "\n",
    "To search we use several predefined lists of names for each parameter of metadata. Such as:\n",
    "- `commodity`\n",
    "- `business-category`\n",
    "- `country`\n",
    "- `frequency`\n",
    "\n",
    "Each parameter has its own set of valid names."
   ]
  },
  {
   "cell_type": "markdown",
   "metadata": {},
   "source": [
    "## GET data-api/v1/commodities/"
   ]
  },
  {
   "cell_type": "code",
   "execution_count": 13,
   "metadata": {
    "ExecuteTime": {
     "end_time": "2020-09-26T16:02:06.154839Z",
     "start_time": "2020-09-26T16:02:06.152055Z"
    }
   },
   "outputs": [
    {
     "name": "stdout",
     "output_type": "stream",
     "text": [
      "commodities_url= https://data.particle.one/data-api/v1/commodities/\n"
     ]
    }
   ],
   "source": [
    "# Build entrypoint url.\n",
    "commodities_url = os.path.join(API_URL, \"data-api/v1/commodities/\")\n",
    "print(\"commodities_url=\", commodities_url)"
   ]
  },
  {
   "cell_type": "code",
   "execution_count": 14,
   "metadata": {
    "ExecuteTime": {
     "end_time": "2020-09-26T16:02:06.267789Z",
     "start_time": "2020-09-26T16:02:06.156589Z"
    }
   },
   "outputs": [
    {
     "name": "stdout",
     "output_type": "stream",
     "text": [
      "data.keys()= ['message', 'data']\n",
      "df.shape= (69, 1)\n",
      "df.head()=\n"
     ]
    },
    {
     "data": {
      "text/html": [
       "<div>\n",
       "<style scoped>\n",
       "    .dataframe tbody tr th:only-of-type {\n",
       "        vertical-align: middle;\n",
       "    }\n",
       "\n",
       "    .dataframe tbody tr th {\n",
       "        vertical-align: top;\n",
       "    }\n",
       "\n",
       "    .dataframe thead th {\n",
       "        text-align: right;\n",
       "    }\n",
       "</style>\n",
       "<table border=\"1\" class=\"dataframe\">\n",
       "  <thead>\n",
       "    <tr style=\"text-align: right;\">\n",
       "      <th></th>\n",
       "      <th>name</th>\n",
       "    </tr>\n",
       "  </thead>\n",
       "  <tbody>\n",
       "    <tr>\n",
       "      <th>0</th>\n",
       "      <td>Aluminum</td>\n",
       "    </tr>\n",
       "    <tr>\n",
       "      <th>1</th>\n",
       "      <td>Benzene</td>\n",
       "    </tr>\n",
       "    <tr>\n",
       "      <th>2</th>\n",
       "      <td>Biodiesel</td>\n",
       "    </tr>\n",
       "    <tr>\n",
       "      <th>3</th>\n",
       "      <td>Biofuel</td>\n",
       "    </tr>\n",
       "    <tr>\n",
       "      <th>4</th>\n",
       "      <td>Butadiene</td>\n",
       "    </tr>\n",
       "  </tbody>\n",
       "</table>\n",
       "</div>"
      ],
      "text/plain": [
       "        name\n",
       "0   Aluminum\n",
       "1    Benzene\n",
       "2  Biodiesel\n",
       "3    Biofuel\n",
       "4  Butadiene"
      ]
     },
     "metadata": {},
     "output_type": "display_data"
    }
   ],
   "source": [
    "# Perform query.\n",
    "response = requests.request(\"GET\", commodities_url, headers=HEADERS)\n",
    "data = json.loads(response.text.encode(\"utf8\"))\n",
    "print(\"data.keys()=\", list(data.keys()))\n",
    "\n",
    "df = pd.DataFrame.from_records(data[\"data\"])\n",
    "print(\"df.shape=\", df.shape)\n",
    "print(\"df.head()=\")\n",
    "display(df.head())"
   ]
  },
  {
   "cell_type": "markdown",
   "metadata": {},
   "source": [
    "## GET data-api/v1/business-categories/"
   ]
  },
  {
   "cell_type": "code",
   "execution_count": 15,
   "metadata": {
    "ExecuteTime": {
     "end_time": "2020-09-26T16:02:06.271975Z",
     "start_time": "2020-09-26T16:02:06.269376Z"
    }
   },
   "outputs": [
    {
     "name": "stdout",
     "output_type": "stream",
     "text": [
      "bc_url= https://data.particle.one/data-api/v1/business-categories/\n"
     ]
    }
   ],
   "source": [
    "# Build entrypoint url.\n",
    "bc_url = os.path.join(API_URL, \"data-api/v1/business-categories/\")\n",
    "print(\"bc_url=\", bc_url)"
   ]
  },
  {
   "cell_type": "code",
   "execution_count": 16,
   "metadata": {
    "ExecuteTime": {
     "end_time": "2020-09-26T16:02:06.376841Z",
     "start_time": "2020-09-26T16:02:06.273745Z"
    }
   },
   "outputs": [
    {
     "name": "stdout",
     "output_type": "stream",
     "text": [
      "data.keys()= ['message', 'data']\n",
      "df.shape= (4, 1)\n",
      "df.head()=\n"
     ]
    },
    {
     "data": {
      "text/html": [
       "<div>\n",
       "<style scoped>\n",
       "    .dataframe tbody tr th:only-of-type {\n",
       "        vertical-align: middle;\n",
       "    }\n",
       "\n",
       "    .dataframe tbody tr th {\n",
       "        vertical-align: top;\n",
       "    }\n",
       "\n",
       "    .dataframe thead th {\n",
       "        text-align: right;\n",
       "    }\n",
       "</style>\n",
       "<table border=\"1\" class=\"dataframe\">\n",
       "  <thead>\n",
       "    <tr style=\"text-align: right;\">\n",
       "      <th></th>\n",
       "      <th>name</th>\n",
       "    </tr>\n",
       "  </thead>\n",
       "  <tbody>\n",
       "    <tr>\n",
       "      <th>0</th>\n",
       "      <td>Downstream</td>\n",
       "    </tr>\n",
       "    <tr>\n",
       "      <th>1</th>\n",
       "      <td>Midstream</td>\n",
       "    </tr>\n",
       "    <tr>\n",
       "      <th>2</th>\n",
       "      <td>Undefined</td>\n",
       "    </tr>\n",
       "    <tr>\n",
       "      <th>3</th>\n",
       "      <td>Upstream</td>\n",
       "    </tr>\n",
       "  </tbody>\n",
       "</table>\n",
       "</div>"
      ],
      "text/plain": [
       "         name\n",
       "0  Downstream\n",
       "1   Midstream\n",
       "2   Undefined\n",
       "3    Upstream"
      ]
     },
     "metadata": {},
     "output_type": "display_data"
    }
   ],
   "source": [
    "# Perform query.\n",
    "\n",
    "response = requests.request(\"GET\", bc_url, headers=HEADERS)\n",
    "data = json.loads(response.text.encode(\"utf8\"))\n",
    "print(\"data.keys()=\", list(data.keys()))\n",
    "\n",
    "df = pd.DataFrame.from_records(data[\"data\"])\n",
    "print(\"df.shape=\", df.shape)\n",
    "print(\"df.head()=\")\n",
    "display(df.head())"
   ]
  },
  {
   "cell_type": "markdown",
   "metadata": {},
   "source": [
    "## GET data-api/v1/countries/"
   ]
  },
  {
   "cell_type": "code",
   "execution_count": 17,
   "metadata": {
    "ExecuteTime": {
     "end_time": "2020-09-26T16:02:06.381303Z",
     "start_time": "2020-09-26T16:02:06.378264Z"
    }
   },
   "outputs": [
    {
     "name": "stdout",
     "output_type": "stream",
     "text": [
      "countries_url= https://data.particle.one/data-api/v1/countries/\n"
     ]
    }
   ],
   "source": [
    "# Build entrypoint url.\n",
    "countries_url = os.path.join(API_URL, \"data-api/v1/countries/\")\n",
    "print(\"countries_url=\", countries_url)"
   ]
  },
  {
   "cell_type": "code",
   "execution_count": 18,
   "metadata": {
    "ExecuteTime": {
     "end_time": "2020-09-26T16:02:06.565126Z",
     "start_time": "2020-09-26T16:02:06.385784Z"
    }
   },
   "outputs": [
    {
     "name": "stdout",
     "output_type": "stream",
     "text": [
      "data.keys()= ['message', 'data']\n",
      "df.shape= (231, 1)\n",
      "df.head()=\n"
     ]
    },
    {
     "data": {
      "text/html": [
       "<div>\n",
       "<style scoped>\n",
       "    .dataframe tbody tr th:only-of-type {\n",
       "        vertical-align: middle;\n",
       "    }\n",
       "\n",
       "    .dataframe tbody tr th {\n",
       "        vertical-align: top;\n",
       "    }\n",
       "\n",
       "    .dataframe thead th {\n",
       "        text-align: right;\n",
       "    }\n",
       "</style>\n",
       "<table border=\"1\" class=\"dataframe\">\n",
       "  <thead>\n",
       "    <tr style=\"text-align: right;\">\n",
       "      <th></th>\n",
       "      <th>name</th>\n",
       "    </tr>\n",
       "  </thead>\n",
       "  <tbody>\n",
       "    <tr>\n",
       "      <th>0</th>\n",
       "      <td>Afghanistan</td>\n",
       "    </tr>\n",
       "    <tr>\n",
       "      <th>1</th>\n",
       "      <td>Albania</td>\n",
       "    </tr>\n",
       "    <tr>\n",
       "      <th>2</th>\n",
       "      <td>Algeria</td>\n",
       "    </tr>\n",
       "    <tr>\n",
       "      <th>3</th>\n",
       "      <td>American Samoa</td>\n",
       "    </tr>\n",
       "    <tr>\n",
       "      <th>4</th>\n",
       "      <td>Andorra</td>\n",
       "    </tr>\n",
       "  </tbody>\n",
       "</table>\n",
       "</div>"
      ],
      "text/plain": [
       "             name\n",
       "0     Afghanistan\n",
       "1         Albania\n",
       "2         Algeria\n",
       "3  American Samoa\n",
       "4         Andorra"
      ]
     },
     "metadata": {},
     "output_type": "display_data"
    }
   ],
   "source": [
    "# Perform query.\n",
    "response = requests.request(\"GET\", countries_url, headers=HEADERS)\n",
    "data = json.loads(response.text.encode(\"utf8\"))\n",
    "print(\"data.keys()=\", list(data.keys()))\n",
    "\n",
    "df = pd.DataFrame.from_records(data[\"data\"])\n",
    "print(\"df.shape=\", df.shape)\n",
    "print(\"df.head()=\")\n",
    "display(df.head())"
   ]
  },
  {
   "cell_type": "markdown",
   "metadata": {},
   "source": [
    "## GET data-api/v1/frequencies/"
   ]
  },
  {
   "cell_type": "code",
   "execution_count": 19,
   "metadata": {
    "ExecuteTime": {
     "end_time": "2020-09-26T16:02:06.568910Z",
     "start_time": "2020-09-26T16:02:06.566714Z"
    }
   },
   "outputs": [
    {
     "name": "stdout",
     "output_type": "stream",
     "text": [
      "https://data.particle.one/data-api/v1/frequencies/\n"
     ]
    }
   ],
   "source": [
    "# Build entrypoint url.\n",
    "frequencies_url = os.path.join(API_URL, \"data-api/v1/frequencies/\")\n",
    "print(frequencies_url)"
   ]
  },
  {
   "cell_type": "code",
   "execution_count": 20,
   "metadata": {
    "ExecuteTime": {
     "end_time": "2020-09-26T16:02:06.676954Z",
     "start_time": "2020-09-26T16:02:06.570319Z"
    }
   },
   "outputs": [
    {
     "name": "stdout",
     "output_type": "stream",
     "text": [
      "data.keys()= ['message', 'data']\n",
      "df.shape= (6, 1)\n",
      "df.head()=\n"
     ]
    },
    {
     "data": {
      "text/html": [
       "<div>\n",
       "<style scoped>\n",
       "    .dataframe tbody tr th:only-of-type {\n",
       "        vertical-align: middle;\n",
       "    }\n",
       "\n",
       "    .dataframe tbody tr th {\n",
       "        vertical-align: top;\n",
       "    }\n",
       "\n",
       "    .dataframe thead th {\n",
       "        text-align: right;\n",
       "    }\n",
       "</style>\n",
       "<table border=\"1\" class=\"dataframe\">\n",
       "  <thead>\n",
       "    <tr style=\"text-align: right;\">\n",
       "      <th></th>\n",
       "      <th>name</th>\n",
       "    </tr>\n",
       "  </thead>\n",
       "  <tbody>\n",
       "    <tr>\n",
       "      <th>0</th>\n",
       "      <td>Daily</td>\n",
       "    </tr>\n",
       "    <tr>\n",
       "      <th>1</th>\n",
       "      <td>Weekly</td>\n",
       "    </tr>\n",
       "    <tr>\n",
       "      <th>2</th>\n",
       "      <td>Monthly</td>\n",
       "    </tr>\n",
       "    <tr>\n",
       "      <th>3</th>\n",
       "      <td>Quarterly</td>\n",
       "    </tr>\n",
       "    <tr>\n",
       "      <th>4</th>\n",
       "      <td>Semi-annual</td>\n",
       "    </tr>\n",
       "  </tbody>\n",
       "</table>\n",
       "</div>"
      ],
      "text/plain": [
       "          name\n",
       "0        Daily\n",
       "1       Weekly\n",
       "2      Monthly\n",
       "3    Quarterly\n",
       "4  Semi-annual"
      ]
     },
     "metadata": {},
     "output_type": "display_data"
    }
   ],
   "source": [
    "# Perform query.\n",
    "response = requests.request(\"GET\", frequencies_url, headers=HEADERS)\n",
    "data = json.loads(response.text.encode(\"utf8\"))\n",
    "print(\"data.keys()=\", list(data.keys()))\n",
    "\n",
    "df = pd.DataFrame.from_records(data[\"data\"])\n",
    "print(\"df.shape=\", df.shape)\n",
    "print(\"df.head()=\")\n",
    "display(df.head())"
   ]
  }
 ],
 "metadata": {
  "jupytext": {
   "text_representation": {
    "extension": ".py",
    "format_name": "percent",
    "format_version": "1.3",
    "jupytext_version": "1.4.2"
   }
  },
  "kernelspec": {
   "display_name": "Python 3",
   "language": "python",
   "name": "python3"
  },
  "language_info": {
   "codemirror_mode": {
    "name": "ipython",
    "version": 3
   },
   "file_extension": ".py",
   "mimetype": "text/x-python",
   "name": "python",
   "nbconvert_exporter": "python",
   "pygments_lexer": "ipython3",
   "version": "3.7.6"
  },
  "toc": {
   "base_numbering": 1,
   "nav_menu": {},
   "number_sections": true,
   "sideBar": true,
   "skip_h1_title": false,
   "title_cell": "Table of Contents",
   "title_sidebar": "Contents",
   "toc_cell": false,
   "toc_position": {},
   "toc_section_display": true,
   "toc_window_display": true
  },
  "varInspector": {
   "cols": {
    "lenName": 16,
    "lenType": 16,
    "lenVar": 40
   },
   "kernels_config": {
    "python": {
     "delete_cmd_postfix": "",
     "delete_cmd_prefix": "del ",
     "library": "var_list.py",
     "varRefreshCmd": "print(var_dic_list())"
    },
    "r": {
     "delete_cmd_postfix": ") ",
     "delete_cmd_prefix": "rm(",
     "library": "var_list.r",
     "varRefreshCmd": "cat(var_dic_list()) "
    }
   },
   "types_to_exclude": [
    "module",
    "function",
    "builtin_function_or_method",
    "instance",
    "_Feature"
   ],
   "window_display": false
  }
 },
 "nbformat": 4,
 "nbformat_minor": 4
}
