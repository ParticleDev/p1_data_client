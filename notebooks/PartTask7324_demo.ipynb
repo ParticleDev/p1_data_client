{
 "cells": [
  {
   "cell_type": "markdown",
   "id": "powered-personality",
   "metadata": {},
   "source": [
    "## Prepare"
   ]
  },
  {
   "cell_type": "code",
   "execution_count": 1,
   "id": "leading-institute",
   "metadata": {},
   "outputs": [],
   "source": [
    "import os\n",
    "import requests\n",
    "import pandas as pd\n",
    "\n",
    "from tqdm.auto import tqdm\n",
    "s = requests.session()\n",
    "\n",
    "P1_API_TOKEN = os.environ[\"P1_EDGAR_API_TOKEN\"]\n",
    "\n",
    "s.headers.update({'Authorization': f'Token {P1_API_TOKEN}'})"
   ]
  },
  {
   "cell_type": "markdown",
   "id": "australian-surgery",
   "metadata": {},
   "source": [
    "## Function for getting headers"
   ]
  },
  {
   "cell_type": "code",
   "execution_count": 2,
   "id": "antique-speaking",
   "metadata": {},
   "outputs": [],
   "source": [
    "def get_headers(**kwargs) -> pd.DataFrame:\n",
    "    \"\"\"Get the headers data with the certain parameters\"\"\"\n",
    "    data = []\n",
    "    with tqdm() as pbar:\n",
    "        r = s.get(f'https://data.particle.one/edgar/v5/data/headers',\n",
    "                  params=kwargs)\n",
    "        while True:\n",
    "            d = r.json()\n",
    "            if not pbar.total:\n",
    "                pbar.reset(total=d['count'])\n",
    "            _ = pbar.update(len(d['data']))\n",
    "            data.extend(d['data']);\n",
    "            nxt = d.get('links', {}).get('next')\n",
    "            if not nxt:\n",
    "                break\n",
    "            r = s.get(nxt) \n",
    "    return pd.DataFrame(data)"
   ]
  },
  {
   "cell_type": "markdown",
   "id": "endless-hierarchy",
   "metadata": {},
   "source": [
    "## Get the headers data first time. Find out the last date and time."
   ]
  },
  {
   "cell_type": "code",
   "execution_count": 3,
   "id": "paperback-latin",
   "metadata": {},
   "outputs": [
    {
     "data": {
      "application/vnd.jupyter.widget-view+json": {
       "model_id": "ca1d73faad52410380f243db32035f10",
       "version_major": 2,
       "version_minor": 0
      },
      "text/plain": [
       "0it [00:00, ?it/s]"
      ]
     },
     "metadata": {},
     "output_type": "display_data"
    }
   ],
   "source": [
    "df = get_headers(start_date='2021-02-10', date_mode='knowledge_date')"
   ]
  },
  {
   "cell_type": "code",
   "execution_count": 4,
   "id": "polyphonic-audit",
   "metadata": {},
   "outputs": [],
   "source": [
    "last_timestamp = df[\"created_at\"].max()"
   ]
  },
  {
   "cell_type": "code",
   "execution_count": 5,
   "id": "antique-northern",
   "metadata": {},
   "outputs": [
    {
     "data": {
      "text/plain": [
       "'2021-02-10T16:07:06.256911+00:00'"
      ]
     },
     "execution_count": 5,
     "metadata": {},
     "output_type": "execute_result"
    }
   ],
   "source": [
    "last_timestamp"
   ]
  },
  {
   "cell_type": "markdown",
   "id": "cultural-advice",
   "metadata": {},
   "source": [
    "## Get the headers data second time. Get the difference since last date and time"
   ]
  },
  {
   "cell_type": "code",
   "execution_count": 9,
   "id": "western-collect",
   "metadata": {},
   "outputs": [
    {
     "data": {
      "application/vnd.jupyter.widget-view+json": {
       "model_id": "55ba00e24c034956a41c89ebfde64941",
       "version_major": 2,
       "version_minor": 0
      },
      "text/plain": [
       "0it [00:00, ?it/s]"
      ]
     },
     "metadata": {},
     "output_type": "display_data"
    }
   ],
   "source": [
    "# Wait some time to allow the pipline to get more data.\n",
    "df = get_headers(start_date='2021-02-10', date_mode='knowledge_date')"
   ]
  },
  {
   "cell_type": "code",
   "execution_count": 10,
   "id": "enormous-chest",
   "metadata": {},
   "outputs": [],
   "source": [
    "new_data = df[df[\"created_at\"] > last_timestamp]"
   ]
  },
  {
   "cell_type": "code",
   "execution_count": 11,
   "id": "absent-cover",
   "metadata": {},
   "outputs": [
    {
     "data": {
      "text/html": [
       "<div>\n",
       "<style scoped>\n",
       "    .dataframe tbody tr th:only-of-type {\n",
       "        vertical-align: middle;\n",
       "    }\n",
       "\n",
       "    .dataframe tbody tr th {\n",
       "        vertical-align: top;\n",
       "    }\n",
       "\n",
       "    .dataframe thead th {\n",
       "        text-align: right;\n",
       "    }\n",
       "</style>\n",
       "<table border=\"1\" class=\"dataframe\">\n",
       "  <thead>\n",
       "    <tr style=\"text-align: right;\">\n",
       "      <th></th>\n",
       "      <th>uuid</th>\n",
       "      <th>cik</th>\n",
       "      <th>filing_date</th>\n",
       "      <th>form_type</th>\n",
       "      <th>edgar_path</th>\n",
       "      <th>company</th>\n",
       "      <th>acceptance_datetime</th>\n",
       "      <th>period_of_report</th>\n",
       "      <th>created_at</th>\n",
       "    </tr>\n",
       "  </thead>\n",
       "  <tbody>\n",
       "    <tr>\n",
       "      <th>612</th>\n",
       "      <td>dbe1b28b-a9f9-4ab5-9d59-2743f92ec426</td>\n",
       "      <td>84748</td>\n",
       "      <td>2021-02-10</td>\n",
       "      <td>4</td>\n",
       "      <td>edgar/data/84748/000166427221000017/0001664272...</td>\n",
       "      <td>ROGERS CORP</td>\n",
       "      <td>2021-02-10T15:58:26+00:00</td>\n",
       "      <td>2021-02-08T05:00:00+00:00</td>\n",
       "      <td>2021-02-10T16:10:07.172266+00:00</td>\n",
       "    </tr>\n",
       "    <tr>\n",
       "      <th>681</th>\n",
       "      <td>8bbafa79-b14a-41f2-aeb5-5e09831c5492</td>\n",
       "      <td>1058800</td>\n",
       "      <td>2021-02-10</td>\n",
       "      <td>13F-HR</td>\n",
       "      <td>edgar/data/1058800/000105880021000001/00010588...</td>\n",
       "      <td>BEACH INVESTMENT COUNSEL INC/PA</td>\n",
       "      <td>None</td>\n",
       "      <td>None</td>\n",
       "      <td>2021-02-10T16:10:55.674297+00:00</td>\n",
       "    </tr>\n",
       "    <tr>\n",
       "      <th>789</th>\n",
       "      <td>6c916526-05dd-4c7f-b010-b43fdadac4c1</td>\n",
       "      <td>1420485</td>\n",
       "      <td>2021-02-10</td>\n",
       "      <td>4</td>\n",
       "      <td>edgar/data/1420485/000166427221000017/00016642...</td>\n",
       "      <td>Weaver Mark</td>\n",
       "      <td>2021-02-10T15:58:26+00:00</td>\n",
       "      <td>2021-02-08T05:00:00+00:00</td>\n",
       "      <td>2021-02-10T16:10:09.293633+00:00</td>\n",
       "    </tr>\n",
       "    <tr>\n",
       "      <th>970</th>\n",
       "      <td>488b33e2-0cc5-49ee-b0cd-af03fbeb9dd1</td>\n",
       "      <td>1799054</td>\n",
       "      <td>2021-02-10</td>\n",
       "      <td>13F-HR</td>\n",
       "      <td>edgar/data/1799054/000142050621000166/00014205...</td>\n",
       "      <td>Silicon Hills Wealth Management, LLC</td>\n",
       "      <td>2021-02-10T15:57:28+00:00</td>\n",
       "      <td>2020-12-31T05:00:00+00:00</td>\n",
       "      <td>2021-02-10T16:10:05.164739+00:00</td>\n",
       "    </tr>\n",
       "  </tbody>\n",
       "</table>\n",
       "</div>"
      ],
      "text/plain": [
       "                                     uuid      cik filing_date form_type  \\\n",
       "612  dbe1b28b-a9f9-4ab5-9d59-2743f92ec426    84748  2021-02-10         4   \n",
       "681  8bbafa79-b14a-41f2-aeb5-5e09831c5492  1058800  2021-02-10    13F-HR   \n",
       "789  6c916526-05dd-4c7f-b010-b43fdadac4c1  1420485  2021-02-10         4   \n",
       "970  488b33e2-0cc5-49ee-b0cd-af03fbeb9dd1  1799054  2021-02-10    13F-HR   \n",
       "\n",
       "                                            edgar_path  \\\n",
       "612  edgar/data/84748/000166427221000017/0001664272...   \n",
       "681  edgar/data/1058800/000105880021000001/00010588...   \n",
       "789  edgar/data/1420485/000166427221000017/00016642...   \n",
       "970  edgar/data/1799054/000142050621000166/00014205...   \n",
       "\n",
       "                                  company        acceptance_datetime  \\\n",
       "612                           ROGERS CORP  2021-02-10T15:58:26+00:00   \n",
       "681       BEACH INVESTMENT COUNSEL INC/PA                       None   \n",
       "789                           Weaver Mark  2021-02-10T15:58:26+00:00   \n",
       "970  Silicon Hills Wealth Management, LLC  2021-02-10T15:57:28+00:00   \n",
       "\n",
       "              period_of_report                        created_at  \n",
       "612  2021-02-08T05:00:00+00:00  2021-02-10T16:10:07.172266+00:00  \n",
       "681                       None  2021-02-10T16:10:55.674297+00:00  \n",
       "789  2021-02-08T05:00:00+00:00  2021-02-10T16:10:09.293633+00:00  \n",
       "970  2020-12-31T05:00:00+00:00  2021-02-10T16:10:05.164739+00:00  "
      ]
     },
     "execution_count": 11,
     "metadata": {},
     "output_type": "execute_result"
    }
   ],
   "source": [
    "new_data"
   ]
  },
  {
   "cell_type": "code",
   "execution_count": null,
   "id": "conditional-plasma",
   "metadata": {},
   "outputs": [],
   "source": []
  }
 ],
 "metadata": {
  "kernelspec": {
   "display_name": "Python 3",
   "language": "python",
   "name": "python3"
  },
  "language_info": {
   "codemirror_mode": {
    "name": "ipython",
    "version": 3
   },
   "file_extension": ".py",
   "mimetype": "text/x-python",
   "name": "python",
   "nbconvert_exporter": "python",
   "pygments_lexer": "ipython3",
   "version": "3.8.5"
  }
 },
 "nbformat": 4,
 "nbformat_minor": 5
}
