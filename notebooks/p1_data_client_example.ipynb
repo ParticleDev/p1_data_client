{
 "cells": [
  {
   "cell_type": "markdown",
   "metadata": {
    "pycharm": {
     "name": "#%% md\n"
    }
   },
   "source": [
    "# P1 data client for REST API\n",
    "\n",
    "- This Jupyter notebook is an example of how to use the Python Data Client"
   ]
  },
  {
   "cell_type": "markdown",
   "metadata": {},
   "source": [
    "## Initialization"
   ]
  },
  {
   "cell_type": "code",
   "execution_count": 1,
   "metadata": {
    "ExecuteTime": {
     "end_time": "2020-12-20T02:09:07.152145Z",
     "start_time": "2020-12-20T02:09:06.638001Z"
    },
    "pycharm": {
     "is_executing": false,
     "name": "#%%\n"
    }
   },
   "outputs": [],
   "source": [
    "%load_ext autoreload\n",
    "%autoreload 2\n",
    "\n",
    "import os\n",
    "\n",
    "import p1_data_client_python.client as p1_data\n",
    "\n",
    "# Enter your token here.\n",
    "# You can get your token by signing up at `www.particle.one`.\n",
    "# TOKEN = \"YOUR_TOKEN_HERE\"\n",
    "# An example token is like:\n",
    "# TOKEN = \"e44e7c6b04ef3ea1cfb7a8a67db74751c177259e\"\n",
    "TOKEN = os.environ[\"P1_API_TOKEN\"]\n",
    "\n",
    "client = p1_data.Client(token=TOKEN)"
   ]
  },
  {
   "cell_type": "markdown",
   "metadata": {},
   "source": [
    "## Quick start\n",
    "\n",
    "### Entities description\n",
    "\n",
    "There are three main objects:\n",
    "\n",
    "* [Metadata information](#metadata)\n",
    "* [Payload identifiers](#payload)\n",
    "* [Time series data](#timeseries)\n",
    "\n",
    "So, we have make three simple steps:\n",
    "\n",
    "1. Get a metadata information for next usage\n",
    "2. Select payload identifiers by metadata values\n",
    "3. Grab time series data by selected payload ID\n",
    "\n",
    "Let's jump in!\n",
    "\n",
    "<a id=\"metadata\"></a>\n",
    "## Metadata information\n",
    "\n",
    "All metadata types listed in our client object:"
   ]
  },
  {
   "cell_type": "code",
   "execution_count": 2,
   "metadata": {
    "ExecuteTime": {
     "end_time": "2020-12-20T02:09:07.179457Z",
     "start_time": "2020-12-20T02:09:07.155021Z"
    },
    "pycharm": {
     "is_executing": false,
     "name": "#%%\n"
    }
   },
   "outputs": [
    {
     "name": "stdout",
     "output_type": "stream",
     "text": [
      "['COMMODITIES', 'BUSINESS-CATEGORIES', 'COUNTRIES', 'FREQUENCIES']\n"
     ]
    }
   ],
   "source": [
    "print(client.list_of_metadata)"
   ]
  },
  {
   "cell_type": "markdown",
   "metadata": {},
   "source": [
    "Right now we have next list of metadata types:\n",
    "\n",
    "* [COMMODITIES](#commodities)\n",
    "* [BUSINESS-CATEGORIES](#business-categories)\n",
    "* [COUNTRIES](#countries)\n",
    "* [FREQUENCIES](#frequencies)\n",
    "\n",
    "It can be changed in the future\n",
    "\n",
    "<a id=\"commodities\"></a>\n",
    "### List of COMMODITIES:"
   ]
  },
  {
   "cell_type": "code",
   "execution_count": 3,
   "metadata": {
    "ExecuteTime": {
     "end_time": "2020-12-20T02:09:07.439824Z",
     "start_time": "2020-12-20T02:09:07.181870Z"
    },
    "pycharm": {
     "is_executing": false,
     "name": "#%%\n"
    }
   },
   "outputs": [
    {
     "data": {
      "text/html": [
       "<div>\n",
       "<style scoped>\n",
       "    .dataframe tbody tr th:only-of-type {\n",
       "        vertical-align: middle;\n",
       "    }\n",
       "\n",
       "    .dataframe tbody tr th {\n",
       "        vertical-align: top;\n",
       "    }\n",
       "\n",
       "    .dataframe thead th {\n",
       "        text-align: right;\n",
       "    }\n",
       "</style>\n",
       "<table border=\"1\" class=\"dataframe\">\n",
       "  <thead>\n",
       "    <tr style=\"text-align: right;\">\n",
       "      <th></th>\n",
       "      <th>COMMODITIES</th>\n",
       "    </tr>\n",
       "  </thead>\n",
       "  <tbody>\n",
       "    <tr>\n",
       "      <th>0</th>\n",
       "      <td>Aluminum</td>\n",
       "    </tr>\n",
       "    <tr>\n",
       "      <th>1</th>\n",
       "      <td>Benzene</td>\n",
       "    </tr>\n",
       "    <tr>\n",
       "      <th>2</th>\n",
       "      <td>Biodiesel</td>\n",
       "    </tr>\n",
       "    <tr>\n",
       "      <th>3</th>\n",
       "      <td>Biofuel</td>\n",
       "    </tr>\n",
       "    <tr>\n",
       "      <th>4</th>\n",
       "      <td>Butadiene</td>\n",
       "    </tr>\n",
       "    <tr>\n",
       "      <th>...</th>\n",
       "      <td>...</td>\n",
       "    </tr>\n",
       "    <tr>\n",
       "      <th>72</th>\n",
       "      <td>Uranium</td>\n",
       "    </tr>\n",
       "    <tr>\n",
       "      <th>73</th>\n",
       "      <td>Urea Fertilizer</td>\n",
       "    </tr>\n",
       "    <tr>\n",
       "      <th>74</th>\n",
       "      <td>Vegetable Oil</td>\n",
       "    </tr>\n",
       "    <tr>\n",
       "      <th>75</th>\n",
       "      <td>Wheat</td>\n",
       "    </tr>\n",
       "    <tr>\n",
       "      <th>76</th>\n",
       "      <td>Zinc</td>\n",
       "    </tr>\n",
       "  </tbody>\n",
       "</table>\n",
       "<p>77 rows × 1 columns</p>\n",
       "</div>"
      ],
      "text/plain": [
       "        COMMODITIES\n",
       "0          Aluminum\n",
       "1           Benzene\n",
       "2         Biodiesel\n",
       "3           Biofuel\n",
       "4         Butadiene\n",
       "..              ...\n",
       "72          Uranium\n",
       "73  Urea Fertilizer\n",
       "74    Vegetable Oil\n",
       "75            Wheat\n",
       "76             Zinc\n",
       "\n",
       "[77 rows x 1 columns]"
      ]
     },
     "execution_count": 3,
     "metadata": {},
     "output_type": "execute_result"
    }
   ],
   "source": [
    "client.get_metadata_type(\"COMMODITIES\")"
   ]
  },
  {
   "cell_type": "markdown",
   "metadata": {},
   "source": [
    "<a id=\"business-categories\"></a>\n",
    "### List of BUSINESS-CATEGORIES:"
   ]
  },
  {
   "cell_type": "code",
   "execution_count": 4,
   "metadata": {
    "ExecuteTime": {
     "end_time": "2020-12-20T02:09:07.514819Z",
     "start_time": "2020-12-20T02:09:07.441840Z"
    },
    "pycharm": {
     "is_executing": false,
     "name": "#%%\n"
    }
   },
   "outputs": [
    {
     "data": {
      "text/html": [
       "<div>\n",
       "<style scoped>\n",
       "    .dataframe tbody tr th:only-of-type {\n",
       "        vertical-align: middle;\n",
       "    }\n",
       "\n",
       "    .dataframe tbody tr th {\n",
       "        vertical-align: top;\n",
       "    }\n",
       "\n",
       "    .dataframe thead th {\n",
       "        text-align: right;\n",
       "    }\n",
       "</style>\n",
       "<table border=\"1\" class=\"dataframe\">\n",
       "  <thead>\n",
       "    <tr style=\"text-align: right;\">\n",
       "      <th></th>\n",
       "      <th>BUSINESS-CATEGORIES</th>\n",
       "    </tr>\n",
       "  </thead>\n",
       "  <tbody>\n",
       "    <tr>\n",
       "      <th>0</th>\n",
       "      <td>Downstream</td>\n",
       "    </tr>\n",
       "    <tr>\n",
       "      <th>1</th>\n",
       "      <td>Midstream</td>\n",
       "    </tr>\n",
       "    <tr>\n",
       "      <th>2</th>\n",
       "      <td>Undefined</td>\n",
       "    </tr>\n",
       "    <tr>\n",
       "      <th>3</th>\n",
       "      <td>Upstream</td>\n",
       "    </tr>\n",
       "  </tbody>\n",
       "</table>\n",
       "</div>"
      ],
      "text/plain": [
       "  BUSINESS-CATEGORIES\n",
       "0          Downstream\n",
       "1           Midstream\n",
       "2           Undefined\n",
       "3            Upstream"
      ]
     },
     "execution_count": 4,
     "metadata": {},
     "output_type": "execute_result"
    }
   ],
   "source": [
    "client.get_metadata_type(\"BUSINESS-CATEGORIES\")"
   ]
  },
  {
   "cell_type": "markdown",
   "metadata": {},
   "source": [
    "<a id=\"countries\"></a>\n",
    "### List of COUNTRIES:"
   ]
  },
  {
   "cell_type": "code",
   "execution_count": 5,
   "metadata": {
    "ExecuteTime": {
     "end_time": "2020-12-20T02:09:07.600102Z",
     "start_time": "2020-12-20T02:09:07.516678Z"
    },
    "pycharm": {
     "is_executing": false,
     "name": "#%%\n"
    }
   },
   "outputs": [
    {
     "data": {
      "text/html": [
       "<div>\n",
       "<style scoped>\n",
       "    .dataframe tbody tr th:only-of-type {\n",
       "        vertical-align: middle;\n",
       "    }\n",
       "\n",
       "    .dataframe tbody tr th {\n",
       "        vertical-align: top;\n",
       "    }\n",
       "\n",
       "    .dataframe thead th {\n",
       "        text-align: right;\n",
       "    }\n",
       "</style>\n",
       "<table border=\"1\" class=\"dataframe\">\n",
       "  <thead>\n",
       "    <tr style=\"text-align: right;\">\n",
       "      <th></th>\n",
       "      <th>COUNTRIES</th>\n",
       "    </tr>\n",
       "  </thead>\n",
       "  <tbody>\n",
       "    <tr>\n",
       "      <th>0</th>\n",
       "      <td>Afghanistan</td>\n",
       "    </tr>\n",
       "    <tr>\n",
       "      <th>1</th>\n",
       "      <td>Albania</td>\n",
       "    </tr>\n",
       "    <tr>\n",
       "      <th>2</th>\n",
       "      <td>Algeria</td>\n",
       "    </tr>\n",
       "    <tr>\n",
       "      <th>3</th>\n",
       "      <td>American Samoa</td>\n",
       "    </tr>\n",
       "    <tr>\n",
       "      <th>4</th>\n",
       "      <td>Andorra</td>\n",
       "    </tr>\n",
       "    <tr>\n",
       "      <th>...</th>\n",
       "      <td>...</td>\n",
       "    </tr>\n",
       "    <tr>\n",
       "      <th>232</th>\n",
       "      <td>Western Sahara</td>\n",
       "    </tr>\n",
       "    <tr>\n",
       "      <th>233</th>\n",
       "      <td>World</td>\n",
       "    </tr>\n",
       "    <tr>\n",
       "      <th>234</th>\n",
       "      <td>Yemen</td>\n",
       "    </tr>\n",
       "    <tr>\n",
       "      <th>235</th>\n",
       "      <td>Zambia</td>\n",
       "    </tr>\n",
       "    <tr>\n",
       "      <th>236</th>\n",
       "      <td>Zimbabwe</td>\n",
       "    </tr>\n",
       "  </tbody>\n",
       "</table>\n",
       "<p>237 rows × 1 columns</p>\n",
       "</div>"
      ],
      "text/plain": [
       "          COUNTRIES\n",
       "0       Afghanistan\n",
       "1           Albania\n",
       "2           Algeria\n",
       "3    American Samoa\n",
       "4           Andorra\n",
       "..              ...\n",
       "232  Western Sahara\n",
       "233           World\n",
       "234           Yemen\n",
       "235          Zambia\n",
       "236        Zimbabwe\n",
       "\n",
       "[237 rows x 1 columns]"
      ]
     },
     "execution_count": 5,
     "metadata": {},
     "output_type": "execute_result"
    }
   ],
   "source": [
    "client.get_metadata_type(\"COUNTRIES\")"
   ]
  },
  {
   "cell_type": "markdown",
   "metadata": {},
   "source": [
    "<a id=\"frequencies\"></a>\n",
    "### List of FREQUENCIES:"
   ]
  },
  {
   "cell_type": "code",
   "execution_count": 6,
   "metadata": {
    "ExecuteTime": {
     "end_time": "2020-12-20T02:09:07.681501Z",
     "start_time": "2020-12-20T02:09:07.603707Z"
    },
    "pycharm": {
     "is_executing": false,
     "name": "#%%\n"
    }
   },
   "outputs": [
    {
     "data": {
      "text/html": [
       "<div>\n",
       "<style scoped>\n",
       "    .dataframe tbody tr th:only-of-type {\n",
       "        vertical-align: middle;\n",
       "    }\n",
       "\n",
       "    .dataframe tbody tr th {\n",
       "        vertical-align: top;\n",
       "    }\n",
       "\n",
       "    .dataframe thead th {\n",
       "        text-align: right;\n",
       "    }\n",
       "</style>\n",
       "<table border=\"1\" class=\"dataframe\">\n",
       "  <thead>\n",
       "    <tr style=\"text-align: right;\">\n",
       "      <th></th>\n",
       "      <th>FREQUENCIES</th>\n",
       "    </tr>\n",
       "  </thead>\n",
       "  <tbody>\n",
       "    <tr>\n",
       "      <th>0</th>\n",
       "      <td>Hourly - UTC Time</td>\n",
       "    </tr>\n",
       "    <tr>\n",
       "      <th>1</th>\n",
       "      <td>Business daily</td>\n",
       "    </tr>\n",
       "    <tr>\n",
       "      <th>2</th>\n",
       "      <td>Daily</td>\n",
       "    </tr>\n",
       "    <tr>\n",
       "      <th>3</th>\n",
       "      <td>Weekly</td>\n",
       "    </tr>\n",
       "    <tr>\n",
       "      <th>4</th>\n",
       "      <td>Bi-Weekly</td>\n",
       "    </tr>\n",
       "    <tr>\n",
       "      <th>5</th>\n",
       "      <td>Monthly</td>\n",
       "    </tr>\n",
       "    <tr>\n",
       "      <th>6</th>\n",
       "      <td>Quarterly</td>\n",
       "    </tr>\n",
       "    <tr>\n",
       "      <th>7</th>\n",
       "      <td>Semi-annual</td>\n",
       "    </tr>\n",
       "    <tr>\n",
       "      <th>8</th>\n",
       "      <td>Annual</td>\n",
       "    </tr>\n",
       "    <tr>\n",
       "      <th>9</th>\n",
       "      <td>Bi-annual</td>\n",
       "    </tr>\n",
       "    <tr>\n",
       "      <th>10</th>\n",
       "      <td>Undefined</td>\n",
       "    </tr>\n",
       "  </tbody>\n",
       "</table>\n",
       "</div>"
      ],
      "text/plain": [
       "          FREQUENCIES\n",
       "0   Hourly - UTC Time\n",
       "1      Business daily\n",
       "2               Daily\n",
       "3              Weekly\n",
       "4           Bi-Weekly\n",
       "5             Monthly\n",
       "6           Quarterly\n",
       "7         Semi-annual\n",
       "8              Annual\n",
       "9           Bi-annual\n",
       "10          Undefined"
      ]
     },
     "execution_count": 6,
     "metadata": {},
     "output_type": "execute_result"
    }
   ],
   "source": [
    "client.get_metadata_type(\"FREQUENCIES\")"
   ]
  },
  {
   "cell_type": "markdown",
   "metadata": {},
   "source": [
    "\n",
    "<a id=\"payload\"></a>\n",
    "## Payload identifiers\n",
    "\n",
    "After we armed be a metadata, we have to use it for obtaining payload identifiers\n",
    "\n",
    "Let's construct a query for it.\n",
    "\n",
    "For example we have to know prices for a Coal in the Belize and Brazil:"
   ]
  },
  {
   "cell_type": "code",
   "execution_count": 7,
   "metadata": {
    "ExecuteTime": {
     "end_time": "2020-12-20T02:09:07.821751Z",
     "start_time": "2020-12-20T02:09:07.683468Z"
    },
    "lines_to_next_cell": 2,
    "pycharm": {
     "is_executing": false,
     "name": "#%%\n"
    }
   },
   "outputs": [
    {
     "data": {
      "text/html": [
       "<div>\n",
       "<style scoped>\n",
       "    .dataframe tbody tr th:only-of-type {\n",
       "        vertical-align: middle;\n",
       "    }\n",
       "\n",
       "    .dataframe tbody tr th {\n",
       "        vertical-align: top;\n",
       "    }\n",
       "\n",
       "    .dataframe thead th {\n",
       "        text-align: right;\n",
       "    }\n",
       "</style>\n",
       "<table border=\"1\" class=\"dataframe\">\n",
       "  <thead>\n",
       "    <tr style=\"text-align: right;\">\n",
       "      <th></th>\n",
       "      <th>name</th>\n",
       "      <th>commodity</th>\n",
       "      <th>payload_id</th>\n",
       "      <th>business_category</th>\n",
       "      <th>country</th>\n",
       "      <th>frequency</th>\n",
       "      <th>unit</th>\n",
       "      <th>start_date</th>\n",
       "    </tr>\n",
       "  </thead>\n",
       "  <tbody>\n",
       "    <tr>\n",
       "      <th>0</th>\n",
       "      <td>Export price – all coal – Belize – Miami – FL ...</td>\n",
       "      <td>Coal</td>\n",
       "      <td>00158d049d149197f67115a6cc3224e956e5c9e9</td>\n",
       "      <td>Undefined</td>\n",
       "      <td>Belize</td>\n",
       "      <td>Annual</td>\n",
       "      <td>USD/short ton</td>\n",
       "      <td>None</td>\n",
       "    </tr>\n",
       "    <tr>\n",
       "      <th>1</th>\n",
       "      <td>Export price – all coal – Belize – Miami – FL ...</td>\n",
       "      <td>Coal</td>\n",
       "      <td>d9a75857725b40edc7707705e8956837d26d7ad2</td>\n",
       "      <td>Undefined</td>\n",
       "      <td>Belize</td>\n",
       "      <td>Quarterly</td>\n",
       "      <td>USD/short ton</td>\n",
       "      <td>None</td>\n",
       "    </tr>\n",
       "    <tr>\n",
       "      <th>2</th>\n",
       "      <td>Export price – all coal – Belize – all termina...</td>\n",
       "      <td>Coal</td>\n",
       "      <td>c7c2ede17893e4339633bf6807c6608be68dcbe1</td>\n",
       "      <td>Undefined</td>\n",
       "      <td>Belize</td>\n",
       "      <td>Annual</td>\n",
       "      <td>USD/short ton</td>\n",
       "      <td>None</td>\n",
       "    </tr>\n",
       "    <tr>\n",
       "      <th>3</th>\n",
       "      <td>Export price – all coal – Belize – all termina...</td>\n",
       "      <td>Coal</td>\n",
       "      <td>05918b74bf4e914680f2a40c5011404ac72d60c7</td>\n",
       "      <td>Undefined</td>\n",
       "      <td>Belize</td>\n",
       "      <td>Quarterly</td>\n",
       "      <td>USD/short ton</td>\n",
       "      <td>None</td>\n",
       "    </tr>\n",
       "    <tr>\n",
       "      <th>4</th>\n",
       "      <td>Export price – all coal – Brazil – Anchorage –...</td>\n",
       "      <td>Coal</td>\n",
       "      <td>965f02c87b85446a9d97490f4aa0f473b924af43</td>\n",
       "      <td>Undefined</td>\n",
       "      <td>Brazil</td>\n",
       "      <td>Annual</td>\n",
       "      <td>USD/short ton</td>\n",
       "      <td>None</td>\n",
       "    </tr>\n",
       "    <tr>\n",
       "      <th>...</th>\n",
       "      <td>...</td>\n",
       "      <td>...</td>\n",
       "      <td>...</td>\n",
       "      <td>...</td>\n",
       "      <td>...</td>\n",
       "      <td>...</td>\n",
       "      <td>...</td>\n",
       "      <td>...</td>\n",
       "    </tr>\n",
       "    <tr>\n",
       "      <th>140</th>\n",
       "      <td>Import price – steam coal – Brazil – Portland ...</td>\n",
       "      <td>Thermal Coal</td>\n",
       "      <td>a825f5ca8c9860d681649c5e9902561bec87adeb</td>\n",
       "      <td>Undefined</td>\n",
       "      <td>Brazil</td>\n",
       "      <td>Quarterly</td>\n",
       "      <td>USD/short ton</td>\n",
       "      <td>None</td>\n",
       "    </tr>\n",
       "    <tr>\n",
       "      <th>141</th>\n",
       "      <td>Import price – steam coal – Brazil – all termi...</td>\n",
       "      <td>Coal</td>\n",
       "      <td>125d0196fac861d9aa80906cfd1e4270d76a4fbf</td>\n",
       "      <td>Undefined</td>\n",
       "      <td>Brazil</td>\n",
       "      <td>Annual</td>\n",
       "      <td>USD/short ton</td>\n",
       "      <td>None</td>\n",
       "    </tr>\n",
       "    <tr>\n",
       "      <th>142</th>\n",
       "      <td>Import price – steam coal – Brazil – all termi...</td>\n",
       "      <td>Coal</td>\n",
       "      <td>927f28bb3724ceb15094709766de705e220215ef</td>\n",
       "      <td>Undefined</td>\n",
       "      <td>Brazil</td>\n",
       "      <td>Quarterly</td>\n",
       "      <td>USD/short ton</td>\n",
       "      <td>None</td>\n",
       "    </tr>\n",
       "    <tr>\n",
       "      <th>143</th>\n",
       "      <td>Import price – steam coal – Brazil – all termi...</td>\n",
       "      <td>Thermal Coal</td>\n",
       "      <td>125d0196fac861d9aa80906cfd1e4270d76a4fbf</td>\n",
       "      <td>Undefined</td>\n",
       "      <td>Brazil</td>\n",
       "      <td>Annual</td>\n",
       "      <td>USD/short ton</td>\n",
       "      <td>None</td>\n",
       "    </tr>\n",
       "    <tr>\n",
       "      <th>144</th>\n",
       "      <td>Import price – steam coal – Brazil – all termi...</td>\n",
       "      <td>Thermal Coal</td>\n",
       "      <td>927f28bb3724ceb15094709766de705e220215ef</td>\n",
       "      <td>Undefined</td>\n",
       "      <td>Brazil</td>\n",
       "      <td>Quarterly</td>\n",
       "      <td>USD/short ton</td>\n",
       "      <td>None</td>\n",
       "    </tr>\n",
       "  </tbody>\n",
       "</table>\n",
       "<p>145 rows × 8 columns</p>\n",
       "</div>"
      ],
      "text/plain": [
       "                                                  name     commodity  \\\n",
       "0    Export price – all coal – Belize – Miami – FL ...          Coal   \n",
       "1    Export price – all coal – Belize – Miami – FL ...          Coal   \n",
       "2    Export price – all coal – Belize – all termina...          Coal   \n",
       "3    Export price – all coal – Belize – all termina...          Coal   \n",
       "4    Export price – all coal – Brazil – Anchorage –...          Coal   \n",
       "..                                                 ...           ...   \n",
       "140  Import price – steam coal – Brazil – Portland ...  Thermal Coal   \n",
       "141  Import price – steam coal – Brazil – all termi...          Coal   \n",
       "142  Import price – steam coal – Brazil – all termi...          Coal   \n",
       "143  Import price – steam coal – Brazil – all termi...  Thermal Coal   \n",
       "144  Import price – steam coal – Brazil – all termi...  Thermal Coal   \n",
       "\n",
       "                                   payload_id business_category country  \\\n",
       "0    00158d049d149197f67115a6cc3224e956e5c9e9         Undefined  Belize   \n",
       "1    d9a75857725b40edc7707705e8956837d26d7ad2         Undefined  Belize   \n",
       "2    c7c2ede17893e4339633bf6807c6608be68dcbe1         Undefined  Belize   \n",
       "3    05918b74bf4e914680f2a40c5011404ac72d60c7         Undefined  Belize   \n",
       "4    965f02c87b85446a9d97490f4aa0f473b924af43         Undefined  Brazil   \n",
       "..                                        ...               ...     ...   \n",
       "140  a825f5ca8c9860d681649c5e9902561bec87adeb         Undefined  Brazil   \n",
       "141  125d0196fac861d9aa80906cfd1e4270d76a4fbf         Undefined  Brazil   \n",
       "142  927f28bb3724ceb15094709766de705e220215ef         Undefined  Brazil   \n",
       "143  125d0196fac861d9aa80906cfd1e4270d76a4fbf         Undefined  Brazil   \n",
       "144  927f28bb3724ceb15094709766de705e220215ef         Undefined  Brazil   \n",
       "\n",
       "     frequency           unit start_date  \n",
       "0       Annual  USD/short ton       None  \n",
       "1    Quarterly  USD/short ton       None  \n",
       "2       Annual  USD/short ton       None  \n",
       "3    Quarterly  USD/short ton       None  \n",
       "4       Annual  USD/short ton       None  \n",
       "..         ...            ...        ...  \n",
       "140  Quarterly  USD/short ton       None  \n",
       "141     Annual  USD/short ton       None  \n",
       "142  Quarterly  USD/short ton       None  \n",
       "143     Annual  USD/short ton       None  \n",
       "144  Quarterly  USD/short ton       None  \n",
       "\n",
       "[145 rows x 8 columns]"
      ]
     },
     "execution_count": 7,
     "metadata": {},
     "output_type": "execute_result"
    }
   ],
   "source": [
    "client.search(text=\"Price\", commodity=[\"Coal\"], country=[\"Belize\", \"Brazil\"])"
   ]
  },
  {
   "cell_type": "markdown",
   "metadata": {},
   "source": [
    "The *payload_id* field contain a desired value for next time series search.\n",
    "\n",
    "Keep in mind that we can put any type of information in the *name* field.\n",
    "\n",
    "#### Full list parameters for search\n",
    "\n",
    "- `text`: string. Works as a filter. Free text. Everything that have no match with this phrase will be filtered out.\n",
    "- `commodity`: list of [strings](#commodities). Works as a filter.\n",
    "- `business_category`: [string](#business-categories). Works as a filter.\n",
    "- `country`: list of [strings](#countries). Works as a filter.\n",
    "- `frequency`: list of [strings](#frequencies). Works as a filter.\n",
    "\n",
    "If search conditions will be too broad then server can't return it at one time.\n",
    "Right now the every page/chunk of data limited by 1000 lines.\n",
    "\n",
    "For example we want to get first three page, 3000 lines for a Coal prices:"
   ]
  },
  {
   "cell_type": "code",
   "execution_count": 8,
   "metadata": {
    "ExecuteTime": {
     "end_time": "2020-12-20T02:09:08.165512Z",
     "start_time": "2020-12-20T02:09:07.823543Z"
    },
    "pycharm": {
     "is_executing": false,
     "name": "#%%\n"
    }
   },
   "outputs": [
    {
     "data": {
      "text/html": [
       "<div>\n",
       "<style scoped>\n",
       "    .dataframe tbody tr th:only-of-type {\n",
       "        vertical-align: middle;\n",
       "    }\n",
       "\n",
       "    .dataframe tbody tr th {\n",
       "        vertical-align: top;\n",
       "    }\n",
       "\n",
       "    .dataframe thead th {\n",
       "        text-align: right;\n",
       "    }\n",
       "</style>\n",
       "<table border=\"1\" class=\"dataframe\">\n",
       "  <thead>\n",
       "    <tr style=\"text-align: right;\">\n",
       "      <th></th>\n",
       "      <th>name</th>\n",
       "      <th>commodity</th>\n",
       "      <th>payload_id</th>\n",
       "      <th>business_category</th>\n",
       "      <th>country</th>\n",
       "      <th>frequency</th>\n",
       "      <th>unit</th>\n",
       "      <th>start_date</th>\n",
       "    </tr>\n",
       "  </thead>\n",
       "  <tbody>\n",
       "    <tr>\n",
       "      <th>0</th>\n",
       "      <td>0C)Free-on-rail Price (Tax-inclusive): Steam  ...</td>\n",
       "      <td>Coal</td>\n",
       "      <td>e53640685f7791860228db50c3415f0c866c0e59</td>\n",
       "      <td>Midstream</td>\n",
       "      <td>China</td>\n",
       "      <td>Weekly</td>\n",
       "      <td>yuan/ton</td>\n",
       "      <td>2009-01-10</td>\n",
       "    </tr>\n",
       "    <tr>\n",
       "      <th>1</th>\n",
       "      <td>0C)Free-on-rail Price (Tax-inclusive): Steam  ...</td>\n",
       "      <td>Thermal Coal</td>\n",
       "      <td>e53640685f7791860228db50c3415f0c866c0e59</td>\n",
       "      <td>Midstream</td>\n",
       "      <td>China</td>\n",
       "      <td>Weekly</td>\n",
       "      <td>yuan/ton</td>\n",
       "      <td>2009-01-10</td>\n",
       "    </tr>\n",
       "    <tr>\n",
       "      <th>2</th>\n",
       "      <td>2Uingjiang  Taihe  Port: Inventory  Price: Ant...</td>\n",
       "      <td>Coal</td>\n",
       "      <td>a1020f9d55bff4c6de576a0ff60f39100497d478</td>\n",
       "      <td>Upstream</td>\n",
       "      <td>China</td>\n",
       "      <td>Daily</td>\n",
       "      <td>yuan/ton</td>\n",
       "      <td>2016-01-04</td>\n",
       "    </tr>\n",
       "    <tr>\n",
       "      <th>3</th>\n",
       "      <td>2Uingjiang  Taihe  Port: Inventory  Price: Ant...</td>\n",
       "      <td>Coal</td>\n",
       "      <td>c9efdb21657fa2b6fee9bc06806e6524142003de</td>\n",
       "      <td>Upstream</td>\n",
       "      <td>China</td>\n",
       "      <td>Daily</td>\n",
       "      <td>yuan/ton</td>\n",
       "      <td>2016-01-04</td>\n",
       "    </tr>\n",
       "    <tr>\n",
       "      <th>4</th>\n",
       "      <td>2Uingjiang  Taihe  Port: Inventory  Price: Ant...</td>\n",
       "      <td>Coal</td>\n",
       "      <td>64d3b597e8f4d54ee7cee39348b100f5c6d38e99</td>\n",
       "      <td>Upstream</td>\n",
       "      <td>China</td>\n",
       "      <td>Daily</td>\n",
       "      <td>yuan/ton</td>\n",
       "      <td>2016-01-04</td>\n",
       "    </tr>\n",
       "    <tr>\n",
       "      <th>...</th>\n",
       "      <td>...</td>\n",
       "      <td>...</td>\n",
       "      <td>...</td>\n",
       "      <td>...</td>\n",
       "      <td>...</td>\n",
       "      <td>...</td>\n",
       "      <td>...</td>\n",
       "      <td>...</td>\n",
       "    </tr>\n",
       "    <tr>\n",
       "      <th>995</th>\n",
       "      <td>Coal shipment price – Alabama to Greene County...</td>\n",
       "      <td>Coal</td>\n",
       "      <td>fdd486544cdbc016dba9b5f03c2adeb91e123c9b</td>\n",
       "      <td>Undefined</td>\n",
       "      <td>United States</td>\n",
       "      <td>Annual</td>\n",
       "      <td>USD/short ton</td>\n",
       "      <td>None</td>\n",
       "    </tr>\n",
       "    <tr>\n",
       "      <th>996</th>\n",
       "      <td>Coal shipment price – Alabama to Greene County...</td>\n",
       "      <td>Coal</td>\n",
       "      <td>a4a1a3967d83a5eb23491a9cb320bc3ddb477d5a</td>\n",
       "      <td>Undefined</td>\n",
       "      <td>United States</td>\n",
       "      <td>Quarterly</td>\n",
       "      <td>USD/short ton</td>\n",
       "      <td>None</td>\n",
       "    </tr>\n",
       "    <tr>\n",
       "      <th>997</th>\n",
       "      <td>Coal shipment price – Alabama to Greene County...</td>\n",
       "      <td>Coal</td>\n",
       "      <td>652673bdd9a292ef888cbf55a3149c039439969b</td>\n",
       "      <td>Undefined</td>\n",
       "      <td>United States</td>\n",
       "      <td>Annual</td>\n",
       "      <td>USD/short ton</td>\n",
       "      <td>None</td>\n",
       "    </tr>\n",
       "    <tr>\n",
       "      <th>998</th>\n",
       "      <td>Coal shipment price – Alabama to Greene County...</td>\n",
       "      <td>Coal</td>\n",
       "      <td>120f82dbab33c280fc1e4b92a0c9225949b73cfb</td>\n",
       "      <td>Undefined</td>\n",
       "      <td>United States</td>\n",
       "      <td>Quarterly</td>\n",
       "      <td>USD/short ton</td>\n",
       "      <td>None</td>\n",
       "    </tr>\n",
       "    <tr>\n",
       "      <th>999</th>\n",
       "      <td>Coal shipment price – Alaska to Healy(6288) – ...</td>\n",
       "      <td>Coal</td>\n",
       "      <td>8255592dbc9dc60aa38c1ab56869ce4b413bae17</td>\n",
       "      <td>Undefined</td>\n",
       "      <td>United States</td>\n",
       "      <td>Annual</td>\n",
       "      <td>USD/short ton</td>\n",
       "      <td>None</td>\n",
       "    </tr>\n",
       "  </tbody>\n",
       "</table>\n",
       "<p>1000 rows × 8 columns</p>\n",
       "</div>"
      ],
      "text/plain": [
       "                                                  name     commodity  \\\n",
       "0    0C)Free-on-rail Price (Tax-inclusive): Steam  ...          Coal   \n",
       "1    0C)Free-on-rail Price (Tax-inclusive): Steam  ...  Thermal Coal   \n",
       "2    2Uingjiang  Taihe  Port: Inventory  Price: Ant...          Coal   \n",
       "3    2Uingjiang  Taihe  Port: Inventory  Price: Ant...          Coal   \n",
       "4    2Uingjiang  Taihe  Port: Inventory  Price: Ant...          Coal   \n",
       "..                                                 ...           ...   \n",
       "995  Coal shipment price – Alabama to Greene County...          Coal   \n",
       "996  Coal shipment price – Alabama to Greene County...          Coal   \n",
       "997  Coal shipment price – Alabama to Greene County...          Coal   \n",
       "998  Coal shipment price – Alabama to Greene County...          Coal   \n",
       "999  Coal shipment price – Alaska to Healy(6288) – ...          Coal   \n",
       "\n",
       "                                   payload_id business_category  \\\n",
       "0    e53640685f7791860228db50c3415f0c866c0e59         Midstream   \n",
       "1    e53640685f7791860228db50c3415f0c866c0e59         Midstream   \n",
       "2    a1020f9d55bff4c6de576a0ff60f39100497d478          Upstream   \n",
       "3    c9efdb21657fa2b6fee9bc06806e6524142003de          Upstream   \n",
       "4    64d3b597e8f4d54ee7cee39348b100f5c6d38e99          Upstream   \n",
       "..                                        ...               ...   \n",
       "995  fdd486544cdbc016dba9b5f03c2adeb91e123c9b         Undefined   \n",
       "996  a4a1a3967d83a5eb23491a9cb320bc3ddb477d5a         Undefined   \n",
       "997  652673bdd9a292ef888cbf55a3149c039439969b         Undefined   \n",
       "998  120f82dbab33c280fc1e4b92a0c9225949b73cfb         Undefined   \n",
       "999  8255592dbc9dc60aa38c1ab56869ce4b413bae17         Undefined   \n",
       "\n",
       "           country  frequency           unit  start_date  \n",
       "0            China     Weekly       yuan/ton  2009-01-10  \n",
       "1            China     Weekly       yuan/ton  2009-01-10  \n",
       "2            China      Daily       yuan/ton  2016-01-04  \n",
       "3            China      Daily       yuan/ton  2016-01-04  \n",
       "4            China      Daily       yuan/ton  2016-01-04  \n",
       "..             ...        ...            ...         ...  \n",
       "995  United States     Annual  USD/short ton        None  \n",
       "996  United States  Quarterly  USD/short ton        None  \n",
       "997  United States     Annual  USD/short ton        None  \n",
       "998  United States  Quarterly  USD/short ton        None  \n",
       "999  United States     Annual  USD/short ton        None  \n",
       "\n",
       "[1000 rows x 8 columns]"
      ]
     },
     "execution_count": 8,
     "metadata": {},
     "output_type": "execute_result"
    }
   ],
   "source": [
    "client.search(text=\"Price\", commodity=[\"Coal\"])"
   ]
  },
  {
   "cell_type": "markdown",
   "metadata": {},
   "source": [
    "In this case you have to iterate next two pages by the following code:"
   ]
  },
  {
   "cell_type": "code",
   "execution_count": 9,
   "metadata": {
    "ExecuteTime": {
     "end_time": "2020-12-20T02:09:08.414031Z",
     "start_time": "2020-12-20T02:09:08.167240Z"
    },
    "pycharm": {
     "is_executing": false,
     "name": "#%%\n"
    }
   },
   "outputs": [
    {
     "name": "stdout",
     "output_type": "stream",
     "text": [
      "                                                  name commodity  \\\n",
      "0    Coal shipment price – Alaska to Healy(6288) – ...      Coal   \n",
      "1    Coal shipment price – Alaska to Healy(6288) – ...      Coal   \n",
      "2    Coal shipment price – Alaska to Healy(6288) – ...      Coal   \n",
      "3    Coal shipment price – Alaska to Healy(6288) – ...      Coal   \n",
      "4    Coal shipment price – Alaska to Healy(6288) – ...      Coal   \n",
      "..                                                 ...       ...   \n",
      "995  Coal shipment price – Black Thunder (4800977) ...      Coal   \n",
      "996  Coal shipment price – Black Thunder (4800977) ...      Coal   \n",
      "997  Coal shipment price – Black Thunder (4800977) ...      Coal   \n",
      "998  Coal shipment price – Black Thunder (4800977) ...      Coal   \n",
      "999  Coal shipment price – Black Thunder (4800977) ...      Coal   \n",
      "\n",
      "                                   payload_id business_category  \\\n",
      "0    ab228c03b35a3ab403e5b4e2514fb2a7a6f5755d         Undefined   \n",
      "1    f31d0ee36a2c549c3fc0dc1c505b98aa428d4542         Undefined   \n",
      "2    5d621d17fd79286ab9277db9011654f62af34a44         Undefined   \n",
      "3    af9939997ac3c27c48560bb5ae7df93d15fa5d89         Undefined   \n",
      "4    a750f692e1cc95409b66fed1c63c3035fab75fb0         Undefined   \n",
      "..                                        ...               ...   \n",
      "995  9cec55d3aeedff09cafd19b23a4503188afffd52         Undefined   \n",
      "996  8a213d86b0e7b92a2cd6d69315f96c8e34f1b92c         Undefined   \n",
      "997  32de12ae7d2a997b54aff14a3cff9fed90c0ea40         Undefined   \n",
      "998  1e5d16af9901b53d8ed3a3c57467bb6a0b246f71         Undefined   \n",
      "999  689db81da587bd1a415969e09d55a93cc926c97b         Undefined   \n",
      "\n",
      "           country  frequency           unit start_date  \n",
      "0    United States  Quarterly  USD/short ton       None  \n",
      "1    United States     Annual  USD/short ton       None  \n",
      "2    United States  Quarterly  USD/short ton       None  \n",
      "3    United States     Annual  USD/short ton       None  \n",
      "4    United States  Quarterly  USD/short ton       None  \n",
      "..             ...        ...            ...        ...  \n",
      "995  United States     Annual  USD/short ton       None  \n",
      "996  United States  Quarterly  USD/short ton       None  \n",
      "997  United States     Annual  USD/short ton       None  \n",
      "998  United States  Quarterly  USD/short ton       None  \n",
      "999  United States     Annual  USD/short ton       None  \n",
      "\n",
      "[1000 rows x 8 columns]\n"
     ]
    }
   ],
   "source": [
    "for page in client.search_pages(pages_limit=2):\n",
    "    print(page)"
   ]
  },
  {
   "cell_type": "markdown",
   "metadata": {},
   "source": [
    "Keep in mind, that we can iterate over pages after first search only.\n",
    "\n",
    "<a id=\"timeseries\"></a>\n",
    "## Time series data\n",
    "\n",
    "And the final step: get time series data!"
   ]
  },
  {
   "cell_type": "code",
   "execution_count": 10,
   "metadata": {
    "ExecuteTime": {
     "end_time": "2020-12-20T02:09:08.507844Z",
     "start_time": "2020-12-20T02:09:08.415433Z"
    },
    "pycharm": {
     "is_executing": false,
     "name": "#%%\n"
    }
   },
   "outputs": [
    {
     "data": {
      "text/html": [
       "<div>\n",
       "<style scoped>\n",
       "    .dataframe tbody tr th:only-of-type {\n",
       "        vertical-align: middle;\n",
       "    }\n",
       "\n",
       "    .dataframe tbody tr th {\n",
       "        vertical-align: top;\n",
       "    }\n",
       "\n",
       "    .dataframe thead th {\n",
       "        text-align: right;\n",
       "    }\n",
       "</style>\n",
       "<table border=\"1\" class=\"dataframe\">\n",
       "  <thead>\n",
       "    <tr style=\"text-align: right;\">\n",
       "      <th></th>\n",
       "      <th>original_period</th>\n",
       "      <th>original_value</th>\n",
       "      <th>period</th>\n",
       "      <th>value</th>\n",
       "    </tr>\n",
       "  </thead>\n",
       "  <tbody>\n",
       "    <tr>\n",
       "      <th>0</th>\n",
       "      <td>2000</td>\n",
       "      <td>174.17</td>\n",
       "      <td>2000-01-01T00:00:00</td>\n",
       "      <td>174.169998</td>\n",
       "    </tr>\n",
       "    <tr>\n",
       "      <th>1</th>\n",
       "      <td>2012</td>\n",
       "      <td>79.76</td>\n",
       "      <td>2012-01-01T00:00:00</td>\n",
       "      <td>79.760002</td>\n",
       "    </tr>\n",
       "    <tr>\n",
       "      <th>2</th>\n",
       "      <td>2014</td>\n",
       "      <td>564.33</td>\n",
       "      <td>2014-01-01T00:00:00</td>\n",
       "      <td>564.330017</td>\n",
       "    </tr>\n",
       "    <tr>\n",
       "      <th>3</th>\n",
       "      <td>2015</td>\n",
       "      <td>307.82</td>\n",
       "      <td>2015-01-01T00:00:00</td>\n",
       "      <td>307.820007</td>\n",
       "    </tr>\n",
       "    <tr>\n",
       "      <th>4</th>\n",
       "      <td>2016</td>\n",
       "      <td>86.36</td>\n",
       "      <td>2016-01-01T00:00:00</td>\n",
       "      <td>86.360001</td>\n",
       "    </tr>\n",
       "  </tbody>\n",
       "</table>\n",
       "</div>"
      ],
      "text/plain": [
       "  original_period original_value               period       value\n",
       "0            2000         174.17  2000-01-01T00:00:00  174.169998\n",
       "1            2012          79.76  2012-01-01T00:00:00   79.760002\n",
       "2            2014         564.33  2014-01-01T00:00:00  564.330017\n",
       "3            2015         307.82  2015-01-01T00:00:00  307.820007\n",
       "4            2016          86.36  2016-01-01T00:00:00   86.360001"
      ]
     },
     "execution_count": 10,
     "metadata": {},
     "output_type": "execute_result"
    }
   ],
   "source": [
    "client.get_payload(\"00158d049d149197f67115a6cc3224e956e5c9e9\")"
   ]
  }
 ],
 "metadata": {
  "hide_input": false,
  "jupytext": {
   "text_representation": {
    "extension": ".py",
    "format_name": "percent",
    "format_version": "1.3",
    "jupytext_version": "1.4.2"
   }
  },
  "kernelspec": {
   "display_name": "Python 3",
   "language": "python",
   "name": "python3"
  },
  "language_info": {
   "codemirror_mode": {
    "name": "ipython",
    "version": 3
   },
   "file_extension": ".py",
   "mimetype": "text/x-python",
   "name": "python",
   "nbconvert_exporter": "python",
   "pygments_lexer": "ipython3",
   "version": "3.7.6"
  },
  "pycharm": {
   "stem_cell": {
    "cell_type": "raw",
    "metadata": {
     "collapsed": false
    },
    "source": []
   }
  },
  "toc": {
   "base_numbering": 1,
   "nav_menu": {},
   "number_sections": true,
   "sideBar": true,
   "skip_h1_title": false,
   "title_cell": "Table of Contents",
   "title_sidebar": "Contents",
   "toc_cell": false,
   "toc_position": {},
   "toc_section_display": true,
   "toc_window_display": false
  },
  "varInspector": {
   "cols": {
    "lenName": 16,
    "lenType": 16,
    "lenVar": 40
   },
   "kernels_config": {
    "python": {
     "delete_cmd_postfix": "",
     "delete_cmd_prefix": "del ",
     "library": "var_list.py",
     "varRefreshCmd": "print(var_dic_list())"
    },
    "r": {
     "delete_cmd_postfix": ") ",
     "delete_cmd_prefix": "rm(",
     "library": "var_list.r",
     "varRefreshCmd": "cat(var_dic_list()) "
    }
   },
   "types_to_exclude": [
    "module",
    "function",
    "builtin_function_or_method",
    "instance",
    "_Feature"
   ],
   "window_display": false
  }
 },
 "nbformat": 4,
 "nbformat_minor": 1
}
