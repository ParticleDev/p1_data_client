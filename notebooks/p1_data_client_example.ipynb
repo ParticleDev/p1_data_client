{
 "cells": [
  {
   "cell_type": "markdown",
   "metadata": {
    "pycharm": {
     "name": "#%% md\n"
    }
   },
   "source": [
    "# P1 data client for REST API\n",
    "\n",
    "- This Jupyter notebook is an example of how to use the Python Data Client"
   ]
  },
  {
   "cell_type": "markdown",
   "metadata": {},
   "source": [
    "## Initialization"
   ]
  },
  {
   "cell_type": "code",
   "execution_count": 1,
   "metadata": {
    "ExecuteTime": {
     "end_time": "2020-11-22T01:55:17.862734Z",
     "start_time": "2020-11-22T01:55:17.499262Z"
    },
    "pycharm": {
     "is_executing": false,
     "name": "#%%\n"
    }
   },
   "outputs": [],
   "source": [
    "import os\n",
    "\n",
    "import p1_data_client_python.client as p1_data\n",
    "\n",
    "# Enter your token here.\n",
    "# You can get your token by signing up at `www.particle.one`.\n",
    "#TOKEN = \"YOUR_TOKEN_HERE\"\n",
    "# An example token is like:\n",
    "#TOKEN = \"e44e7c6b04ef3ea1cfb7a8a67db74751c177259e\"\n",
    "TOKEN = os.environ[\"P1_API_TOKEN\"]\n",
    "\n",
    "client = p1_data.Client(token=TOKEN)"
   ]
  },
  {
   "cell_type": "markdown",
   "metadata": {},
   "source": [
    "## Quick start\n",
    "\n",
    "### Entities description\n",
    "\n",
    "There are three main objects: \n",
    "\n",
    "* [Metadata information](#metadata)\n",
    "* [Payload identifiers](#payload)\n",
    "* [Time series data](#timeseries)\n",
    "\n",
    "So, we have make three simple steps: \n",
    "\n",
    "1. Get a metadata information for next usage\n",
    "2. Select payload identifiers by metadata values\n",
    "3. Grab time series data by selected payload ID\n",
    "\n",
    "Let's jump in!\n",
    "\n",
    "<a id=\"metadata\"></a>\n",
    "## Metadata information\n",
    "\n",
    "All metadata types listed in our client object:"
   ]
  },
  {
   "cell_type": "code",
   "execution_count": 2,
   "metadata": {
    "ExecuteTime": {
     "end_time": "2020-11-22T01:55:17.866937Z",
     "start_time": "2020-11-22T01:55:17.864479Z"
    },
    "pycharm": {
     "is_executing": false,
     "name": "#%%\n"
    }
   },
   "outputs": [
    {
     "name": "stdout",
     "output_type": "stream",
     "text": [
      "['COMMODITIES', 'BUSINESS-CATEGORIES', 'COUNTRIES', 'FREQUENCIES']\n"
     ]
    }
   ],
   "source": [
    "print(client.list_of_metadata)"
   ]
  },
  {
   "cell_type": "markdown",
   "metadata": {},
   "source": [
    "Right now we have next list of metadata types: \n",
    "\n",
    "* [COMMODITIES](#commodities)\n",
    "* [BUSINESS-CATEGORIES](#business-categories)\n",
    "* [COUNTRIES](#countries)\n",
    "* [FREQUENCIES](#frequencies)\n",
    "\n",
    "It can be changed in the future\n",
    "\n",
    "<a id=\"commodities\"></a>\n",
    "### List of COMMODITIES:"
   ]
  },
  {
   "cell_type": "code",
   "execution_count": 3,
   "metadata": {
    "ExecuteTime": {
     "end_time": "2020-11-22T01:55:18.092511Z",
     "start_time": "2020-11-22T01:55:17.868986Z"
    },
    "pycharm": {
     "is_executing": false,
     "name": "#%%\n"
    }
   },
   "outputs": [
    {
     "data": {
      "text/html": [
       "<div>\n",
       "<style scoped>\n",
       "    .dataframe tbody tr th:only-of-type {\n",
       "        vertical-align: middle;\n",
       "    }\n",
       "\n",
       "    .dataframe tbody tr th {\n",
       "        vertical-align: top;\n",
       "    }\n",
       "\n",
       "    .dataframe thead th {\n",
       "        text-align: right;\n",
       "    }\n",
       "</style>\n",
       "<table border=\"1\" class=\"dataframe\">\n",
       "  <thead>\n",
       "    <tr style=\"text-align: right;\">\n",
       "      <th></th>\n",
       "      <th>COMMODITIES</th>\n",
       "    </tr>\n",
       "  </thead>\n",
       "  <tbody>\n",
       "    <tr>\n",
       "      <th>0</th>\n",
       "      <td>Aluminum</td>\n",
       "    </tr>\n",
       "    <tr>\n",
       "      <th>1</th>\n",
       "      <td>Benzene</td>\n",
       "    </tr>\n",
       "    <tr>\n",
       "      <th>2</th>\n",
       "      <td>Biodiesel</td>\n",
       "    </tr>\n",
       "    <tr>\n",
       "      <th>3</th>\n",
       "      <td>Biofuel</td>\n",
       "    </tr>\n",
       "    <tr>\n",
       "      <th>4</th>\n",
       "      <td>Butadiene</td>\n",
       "    </tr>\n",
       "    <tr>\n",
       "      <th>...</th>\n",
       "      <td>...</td>\n",
       "    </tr>\n",
       "    <tr>\n",
       "      <th>64</th>\n",
       "      <td>Uranium</td>\n",
       "    </tr>\n",
       "    <tr>\n",
       "      <th>65</th>\n",
       "      <td>Urea Fertilizer</td>\n",
       "    </tr>\n",
       "    <tr>\n",
       "      <th>66</th>\n",
       "      <td>Vegetable Oil</td>\n",
       "    </tr>\n",
       "    <tr>\n",
       "      <th>67</th>\n",
       "      <td>Wheat</td>\n",
       "    </tr>\n",
       "    <tr>\n",
       "      <th>68</th>\n",
       "      <td>Zinc</td>\n",
       "    </tr>\n",
       "  </tbody>\n",
       "</table>\n",
       "<p>69 rows × 1 columns</p>\n",
       "</div>"
      ],
      "text/plain": [
       "        COMMODITIES\n",
       "0          Aluminum\n",
       "1           Benzene\n",
       "2         Biodiesel\n",
       "3           Biofuel\n",
       "4         Butadiene\n",
       "..              ...\n",
       "64          Uranium\n",
       "65  Urea Fertilizer\n",
       "66    Vegetable Oil\n",
       "67            Wheat\n",
       "68             Zinc\n",
       "\n",
       "[69 rows x 1 columns]"
      ]
     },
     "execution_count": 3,
     "metadata": {},
     "output_type": "execute_result"
    }
   ],
   "source": [
    "client.get_metadata_type('COMMODITIES')"
   ]
  },
  {
   "cell_type": "markdown",
   "metadata": {},
   "source": [
    "<a id=\"business-categories\"></a>\n",
    "### List of BUSINESS-CATEGORIES:"
   ]
  },
  {
   "cell_type": "code",
   "execution_count": 4,
   "metadata": {
    "ExecuteTime": {
     "end_time": "2020-11-22T01:55:18.145047Z",
     "start_time": "2020-11-22T01:55:18.094462Z"
    },
    "pycharm": {
     "is_executing": false,
     "name": "#%%\n"
    }
   },
   "outputs": [
    {
     "data": {
      "text/html": [
       "<div>\n",
       "<style scoped>\n",
       "    .dataframe tbody tr th:only-of-type {\n",
       "        vertical-align: middle;\n",
       "    }\n",
       "\n",
       "    .dataframe tbody tr th {\n",
       "        vertical-align: top;\n",
       "    }\n",
       "\n",
       "    .dataframe thead th {\n",
       "        text-align: right;\n",
       "    }\n",
       "</style>\n",
       "<table border=\"1\" class=\"dataframe\">\n",
       "  <thead>\n",
       "    <tr style=\"text-align: right;\">\n",
       "      <th></th>\n",
       "      <th>BUSINESS-CATEGORIES</th>\n",
       "    </tr>\n",
       "  </thead>\n",
       "  <tbody>\n",
       "    <tr>\n",
       "      <th>0</th>\n",
       "      <td>Downstream</td>\n",
       "    </tr>\n",
       "    <tr>\n",
       "      <th>1</th>\n",
       "      <td>Midstream</td>\n",
       "    </tr>\n",
       "    <tr>\n",
       "      <th>2</th>\n",
       "      <td>Undefined</td>\n",
       "    </tr>\n",
       "    <tr>\n",
       "      <th>3</th>\n",
       "      <td>Upstream</td>\n",
       "    </tr>\n",
       "  </tbody>\n",
       "</table>\n",
       "</div>"
      ],
      "text/plain": [
       "  BUSINESS-CATEGORIES\n",
       "0          Downstream\n",
       "1           Midstream\n",
       "2           Undefined\n",
       "3            Upstream"
      ]
     },
     "execution_count": 4,
     "metadata": {},
     "output_type": "execute_result"
    }
   ],
   "source": [
    "client.get_metadata_type('BUSINESS-CATEGORIES')"
   ]
  },
  {
   "cell_type": "markdown",
   "metadata": {},
   "source": [
    "<a id=\"countries\"></a>\n",
    "### List of COUNTRIES:"
   ]
  },
  {
   "cell_type": "code",
   "execution_count": 5,
   "metadata": {
    "ExecuteTime": {
     "end_time": "2020-11-22T01:55:18.203366Z",
     "start_time": "2020-11-22T01:55:18.146631Z"
    },
    "pycharm": {
     "is_executing": false,
     "name": "#%%\n"
    }
   },
   "outputs": [
    {
     "data": {
      "text/html": [
       "<div>\n",
       "<style scoped>\n",
       "    .dataframe tbody tr th:only-of-type {\n",
       "        vertical-align: middle;\n",
       "    }\n",
       "\n",
       "    .dataframe tbody tr th {\n",
       "        vertical-align: top;\n",
       "    }\n",
       "\n",
       "    .dataframe thead th {\n",
       "        text-align: right;\n",
       "    }\n",
       "</style>\n",
       "<table border=\"1\" class=\"dataframe\">\n",
       "  <thead>\n",
       "    <tr style=\"text-align: right;\">\n",
       "      <th></th>\n",
       "      <th>COUNTRIES</th>\n",
       "    </tr>\n",
       "  </thead>\n",
       "  <tbody>\n",
       "    <tr>\n",
       "      <th>0</th>\n",
       "      <td>Afghanistan</td>\n",
       "    </tr>\n",
       "    <tr>\n",
       "      <th>1</th>\n",
       "      <td>Albania</td>\n",
       "    </tr>\n",
       "    <tr>\n",
       "      <th>2</th>\n",
       "      <td>Algeria</td>\n",
       "    </tr>\n",
       "    <tr>\n",
       "      <th>3</th>\n",
       "      <td>American Samoa</td>\n",
       "    </tr>\n",
       "    <tr>\n",
       "      <th>4</th>\n",
       "      <td>Andorra</td>\n",
       "    </tr>\n",
       "    <tr>\n",
       "      <th>...</th>\n",
       "      <td>...</td>\n",
       "    </tr>\n",
       "    <tr>\n",
       "      <th>226</th>\n",
       "      <td>Western Sahara</td>\n",
       "    </tr>\n",
       "    <tr>\n",
       "      <th>227</th>\n",
       "      <td>World</td>\n",
       "    </tr>\n",
       "    <tr>\n",
       "      <th>228</th>\n",
       "      <td>Yemen</td>\n",
       "    </tr>\n",
       "    <tr>\n",
       "      <th>229</th>\n",
       "      <td>Zambia</td>\n",
       "    </tr>\n",
       "    <tr>\n",
       "      <th>230</th>\n",
       "      <td>Zimbabwe</td>\n",
       "    </tr>\n",
       "  </tbody>\n",
       "</table>\n",
       "<p>231 rows × 1 columns</p>\n",
       "</div>"
      ],
      "text/plain": [
       "          COUNTRIES\n",
       "0       Afghanistan\n",
       "1           Albania\n",
       "2           Algeria\n",
       "3    American Samoa\n",
       "4           Andorra\n",
       "..              ...\n",
       "226  Western Sahara\n",
       "227           World\n",
       "228           Yemen\n",
       "229          Zambia\n",
       "230        Zimbabwe\n",
       "\n",
       "[231 rows x 1 columns]"
      ]
     },
     "execution_count": 5,
     "metadata": {},
     "output_type": "execute_result"
    }
   ],
   "source": [
    "client.get_metadata_type('COUNTRIES')"
   ]
  },
  {
   "cell_type": "markdown",
   "metadata": {},
   "source": [
    "<a id=\"frequencies\"></a>\n",
    "### List of FREQUENCIES:"
   ]
  },
  {
   "cell_type": "code",
   "execution_count": 6,
   "metadata": {
    "ExecuteTime": {
     "end_time": "2020-11-22T01:55:18.256437Z",
     "start_time": "2020-11-22T01:55:18.206304Z"
    },
    "pycharm": {
     "is_executing": false,
     "name": "#%%\n"
    }
   },
   "outputs": [
    {
     "data": {
      "text/html": [
       "<div>\n",
       "<style scoped>\n",
       "    .dataframe tbody tr th:only-of-type {\n",
       "        vertical-align: middle;\n",
       "    }\n",
       "\n",
       "    .dataframe tbody tr th {\n",
       "        vertical-align: top;\n",
       "    }\n",
       "\n",
       "    .dataframe thead th {\n",
       "        text-align: right;\n",
       "    }\n",
       "</style>\n",
       "<table border=\"1\" class=\"dataframe\">\n",
       "  <thead>\n",
       "    <tr style=\"text-align: right;\">\n",
       "      <th></th>\n",
       "      <th>FREQUENCIES</th>\n",
       "    </tr>\n",
       "  </thead>\n",
       "  <tbody>\n",
       "    <tr>\n",
       "      <th>0</th>\n",
       "      <td>Daily</td>\n",
       "    </tr>\n",
       "    <tr>\n",
       "      <th>1</th>\n",
       "      <td>Weekly</td>\n",
       "    </tr>\n",
       "    <tr>\n",
       "      <th>2</th>\n",
       "      <td>Monthly</td>\n",
       "    </tr>\n",
       "    <tr>\n",
       "      <th>3</th>\n",
       "      <td>Quarterly</td>\n",
       "    </tr>\n",
       "    <tr>\n",
       "      <th>4</th>\n",
       "      <td>Semi-annual</td>\n",
       "    </tr>\n",
       "    <tr>\n",
       "      <th>5</th>\n",
       "      <td>Annual</td>\n",
       "    </tr>\n",
       "  </tbody>\n",
       "</table>\n",
       "</div>"
      ],
      "text/plain": [
       "   FREQUENCIES\n",
       "0        Daily\n",
       "1       Weekly\n",
       "2      Monthly\n",
       "3    Quarterly\n",
       "4  Semi-annual\n",
       "5       Annual"
      ]
     },
     "execution_count": 6,
     "metadata": {},
     "output_type": "execute_result"
    }
   ],
   "source": [
    "client.get_metadata_type('FREQUENCIES')"
   ]
  },
  {
   "cell_type": "markdown",
   "metadata": {},
   "source": [
    "\n",
    "<a id=\"payload\"></a>\n",
    "## Payload identifiers\n",
    "\n",
    "After we armed be a metadata, we have to use it for obtaining payload identifiers\n",
    "\n",
    "Let's construct a query for it.\n",
    "\n",
    "For example we have to know prices for a Coal in the Belize and Brazil:"
   ]
  },
  {
   "cell_type": "code",
   "execution_count": 7,
   "metadata": {
    "ExecuteTime": {
     "end_time": "2020-11-22T01:55:18.357926Z",
     "start_time": "2020-11-22T01:55:18.258517Z"
    },
    "lines_to_next_cell": 2,
    "pycharm": {
     "is_executing": false,
     "name": "#%%\n"
    }
   },
   "outputs": [
    {
     "data": {
      "text/html": [
       "<div>\n",
       "<style scoped>\n",
       "    .dataframe tbody tr th:only-of-type {\n",
       "        vertical-align: middle;\n",
       "    }\n",
       "\n",
       "    .dataframe tbody tr th {\n",
       "        vertical-align: top;\n",
       "    }\n",
       "\n",
       "    .dataframe thead th {\n",
       "        text-align: right;\n",
       "    }\n",
       "</style>\n",
       "<table border=\"1\" class=\"dataframe\">\n",
       "  <thead>\n",
       "    <tr style=\"text-align: right;\">\n",
       "      <th></th>\n",
       "      <th>name</th>\n",
       "      <th>commodity</th>\n",
       "      <th>payload_id</th>\n",
       "      <th>business_category</th>\n",
       "      <th>country</th>\n",
       "      <th>frequency</th>\n",
       "      <th>unit</th>\n",
       "      <th>start_date</th>\n",
       "    </tr>\n",
       "  </thead>\n",
       "  <tbody>\n",
       "    <tr>\n",
       "      <th>0</th>\n",
       "      <td>Export price – all coal – Belize – Miami – FL ...</td>\n",
       "      <td>Coal</td>\n",
       "      <td>00158d049d149197f67115a6cc3224e956e5c9e9</td>\n",
       "      <td>Undefined</td>\n",
       "      <td>Belize</td>\n",
       "      <td>Annual</td>\n",
       "      <td>USD/short ton</td>\n",
       "      <td>None</td>\n",
       "    </tr>\n",
       "    <tr>\n",
       "      <th>1</th>\n",
       "      <td>Export price – all coal – Belize – Miami – FL ...</td>\n",
       "      <td>Coal</td>\n",
       "      <td>d9a75857725b40edc7707705e8956837d26d7ad2</td>\n",
       "      <td>Undefined</td>\n",
       "      <td>Belize</td>\n",
       "      <td>Quarterly</td>\n",
       "      <td>USD/short ton</td>\n",
       "      <td>None</td>\n",
       "    </tr>\n",
       "    <tr>\n",
       "      <th>2</th>\n",
       "      <td>Export price – all coal – Belize – all termina...</td>\n",
       "      <td>Coal</td>\n",
       "      <td>c7c2ede17893e4339633bf6807c6608be68dcbe1</td>\n",
       "      <td>Undefined</td>\n",
       "      <td>Belize</td>\n",
       "      <td>Annual</td>\n",
       "      <td>USD/short ton</td>\n",
       "      <td>None</td>\n",
       "    </tr>\n",
       "    <tr>\n",
       "      <th>3</th>\n",
       "      <td>Export price – all coal – Belize – all termina...</td>\n",
       "      <td>Coal</td>\n",
       "      <td>05918b74bf4e914680f2a40c5011404ac72d60c7</td>\n",
       "      <td>Undefined</td>\n",
       "      <td>Belize</td>\n",
       "      <td>Quarterly</td>\n",
       "      <td>USD/short ton</td>\n",
       "      <td>None</td>\n",
       "    </tr>\n",
       "    <tr>\n",
       "      <th>4</th>\n",
       "      <td>Export price – all coal – Brazil – Anchorage –...</td>\n",
       "      <td>Coal</td>\n",
       "      <td>965f02c87b85446a9d97490f4aa0f473b924af43</td>\n",
       "      <td>Undefined</td>\n",
       "      <td>Brazil</td>\n",
       "      <td>Annual</td>\n",
       "      <td>USD/short ton</td>\n",
       "      <td>None</td>\n",
       "    </tr>\n",
       "    <tr>\n",
       "      <th>...</th>\n",
       "      <td>...</td>\n",
       "      <td>...</td>\n",
       "      <td>...</td>\n",
       "      <td>...</td>\n",
       "      <td>...</td>\n",
       "      <td>...</td>\n",
       "      <td>...</td>\n",
       "      <td>...</td>\n",
       "    </tr>\n",
       "    <tr>\n",
       "      <th>140</th>\n",
       "      <td>Import price – steam coal – Brazil – Portland ...</td>\n",
       "      <td>Thermal Coal</td>\n",
       "      <td>a825f5ca8c9860d681649c5e9902561bec87adeb</td>\n",
       "      <td>Undefined</td>\n",
       "      <td>Brazil</td>\n",
       "      <td>Quarterly</td>\n",
       "      <td>USD/short ton</td>\n",
       "      <td>None</td>\n",
       "    </tr>\n",
       "    <tr>\n",
       "      <th>141</th>\n",
       "      <td>Import price – steam coal – Brazil – all termi...</td>\n",
       "      <td>Coal</td>\n",
       "      <td>125d0196fac861d9aa80906cfd1e4270d76a4fbf</td>\n",
       "      <td>Undefined</td>\n",
       "      <td>Brazil</td>\n",
       "      <td>Annual</td>\n",
       "      <td>USD/short ton</td>\n",
       "      <td>None</td>\n",
       "    </tr>\n",
       "    <tr>\n",
       "      <th>142</th>\n",
       "      <td>Import price – steam coal – Brazil – all termi...</td>\n",
       "      <td>Coal</td>\n",
       "      <td>927f28bb3724ceb15094709766de705e220215ef</td>\n",
       "      <td>Undefined</td>\n",
       "      <td>Brazil</td>\n",
       "      <td>Quarterly</td>\n",
       "      <td>USD/short ton</td>\n",
       "      <td>None</td>\n",
       "    </tr>\n",
       "    <tr>\n",
       "      <th>143</th>\n",
       "      <td>Import price – steam coal – Brazil – all termi...</td>\n",
       "      <td>Thermal Coal</td>\n",
       "      <td>125d0196fac861d9aa80906cfd1e4270d76a4fbf</td>\n",
       "      <td>Undefined</td>\n",
       "      <td>Brazil</td>\n",
       "      <td>Annual</td>\n",
       "      <td>USD/short ton</td>\n",
       "      <td>None</td>\n",
       "    </tr>\n",
       "    <tr>\n",
       "      <th>144</th>\n",
       "      <td>Import price – steam coal – Brazil – all termi...</td>\n",
       "      <td>Thermal Coal</td>\n",
       "      <td>927f28bb3724ceb15094709766de705e220215ef</td>\n",
       "      <td>Undefined</td>\n",
       "      <td>Brazil</td>\n",
       "      <td>Quarterly</td>\n",
       "      <td>USD/short ton</td>\n",
       "      <td>None</td>\n",
       "    </tr>\n",
       "  </tbody>\n",
       "</table>\n",
       "<p>145 rows × 8 columns</p>\n",
       "</div>"
      ],
      "text/plain": [
       "                                                  name     commodity  \\\n",
       "0    Export price – all coal – Belize – Miami – FL ...          Coal   \n",
       "1    Export price – all coal – Belize – Miami – FL ...          Coal   \n",
       "2    Export price – all coal – Belize – all termina...          Coal   \n",
       "3    Export price – all coal – Belize – all termina...          Coal   \n",
       "4    Export price – all coal – Brazil – Anchorage –...          Coal   \n",
       "..                                                 ...           ...   \n",
       "140  Import price – steam coal – Brazil – Portland ...  Thermal Coal   \n",
       "141  Import price – steam coal – Brazil – all termi...          Coal   \n",
       "142  Import price – steam coal – Brazil – all termi...          Coal   \n",
       "143  Import price – steam coal – Brazil – all termi...  Thermal Coal   \n",
       "144  Import price – steam coal – Brazil – all termi...  Thermal Coal   \n",
       "\n",
       "                                   payload_id business_category country  \\\n",
       "0    00158d049d149197f67115a6cc3224e956e5c9e9         Undefined  Belize   \n",
       "1    d9a75857725b40edc7707705e8956837d26d7ad2         Undefined  Belize   \n",
       "2    c7c2ede17893e4339633bf6807c6608be68dcbe1         Undefined  Belize   \n",
       "3    05918b74bf4e914680f2a40c5011404ac72d60c7         Undefined  Belize   \n",
       "4    965f02c87b85446a9d97490f4aa0f473b924af43         Undefined  Brazil   \n",
       "..                                        ...               ...     ...   \n",
       "140  a825f5ca8c9860d681649c5e9902561bec87adeb         Undefined  Brazil   \n",
       "141  125d0196fac861d9aa80906cfd1e4270d76a4fbf         Undefined  Brazil   \n",
       "142  927f28bb3724ceb15094709766de705e220215ef         Undefined  Brazil   \n",
       "143  125d0196fac861d9aa80906cfd1e4270d76a4fbf         Undefined  Brazil   \n",
       "144  927f28bb3724ceb15094709766de705e220215ef         Undefined  Brazil   \n",
       "\n",
       "     frequency           unit start_date  \n",
       "0       Annual  USD/short ton       None  \n",
       "1    Quarterly  USD/short ton       None  \n",
       "2       Annual  USD/short ton       None  \n",
       "3    Quarterly  USD/short ton       None  \n",
       "4       Annual  USD/short ton       None  \n",
       "..         ...            ...        ...  \n",
       "140  Quarterly  USD/short ton       None  \n",
       "141     Annual  USD/short ton       None  \n",
       "142  Quarterly  USD/short ton       None  \n",
       "143     Annual  USD/short ton       None  \n",
       "144  Quarterly  USD/short ton       None  \n",
       "\n",
       "[145 rows x 8 columns]"
      ]
     },
     "execution_count": 7,
     "metadata": {},
     "output_type": "execute_result"
    }
   ],
   "source": [
    "client.search(text='Price', commodity=['Coal'], country=['Belize', 'Brazil'])"
   ]
  },
  {
   "cell_type": "markdown",
   "metadata": {},
   "source": [
    "The *payload_id* field contain a desired value for next time series search.\n",
    "\n",
    "Keep in mind that we can put any type of information in the *name* field.\n",
    "\n",
    "#### Full list parameters for search\n",
    "\n",
    "- `text`: string. Works as a filter. Free text. Everything that have no match with this phrase will be filtered out. \n",
    "- `commodity`: list of [strings](#commodities). Works as a filter.\n",
    "- `business_category`: [string](#business-categories). Works as a filter. \n",
    "- `country`: list of [strings](#countries). Works as a filter. \n",
    "- `frequency`: list of [strings](#frequencies). Works as a filter. \n",
    "\n",
    "If search conditions will be too broad then server can't return it at one time.\n",
    "Right now the every page/chunk of data limited by 1000 lines.\n",
    "\n",
    "For example we want to get first three page, 3000 lines for a Coal prices:"
   ]
  },
  {
   "cell_type": "code",
   "execution_count": 8,
   "metadata": {
    "ExecuteTime": {
     "end_time": "2020-11-22T01:55:18.505922Z",
     "start_time": "2020-11-22T01:55:18.359571Z"
    },
    "pycharm": {
     "is_executing": false,
     "name": "#%%\n"
    }
   },
   "outputs": [
    {
     "data": {
      "text/html": [
       "<div>\n",
       "<style scoped>\n",
       "    .dataframe tbody tr th:only-of-type {\n",
       "        vertical-align: middle;\n",
       "    }\n",
       "\n",
       "    .dataframe tbody tr th {\n",
       "        vertical-align: top;\n",
       "    }\n",
       "\n",
       "    .dataframe thead th {\n",
       "        text-align: right;\n",
       "    }\n",
       "</style>\n",
       "<table border=\"1\" class=\"dataframe\">\n",
       "  <thead>\n",
       "    <tr style=\"text-align: right;\">\n",
       "      <th></th>\n",
       "      <th>name</th>\n",
       "      <th>commodity</th>\n",
       "      <th>payload_id</th>\n",
       "      <th>business_category</th>\n",
       "      <th>country</th>\n",
       "      <th>frequency</th>\n",
       "      <th>unit</th>\n",
       "      <th>start_date</th>\n",
       "    </tr>\n",
       "  </thead>\n",
       "  <tbody>\n",
       "    <tr>\n",
       "      <th>0</th>\n",
       "      <td>0C)Free-on-rail Price (Tax-inclusive): Steam  ...</td>\n",
       "      <td>Coal</td>\n",
       "      <td>e53640685f7791860228db50c3415f0c866c0e59</td>\n",
       "      <td>Midstream</td>\n",
       "      <td>China</td>\n",
       "      <td>Weekly</td>\n",
       "      <td>yuan/ton</td>\n",
       "      <td>2009-01-10</td>\n",
       "    </tr>\n",
       "    <tr>\n",
       "      <th>1</th>\n",
       "      <td>0C)Free-on-rail Price (Tax-inclusive): Steam  ...</td>\n",
       "      <td>Thermal Coal</td>\n",
       "      <td>e53640685f7791860228db50c3415f0c866c0e59</td>\n",
       "      <td>Midstream</td>\n",
       "      <td>China</td>\n",
       "      <td>Weekly</td>\n",
       "      <td>yuan/ton</td>\n",
       "      <td>2009-01-10</td>\n",
       "    </tr>\n",
       "    <tr>\n",
       "      <th>2</th>\n",
       "      <td>2Uingtang  Port: Exit  Price: Steam  Slack  Co...</td>\n",
       "      <td>Coal</td>\n",
       "      <td>42881c1d1dd47587d02da87c94e9d821db8bbf72</td>\n",
       "      <td>Upstream</td>\n",
       "      <td>China</td>\n",
       "      <td>Daily</td>\n",
       "      <td>yuan/ton</td>\n",
       "      <td>2009-02-01</td>\n",
       "    </tr>\n",
       "    <tr>\n",
       "      <th>3</th>\n",
       "      <td>2Uingtang  Port: Exit  Price: Steam  Slack  Co...</td>\n",
       "      <td>Coal</td>\n",
       "      <td>28b1154ac2d96206e8b96b2cff251378f1e67d7f</td>\n",
       "      <td>Upstream</td>\n",
       "      <td>China</td>\n",
       "      <td>Daily</td>\n",
       "      <td>yuan/ton</td>\n",
       "      <td>2009-02-01</td>\n",
       "    </tr>\n",
       "    <tr>\n",
       "      <th>4</th>\n",
       "      <td>2Uingtang  Port: Exit  Price: Steam  Slack  Co...</td>\n",
       "      <td>Coal</td>\n",
       "      <td>2495178e3232dbbf0b5cbc9b2213ffc14751ec21</td>\n",
       "      <td>Upstream</td>\n",
       "      <td>China</td>\n",
       "      <td>Daily</td>\n",
       "      <td>yuan/ton</td>\n",
       "      <td>2009-02-01</td>\n",
       "    </tr>\n",
       "    <tr>\n",
       "      <th>...</th>\n",
       "      <td>...</td>\n",
       "      <td>...</td>\n",
       "      <td>...</td>\n",
       "      <td>...</td>\n",
       "      <td>...</td>\n",
       "      <td>...</td>\n",
       "      <td>...</td>\n",
       "      <td>...</td>\n",
       "    </tr>\n",
       "    <tr>\n",
       "      <th>995</th>\n",
       "      <td>Coal shipment price – Antelope Coal Mine (4801...</td>\n",
       "      <td>Coal</td>\n",
       "      <td>e2d17c3e3bbbfee75328b28f8a6e0167b4af6fa3</td>\n",
       "      <td>Undefined</td>\n",
       "      <td>United States</td>\n",
       "      <td>Annual</td>\n",
       "      <td>USD/short ton</td>\n",
       "      <td>None</td>\n",
       "    </tr>\n",
       "    <tr>\n",
       "      <th>996</th>\n",
       "      <td>Coal shipment price – Antelope Coal Mine (4801...</td>\n",
       "      <td>Coal</td>\n",
       "      <td>cb529bd8bc6094a22f163e7108a7749f0762e97d</td>\n",
       "      <td>Undefined</td>\n",
       "      <td>United States</td>\n",
       "      <td>Quarterly</td>\n",
       "      <td>USD/short ton</td>\n",
       "      <td>None</td>\n",
       "    </tr>\n",
       "    <tr>\n",
       "      <th>997</th>\n",
       "      <td>Coal shipment price – Antelope Coal Mine (4801...</td>\n",
       "      <td>Coal</td>\n",
       "      <td>cbf6cd37bc90100b488a5eca1059ad9828a6bebf</td>\n",
       "      <td>Undefined</td>\n",
       "      <td>United States</td>\n",
       "      <td>Annual</td>\n",
       "      <td>USD/short ton</td>\n",
       "      <td>None</td>\n",
       "    </tr>\n",
       "    <tr>\n",
       "      <th>998</th>\n",
       "      <td>Coal shipment price – Antelope Coal Mine (4801...</td>\n",
       "      <td>Coal</td>\n",
       "      <td>8684eeb8f90593c064a5ab78e2c48a274dfba9a8</td>\n",
       "      <td>Undefined</td>\n",
       "      <td>United States</td>\n",
       "      <td>Quarterly</td>\n",
       "      <td>USD/short ton</td>\n",
       "      <td>None</td>\n",
       "    </tr>\n",
       "    <tr>\n",
       "      <th>999</th>\n",
       "      <td>Coal shipment price – Antelope Coal Mine (4801...</td>\n",
       "      <td>Coal</td>\n",
       "      <td>6f7718ef469984fe91c3e9ea31bc61a2725bd292</td>\n",
       "      <td>Undefined</td>\n",
       "      <td>United States</td>\n",
       "      <td>Annual</td>\n",
       "      <td>USD/short ton</td>\n",
       "      <td>None</td>\n",
       "    </tr>\n",
       "  </tbody>\n",
       "</table>\n",
       "<p>1000 rows × 8 columns</p>\n",
       "</div>"
      ],
      "text/plain": [
       "                                                  name     commodity  \\\n",
       "0    0C)Free-on-rail Price (Tax-inclusive): Steam  ...          Coal   \n",
       "1    0C)Free-on-rail Price (Tax-inclusive): Steam  ...  Thermal Coal   \n",
       "2    2Uingtang  Port: Exit  Price: Steam  Slack  Co...          Coal   \n",
       "3    2Uingtang  Port: Exit  Price: Steam  Slack  Co...          Coal   \n",
       "4    2Uingtang  Port: Exit  Price: Steam  Slack  Co...          Coal   \n",
       "..                                                 ...           ...   \n",
       "995  Coal shipment price – Antelope Coal Mine (4801...          Coal   \n",
       "996  Coal shipment price – Antelope Coal Mine (4801...          Coal   \n",
       "997  Coal shipment price – Antelope Coal Mine (4801...          Coal   \n",
       "998  Coal shipment price – Antelope Coal Mine (4801...          Coal   \n",
       "999  Coal shipment price – Antelope Coal Mine (4801...          Coal   \n",
       "\n",
       "                                   payload_id business_category  \\\n",
       "0    e53640685f7791860228db50c3415f0c866c0e59         Midstream   \n",
       "1    e53640685f7791860228db50c3415f0c866c0e59         Midstream   \n",
       "2    42881c1d1dd47587d02da87c94e9d821db8bbf72          Upstream   \n",
       "3    28b1154ac2d96206e8b96b2cff251378f1e67d7f          Upstream   \n",
       "4    2495178e3232dbbf0b5cbc9b2213ffc14751ec21          Upstream   \n",
       "..                                        ...               ...   \n",
       "995  e2d17c3e3bbbfee75328b28f8a6e0167b4af6fa3         Undefined   \n",
       "996  cb529bd8bc6094a22f163e7108a7749f0762e97d         Undefined   \n",
       "997  cbf6cd37bc90100b488a5eca1059ad9828a6bebf         Undefined   \n",
       "998  8684eeb8f90593c064a5ab78e2c48a274dfba9a8         Undefined   \n",
       "999  6f7718ef469984fe91c3e9ea31bc61a2725bd292         Undefined   \n",
       "\n",
       "           country  frequency           unit  start_date  \n",
       "0            China     Weekly       yuan/ton  2009-01-10  \n",
       "1            China     Weekly       yuan/ton  2009-01-10  \n",
       "2            China      Daily       yuan/ton  2009-02-01  \n",
       "3            China      Daily       yuan/ton  2009-02-01  \n",
       "4            China      Daily       yuan/ton  2009-02-01  \n",
       "..             ...        ...            ...         ...  \n",
       "995  United States     Annual  USD/short ton        None  \n",
       "996  United States  Quarterly  USD/short ton        None  \n",
       "997  United States     Annual  USD/short ton        None  \n",
       "998  United States  Quarterly  USD/short ton        None  \n",
       "999  United States     Annual  USD/short ton        None  \n",
       "\n",
       "[1000 rows x 8 columns]"
      ]
     },
     "execution_count": 8,
     "metadata": {},
     "output_type": "execute_result"
    }
   ],
   "source": [
    "client.search(text='Price', commodity=['Coal'])"
   ]
  },
  {
   "cell_type": "markdown",
   "metadata": {},
   "source": [
    "In this case you have to iterate next two pages by the following code: "
   ]
  },
  {
   "cell_type": "code",
   "execution_count": 9,
   "metadata": {
    "ExecuteTime": {
     "end_time": "2020-11-22T01:55:18.629510Z",
     "start_time": "2020-11-22T01:55:18.507974Z"
    },
    "pycharm": {
     "is_executing": false,
     "name": "#%%\n"
    }
   },
   "outputs": [
    {
     "name": "stdout",
     "output_type": "stream",
     "text": [
      "                                                  name commodity  \\\n",
      "0    Coal shipment price – Antelope Coal Mine (4801...      Coal   \n",
      "1    Coal shipment price – Antelope Coal Mine (4801...      Coal   \n",
      "2    Coal shipment price – Antelope Coal Mine (4801...      Coal   \n",
      "3    Coal shipment price – Antelope Coal Mine (4801...      Coal   \n",
      "4    Coal shipment price – Antelope Coal Mine (4801...      Coal   \n",
      "..                                                 ...       ...   \n",
      "995  Coal shipment price – Black Thunder (4800977) ...      Coal   \n",
      "996  Coal shipment price – Black Thunder (4800977) ...      Coal   \n",
      "997  Coal shipment price – Black Thunder (4800977) ...      Coal   \n",
      "998  Coal shipment price – Black Thunder (4800977) ...      Coal   \n",
      "999  Coal shipment price – Black Thunder (4800977) ...      Coal   \n",
      "\n",
      "                                   payload_id business_category  \\\n",
      "0    6ac35e2b7a21543dc72641a5ee66014e4f12e723         Undefined   \n",
      "1    da45040ecc731e20a34935ade2cd55c8d292024d         Undefined   \n",
      "2    3b0479d7ebed2970dc25b9be8d2f3f48eaac91af         Undefined   \n",
      "3    21fb5043666cbed1d8dc7fa0292c4325d62947bd         Undefined   \n",
      "4    822602b6b7ce5cc4e3d11bf9cde6d1c636f68273         Undefined   \n",
      "..                                        ...               ...   \n",
      "995  f7e6648e2b117cb42878e60ab1741fa8ac22f5d7         Undefined   \n",
      "996  9aade1ff61f603e2b7a7eac31b9fb2d84a660046         Undefined   \n",
      "997  893335625dddd33e4057556d19a6a535a8f2309a         Undefined   \n",
      "998  793214f660b7c64c7fd6741166c3f9edd7ebddfc         Undefined   \n",
      "999  76a4e4ad02269cfacb283218c935813bc59ee873         Undefined   \n",
      "\n",
      "           country  frequency           unit start_date  \n",
      "0    United States  Quarterly  USD/short ton       None  \n",
      "1    United States     Annual  USD/short ton       None  \n",
      "2    United States  Quarterly  USD/short ton       None  \n",
      "3    United States     Annual  USD/short ton       None  \n",
      "4    United States  Quarterly  USD/short ton       None  \n",
      "..             ...        ...            ...        ...  \n",
      "995  United States     Annual  USD/short ton       None  \n",
      "996  United States  Quarterly  USD/short ton       None  \n",
      "997  United States     Annual  USD/short ton       None  \n",
      "998  United States  Quarterly  USD/short ton       None  \n",
      "999  United States     Annual  USD/short ton       None  \n",
      "\n",
      "[1000 rows x 8 columns]\n"
     ]
    }
   ],
   "source": [
    "for page in client.search_pages(pages_limit=2):\n",
    "    print(page)"
   ]
  },
  {
   "cell_type": "markdown",
   "metadata": {},
   "source": [
    "Keep in mind, that we can iterate over pages after first search only.\n",
    "\n",
    "<a id=\"timeseries\"></a>\n",
    "## Time series data\n",
    "\n",
    "And the final step: get time series data!"
   ]
  },
  {
   "cell_type": "code",
   "execution_count": 10,
   "metadata": {
    "ExecuteTime": {
     "end_time": "2020-11-22T01:55:18.703406Z",
     "start_time": "2020-11-22T01:55:18.631162Z"
    },
    "pycharm": {
     "is_executing": false,
     "name": "#%%\n"
    }
   },
   "outputs": [
    {
     "data": {
      "text/html": [
       "<div>\n",
       "<style scoped>\n",
       "    .dataframe tbody tr th:only-of-type {\n",
       "        vertical-align: middle;\n",
       "    }\n",
       "\n",
       "    .dataframe tbody tr th {\n",
       "        vertical-align: top;\n",
       "    }\n",
       "\n",
       "    .dataframe thead th {\n",
       "        text-align: right;\n",
       "    }\n",
       "</style>\n",
       "<table border=\"1\" class=\"dataframe\">\n",
       "  <thead>\n",
       "    <tr style=\"text-align: right;\">\n",
       "      <th></th>\n",
       "      <th>original_period</th>\n",
       "      <th>original_value</th>\n",
       "      <th>period</th>\n",
       "      <th>value</th>\n",
       "    </tr>\n",
       "  </thead>\n",
       "  <tbody>\n",
       "    <tr>\n",
       "      <th>0</th>\n",
       "      <td>2000</td>\n",
       "      <td>174.17</td>\n",
       "      <td>2000-01-01T00:00:00</td>\n",
       "      <td>174.169998</td>\n",
       "    </tr>\n",
       "    <tr>\n",
       "      <th>1</th>\n",
       "      <td>2012</td>\n",
       "      <td>79.76</td>\n",
       "      <td>2012-01-01T00:00:00</td>\n",
       "      <td>79.760002</td>\n",
       "    </tr>\n",
       "    <tr>\n",
       "      <th>2</th>\n",
       "      <td>2014</td>\n",
       "      <td>564.33</td>\n",
       "      <td>2014-01-01T00:00:00</td>\n",
       "      <td>564.330017</td>\n",
       "    </tr>\n",
       "    <tr>\n",
       "      <th>3</th>\n",
       "      <td>2015</td>\n",
       "      <td>307.82</td>\n",
       "      <td>2015-01-01T00:00:00</td>\n",
       "      <td>307.820007</td>\n",
       "    </tr>\n",
       "    <tr>\n",
       "      <th>4</th>\n",
       "      <td>2016</td>\n",
       "      <td>86.36</td>\n",
       "      <td>2016-01-01T00:00:00</td>\n",
       "      <td>86.360001</td>\n",
       "    </tr>\n",
       "  </tbody>\n",
       "</table>\n",
       "</div>"
      ],
      "text/plain": [
       "  original_period original_value               period       value\n",
       "0            2000         174.17  2000-01-01T00:00:00  174.169998\n",
       "1            2012          79.76  2012-01-01T00:00:00   79.760002\n",
       "2            2014         564.33  2014-01-01T00:00:00  564.330017\n",
       "3            2015         307.82  2015-01-01T00:00:00  307.820007\n",
       "4            2016          86.36  2016-01-01T00:00:00   86.360001"
      ]
     },
     "execution_count": 10,
     "metadata": {},
     "output_type": "execute_result"
    }
   ],
   "source": [
    "client.get_payload('00158d049d149197f67115a6cc3224e956e5c9e9')"
   ]
  }
 ],
 "metadata": {
  "hide_input": false,
  "jupytext": {
   "text_representation": {
    "extension": ".py",
    "format_name": "percent",
    "format_version": "1.3",
    "jupytext_version": "1.4.2"
   }
  },
  "kernelspec": {
   "display_name": "Python 3",
   "language": "python",
   "name": "python3"
  },
  "language_info": {
   "codemirror_mode": {
    "name": "ipython",
    "version": 3
   },
   "file_extension": ".py",
   "mimetype": "text/x-python",
   "name": "python",
   "nbconvert_exporter": "python",
   "pygments_lexer": "ipython3",
   "version": "3.7.6"
  },
  "pycharm": {
   "stem_cell": {
    "cell_type": "raw",
    "metadata": {
     "collapsed": false
    },
    "source": []
   }
  },
  "toc": {
   "base_numbering": 1,
   "nav_menu": {},
   "number_sections": true,
   "sideBar": true,
   "skip_h1_title": false,
   "title_cell": "Table of Contents",
   "title_sidebar": "Contents",
   "toc_cell": false,
   "toc_position": {},
   "toc_section_display": true,
   "toc_window_display": false
  },
  "varInspector": {
   "cols": {
    "lenName": 16,
    "lenType": 16,
    "lenVar": 40
   },
   "kernels_config": {
    "python": {
     "delete_cmd_postfix": "",
     "delete_cmd_prefix": "del ",
     "library": "var_list.py",
     "varRefreshCmd": "print(var_dic_list())"
    },
    "r": {
     "delete_cmd_postfix": ") ",
     "delete_cmd_prefix": "rm(",
     "library": "var_list.r",
     "varRefreshCmd": "cat(var_dic_list()) "
    }
   },
   "types_to_exclude": [
    "module",
    "function",
    "builtin_function_or_method",
    "instance",
    "_Feature"
   ],
   "window_display": false
  }
 },
 "nbformat": 4,
 "nbformat_minor": 1
}
