{
 "cells": [
  {
   "cell_type": "markdown",
   "metadata": {
    "pycharm": {
     "name": "#%% md\n"
    }
   },
   "source": [
    "# P1 Data API Client for REST API\n",
    "\n",
    "## Prerequisites\n",
    "\n",
    "* Python version >= 3.7\n",
    "* jupyter notebook"
   ]
  },
  {
   "cell_type": "markdown",
   "metadata": {},
   "source": [
    "## Initialization"
   ]
  },
  {
   "cell_type": "code",
   "execution_count": 2,
   "metadata": {
    "pycharm": {
     "is_executing": false,
     "name": "#%%\n"
    }
   },
   "outputs": [
    {
     "ename": "ModuleNotFoundError",
     "evalue": "No module named 'p1_data_client_python'",
     "output_type": "error",
     "traceback": [
      "\u001b[0;31m---------------------------------------------------------------------------\u001b[0m",
     ]
    }
   ],
   "source": [
    "import p1_data_client_python.client as p1_data\n",
    "\n",
    "# Enter your token here.\n",
    "# You can get your token by signing up at `www.particle.one`.\n",
    "#TOKEN = \"YOUR_TOKEN_HERE\"\n",
    "# An example token is like:\n",
    "TOKEN = \"e44e7c6b04ef3ea1cfb7a8a67db74751c177259e\"\n",
    "\n",
    "client = p1_data.Client(token=TOKEN)"
   ]
  },
  {
   "cell_type": "markdown",
   "metadata": {},
   "source": [
    "## Quick start\n",
    "\n",
    "### Entities description\n",
    "\n",
    "There are three main objects: \n",
    "\n",
    "* [Metadata information](#metadata)\n",
    "* [Payload identifiers](#payload)\n",
    "* [Time series data](#timeseries)\n",
    "\n",
    "So, we have make three simple steps: \n",
    "\n",
    "1. Get a metadata information for next usage\n",
    "2. Select payload identifiers by metadata values\n",
    "3. Grab time series data by selected payload ID\n",
    "\n",
    "Let's jump in!\n",
    "\n",
    "<a id=\"metadata\"></a>\n",
    "## Metadata information\n",
    "\n",
    "All metadata types listed in our client object:"
   ]
  },
  {
   "cell_type": "code",
   "execution_count": null,
   "metadata": {
    "pycharm": {
     "is_executing": false,
     "name": "#%%\n"
    }
   },
   "outputs": [],
   "source": [
    "print(client.list_of_metadata)"
   ]
  },
  {
   "cell_type": "markdown",
   "metadata": {},
   "source": [
    "Right now we have next list of metadata types: \n",
    "\n",
    "* [COMMODITIES](#commodities)\n",
    "* [BUSINESS-CATEGORIES](#business-categories)\n",
    "* [COUNTRIES](#countries)\n",
    "* [FREQUENCIES](#frequencies)\n",
    "\n",
    "It can be changed in the future\n",
    "\n",
    "<a id=\"commodities\"></a>\n",
    "### List of COMMODITIES:"
   ]
  },
  {
   "cell_type": "code",
   "execution_count": null,
   "metadata": {
    "pycharm": {
     "is_executing": false,
     "name": "#%%\n"
    }
   },
   "outputs": [],
   "source": [
    "client.get_metadata_type('COMMODITIES')"
   ]
  },
  {
   "cell_type": "markdown",
   "metadata": {},
   "source": [
    "<a id=\"business-categories\"></a>\n",
    "### List of BUSINESS-CATEGORIES:"
   ]
  },
  {
   "cell_type": "code",
   "execution_count": null,
   "metadata": {
    "pycharm": {
     "is_executing": false,
     "name": "#%%\n"
    }
   },
   "outputs": [],
   "source": [
    "client.get_metadata_type('BUSINESS-CATEGORIES')"
   ]
  },
  {
   "cell_type": "markdown",
   "metadata": {},
   "source": [
    "<a id=\"countries\"></a>\n",
    "### List of COUNTRIES:"
   ]
  },
  {
   "cell_type": "code",
   "execution_count": null,
   "metadata": {
    "pycharm": {
     "is_executing": false,
     "name": "#%%\n"
    }
   },
   "outputs": [],
   "source": [
    "client.get_metadata_type('COUNTRIES')"
   ]
  },
  {
   "cell_type": "markdown",
   "metadata": {},
   "source": [
    "<a id=\"frequencies\"></a>\n",
    "### List of FREQUENCIES:"
   ]
  },
  {
   "cell_type": "code",
   "execution_count": null,
   "metadata": {
    "pycharm": {
     "is_executing": false,
     "name": "#%%\n"
    }
   },
   "outputs": [],
   "source": [
    "client.get_metadata_type('FREQUENCIES')"
   ]
  },
  {
   "cell_type": "markdown",
   "metadata": {},
   "source": [
    "\n",
    "<a id=\"payload\"></a>\n",
    "## Payload identifiers\n",
    "\n",
    "After we armed be a metadata, we have to use it for obtaining payload identifiers\n",
    "\n",
    "Let's construct a query for it.\n",
    "\n",
    "For example we have to know prices for a Coal in the Belize and Brazil:"
   ]
  },
  {
   "cell_type": "code",
   "execution_count": null,
   "metadata": {
    "pycharm": {
     "is_executing": false,
     "name": "#%%\n"
    }
   },
   "outputs": [],
   "source": [
    "client.search(text='Price', commodity=['Coal'], country=['Belize', 'Brazil'])\n"
   ]
  },
  {
   "cell_type": "markdown",
   "metadata": {},
   "source": [
    "The *payload_id* field contain a desired value for next time series search.\n",
    "\n",
    "Keep in mind that we can put any type of information in the *name* field.\n",
    "\n",
    "#### Full list parameters for search\n",
    "\n",
    "- `text`: string. Works as a filter. Free text. Everything that have no match with this phrase will be filtered out. \n",
    "- `commodity`: list of [strings](#commodities). Works as a filter.\n",
    "- `business_category`: [string](#business-categories). Works as a filter. \n",
    "- `country`: list of [strings](#countries). Works as a filter. \n",
    "- `frequency`: list of [strings](#frequencies). Works as a filter. \n",
    "\n",
    "If search conditions will be too broad then server can't return it at one time.\n",
    "Right now the every page/chunk of data limited by 1000 lines.\n",
    "\n",
    "For example we want to get first three page, 3000 lines for a Coal prices:"
   ]
  },
  {
   "cell_type": "code",
   "execution_count": null,
   "metadata": {
    "pycharm": {
     "is_executing": false,
     "name": "#%%\n"
    }
   },
   "outputs": [],
   "source": [
    "client.search(text='Price', commodity=['Coal'])"
   ]
  },
  {
   "cell_type": "markdown",
   "metadata": {},
   "source": [
    "In this case you have to iterate next two pages by the following code: "
   ]
  },
  {
   "cell_type": "code",
   "execution_count": null,
   "metadata": {
    "pycharm": {
     "is_executing": false,
     "name": "#%%\n"
    }
   },
   "outputs": [],
   "source": [
    "for page in client.search_pages(pages_limit=2):\n",
    "    print(page)"
   ]
  },
  {
   "cell_type": "markdown",
   "metadata": {},
   "source": [
    "Keep in mind, that we can iterate over pages after first search only.\n",
    "\n",
    "<a id=\"timeseries\"></a>\n",
    "## Time series data\n",
    "\n",
    "And the final step: get time series data!\n",
    "\n",
    "It's dead simple:"
   ]
  },
  {
   "cell_type": "code",
   "execution_count": null,
   "metadata": {
    "pycharm": {
     "is_executing": false,
     "name": "#%%\n"
    }
   },
   "outputs": [],
   "source": [
    "client.get_payload('00158d049d149197f67115a6cc3224e956e5c9e9')"
   ]
  }
 ],
 "metadata": {
  "kernelspec": {
   "display_name": "Python 3",
   "language": "python",
   "name": "python3"
  },
  "language_info": {
   "codemirror_mode": {
    "name": "ipython",
    "version": 3
   },
   "file_extension": ".py",
   "mimetype": "text/x-python",
   "name": "python",
   "nbconvert_exporter": "python",
   "pygments_lexer": "ipython3",
   "version": "3.7.3"
  },
  "pycharm": {
   "stem_cell": {
    "cell_type": "raw",
    "metadata": {
     "collapsed": false
    },
    "source": []
   }
  }
 },
 "nbformat": 4,
 "nbformat_minor": 1
}
