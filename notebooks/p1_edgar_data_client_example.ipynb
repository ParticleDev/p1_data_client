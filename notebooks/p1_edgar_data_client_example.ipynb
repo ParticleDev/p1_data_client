{
 "cells": [
  {
   "cell_type": "markdown",
   "metadata": {
    "pycharm": {
     "name": "#%% md\n"
    }
   },
   "source": [
    "# P1 Edgar data client for REST API"
   ]
  },
  {
   "cell_type": "markdown",
   "metadata": {},
   "source": [
    "## Initialization"
   ]
  },
  {
   "cell_type": "code",
   "execution_count": 3,
   "metadata": {
    "ExecuteTime": {
     "end_time": "2020-11-22T01:55:31.086788Z",
     "start_time": "2020-11-22T01:55:30.697354Z"
    },
    "pycharm": {
     "is_executing": false,
     "name": "#%%\n"
    }
   },
   "outputs": [
    {
     "name": "stdout",
     "text": [
      "P1_API_URL= http://etl.p1:5002\n",
      "P1_API_TOKEN= 8c9c9458b145202c7a6b6cceaabd82023e957a46d6cf7061ed8e1c94a168f2fd\n"
     ],
     "output_type": "stream"
    }
   ],
   "source": [
    "import os\n",
    "\n",
    "import p1_data_client_python.edgar_client as p1_edg\n",
    "\n",
    "# Enter your token here.\n",
    "# You can get your token by signing up at `www.particle.one`.\n",
    "#TOKEN = \"YOUR_TOKEN_HERE\"\n",
    "# An example token is like:\n",
    "P1_API_URL = os.environ[\"P1_EDGAR_API_URL\"]\n",
    "print(\"P1_API_URL=\", P1_API_URL)\n",
    "\n",
    "P1_API_TOKEN = os.environ[\"P1_EDGAR_API_TOKEN\"]\n",
    "print(\"P1_API_TOKEN=\", P1_API_TOKEN)"
   ]
  },
  {
   "cell_type": "markdown",
   "metadata": {},
   "source": [
    "## Quick start\n",
    "\n",
    "There are 3 steps: \n",
    "1. Get information about ticker identifiers \n",
    "2. Get information about financial items available\n",
    "3. Download data\n",
    "\n",
    "## Mappers\n",
    "\n",
    "### GvkCikMapper\n",
    "\n",
    "It handles CIK <-> GVK transformation."
   ]
  },
  {
   "cell_type": "code",
   "execution_count": null,
   "metadata": {
    "ExecuteTime": {
     "end_time": "2020-11-22T01:55:32.004868Z",
     "start_time": "2020-11-22T01:55:31.089939Z"
    },
    "pycharm": {
     "is_executing": false,
     "name": "#%%\n"
    }
   },
   "outputs": [],
   "source": [
    "gvk_mapper = p1_edg.GvkCikMapper(base_url=P1_API_URL, token=P1_API_TOKEN)\n",
    "gvk_mapper.get_gvk_from_cik(cik='0000940800', as_of_date='2007-01-18')"
   ]
  },
  {
   "cell_type": "code",
   "execution_count": null,
   "metadata": {
    "ExecuteTime": {
     "end_time": "2020-11-22T01:55:32.732728Z",
     "start_time": "2020-11-22T01:55:32.007043Z"
    },
    "pycharm": {
     "is_executing": false,
     "name": "#%%\n"
    }
   },
   "outputs": [],
   "source": [
    "gvk_mapper.get_cik_from_gvk(gvk='061411', as_of_date='2007-01-18')"
   ]
  },
  {
   "cell_type": "markdown",
   "metadata": {},
   "source": [
    "### ItemMapper\n",
    "\n",
    "It provides mapping between keywords and description of Compustat items."
   ]
  },
  {
   "cell_type": "code",
   "execution_count": null,
   "metadata": {
    "ExecuteTime": {
     "end_time": "2020-11-22T01:55:32.855261Z",
     "start_time": "2020-11-22T01:55:32.734392Z"
    },
    "pycharm": {
     "is_executing": false,
     "name": "#%%\n"
    }
   },
   "outputs": [],
   "source": [
    "item_mapper = p1_edg.ItemMapper(base_url=P1_API_URL, token=P1_API_TOKEN)\n",
    "item_mapper.get_item_from_keywords(\n",
    "            keywords=['short-term', 'short term'])"
   ]
  },
  {
   "cell_type": "code",
   "execution_count": null,
   "metadata": {
    "ExecuteTime": {
     "end_time": "2020-11-22T01:55:32.923256Z",
     "start_time": "2020-11-22T01:55:32.856857Z"
    },
    "pycharm": {
     "is_executing": false,
     "name": "#%%\n"
    }
   },
   "outputs": [],
   "source": [
    "item_mapper.get_mapping()"
   ]
  },
  {
   "cell_type": "markdown",
   "metadata": {},
   "source": [
    "## Payload data\n",
    "\n",
    "After collecting all necessary identifiers we are ready to download the payload data.\n",
    "- form_name: Edgar form short code\n",
    "- cik: Company Identification Key. Optional. Also, could be a list of cik. \n",
    "- start_date and end_date: limit our selection by dates\n",
    "- items: list of items that we want to see in a result set.\n",
    "\n",
    "Keep in mind that if you specify a broad range of search, the result could be very large."
   ]
  },
  {
   "cell_type": "code",
   "execution_count": 5,
   "metadata": {
    "ExecuteTime": {
     "end_time": "2020-11-22T01:55:33.066977Z",
     "start_time": "2020-11-22T01:55:32.925007Z"
    },
    "pycharm": {
     "is_executing": false,
     "name": "#%%\n"
    }
   },
   "outputs": [
    {
     "data": {
      "text/plain": "                                                  url      cik filing_date  \\\n0   https://www.sec.gov/Archives/edgar/data/100291...  1002910  2020-11-04   \n1   https://www.sec.gov/Archives/edgar/data/100291...  1002910  2020-11-04   \n2   https://www.sec.gov/Archives/edgar/data/100291...  1002910  2020-11-04   \n3   https://www.sec.gov/Archives/edgar/data/100291...  1002910  2020-11-04   \n4   https://www.sec.gov/Archives/edgar/data/100291...  1002910  2020-11-04   \n5   https://www.sec.gov/Archives/edgar/data/100291...  1002910  2020-11-04   \n6   https://www.sec.gov/Archives/edgar/data/100291...  1002910  2020-11-04   \n7   https://www.sec.gov/Archives/edgar/data/100291...  1002910  2020-11-04   \n8   https://www.sec.gov/Archives/edgar/data/100291...  1002910  2020-11-04   \n9   https://www.sec.gov/Archives/edgar/data/100291...  1002910  2020-11-04   \n10  https://www.sec.gov/Archives/edgar/data/100291...  1002910  2020-11-04   \n11  https://www.sec.gov/Archives/edgar/data/100291...  1002910  2020-11-04   \n12  https://www.sec.gov/Archives/edgar/data/100291...  1002910  2020-11-04   \n13  https://www.sec.gov/Archives/edgar/data/100291...  1002910  2020-11-04   \n14  https://www.sec.gov/Archives/edgar/data/100291...  1002910  2020-11-04   \n15  https://www.sec.gov/Archives/edgar/data/100291...  1002910  2020-11-04   \n16  https://www.sec.gov/Archives/edgar/data/100291...  1002910  2020-11-04   \n17  https://www.sec.gov/Archives/edgar/data/100291...  1002910  2020-11-04   \n18  https://www.sec.gov/Archives/edgar/data/100291...  1002910  2020-11-04   \n19  https://www.sec.gov/Archives/edgar/data/100291...  1002910  2020-11-04   \n20  https://www.sec.gov/Archives/edgar/data/100291...  1002910  2020-11-04   \n21  https://www.sec.gov/Archives/edgar/data/100291...  1002910  2020-11-04   \n22  https://www.sec.gov/Archives/edgar/data/100291...  1002910  2020-11-04   \n23  https://www.sec.gov/Archives/edgar/data/100291...  1002910  2020-11-04   \n24  https://www.sec.gov/Archives/edgar/data/100291...  1002910  2020-11-04   \n25  https://www.sec.gov/Archives/edgar/data/100291...  1002910  2020-11-04   \n26  https://www.sec.gov/Archives/edgar/data/100291...  1002910  2020-11-04   \n27  https://www.sec.gov/Archives/edgar/data/100291...  1002910  2020-11-04   \n28  https://www.sec.gov/Archives/edgar/data/100291...  1002910  2020-11-04   \n29  https://www.sec.gov/Archives/edgar/data/100291...  1002910  2020-11-04   \n30  https://www.sec.gov/Archives/edgar/data/100291...  1002910  2020-11-04   \n31  https://www.sec.gov/Archives/edgar/data/100291...  1002910  2020-11-04   \n32  https://www.sec.gov/Archives/edgar/data/100291...  1002910  2020-11-04   \n33  https://www.sec.gov/Archives/edgar/data/100291...  1002910  2020-11-04   \n34  https://www.sec.gov/Archives/edgar/data/100291...  1002910  2020-11-04   \n35  https://www.sec.gov/Archives/edgar/data/100291...  1002910  2020-11-04   \n\n           internal_timestamp    item  \\\n0  2020-11-04 22:06:47.388826  OIBDPQ   \n1  2020-11-04 22:06:47.388826  OIBDPQ   \n2  2020-11-04 22:06:47.388826  OIBDPQ   \n3  2020-11-04 22:06:47.388826  OIBDPQ   \n4  2020-11-04 22:06:47.388826  OIBDPQ   \n5  2020-11-04 22:06:47.388826  OIBDPQ   \n6  2020-11-04 22:06:47.388826  OIBDPQ   \n7  2020-11-04 22:06:47.388826  OIBDPQ   \n8  2020-11-04 22:06:47.388826  OIBDPQ   \n9  2020-11-04 22:06:47.388826  OIBDPQ   \n10 2020-11-04 22:06:47.388826  OIBDPQ   \n11 2020-11-04 22:06:47.388826  OIBDPQ   \n12 2020-11-04 22:06:47.388826  OIBDPQ   \n13 2020-11-04 22:06:47.388826  OIBDPQ   \n14 2020-11-04 22:06:47.388826  OIBDPQ   \n15 2020-11-04 22:06:47.388826  OIBDPQ   \n16 2020-11-04 22:06:47.388826  OIBDPQ   \n17 2020-11-04 22:06:47.388826  OIBDPQ   \n18 2020-11-04 22:06:47.388826  OIBDPQ   \n19 2020-11-04 22:06:47.388826  OIBDPQ   \n20 2020-11-04 22:06:47.388826  OIBDPQ   \n21 2020-11-04 22:06:47.388826  OIBDPQ   \n22 2020-11-04 22:06:47.388826  OIBDPQ   \n23 2020-11-04 22:06:47.388826  OIBDPQ   \n24 2020-11-04 22:06:47.388826  OIBDPQ   \n25 2020-11-04 22:06:47.388826  OIBDPQ   \n26 2020-11-04 22:06:47.388826  OIBDPQ   \n27 2020-11-04 22:06:47.388826  OIBDPQ   \n28 2020-11-04 22:06:47.388826  OIBDPQ   \n29 2020-11-04 22:06:47.388826  OIBDPQ   \n30 2020-11-04 22:06:47.388826  OIBDPQ   \n31 2020-11-04 22:06:47.388826  OIBDPQ   \n32 2020-11-04 22:06:47.388826  OIBDPQ   \n33 2020-11-04 22:06:47.388826  OIBDPQ   \n34 2020-11-04 22:06:47.388826  OIBDPQ   \n35 2020-11-04 22:06:47.388826  OIBDPQ   \n\n                                       table_row_name  extracted_value  \\\n0                            Total operating revenues          1628.00   \n1                    Other operations and maintenance           418.00   \n2                       Taxes other than income taxes           128.00   \n3                            Total operating expenses          1134.00   \n4                                    Operating Income           494.00   \n5                                   Other Income, Net            48.00   \n6                          Income Before Income Taxes           432.00   \n7                                        Income Taxes            63.00   \n8                                          Net Income           369.00   \n9   Less: Net Income Attributable to Noncontrollin...             2.00   \n10  Net Income Attributable to Ameren Common Share...           367.00   \n11                  Earnings per Common Share – Basic             1.48   \n12                Earnings per Common Share – Diluted             1.47   \n13  Accumulated deferred income taxes and investme...          3151.00   \n14                                  Retained earnings          2769.00   \n15                                         Net income           761.00   \n16  Deferred income taxes and investment tax credi...           125.00   \n17          Net cash provided by operating activities          1329.00   \n18                           Total operating revenues          1628.00   \n19                   Other operations and maintenance           418.00   \n20                      Taxes other than income taxes           128.00   \n21                           Total operating expenses          1134.00   \n22                                   Operating Income           494.00   \n23                                  Other Income, Net            48.00   \n24                         Income Before Income Taxes           432.00   \n25                                       Income Taxes            63.00   \n26                                         Net Income           369.00   \n27  Less: Net Income Attributable to Noncontrollin...             2.00   \n28  Net Income Attributable to Ameren Common Share...           367.00   \n29                  Earnings per Common Share – Basic             1.48   \n30                Earnings per Common Share – Diluted             1.47   \n31  Accumulated deferred income taxes and investme...          3151.00   \n32                                  Retained earnings          2769.00   \n33                                         Net income           761.00   \n34  Deferred income taxes and investment tax credi...           125.00   \n35          Net cash provided by operating activities          1329.00   \n\n                 period  \n0   2020-11-04T00:00:00  \n1   2020-11-04T00:00:00  \n2   2020-11-04T00:00:00  \n3   2020-11-04T00:00:00  \n4   2020-11-04T00:00:00  \n5   2020-11-04T00:00:00  \n6   2020-11-04T00:00:00  \n7   2020-11-04T00:00:00  \n8   2020-11-04T00:00:00  \n9   2020-11-04T00:00:00  \n10  2020-11-04T00:00:00  \n11  2020-11-04T00:00:00  \n12  2020-11-04T00:00:00  \n13  2020-11-04T00:00:00  \n14  2020-11-04T00:00:00  \n15  2020-11-04T00:00:00  \n16  2020-11-04T00:00:00  \n17  2020-11-04T00:00:00  \n18  2020-11-04T00:00:00  \n19  2020-11-04T00:00:00  \n20  2020-11-04T00:00:00  \n21  2020-11-04T00:00:00  \n22  2020-11-04T00:00:00  \n23  2020-11-04T00:00:00  \n24  2020-11-04T00:00:00  \n25  2020-11-04T00:00:00  \n26  2020-11-04T00:00:00  \n27  2020-11-04T00:00:00  \n28  2020-11-04T00:00:00  \n29  2020-11-04T00:00:00  \n30  2020-11-04T00:00:00  \n31  2020-11-04T00:00:00  \n32  2020-11-04T00:00:00  \n33  2020-11-04T00:00:00  \n34  2020-11-04T00:00:00  \n35  2020-11-04T00:00:00  ",
      "text/html": "<div>\n<style scoped>\n    .dataframe tbody tr th:only-of-type {\n        vertical-align: middle;\n    }\n\n    .dataframe tbody tr th {\n        vertical-align: top;\n    }\n\n    .dataframe thead th {\n        text-align: right;\n    }\n</style>\n<table border=\"1\" class=\"dataframe\">\n  <thead>\n    <tr style=\"text-align: right;\">\n      <th></th>\n      <th>url</th>\n      <th>cik</th>\n      <th>filing_date</th>\n      <th>internal_timestamp</th>\n      <th>item</th>\n      <th>table_row_name</th>\n      <th>extracted_value</th>\n      <th>period</th>\n    </tr>\n  </thead>\n  <tbody>\n    <tr>\n      <th>0</th>\n      <td>https://www.sec.gov/Archives/edgar/data/100291...</td>\n      <td>1002910</td>\n      <td>2020-11-04</td>\n      <td>2020-11-04 22:06:47.388826</td>\n      <td>OIBDPQ</td>\n      <td>Total operating revenues</td>\n      <td>1628.00</td>\n      <td>2020-11-04T00:00:00</td>\n    </tr>\n    <tr>\n      <th>1</th>\n      <td>https://www.sec.gov/Archives/edgar/data/100291...</td>\n      <td>1002910</td>\n      <td>2020-11-04</td>\n      <td>2020-11-04 22:06:47.388826</td>\n      <td>OIBDPQ</td>\n      <td>Other operations and maintenance</td>\n      <td>418.00</td>\n      <td>2020-11-04T00:00:00</td>\n    </tr>\n    <tr>\n      <th>2</th>\n      <td>https://www.sec.gov/Archives/edgar/data/100291...</td>\n      <td>1002910</td>\n      <td>2020-11-04</td>\n      <td>2020-11-04 22:06:47.388826</td>\n      <td>OIBDPQ</td>\n      <td>Taxes other than income taxes</td>\n      <td>128.00</td>\n      <td>2020-11-04T00:00:00</td>\n    </tr>\n    <tr>\n      <th>3</th>\n      <td>https://www.sec.gov/Archives/edgar/data/100291...</td>\n      <td>1002910</td>\n      <td>2020-11-04</td>\n      <td>2020-11-04 22:06:47.388826</td>\n      <td>OIBDPQ</td>\n      <td>Total operating expenses</td>\n      <td>1134.00</td>\n      <td>2020-11-04T00:00:00</td>\n    </tr>\n    <tr>\n      <th>4</th>\n      <td>https://www.sec.gov/Archives/edgar/data/100291...</td>\n      <td>1002910</td>\n      <td>2020-11-04</td>\n      <td>2020-11-04 22:06:47.388826</td>\n      <td>OIBDPQ</td>\n      <td>Operating Income</td>\n      <td>494.00</td>\n      <td>2020-11-04T00:00:00</td>\n    </tr>\n    <tr>\n      <th>5</th>\n      <td>https://www.sec.gov/Archives/edgar/data/100291...</td>\n      <td>1002910</td>\n      <td>2020-11-04</td>\n      <td>2020-11-04 22:06:47.388826</td>\n      <td>OIBDPQ</td>\n      <td>Other Income, Net</td>\n      <td>48.00</td>\n      <td>2020-11-04T00:00:00</td>\n    </tr>\n    <tr>\n      <th>6</th>\n      <td>https://www.sec.gov/Archives/edgar/data/100291...</td>\n      <td>1002910</td>\n      <td>2020-11-04</td>\n      <td>2020-11-04 22:06:47.388826</td>\n      <td>OIBDPQ</td>\n      <td>Income Before Income Taxes</td>\n      <td>432.00</td>\n      <td>2020-11-04T00:00:00</td>\n    </tr>\n    <tr>\n      <th>7</th>\n      <td>https://www.sec.gov/Archives/edgar/data/100291...</td>\n      <td>1002910</td>\n      <td>2020-11-04</td>\n      <td>2020-11-04 22:06:47.388826</td>\n      <td>OIBDPQ</td>\n      <td>Income Taxes</td>\n      <td>63.00</td>\n      <td>2020-11-04T00:00:00</td>\n    </tr>\n    <tr>\n      <th>8</th>\n      <td>https://www.sec.gov/Archives/edgar/data/100291...</td>\n      <td>1002910</td>\n      <td>2020-11-04</td>\n      <td>2020-11-04 22:06:47.388826</td>\n      <td>OIBDPQ</td>\n      <td>Net Income</td>\n      <td>369.00</td>\n      <td>2020-11-04T00:00:00</td>\n    </tr>\n    <tr>\n      <th>9</th>\n      <td>https://www.sec.gov/Archives/edgar/data/100291...</td>\n      <td>1002910</td>\n      <td>2020-11-04</td>\n      <td>2020-11-04 22:06:47.388826</td>\n      <td>OIBDPQ</td>\n      <td>Less: Net Income Attributable to Noncontrollin...</td>\n      <td>2.00</td>\n      <td>2020-11-04T00:00:00</td>\n    </tr>\n    <tr>\n      <th>10</th>\n      <td>https://www.sec.gov/Archives/edgar/data/100291...</td>\n      <td>1002910</td>\n      <td>2020-11-04</td>\n      <td>2020-11-04 22:06:47.388826</td>\n      <td>OIBDPQ</td>\n      <td>Net Income Attributable to Ameren Common Share...</td>\n      <td>367.00</td>\n      <td>2020-11-04T00:00:00</td>\n    </tr>\n    <tr>\n      <th>11</th>\n      <td>https://www.sec.gov/Archives/edgar/data/100291...</td>\n      <td>1002910</td>\n      <td>2020-11-04</td>\n      <td>2020-11-04 22:06:47.388826</td>\n      <td>OIBDPQ</td>\n      <td>Earnings per Common Share – Basic</td>\n      <td>1.48</td>\n      <td>2020-11-04T00:00:00</td>\n    </tr>\n    <tr>\n      <th>12</th>\n      <td>https://www.sec.gov/Archives/edgar/data/100291...</td>\n      <td>1002910</td>\n      <td>2020-11-04</td>\n      <td>2020-11-04 22:06:47.388826</td>\n      <td>OIBDPQ</td>\n      <td>Earnings per Common Share – Diluted</td>\n      <td>1.47</td>\n      <td>2020-11-04T00:00:00</td>\n    </tr>\n    <tr>\n      <th>13</th>\n      <td>https://www.sec.gov/Archives/edgar/data/100291...</td>\n      <td>1002910</td>\n      <td>2020-11-04</td>\n      <td>2020-11-04 22:06:47.388826</td>\n      <td>OIBDPQ</td>\n      <td>Accumulated deferred income taxes and investme...</td>\n      <td>3151.00</td>\n      <td>2020-11-04T00:00:00</td>\n    </tr>\n    <tr>\n      <th>14</th>\n      <td>https://www.sec.gov/Archives/edgar/data/100291...</td>\n      <td>1002910</td>\n      <td>2020-11-04</td>\n      <td>2020-11-04 22:06:47.388826</td>\n      <td>OIBDPQ</td>\n      <td>Retained earnings</td>\n      <td>2769.00</td>\n      <td>2020-11-04T00:00:00</td>\n    </tr>\n    <tr>\n      <th>15</th>\n      <td>https://www.sec.gov/Archives/edgar/data/100291...</td>\n      <td>1002910</td>\n      <td>2020-11-04</td>\n      <td>2020-11-04 22:06:47.388826</td>\n      <td>OIBDPQ</td>\n      <td>Net income</td>\n      <td>761.00</td>\n      <td>2020-11-04T00:00:00</td>\n    </tr>\n    <tr>\n      <th>16</th>\n      <td>https://www.sec.gov/Archives/edgar/data/100291...</td>\n      <td>1002910</td>\n      <td>2020-11-04</td>\n      <td>2020-11-04 22:06:47.388826</td>\n      <td>OIBDPQ</td>\n      <td>Deferred income taxes and investment tax credi...</td>\n      <td>125.00</td>\n      <td>2020-11-04T00:00:00</td>\n    </tr>\n    <tr>\n      <th>17</th>\n      <td>https://www.sec.gov/Archives/edgar/data/100291...</td>\n      <td>1002910</td>\n      <td>2020-11-04</td>\n      <td>2020-11-04 22:06:47.388826</td>\n      <td>OIBDPQ</td>\n      <td>Net cash provided by operating activities</td>\n      <td>1329.00</td>\n      <td>2020-11-04T00:00:00</td>\n    </tr>\n    <tr>\n      <th>18</th>\n      <td>https://www.sec.gov/Archives/edgar/data/100291...</td>\n      <td>1002910</td>\n      <td>2020-11-04</td>\n      <td>2020-11-04 22:06:47.388826</td>\n      <td>OIBDPQ</td>\n      <td>Total operating revenues</td>\n      <td>1628.00</td>\n      <td>2020-11-04T00:00:00</td>\n    </tr>\n    <tr>\n      <th>19</th>\n      <td>https://www.sec.gov/Archives/edgar/data/100291...</td>\n      <td>1002910</td>\n      <td>2020-11-04</td>\n      <td>2020-11-04 22:06:47.388826</td>\n      <td>OIBDPQ</td>\n      <td>Other operations and maintenance</td>\n      <td>418.00</td>\n      <td>2020-11-04T00:00:00</td>\n    </tr>\n    <tr>\n      <th>20</th>\n      <td>https://www.sec.gov/Archives/edgar/data/100291...</td>\n      <td>1002910</td>\n      <td>2020-11-04</td>\n      <td>2020-11-04 22:06:47.388826</td>\n      <td>OIBDPQ</td>\n      <td>Taxes other than income taxes</td>\n      <td>128.00</td>\n      <td>2020-11-04T00:00:00</td>\n    </tr>\n    <tr>\n      <th>21</th>\n      <td>https://www.sec.gov/Archives/edgar/data/100291...</td>\n      <td>1002910</td>\n      <td>2020-11-04</td>\n      <td>2020-11-04 22:06:47.388826</td>\n      <td>OIBDPQ</td>\n      <td>Total operating expenses</td>\n      <td>1134.00</td>\n      <td>2020-11-04T00:00:00</td>\n    </tr>\n    <tr>\n      <th>22</th>\n      <td>https://www.sec.gov/Archives/edgar/data/100291...</td>\n      <td>1002910</td>\n      <td>2020-11-04</td>\n      <td>2020-11-04 22:06:47.388826</td>\n      <td>OIBDPQ</td>\n      <td>Operating Income</td>\n      <td>494.00</td>\n      <td>2020-11-04T00:00:00</td>\n    </tr>\n    <tr>\n      <th>23</th>\n      <td>https://www.sec.gov/Archives/edgar/data/100291...</td>\n      <td>1002910</td>\n      <td>2020-11-04</td>\n      <td>2020-11-04 22:06:47.388826</td>\n      <td>OIBDPQ</td>\n      <td>Other Income, Net</td>\n      <td>48.00</td>\n      <td>2020-11-04T00:00:00</td>\n    </tr>\n    <tr>\n      <th>24</th>\n      <td>https://www.sec.gov/Archives/edgar/data/100291...</td>\n      <td>1002910</td>\n      <td>2020-11-04</td>\n      <td>2020-11-04 22:06:47.388826</td>\n      <td>OIBDPQ</td>\n      <td>Income Before Income Taxes</td>\n      <td>432.00</td>\n      <td>2020-11-04T00:00:00</td>\n    </tr>\n    <tr>\n      <th>25</th>\n      <td>https://www.sec.gov/Archives/edgar/data/100291...</td>\n      <td>1002910</td>\n      <td>2020-11-04</td>\n      <td>2020-11-04 22:06:47.388826</td>\n      <td>OIBDPQ</td>\n      <td>Income Taxes</td>\n      <td>63.00</td>\n      <td>2020-11-04T00:00:00</td>\n    </tr>\n    <tr>\n      <th>26</th>\n      <td>https://www.sec.gov/Archives/edgar/data/100291...</td>\n      <td>1002910</td>\n      <td>2020-11-04</td>\n      <td>2020-11-04 22:06:47.388826</td>\n      <td>OIBDPQ</td>\n      <td>Net Income</td>\n      <td>369.00</td>\n      <td>2020-11-04T00:00:00</td>\n    </tr>\n    <tr>\n      <th>27</th>\n      <td>https://www.sec.gov/Archives/edgar/data/100291...</td>\n      <td>1002910</td>\n      <td>2020-11-04</td>\n      <td>2020-11-04 22:06:47.388826</td>\n      <td>OIBDPQ</td>\n      <td>Less: Net Income Attributable to Noncontrollin...</td>\n      <td>2.00</td>\n      <td>2020-11-04T00:00:00</td>\n    </tr>\n    <tr>\n      <th>28</th>\n      <td>https://www.sec.gov/Archives/edgar/data/100291...</td>\n      <td>1002910</td>\n      <td>2020-11-04</td>\n      <td>2020-11-04 22:06:47.388826</td>\n      <td>OIBDPQ</td>\n      <td>Net Income Attributable to Ameren Common Share...</td>\n      <td>367.00</td>\n      <td>2020-11-04T00:00:00</td>\n    </tr>\n    <tr>\n      <th>29</th>\n      <td>https://www.sec.gov/Archives/edgar/data/100291...</td>\n      <td>1002910</td>\n      <td>2020-11-04</td>\n      <td>2020-11-04 22:06:47.388826</td>\n      <td>OIBDPQ</td>\n      <td>Earnings per Common Share – Basic</td>\n      <td>1.48</td>\n      <td>2020-11-04T00:00:00</td>\n    </tr>\n    <tr>\n      <th>30</th>\n      <td>https://www.sec.gov/Archives/edgar/data/100291...</td>\n      <td>1002910</td>\n      <td>2020-11-04</td>\n      <td>2020-11-04 22:06:47.388826</td>\n      <td>OIBDPQ</td>\n      <td>Earnings per Common Share – Diluted</td>\n      <td>1.47</td>\n      <td>2020-11-04T00:00:00</td>\n    </tr>\n    <tr>\n      <th>31</th>\n      <td>https://www.sec.gov/Archives/edgar/data/100291...</td>\n      <td>1002910</td>\n      <td>2020-11-04</td>\n      <td>2020-11-04 22:06:47.388826</td>\n      <td>OIBDPQ</td>\n      <td>Accumulated deferred income taxes and investme...</td>\n      <td>3151.00</td>\n      <td>2020-11-04T00:00:00</td>\n    </tr>\n    <tr>\n      <th>32</th>\n      <td>https://www.sec.gov/Archives/edgar/data/100291...</td>\n      <td>1002910</td>\n      <td>2020-11-04</td>\n      <td>2020-11-04 22:06:47.388826</td>\n      <td>OIBDPQ</td>\n      <td>Retained earnings</td>\n      <td>2769.00</td>\n      <td>2020-11-04T00:00:00</td>\n    </tr>\n    <tr>\n      <th>33</th>\n      <td>https://www.sec.gov/Archives/edgar/data/100291...</td>\n      <td>1002910</td>\n      <td>2020-11-04</td>\n      <td>2020-11-04 22:06:47.388826</td>\n      <td>OIBDPQ</td>\n      <td>Net income</td>\n      <td>761.00</td>\n      <td>2020-11-04T00:00:00</td>\n    </tr>\n    <tr>\n      <th>34</th>\n      <td>https://www.sec.gov/Archives/edgar/data/100291...</td>\n      <td>1002910</td>\n      <td>2020-11-04</td>\n      <td>2020-11-04 22:06:47.388826</td>\n      <td>OIBDPQ</td>\n      <td>Deferred income taxes and investment tax credi...</td>\n      <td>125.00</td>\n      <td>2020-11-04T00:00:00</td>\n    </tr>\n    <tr>\n      <th>35</th>\n      <td>https://www.sec.gov/Archives/edgar/data/100291...</td>\n      <td>1002910</td>\n      <td>2020-11-04</td>\n      <td>2020-11-04 22:06:47.388826</td>\n      <td>OIBDPQ</td>\n      <td>Net cash provided by operating activities</td>\n      <td>1329.00</td>\n      <td>2020-11-04T00:00:00</td>\n    </tr>\n  </tbody>\n</table>\n</div>"
     },
     "metadata": {},
     "output_type": "execute_result",
     "execution_count": 5
    }
   ],
   "source": [
    "client = p1_edg.EdgarClient(base_url=P1_API_URL, token=P1_API_TOKEN)\n",
    "\n",
    "client.get_payload(form_name='8-K',\n",
    "                   cik=1002910,\n",
    "                   start_date='2020-11-03',\n",
    "                   end_date='2020-11-04',\n",
    "                   item='OIBDPQ'\n",
    "                   )"
   ]
  },
  {
   "cell_type": "code",
   "execution_count": 6,
   "outputs": [
    {
     "data": {
      "text/plain": "          cik filing_date         internal_timestamp     item  \\\n0     1002910  2016-11-04 2020-06-12 21:12:43.887783     ACTQ   \n1     1002910  2016-11-04 2020-06-12 21:12:43.887783      AOQ   \n2     1002910  2016-11-04 2020-06-12 21:12:43.887783      APQ   \n3     1002910  2016-11-04 2020-06-12 21:12:43.887783      ATQ   \n4     1002910  2016-11-04 2020-06-12 21:12:43.887783     CHEQ   \n...       ...         ...                        ...      ...   \n1074  1733998  2020-11-05 2020-11-05 11:06:34.829405  TXDITCQ   \n1075  1733998  2020-11-05 2020-11-05 11:06:34.829405     TXPQ   \n1076  1733998  2020-11-05 2020-11-05 11:06:34.829405     TXPQ   \n1077  1733998  2020-11-05 2020-11-05 11:06:34.829405     TXPQ   \n1078  1733998  2020-11-05 2020-11-05 11:06:34.829405     TXPQ   \n\n                          table_row_name extracted_value  \\\n0                   Total current assets          1599.0   \n1     Total investments and other assets          2888.0   \n2             Accounts and wages payable           513.0   \n3                           TOTAL ASSETS         24134.0   \n4              Cash and cash equivalents            18.0   \n...                                  ...             ...   \n1074                  Deferred gas costs           -2472   \n1075            Accrued unbilled revenue           14787   \n1076                       Taxes accrued           13772   \n1077                    Interest accrued            9645   \n1078                    Interest accrued            2194   \n\n                                                    url               period  \n0     https://www.sec.gov/Archives/edgar/data/100291...  2016-11-04T00:00:00  \n1     https://www.sec.gov/Archives/edgar/data/100291...  2016-11-04T00:00:00  \n2     https://www.sec.gov/Archives/edgar/data/100291...  2016-11-04T00:00:00  \n3     https://www.sec.gov/Archives/edgar/data/100291...  2016-11-04T00:00:00  \n4     https://www.sec.gov/Archives/edgar/data/100291...  2016-11-04T00:00:00  \n...                                                 ...                  ...  \n1074  https://www.sec.gov/Archives/edgar/data/73020/...  2020-11-05T00:00:00  \n1075  https://www.sec.gov/Archives/edgar/data/73020/...  2020-11-05T00:00:00  \n1076  https://www.sec.gov/Archives/edgar/data/73020/...  2020-11-05T00:00:00  \n1077  https://www.sec.gov/Archives/edgar/data/73020/...  2020-11-05T00:00:00  \n1078  https://www.sec.gov/Archives/edgar/data/73020/...  2020-11-05T00:00:00  \n\n[1079 rows x 8 columns]",
      "text/html": "<div>\n<style scoped>\n    .dataframe tbody tr th:only-of-type {\n        vertical-align: middle;\n    }\n\n    .dataframe tbody tr th {\n        vertical-align: top;\n    }\n\n    .dataframe thead th {\n        text-align: right;\n    }\n</style>\n<table border=\"1\" class=\"dataframe\">\n  <thead>\n    <tr style=\"text-align: right;\">\n      <th></th>\n      <th>cik</th>\n      <th>filing_date</th>\n      <th>internal_timestamp</th>\n      <th>item</th>\n      <th>table_row_name</th>\n      <th>extracted_value</th>\n      <th>url</th>\n      <th>period</th>\n    </tr>\n  </thead>\n  <tbody>\n    <tr>\n      <th>0</th>\n      <td>1002910</td>\n      <td>2016-11-04</td>\n      <td>2020-06-12 21:12:43.887783</td>\n      <td>ACTQ</td>\n      <td>Total current assets</td>\n      <td>1599.0</td>\n      <td>https://www.sec.gov/Archives/edgar/data/100291...</td>\n      <td>2016-11-04T00:00:00</td>\n    </tr>\n    <tr>\n      <th>1</th>\n      <td>1002910</td>\n      <td>2016-11-04</td>\n      <td>2020-06-12 21:12:43.887783</td>\n      <td>AOQ</td>\n      <td>Total investments and other assets</td>\n      <td>2888.0</td>\n      <td>https://www.sec.gov/Archives/edgar/data/100291...</td>\n      <td>2016-11-04T00:00:00</td>\n    </tr>\n    <tr>\n      <th>2</th>\n      <td>1002910</td>\n      <td>2016-11-04</td>\n      <td>2020-06-12 21:12:43.887783</td>\n      <td>APQ</td>\n      <td>Accounts and wages payable</td>\n      <td>513.0</td>\n      <td>https://www.sec.gov/Archives/edgar/data/100291...</td>\n      <td>2016-11-04T00:00:00</td>\n    </tr>\n    <tr>\n      <th>3</th>\n      <td>1002910</td>\n      <td>2016-11-04</td>\n      <td>2020-06-12 21:12:43.887783</td>\n      <td>ATQ</td>\n      <td>TOTAL ASSETS</td>\n      <td>24134.0</td>\n      <td>https://www.sec.gov/Archives/edgar/data/100291...</td>\n      <td>2016-11-04T00:00:00</td>\n    </tr>\n    <tr>\n      <th>4</th>\n      <td>1002910</td>\n      <td>2016-11-04</td>\n      <td>2020-06-12 21:12:43.887783</td>\n      <td>CHEQ</td>\n      <td>Cash and cash equivalents</td>\n      <td>18.0</td>\n      <td>https://www.sec.gov/Archives/edgar/data/100291...</td>\n      <td>2016-11-04T00:00:00</td>\n    </tr>\n    <tr>\n      <th>...</th>\n      <td>...</td>\n      <td>...</td>\n      <td>...</td>\n      <td>...</td>\n      <td>...</td>\n      <td>...</td>\n      <td>...</td>\n      <td>...</td>\n    </tr>\n    <tr>\n      <th>1074</th>\n      <td>1733998</td>\n      <td>2020-11-05</td>\n      <td>2020-11-05 11:06:34.829405</td>\n      <td>TXDITCQ</td>\n      <td>Deferred gas costs</td>\n      <td>-2472</td>\n      <td>https://www.sec.gov/Archives/edgar/data/73020/...</td>\n      <td>2020-11-05T00:00:00</td>\n    </tr>\n    <tr>\n      <th>1075</th>\n      <td>1733998</td>\n      <td>2020-11-05</td>\n      <td>2020-11-05 11:06:34.829405</td>\n      <td>TXPQ</td>\n      <td>Accrued unbilled revenue</td>\n      <td>14787</td>\n      <td>https://www.sec.gov/Archives/edgar/data/73020/...</td>\n      <td>2020-11-05T00:00:00</td>\n    </tr>\n    <tr>\n      <th>1076</th>\n      <td>1733998</td>\n      <td>2020-11-05</td>\n      <td>2020-11-05 11:06:34.829405</td>\n      <td>TXPQ</td>\n      <td>Taxes accrued</td>\n      <td>13772</td>\n      <td>https://www.sec.gov/Archives/edgar/data/73020/...</td>\n      <td>2020-11-05T00:00:00</td>\n    </tr>\n    <tr>\n      <th>1077</th>\n      <td>1733998</td>\n      <td>2020-11-05</td>\n      <td>2020-11-05 11:06:34.829405</td>\n      <td>TXPQ</td>\n      <td>Interest accrued</td>\n      <td>9645</td>\n      <td>https://www.sec.gov/Archives/edgar/data/73020/...</td>\n      <td>2020-11-05T00:00:00</td>\n    </tr>\n    <tr>\n      <th>1078</th>\n      <td>1733998</td>\n      <td>2020-11-05</td>\n      <td>2020-11-05 11:06:34.829405</td>\n      <td>TXPQ</td>\n      <td>Interest accrued</td>\n      <td>2194</td>\n      <td>https://www.sec.gov/Archives/edgar/data/73020/...</td>\n      <td>2020-11-05T00:00:00</td>\n    </tr>\n  </tbody>\n</table>\n<p>1079 rows × 8 columns</p>\n</div>"
     },
     "metadata": {},
     "output_type": "execute_result",
     "execution_count": 6
    }
   ],
   "source": [
    "client.get_payload(form_name='8-K',\n",
    "                   cik=[1002910, 1733998]\n",
    "                   )"
   ],
   "metadata": {
    "collapsed": false,
    "pycharm": {
     "name": "#%%\n",
     "is_executing": false
    }
   }
  }
 ],
 "metadata": {
  "hide_input": false,
  "jupytext": {
   "text_representation": {
    "extension": ".py",
    "format_name": "percent",
    "format_version": "1.3",
    "jupytext_version": "1.4.2"
   }
  },
  "kernelspec": {
   "display_name": "Python 3",
   "language": "python",
   "name": "python3"
  },
  "language_info": {
   "codemirror_mode": {
    "name": "ipython",
    "version": 3
   },
   "file_extension": ".py",
   "mimetype": "text/x-python",
   "name": "python",
   "nbconvert_exporter": "python",
   "pygments_lexer": "ipython3",
   "version": "3.7.6"
  },
  "pycharm": {
   "stem_cell": {
    "cell_type": "raw",
    "source": [],
    "metadata": {
     "collapsed": false
    }
   }
  },
  "toc": {
   "base_numbering": 1,
   "nav_menu": {},
   "number_sections": true,
   "sideBar": true,
   "skip_h1_title": false,
   "title_cell": "Table of Contents",
   "title_sidebar": "Contents",
   "toc_cell": false,
   "toc_position": {},
   "toc_section_display": true,
   "toc_window_display": false
  },
  "varInspector": {
   "cols": {
    "lenName": 16,
    "lenType": 16,
    "lenVar": 40
   },
   "kernels_config": {
    "python": {
     "delete_cmd_postfix": "",
     "delete_cmd_prefix": "del ",
     "library": "var_list.py",
     "varRefreshCmd": "print(var_dic_list())"
    },
    "r": {
     "delete_cmd_postfix": ") ",
     "delete_cmd_prefix": "rm(",
     "library": "var_list.r",
     "varRefreshCmd": "cat(var_dic_list()) "
    }
   },
   "types_to_exclude": [
    "module",
    "function",
    "builtin_function_or_method",
    "instance",
    "_Feature"
   ],
   "window_display": false
  }
 },
 "nbformat": 4,
 "nbformat_minor": 1
}
