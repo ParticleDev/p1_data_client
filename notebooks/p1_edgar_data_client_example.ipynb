{
 "cells": [
  {
   "cell_type": "markdown",
   "metadata": {
    "pycharm": {
     "name": "#%% md\n"
    }
   },
   "source": [
    "# P1 Edgar Data API Client for REST API\n",
    "\n",
    "## Prerequisites\n",
    "\n",
    "* Python version >= 3.7\n",
    "* jupyter notebook"
   ]
  },
  {
   "cell_type": "markdown",
   "metadata": {},
   "source": [
    "## Initialization"
   ]
  },
  {
   "cell_type": "code",
   "execution_count": 4,
   "metadata": {
    "pycharm": {
     "is_executing": false,
     "name": "#%%\n"
    }
   },
   "outputs": [],
   "source": [
    "import p1_data_client_python.edgar_client as p1_edg\n",
    "\n",
    "# Enter your token here.\n",
    "# You can get your token by signing up at `www.particle.one`.\n",
    "#TOKEN = \"YOUR_TOKEN_HERE\"\n",
    "# An example token is like:\n",
    "\n",
    "TEST_BASE_URL = 'http://etl.p1:5001/edgar/v1/'\n",
    "TOKEN = \"1234567890\"\n",
    "\n",
    "client = p1_edg.EdgarClient(token=\"1234567890\", base_url=TEST_BASE_URL)"
   ]
  },
  {
   "cell_type": "markdown",
   "metadata": {},
   "source": [
    "## Quick start\n",
    "\n",
    "### Entities description\n",
    "\n",
    "* [Mappers](#mappers)\n",
    "* [Payload data](#payload)\n",
    "\n",
    "So, we have make two simple steps: \n",
    "\n",
    "1. Obtain the information about identifiers.\n",
    "2. Download payload data by certain arguments.\n",
    "\n",
    "\n",
    "<a id=\"mappers\"></a>\n",
    "## Mappers\n",
    "\n",
    "### GvkeyCikMapper\n",
    "\n",
    "Handle Cik <-> Gvkey transformation.\n",
    "\n",
    "Take a look at the following examples:"
   ]
  },
  {
   "cell_type": "code",
   "execution_count": 5,
   "metadata": {
    "pycharm": {
     "is_executing": false,
     "name": "#%%\n"
    }
   },
   "outputs": [
    {
     "data": {
      "text/plain": "           cik   gvkey              effdate             thrudate\n0   0000940800  061411  2007-01-18 00:00:00  2007-03-14 23:59:59\n1   0000940800  061411  2007-03-15 00:00:00  2007-06-20 23:59:59\n2   0000940800  061411  2007-06-21 00:00:00  2008-03-05 23:59:59\n3   0000940800  061411  2008-03-06 00:00:00  2008-05-07 23:59:59\n4   0000940800  061411  2008-05-08 00:00:00  2008-09-25 23:59:59\n5   0000940800  061411  2006-04-28 00:00:00  2006-08-23 23:59:59\n6   0000940800  061411  2006-08-24 00:00:00  2007-01-17 23:59:59\n7   0000940800  061411  2008-09-26 00:00:00  2010-04-20 15:59:59\n8   0000940800  061411  2010-04-20 16:00:00  2011-08-31 15:59:59\n9   0000940800  061411  2011-08-31 16:00:00  2018-03-19 23:59:59\n10  0000940800  061411  2018-03-20 00:00:00  2018-12-25 23:59:59\n11  0000940800  061411  2018-12-26 00:00:00  9999-12-31 00:00:00",
      "text/html": "<div>\n<style scoped>\n    .dataframe tbody tr th:only-of-type {\n        vertical-align: middle;\n    }\n\n    .dataframe tbody tr th {\n        vertical-align: top;\n    }\n\n    .dataframe thead th {\n        text-align: right;\n    }\n</style>\n<table border=\"1\" class=\"dataframe\">\n  <thead>\n    <tr style=\"text-align: right;\">\n      <th></th>\n      <th>cik</th>\n      <th>gvkey</th>\n      <th>effdate</th>\n      <th>thrudate</th>\n    </tr>\n  </thead>\n  <tbody>\n    <tr>\n      <th>0</th>\n      <td>0000940800</td>\n      <td>061411</td>\n      <td>2007-01-18 00:00:00</td>\n      <td>2007-03-14 23:59:59</td>\n    </tr>\n    <tr>\n      <th>1</th>\n      <td>0000940800</td>\n      <td>061411</td>\n      <td>2007-03-15 00:00:00</td>\n      <td>2007-06-20 23:59:59</td>\n    </tr>\n    <tr>\n      <th>2</th>\n      <td>0000940800</td>\n      <td>061411</td>\n      <td>2007-06-21 00:00:00</td>\n      <td>2008-03-05 23:59:59</td>\n    </tr>\n    <tr>\n      <th>3</th>\n      <td>0000940800</td>\n      <td>061411</td>\n      <td>2008-03-06 00:00:00</td>\n      <td>2008-05-07 23:59:59</td>\n    </tr>\n    <tr>\n      <th>4</th>\n      <td>0000940800</td>\n      <td>061411</td>\n      <td>2008-05-08 00:00:00</td>\n      <td>2008-09-25 23:59:59</td>\n    </tr>\n    <tr>\n      <th>5</th>\n      <td>0000940800</td>\n      <td>061411</td>\n      <td>2006-04-28 00:00:00</td>\n      <td>2006-08-23 23:59:59</td>\n    </tr>\n    <tr>\n      <th>6</th>\n      <td>0000940800</td>\n      <td>061411</td>\n      <td>2006-08-24 00:00:00</td>\n      <td>2007-01-17 23:59:59</td>\n    </tr>\n    <tr>\n      <th>7</th>\n      <td>0000940800</td>\n      <td>061411</td>\n      <td>2008-09-26 00:00:00</td>\n      <td>2010-04-20 15:59:59</td>\n    </tr>\n    <tr>\n      <th>8</th>\n      <td>0000940800</td>\n      <td>061411</td>\n      <td>2010-04-20 16:00:00</td>\n      <td>2011-08-31 15:59:59</td>\n    </tr>\n    <tr>\n      <th>9</th>\n      <td>0000940800</td>\n      <td>061411</td>\n      <td>2011-08-31 16:00:00</td>\n      <td>2018-03-19 23:59:59</td>\n    </tr>\n    <tr>\n      <th>10</th>\n      <td>0000940800</td>\n      <td>061411</td>\n      <td>2018-03-20 00:00:00</td>\n      <td>2018-12-25 23:59:59</td>\n    </tr>\n    <tr>\n      <th>11</th>\n      <td>0000940800</td>\n      <td>061411</td>\n      <td>2018-12-26 00:00:00</td>\n      <td>9999-12-31 00:00:00</td>\n    </tr>\n  </tbody>\n</table>\n</div>"
     },
     "metadata": {},
     "output_type": "execute_result",
     "execution_count": 5
    }
   ],
   "source": [
    "gvkey_mapper = p1_edg.GvkeyCikMapper(token=TOKEN,base_url=TEST_BASE_URL)\n",
    "gvkey_mapper.get_gvkey_from_cik(cik='0000940800', as_of_date='2007-01-18')"
   ]
  },
  {
   "cell_type": "code",
   "execution_count": 6,
   "outputs": [
    {
     "data": {
      "text/plain": "          cik   gvkey              effdate             thrudate\n0  0000940800  061411  2006-04-28 00:00:00  2006-08-23 23:59:59\n1  0000940800  061411  2006-08-24 00:00:00  2007-01-17 23:59:59",
      "text/html": "<div>\n<style scoped>\n    .dataframe tbody tr th:only-of-type {\n        vertical-align: middle;\n    }\n\n    .dataframe tbody tr th {\n        vertical-align: top;\n    }\n\n    .dataframe thead th {\n        text-align: right;\n    }\n</style>\n<table border=\"1\" class=\"dataframe\">\n  <thead>\n    <tr style=\"text-align: right;\">\n      <th></th>\n      <th>cik</th>\n      <th>gvkey</th>\n      <th>effdate</th>\n      <th>thrudate</th>\n    </tr>\n  </thead>\n  <tbody>\n    <tr>\n      <th>0</th>\n      <td>0000940800</td>\n      <td>061411</td>\n      <td>2006-04-28 00:00:00</td>\n      <td>2006-08-23 23:59:59</td>\n    </tr>\n    <tr>\n      <th>1</th>\n      <td>0000940800</td>\n      <td>061411</td>\n      <td>2006-08-24 00:00:00</td>\n      <td>2007-01-17 23:59:59</td>\n    </tr>\n  </tbody>\n</table>\n</div>"
     },
     "metadata": {},
     "output_type": "execute_result",
     "execution_count": 6
    }
   ],
   "source": [
    "gvkey_mapper.get_cik_from_gvkey(gvkey='061411', as_of_date='2007-01-18')"
   ],
   "metadata": {
    "collapsed": false,
    "pycharm": {
     "name": "#%%\n",
     "is_executing": false
    }
   }
  },
  {
   "cell_type": "markdown",
   "source": [
    "### CompustatItemMapper\n",
    "\n",
    "Provide mapping between keywords and description of Compustat items.\n",
    "\n",
    "Here is examples of usage:"
   ],
   "metadata": {
    "collapsed": false
   }
  },
  {
   "cell_type": "code",
   "execution_count": 7,
   "outputs": [
    {
     "data": {
      "text/plain": "      item                      description\n0  IVSTCHY  Short-Term Investments - Change\n1     CHEQ  Cash and Short-Term Investments\n2    ALTOQ           Other Long-term Assets\n3    IVLTQ      Total Long-term Investments\n4    DLTTQ           Long-Term Debt - Total\n5    DLTRY       Long-Term Debt - Reduction\n6   DLTISY        Long-Term Debt - Issuance",
      "text/html": "<div>\n<style scoped>\n    .dataframe tbody tr th:only-of-type {\n        vertical-align: middle;\n    }\n\n    .dataframe tbody tr th {\n        vertical-align: top;\n    }\n\n    .dataframe thead th {\n        text-align: right;\n    }\n</style>\n<table border=\"1\" class=\"dataframe\">\n  <thead>\n    <tr style=\"text-align: right;\">\n      <th></th>\n      <th>item</th>\n      <th>description</th>\n    </tr>\n  </thead>\n  <tbody>\n    <tr>\n      <th>0</th>\n      <td>IVSTCHY</td>\n      <td>Short-Term Investments - Change</td>\n    </tr>\n    <tr>\n      <th>1</th>\n      <td>CHEQ</td>\n      <td>Cash and Short-Term Investments</td>\n    </tr>\n    <tr>\n      <th>2</th>\n      <td>ALTOQ</td>\n      <td>Other Long-term Assets</td>\n    </tr>\n    <tr>\n      <th>3</th>\n      <td>IVLTQ</td>\n      <td>Total Long-term Investments</td>\n    </tr>\n    <tr>\n      <th>4</th>\n      <td>DLTTQ</td>\n      <td>Long-Term Debt - Total</td>\n    </tr>\n    <tr>\n      <th>5</th>\n      <td>DLTRY</td>\n      <td>Long-Term Debt - Reduction</td>\n    </tr>\n    <tr>\n      <th>6</th>\n      <td>DLTISY</td>\n      <td>Long-Term Debt - Issuance</td>\n    </tr>\n  </tbody>\n</table>\n</div>"
     },
     "metadata": {},
     "output_type": "execute_result",
     "execution_count": 7
    }
   ],
   "source": [
    "item_mapper = p1_edg.CompustatItemMapper(token=TOKEN,\n",
    "                                         base_url=TEST_BASE_URL)\n",
    "item_mapper.get_item_from_keywords(\n",
    "            keywords=['short-term', 'short term'])"
   ],
   "metadata": {
    "collapsed": false,
    "pycharm": {
     "name": "#%%\n",
     "is_executing": false
    }
   }
  },
  {
   "cell_type": "code",
   "execution_count": 8,
   "outputs": [
    {
     "data": {
      "text/plain": "         item                                      description\n0      ACCHGQ           Accounting Changes / Cumulative Effect\n1    ACOMINCQ    Accumulated Other Comprehensive Income (Loss)\n2        ACOQ                   Current Assets - Other - Total\n3        ACTQ                           Current Assets - Total\n4       ADRRQ                                        ADR Ratio\n..        ...                                              ...\n167     XIDOQ  Extraordinary Items and Discontinued Operations\n168     XINTQ              Interest and Related Expense- Total\n169       XIQ                              Extraordinary Items\n170      XRDQ                 Research and Development Expense\n171     XSGAQ     Selling, General and Administrative Expenses\n\n[172 rows x 2 columns]",
      "text/html": "<div>\n<style scoped>\n    .dataframe tbody tr th:only-of-type {\n        vertical-align: middle;\n    }\n\n    .dataframe tbody tr th {\n        vertical-align: top;\n    }\n\n    .dataframe thead th {\n        text-align: right;\n    }\n</style>\n<table border=\"1\" class=\"dataframe\">\n  <thead>\n    <tr style=\"text-align: right;\">\n      <th></th>\n      <th>item</th>\n      <th>description</th>\n    </tr>\n  </thead>\n  <tbody>\n    <tr>\n      <th>0</th>\n      <td>ACCHGQ</td>\n      <td>Accounting Changes / Cumulative Effect</td>\n    </tr>\n    <tr>\n      <th>1</th>\n      <td>ACOMINCQ</td>\n      <td>Accumulated Other Comprehensive Income (Loss)</td>\n    </tr>\n    <tr>\n      <th>2</th>\n      <td>ACOQ</td>\n      <td>Current Assets - Other - Total</td>\n    </tr>\n    <tr>\n      <th>3</th>\n      <td>ACTQ</td>\n      <td>Current Assets - Total</td>\n    </tr>\n    <tr>\n      <th>4</th>\n      <td>ADRRQ</td>\n      <td>ADR Ratio</td>\n    </tr>\n    <tr>\n      <th>...</th>\n      <td>...</td>\n      <td>...</td>\n    </tr>\n    <tr>\n      <th>167</th>\n      <td>XIDOQ</td>\n      <td>Extraordinary Items and Discontinued Operations</td>\n    </tr>\n    <tr>\n      <th>168</th>\n      <td>XINTQ</td>\n      <td>Interest and Related Expense- Total</td>\n    </tr>\n    <tr>\n      <th>169</th>\n      <td>XIQ</td>\n      <td>Extraordinary Items</td>\n    </tr>\n    <tr>\n      <th>170</th>\n      <td>XRDQ</td>\n      <td>Research and Development Expense</td>\n    </tr>\n    <tr>\n      <th>171</th>\n      <td>XSGAQ</td>\n      <td>Selling, General and Administrative Expenses</td>\n    </tr>\n  </tbody>\n</table>\n<p>172 rows × 2 columns</p>\n</div>"
     },
     "metadata": {},
     "output_type": "execute_result",
     "execution_count": 8
    }
   ],
   "source": [
    "item_mapper.get_mapping()"
   ],
   "metadata": {
    "collapsed": false,
    "pycharm": {
     "name": "#%%\n",
     "is_executing": false
    }
   }
  },
  {
   "cell_type": "markdown",
   "metadata": {},
   "source": [
    "\n",
    "<a id=\"payload\"></a>\n",
    "## Payload data\n",
    "\n",
    "After collecting all necessary identifiers all together\n",
    "we ready to download payload data.\n",
    "\n",
    "Let's see how we can do it by next examples:"
   ]
  },
  {
   "cell_type": "code",
   "execution_count": 10,
   "metadata": {
    "pycharm": {
     "is_executing": false,
     "name": "#%%\n"
    }
   },
   "outputs": [
    {
     "data": {
      "text/plain": "                                                  url      cik filing_date  \\\n0   https://www.sec.gov/Archives/edgar/data/100291...  1002910  2020-11-04   \n1   https://www.sec.gov/Archives/edgar/data/100291...  1002910  2020-11-04   \n2   https://www.sec.gov/Archives/edgar/data/100291...  1002910  2020-11-04   \n3   https://www.sec.gov/Archives/edgar/data/100291...  1002910  2020-11-04   \n4   https://www.sec.gov/Archives/edgar/data/100291...  1002910  2020-11-04   \n5   https://www.sec.gov/Archives/edgar/data/100291...  1002910  2020-11-04   \n6   https://www.sec.gov/Archives/edgar/data/100291...  1002910  2020-11-04   \n7   https://www.sec.gov/Archives/edgar/data/100291...  1002910  2020-11-04   \n8   https://www.sec.gov/Archives/edgar/data/100291...  1002910  2020-11-04   \n9   https://www.sec.gov/Archives/edgar/data/100291...  1002910  2020-11-04   \n10  https://www.sec.gov/Archives/edgar/data/100291...  1002910  2020-11-04   \n11  https://www.sec.gov/Archives/edgar/data/100291...  1002910  2020-11-04   \n12  https://www.sec.gov/Archives/edgar/data/100291...  1002910  2020-11-04   \n13  https://www.sec.gov/Archives/edgar/data/100291...  1002910  2020-11-04   \n14  https://www.sec.gov/Archives/edgar/data/100291...  1002910  2020-11-04   \n15  https://www.sec.gov/Archives/edgar/data/100291...  1002910  2020-11-04   \n16  https://www.sec.gov/Archives/edgar/data/100291...  1002910  2020-11-04   \n17  https://www.sec.gov/Archives/edgar/data/100291...  1002910  2020-11-04   \n18  https://www.sec.gov/Archives/edgar/data/100291...  1002910  2020-11-04   \n19  https://www.sec.gov/Archives/edgar/data/100291...  1002910  2020-11-04   \n20  https://www.sec.gov/Archives/edgar/data/100291...  1002910  2020-11-04   \n21  https://www.sec.gov/Archives/edgar/data/100291...  1002910  2020-11-04   \n22  https://www.sec.gov/Archives/edgar/data/100291...  1002910  2020-11-04   \n23  https://www.sec.gov/Archives/edgar/data/100291...  1002910  2020-11-04   \n24  https://www.sec.gov/Archives/edgar/data/100291...  1002910  2020-11-04   \n25  https://www.sec.gov/Archives/edgar/data/100291...  1002910  2020-11-04   \n26  https://www.sec.gov/Archives/edgar/data/100291...  1002910  2020-11-04   \n27  https://www.sec.gov/Archives/edgar/data/100291...  1002910  2020-11-04   \n28  https://www.sec.gov/Archives/edgar/data/100291...  1002910  2020-11-04   \n29  https://www.sec.gov/Archives/edgar/data/100291...  1002910  2020-11-04   \n30  https://www.sec.gov/Archives/edgar/data/100291...  1002910  2020-11-04   \n31  https://www.sec.gov/Archives/edgar/data/100291...  1002910  2020-11-04   \n32  https://www.sec.gov/Archives/edgar/data/100291...  1002910  2020-11-04   \n33  https://www.sec.gov/Archives/edgar/data/100291...  1002910  2020-11-04   \n34  https://www.sec.gov/Archives/edgar/data/100291...  1002910  2020-11-04   \n35  https://www.sec.gov/Archives/edgar/data/100291...  1002910  2020-11-04   \n36  https://www.sec.gov/Archives/edgar/data/100291...  1002910  2020-11-04   \n37  https://www.sec.gov/Archives/edgar/data/100291...  1002910  2020-11-04   \n38  https://www.sec.gov/Archives/edgar/data/100291...  1002910  2020-11-04   \n39  https://www.sec.gov/Archives/edgar/data/100291...  1002910  2020-11-04   \n40  https://www.sec.gov/Archives/edgar/data/100291...  1002910  2020-11-04   \n41  https://www.sec.gov/Archives/edgar/data/100291...  1002910  2020-11-04   \n42  https://www.sec.gov/Archives/edgar/data/100291...  1002910  2020-11-04   \n43  https://www.sec.gov/Archives/edgar/data/100291...  1002910  2020-11-04   \n\n    internal_timestamp    item  \\\n0         1.604528e+09     NIQ   \n1         1.604528e+09     NIQ   \n2         1.604528e+09     NIQ   \n3         1.604528e+09  OIBDPQ   \n4         1.604528e+09  OIBDPQ   \n5         1.604528e+09  OIBDPQ   \n6         1.604528e+09  OIBDPQ   \n7         1.604528e+09  OIBDPQ   \n8         1.604528e+09  OIBDPQ   \n9         1.604528e+09  OIBDPQ   \n10        1.604528e+09  OIBDPQ   \n11        1.604528e+09  OIBDPQ   \n12        1.604528e+09  OIBDPQ   \n13        1.604528e+09  OIBDPQ   \n14        1.604528e+09  OIBDPQ   \n15        1.604528e+09  OIBDPQ   \n16        1.604528e+09  OIBDPQ   \n17        1.604528e+09  OIBDPQ   \n18        1.604528e+09     NIQ   \n19        1.604528e+09  OIBDPQ   \n20        1.604528e+09  OIBDPQ   \n21        1.604528e+09  OIBDPQ   \n22        1.604528e+09     NIQ   \n23        1.604528e+09     NIQ   \n24        1.604528e+09     NIQ   \n25        1.604528e+09  OIBDPQ   \n26        1.604528e+09  OIBDPQ   \n27        1.604528e+09  OIBDPQ   \n28        1.604528e+09  OIBDPQ   \n29        1.604528e+09  OIBDPQ   \n30        1.604528e+09  OIBDPQ   \n31        1.604528e+09  OIBDPQ   \n32        1.604528e+09  OIBDPQ   \n33        1.604528e+09  OIBDPQ   \n34        1.604528e+09  OIBDPQ   \n35        1.604528e+09  OIBDPQ   \n36        1.604528e+09  OIBDPQ   \n37        1.604528e+09  OIBDPQ   \n38        1.604528e+09  OIBDPQ   \n39        1.604528e+09  OIBDPQ   \n40        1.604528e+09     NIQ   \n41        1.604528e+09  OIBDPQ   \n42        1.604528e+09  OIBDPQ   \n43        1.604528e+09  OIBDPQ   \n\n                                       table_row_name  extracted_value  \\\n0                                          Net Income           369.00   \n1   Less: Net Income Attributable to Noncontrollin...             2.00   \n2   Net Income Attributable to Ameren Common Share...           367.00   \n3                            Total operating revenues          1628.00   \n4                    Other operations and maintenance           418.00   \n5                       Taxes other than income taxes           128.00   \n6                            Total operating expenses          1134.00   \n7                                    Operating Income           494.00   \n8                                   Other Income, Net            48.00   \n9                          Income Before Income Taxes           432.00   \n10                                       Income Taxes            63.00   \n11                                         Net Income           369.00   \n12  Less: Net Income Attributable to Noncontrollin...             2.00   \n13  Net Income Attributable to Ameren Common Share...           367.00   \n14                  Earnings per Common Share – Basic             1.48   \n15                Earnings per Common Share – Diluted             1.47   \n16  Accumulated deferred income taxes and investme...          3151.00   \n17                                  Retained earnings          2769.00   \n18                                         Net income           761.00   \n19                                         Net income           761.00   \n20  Deferred income taxes and investment tax credi...           125.00   \n21          Net cash provided by operating activities          1329.00   \n22                                         Net Income           369.00   \n23  Less: Net Income Attributable to Noncontrollin...             2.00   \n24  Net Income Attributable to Ameren Common Share...           367.00   \n25                           Total operating revenues          1628.00   \n26                   Other operations and maintenance           418.00   \n27                      Taxes other than income taxes           128.00   \n28                           Total operating expenses          1134.00   \n29                                   Operating Income           494.00   \n30                                  Other Income, Net            48.00   \n31                         Income Before Income Taxes           432.00   \n32                                       Income Taxes            63.00   \n33                                         Net Income           369.00   \n34  Less: Net Income Attributable to Noncontrollin...             2.00   \n35  Net Income Attributable to Ameren Common Share...           367.00   \n36                  Earnings per Common Share – Basic             1.48   \n37                Earnings per Common Share – Diluted             1.47   \n38  Accumulated deferred income taxes and investme...          3151.00   \n39                                  Retained earnings          2769.00   \n40                                         Net income           761.00   \n41                                         Net income           761.00   \n42  Deferred income taxes and investment tax credi...           125.00   \n43          Net cash provided by operating activities          1329.00   \n\n                 period  \n0   2020-11-04T00:00:00  \n1   2020-11-04T00:00:00  \n2   2020-11-04T00:00:00  \n3   2020-11-04T00:00:00  \n4   2020-11-04T00:00:00  \n5   2020-11-04T00:00:00  \n6   2020-11-04T00:00:00  \n7   2020-11-04T00:00:00  \n8   2020-11-04T00:00:00  \n9   2020-11-04T00:00:00  \n10  2020-11-04T00:00:00  \n11  2020-11-04T00:00:00  \n12  2020-11-04T00:00:00  \n13  2020-11-04T00:00:00  \n14  2020-11-04T00:00:00  \n15  2020-11-04T00:00:00  \n16  2020-11-04T00:00:00  \n17  2020-11-04T00:00:00  \n18  2020-11-04T00:00:00  \n19  2020-11-04T00:00:00  \n20  2020-11-04T00:00:00  \n21  2020-11-04T00:00:00  \n22  2020-11-04T00:00:00  \n23  2020-11-04T00:00:00  \n24  2020-11-04T00:00:00  \n25  2020-11-04T00:00:00  \n26  2020-11-04T00:00:00  \n27  2020-11-04T00:00:00  \n28  2020-11-04T00:00:00  \n29  2020-11-04T00:00:00  \n30  2020-11-04T00:00:00  \n31  2020-11-04T00:00:00  \n32  2020-11-04T00:00:00  \n33  2020-11-04T00:00:00  \n34  2020-11-04T00:00:00  \n35  2020-11-04T00:00:00  \n36  2020-11-04T00:00:00  \n37  2020-11-04T00:00:00  \n38  2020-11-04T00:00:00  \n39  2020-11-04T00:00:00  \n40  2020-11-04T00:00:00  \n41  2020-11-04T00:00:00  \n42  2020-11-04T00:00:00  \n43  2020-11-04T00:00:00  ",
      "text/html": "<div>\n<style scoped>\n    .dataframe tbody tr th:only-of-type {\n        vertical-align: middle;\n    }\n\n    .dataframe tbody tr th {\n        vertical-align: top;\n    }\n\n    .dataframe thead th {\n        text-align: right;\n    }\n</style>\n<table border=\"1\" class=\"dataframe\">\n  <thead>\n    <tr style=\"text-align: right;\">\n      <th></th>\n      <th>url</th>\n      <th>cik</th>\n      <th>filing_date</th>\n      <th>internal_timestamp</th>\n      <th>item</th>\n      <th>table_row_name</th>\n      <th>extracted_value</th>\n      <th>period</th>\n    </tr>\n  </thead>\n  <tbody>\n    <tr>\n      <th>0</th>\n      <td>https://www.sec.gov/Archives/edgar/data/100291...</td>\n      <td>1002910</td>\n      <td>2020-11-04</td>\n      <td>1.604528e+09</td>\n      <td>NIQ</td>\n      <td>Net Income</td>\n      <td>369.00</td>\n      <td>2020-11-04T00:00:00</td>\n    </tr>\n    <tr>\n      <th>1</th>\n      <td>https://www.sec.gov/Archives/edgar/data/100291...</td>\n      <td>1002910</td>\n      <td>2020-11-04</td>\n      <td>1.604528e+09</td>\n      <td>NIQ</td>\n      <td>Less: Net Income Attributable to Noncontrollin...</td>\n      <td>2.00</td>\n      <td>2020-11-04T00:00:00</td>\n    </tr>\n    <tr>\n      <th>2</th>\n      <td>https://www.sec.gov/Archives/edgar/data/100291...</td>\n      <td>1002910</td>\n      <td>2020-11-04</td>\n      <td>1.604528e+09</td>\n      <td>NIQ</td>\n      <td>Net Income Attributable to Ameren Common Share...</td>\n      <td>367.00</td>\n      <td>2020-11-04T00:00:00</td>\n    </tr>\n    <tr>\n      <th>3</th>\n      <td>https://www.sec.gov/Archives/edgar/data/100291...</td>\n      <td>1002910</td>\n      <td>2020-11-04</td>\n      <td>1.604528e+09</td>\n      <td>OIBDPQ</td>\n      <td>Total operating revenues</td>\n      <td>1628.00</td>\n      <td>2020-11-04T00:00:00</td>\n    </tr>\n    <tr>\n      <th>4</th>\n      <td>https://www.sec.gov/Archives/edgar/data/100291...</td>\n      <td>1002910</td>\n      <td>2020-11-04</td>\n      <td>1.604528e+09</td>\n      <td>OIBDPQ</td>\n      <td>Other operations and maintenance</td>\n      <td>418.00</td>\n      <td>2020-11-04T00:00:00</td>\n    </tr>\n    <tr>\n      <th>5</th>\n      <td>https://www.sec.gov/Archives/edgar/data/100291...</td>\n      <td>1002910</td>\n      <td>2020-11-04</td>\n      <td>1.604528e+09</td>\n      <td>OIBDPQ</td>\n      <td>Taxes other than income taxes</td>\n      <td>128.00</td>\n      <td>2020-11-04T00:00:00</td>\n    </tr>\n    <tr>\n      <th>6</th>\n      <td>https://www.sec.gov/Archives/edgar/data/100291...</td>\n      <td>1002910</td>\n      <td>2020-11-04</td>\n      <td>1.604528e+09</td>\n      <td>OIBDPQ</td>\n      <td>Total operating expenses</td>\n      <td>1134.00</td>\n      <td>2020-11-04T00:00:00</td>\n    </tr>\n    <tr>\n      <th>7</th>\n      <td>https://www.sec.gov/Archives/edgar/data/100291...</td>\n      <td>1002910</td>\n      <td>2020-11-04</td>\n      <td>1.604528e+09</td>\n      <td>OIBDPQ</td>\n      <td>Operating Income</td>\n      <td>494.00</td>\n      <td>2020-11-04T00:00:00</td>\n    </tr>\n    <tr>\n      <th>8</th>\n      <td>https://www.sec.gov/Archives/edgar/data/100291...</td>\n      <td>1002910</td>\n      <td>2020-11-04</td>\n      <td>1.604528e+09</td>\n      <td>OIBDPQ</td>\n      <td>Other Income, Net</td>\n      <td>48.00</td>\n      <td>2020-11-04T00:00:00</td>\n    </tr>\n    <tr>\n      <th>9</th>\n      <td>https://www.sec.gov/Archives/edgar/data/100291...</td>\n      <td>1002910</td>\n      <td>2020-11-04</td>\n      <td>1.604528e+09</td>\n      <td>OIBDPQ</td>\n      <td>Income Before Income Taxes</td>\n      <td>432.00</td>\n      <td>2020-11-04T00:00:00</td>\n    </tr>\n    <tr>\n      <th>10</th>\n      <td>https://www.sec.gov/Archives/edgar/data/100291...</td>\n      <td>1002910</td>\n      <td>2020-11-04</td>\n      <td>1.604528e+09</td>\n      <td>OIBDPQ</td>\n      <td>Income Taxes</td>\n      <td>63.00</td>\n      <td>2020-11-04T00:00:00</td>\n    </tr>\n    <tr>\n      <th>11</th>\n      <td>https://www.sec.gov/Archives/edgar/data/100291...</td>\n      <td>1002910</td>\n      <td>2020-11-04</td>\n      <td>1.604528e+09</td>\n      <td>OIBDPQ</td>\n      <td>Net Income</td>\n      <td>369.00</td>\n      <td>2020-11-04T00:00:00</td>\n    </tr>\n    <tr>\n      <th>12</th>\n      <td>https://www.sec.gov/Archives/edgar/data/100291...</td>\n      <td>1002910</td>\n      <td>2020-11-04</td>\n      <td>1.604528e+09</td>\n      <td>OIBDPQ</td>\n      <td>Less: Net Income Attributable to Noncontrollin...</td>\n      <td>2.00</td>\n      <td>2020-11-04T00:00:00</td>\n    </tr>\n    <tr>\n      <th>13</th>\n      <td>https://www.sec.gov/Archives/edgar/data/100291...</td>\n      <td>1002910</td>\n      <td>2020-11-04</td>\n      <td>1.604528e+09</td>\n      <td>OIBDPQ</td>\n      <td>Net Income Attributable to Ameren Common Share...</td>\n      <td>367.00</td>\n      <td>2020-11-04T00:00:00</td>\n    </tr>\n    <tr>\n      <th>14</th>\n      <td>https://www.sec.gov/Archives/edgar/data/100291...</td>\n      <td>1002910</td>\n      <td>2020-11-04</td>\n      <td>1.604528e+09</td>\n      <td>OIBDPQ</td>\n      <td>Earnings per Common Share – Basic</td>\n      <td>1.48</td>\n      <td>2020-11-04T00:00:00</td>\n    </tr>\n    <tr>\n      <th>15</th>\n      <td>https://www.sec.gov/Archives/edgar/data/100291...</td>\n      <td>1002910</td>\n      <td>2020-11-04</td>\n      <td>1.604528e+09</td>\n      <td>OIBDPQ</td>\n      <td>Earnings per Common Share – Diluted</td>\n      <td>1.47</td>\n      <td>2020-11-04T00:00:00</td>\n    </tr>\n    <tr>\n      <th>16</th>\n      <td>https://www.sec.gov/Archives/edgar/data/100291...</td>\n      <td>1002910</td>\n      <td>2020-11-04</td>\n      <td>1.604528e+09</td>\n      <td>OIBDPQ</td>\n      <td>Accumulated deferred income taxes and investme...</td>\n      <td>3151.00</td>\n      <td>2020-11-04T00:00:00</td>\n    </tr>\n    <tr>\n      <th>17</th>\n      <td>https://www.sec.gov/Archives/edgar/data/100291...</td>\n      <td>1002910</td>\n      <td>2020-11-04</td>\n      <td>1.604528e+09</td>\n      <td>OIBDPQ</td>\n      <td>Retained earnings</td>\n      <td>2769.00</td>\n      <td>2020-11-04T00:00:00</td>\n    </tr>\n    <tr>\n      <th>18</th>\n      <td>https://www.sec.gov/Archives/edgar/data/100291...</td>\n      <td>1002910</td>\n      <td>2020-11-04</td>\n      <td>1.604528e+09</td>\n      <td>NIQ</td>\n      <td>Net income</td>\n      <td>761.00</td>\n      <td>2020-11-04T00:00:00</td>\n    </tr>\n    <tr>\n      <th>19</th>\n      <td>https://www.sec.gov/Archives/edgar/data/100291...</td>\n      <td>1002910</td>\n      <td>2020-11-04</td>\n      <td>1.604528e+09</td>\n      <td>OIBDPQ</td>\n      <td>Net income</td>\n      <td>761.00</td>\n      <td>2020-11-04T00:00:00</td>\n    </tr>\n    <tr>\n      <th>20</th>\n      <td>https://www.sec.gov/Archives/edgar/data/100291...</td>\n      <td>1002910</td>\n      <td>2020-11-04</td>\n      <td>1.604528e+09</td>\n      <td>OIBDPQ</td>\n      <td>Deferred income taxes and investment tax credi...</td>\n      <td>125.00</td>\n      <td>2020-11-04T00:00:00</td>\n    </tr>\n    <tr>\n      <th>21</th>\n      <td>https://www.sec.gov/Archives/edgar/data/100291...</td>\n      <td>1002910</td>\n      <td>2020-11-04</td>\n      <td>1.604528e+09</td>\n      <td>OIBDPQ</td>\n      <td>Net cash provided by operating activities</td>\n      <td>1329.00</td>\n      <td>2020-11-04T00:00:00</td>\n    </tr>\n    <tr>\n      <th>22</th>\n      <td>https://www.sec.gov/Archives/edgar/data/100291...</td>\n      <td>1002910</td>\n      <td>2020-11-04</td>\n      <td>1.604528e+09</td>\n      <td>NIQ</td>\n      <td>Net Income</td>\n      <td>369.00</td>\n      <td>2020-11-04T00:00:00</td>\n    </tr>\n    <tr>\n      <th>23</th>\n      <td>https://www.sec.gov/Archives/edgar/data/100291...</td>\n      <td>1002910</td>\n      <td>2020-11-04</td>\n      <td>1.604528e+09</td>\n      <td>NIQ</td>\n      <td>Less: Net Income Attributable to Noncontrollin...</td>\n      <td>2.00</td>\n      <td>2020-11-04T00:00:00</td>\n    </tr>\n    <tr>\n      <th>24</th>\n      <td>https://www.sec.gov/Archives/edgar/data/100291...</td>\n      <td>1002910</td>\n      <td>2020-11-04</td>\n      <td>1.604528e+09</td>\n      <td>NIQ</td>\n      <td>Net Income Attributable to Ameren Common Share...</td>\n      <td>367.00</td>\n      <td>2020-11-04T00:00:00</td>\n    </tr>\n    <tr>\n      <th>25</th>\n      <td>https://www.sec.gov/Archives/edgar/data/100291...</td>\n      <td>1002910</td>\n      <td>2020-11-04</td>\n      <td>1.604528e+09</td>\n      <td>OIBDPQ</td>\n      <td>Total operating revenues</td>\n      <td>1628.00</td>\n      <td>2020-11-04T00:00:00</td>\n    </tr>\n    <tr>\n      <th>26</th>\n      <td>https://www.sec.gov/Archives/edgar/data/100291...</td>\n      <td>1002910</td>\n      <td>2020-11-04</td>\n      <td>1.604528e+09</td>\n      <td>OIBDPQ</td>\n      <td>Other operations and maintenance</td>\n      <td>418.00</td>\n      <td>2020-11-04T00:00:00</td>\n    </tr>\n    <tr>\n      <th>27</th>\n      <td>https://www.sec.gov/Archives/edgar/data/100291...</td>\n      <td>1002910</td>\n      <td>2020-11-04</td>\n      <td>1.604528e+09</td>\n      <td>OIBDPQ</td>\n      <td>Taxes other than income taxes</td>\n      <td>128.00</td>\n      <td>2020-11-04T00:00:00</td>\n    </tr>\n    <tr>\n      <th>28</th>\n      <td>https://www.sec.gov/Archives/edgar/data/100291...</td>\n      <td>1002910</td>\n      <td>2020-11-04</td>\n      <td>1.604528e+09</td>\n      <td>OIBDPQ</td>\n      <td>Total operating expenses</td>\n      <td>1134.00</td>\n      <td>2020-11-04T00:00:00</td>\n    </tr>\n    <tr>\n      <th>29</th>\n      <td>https://www.sec.gov/Archives/edgar/data/100291...</td>\n      <td>1002910</td>\n      <td>2020-11-04</td>\n      <td>1.604528e+09</td>\n      <td>OIBDPQ</td>\n      <td>Operating Income</td>\n      <td>494.00</td>\n      <td>2020-11-04T00:00:00</td>\n    </tr>\n    <tr>\n      <th>30</th>\n      <td>https://www.sec.gov/Archives/edgar/data/100291...</td>\n      <td>1002910</td>\n      <td>2020-11-04</td>\n      <td>1.604528e+09</td>\n      <td>OIBDPQ</td>\n      <td>Other Income, Net</td>\n      <td>48.00</td>\n      <td>2020-11-04T00:00:00</td>\n    </tr>\n    <tr>\n      <th>31</th>\n      <td>https://www.sec.gov/Archives/edgar/data/100291...</td>\n      <td>1002910</td>\n      <td>2020-11-04</td>\n      <td>1.604528e+09</td>\n      <td>OIBDPQ</td>\n      <td>Income Before Income Taxes</td>\n      <td>432.00</td>\n      <td>2020-11-04T00:00:00</td>\n    </tr>\n    <tr>\n      <th>32</th>\n      <td>https://www.sec.gov/Archives/edgar/data/100291...</td>\n      <td>1002910</td>\n      <td>2020-11-04</td>\n      <td>1.604528e+09</td>\n      <td>OIBDPQ</td>\n      <td>Income Taxes</td>\n      <td>63.00</td>\n      <td>2020-11-04T00:00:00</td>\n    </tr>\n    <tr>\n      <th>33</th>\n      <td>https://www.sec.gov/Archives/edgar/data/100291...</td>\n      <td>1002910</td>\n      <td>2020-11-04</td>\n      <td>1.604528e+09</td>\n      <td>OIBDPQ</td>\n      <td>Net Income</td>\n      <td>369.00</td>\n      <td>2020-11-04T00:00:00</td>\n    </tr>\n    <tr>\n      <th>34</th>\n      <td>https://www.sec.gov/Archives/edgar/data/100291...</td>\n      <td>1002910</td>\n      <td>2020-11-04</td>\n      <td>1.604528e+09</td>\n      <td>OIBDPQ</td>\n      <td>Less: Net Income Attributable to Noncontrollin...</td>\n      <td>2.00</td>\n      <td>2020-11-04T00:00:00</td>\n    </tr>\n    <tr>\n      <th>35</th>\n      <td>https://www.sec.gov/Archives/edgar/data/100291...</td>\n      <td>1002910</td>\n      <td>2020-11-04</td>\n      <td>1.604528e+09</td>\n      <td>OIBDPQ</td>\n      <td>Net Income Attributable to Ameren Common Share...</td>\n      <td>367.00</td>\n      <td>2020-11-04T00:00:00</td>\n    </tr>\n    <tr>\n      <th>36</th>\n      <td>https://www.sec.gov/Archives/edgar/data/100291...</td>\n      <td>1002910</td>\n      <td>2020-11-04</td>\n      <td>1.604528e+09</td>\n      <td>OIBDPQ</td>\n      <td>Earnings per Common Share – Basic</td>\n      <td>1.48</td>\n      <td>2020-11-04T00:00:00</td>\n    </tr>\n    <tr>\n      <th>37</th>\n      <td>https://www.sec.gov/Archives/edgar/data/100291...</td>\n      <td>1002910</td>\n      <td>2020-11-04</td>\n      <td>1.604528e+09</td>\n      <td>OIBDPQ</td>\n      <td>Earnings per Common Share – Diluted</td>\n      <td>1.47</td>\n      <td>2020-11-04T00:00:00</td>\n    </tr>\n    <tr>\n      <th>38</th>\n      <td>https://www.sec.gov/Archives/edgar/data/100291...</td>\n      <td>1002910</td>\n      <td>2020-11-04</td>\n      <td>1.604528e+09</td>\n      <td>OIBDPQ</td>\n      <td>Accumulated deferred income taxes and investme...</td>\n      <td>3151.00</td>\n      <td>2020-11-04T00:00:00</td>\n    </tr>\n    <tr>\n      <th>39</th>\n      <td>https://www.sec.gov/Archives/edgar/data/100291...</td>\n      <td>1002910</td>\n      <td>2020-11-04</td>\n      <td>1.604528e+09</td>\n      <td>OIBDPQ</td>\n      <td>Retained earnings</td>\n      <td>2769.00</td>\n      <td>2020-11-04T00:00:00</td>\n    </tr>\n    <tr>\n      <th>40</th>\n      <td>https://www.sec.gov/Archives/edgar/data/100291...</td>\n      <td>1002910</td>\n      <td>2020-11-04</td>\n      <td>1.604528e+09</td>\n      <td>NIQ</td>\n      <td>Net income</td>\n      <td>761.00</td>\n      <td>2020-11-04T00:00:00</td>\n    </tr>\n    <tr>\n      <th>41</th>\n      <td>https://www.sec.gov/Archives/edgar/data/100291...</td>\n      <td>1002910</td>\n      <td>2020-11-04</td>\n      <td>1.604528e+09</td>\n      <td>OIBDPQ</td>\n      <td>Net income</td>\n      <td>761.00</td>\n      <td>2020-11-04T00:00:00</td>\n    </tr>\n    <tr>\n      <th>42</th>\n      <td>https://www.sec.gov/Archives/edgar/data/100291...</td>\n      <td>1002910</td>\n      <td>2020-11-04</td>\n      <td>1.604528e+09</td>\n      <td>OIBDPQ</td>\n      <td>Deferred income taxes and investment tax credi...</td>\n      <td>125.00</td>\n      <td>2020-11-04T00:00:00</td>\n    </tr>\n    <tr>\n      <th>43</th>\n      <td>https://www.sec.gov/Archives/edgar/data/100291...</td>\n      <td>1002910</td>\n      <td>2020-11-04</td>\n      <td>1.604528e+09</td>\n      <td>OIBDPQ</td>\n      <td>Net cash provided by operating activities</td>\n      <td>1329.00</td>\n      <td>2020-11-04T00:00:00</td>\n    </tr>\n  </tbody>\n</table>\n</div>"
     },
     "metadata": {},
     "output_type": "execute_result",
     "execution_count": 10
    }
   ],
   "source": [
    "client.get_payload(form_name='8-K',\n",
    "                   cik=1002910,\n",
    "                   start_date='2021-11-04',\n",
    "                   end_date='2020-11-04',\n",
    "                   items=['OIBDPQ', 'NIQ']\n",
    "                   )"
   ]
  },
  {
   "cell_type": "markdown",
   "metadata": {
    "pycharm": {
     "name": "#%% md\n"
    }
   },
   "source": [
    "Ok, time to figure out what search criteria we used to:\n",
    "\n",
    "- form_name: Edgar form short code\n",
    "- cik: Company Identification Key \n",
    "- start_date and end_date: limit our selection by dates\n",
    "- items: list of items that we want to see in a result set.\n",
    "\n",
    "Keep in mind: if we specify too broad range of search,\n",
    "then result could by quite huge.\n"
   ]
  }
 ],
 "metadata": {
  "kernelspec": {
   "display_name": "Python 3",
   "language": "python",
   "name": "python3"
  },
  "language_info": {
   "codemirror_mode": {
    "name": "ipython",
    "version": 3
   },
   "file_extension": ".py",
   "mimetype": "text/x-python",
   "name": "python",
   "nbconvert_exporter": "python",
   "pygments_lexer": "ipython3",
   "version": "3.7.3"
  },
  "pycharm": {
   "stem_cell": {
    "cell_type": "raw",
    "source": [],
    "metadata": {
     "collapsed": false
    }
   }
  },
  "toc": {
   "base_numbering": 1,
   "nav_menu": {},
   "number_sections": true,
   "sideBar": true,
   "skip_h1_title": false,
   "title_cell": "Table of Contents",
   "title_sidebar": "Contents",
   "toc_cell": false,
   "toc_position": {},
   "toc_section_display": true,
   "toc_window_display": false
  },
  "varInspector": {
   "cols": {
    "lenName": 16,
    "lenType": 16,
    "lenVar": 40
   },
   "kernels_config": {
    "python": {
     "delete_cmd_postfix": "",
     "delete_cmd_prefix": "del ",
     "library": "var_list.py",
     "varRefreshCmd": "print(var_dic_list())"
    },
    "r": {
     "delete_cmd_postfix": ") ",
     "delete_cmd_prefix": "rm(",
     "library": "var_list.r",
     "varRefreshCmd": "cat(var_dic_list()) "
    }
   },
   "types_to_exclude": [
    "module",
    "function",
    "builtin_function_or_method",
    "instance",
    "_Feature"
   ],
   "window_display": false
  }
 },
 "nbformat": 4,
 "nbformat_minor": 1
}
