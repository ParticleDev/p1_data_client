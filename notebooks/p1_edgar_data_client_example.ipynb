{
 "cells": [
  {
   "cell_type": "markdown",
   "metadata": {
    "pycharm": {
     "name": "#%% md\n"
    }
   },
   "source": [
    "# P1 Edgar data client for REST API"
   ]
  },
  {
   "cell_type": "markdown",
   "metadata": {},
   "source": [
    "## Initialization"
   ]
  },
  {
   "cell_type": "code",
   "execution_count": 1,
   "metadata": {
    "ExecuteTime": {
     "end_time": "2020-12-06T13:35:23.356431Z",
     "start_time": "2020-12-06T13:35:22.988694Z"
    },
    "pycharm": {
     "is_executing": false,
     "name": "#%%\n"
    }
   },
   "outputs": [
    {
     "name": "stdout",
     "output_type": "stream",
     "text": [
      "P1_API_URL= https://data.particle.one/edgar/v2/\n",
      "P1_API_TOKEN= 8c9c9458b145202c7a6b6cceaabd82023e957a46d6cf7061ed8e1c94a168f2fd\n"
     ]
    }
   ],
   "source": [
    "import os\n",
    "\n",
    "import p1_data_client_python.edgar_client as p1_edg\n",
    "\n",
    "# Enter your token here.\n",
    "# You can get your token by signing up at `www.particle.one`.\n",
    "#TOKEN = \"YOUR_TOKEN_HERE\"\n",
    "# An example token is like:\n",
    "P1_API_URL = os.environ[\"P1_EDGAR_API_URL\"]\n",
    "print(\"P1_API_URL=\", P1_API_URL)\n",
    "\n",
    "P1_API_TOKEN = os.environ[\"P1_EDGAR_API_TOKEN\"]\n",
    "print(\"P1_API_TOKEN=\", P1_API_TOKEN)"
   ]
  },
  {
   "cell_type": "markdown",
   "metadata": {},
   "source": [
    "## Quick start\n",
    "\n",
    "There are 3 steps: \n",
    "1. Get information about company identifiers \n",
    "2. Get information about financial items available\n",
    "3. Download data\n",
    "\n",
    "## Mappers\n",
    "\n",
    "### GvkCikMapper\n",
    "\n",
    "It handles CIK <-> GVK transformation."
   ]
  },
  {
   "cell_type": "code",
   "execution_count": 2,
   "metadata": {
    "ExecuteTime": {
     "end_time": "2020-12-06T13:35:24.212799Z",
     "start_time": "2020-12-06T13:35:23.358738Z"
    },
    "pycharm": {
     "is_executing": false,
     "name": "#%%\n"
    }
   },
   "outputs": [
    {
     "data": {
      "text/html": [
       "<div>\n",
       "<style scoped>\n",
       "    .dataframe tbody tr th:only-of-type {\n",
       "        vertical-align: middle;\n",
       "    }\n",
       "\n",
       "    .dataframe tbody tr th {\n",
       "        vertical-align: top;\n",
       "    }\n",
       "\n",
       "    .dataframe thead th {\n",
       "        text-align: right;\n",
       "    }\n",
       "</style>\n",
       "<table border=\"1\" class=\"dataframe\">\n",
       "  <thead>\n",
       "    <tr style=\"text-align: right;\">\n",
       "      <th></th>\n",
       "      <th>cik</th>\n",
       "      <th>effdate</th>\n",
       "      <th>thrudate</th>\n",
       "      <th>gvk</th>\n",
       "    </tr>\n",
       "  </thead>\n",
       "  <tbody>\n",
       "    <tr>\n",
       "      <th>0</th>\n",
       "      <td>0000940800</td>\n",
       "      <td>2007-01-18T00:00:00</td>\n",
       "      <td>2007-03-14T23:59:59</td>\n",
       "      <td>061411</td>\n",
       "    </tr>\n",
       "  </tbody>\n",
       "</table>\n",
       "</div>"
      ],
      "text/plain": [
       "          cik              effdate             thrudate     gvk\n",
       "0  0000940800  2007-01-18T00:00:00  2007-03-14T23:59:59  061411"
      ]
     },
     "execution_count": 2,
     "metadata": {},
     "output_type": "execute_result"
    }
   ],
   "source": [
    "gvk_mapper = p1_edg.GvkCikMapper(base_url=P1_API_URL, token=P1_API_TOKEN)\n",
    "gvk_mapper.get_gvk_from_cik(cik=940800, as_of_date='2007-01-18')"
   ]
  },
  {
   "cell_type": "code",
   "execution_count": 3,
   "metadata": {
    "ExecuteTime": {
     "end_time": "2020-12-06T13:35:24.867026Z",
     "start_time": "2020-12-06T13:35:24.214833Z"
    },
    "pycharm": {
     "is_executing": false,
     "name": "#%%\n"
    }
   },
   "outputs": [
    {
     "data": {
      "text/html": [
       "<div>\n",
       "<style scoped>\n",
       "    .dataframe tbody tr th:only-of-type {\n",
       "        vertical-align: middle;\n",
       "    }\n",
       "\n",
       "    .dataframe tbody tr th {\n",
       "        vertical-align: top;\n",
       "    }\n",
       "\n",
       "    .dataframe thead th {\n",
       "        text-align: right;\n",
       "    }\n",
       "</style>\n",
       "<table border=\"1\" class=\"dataframe\">\n",
       "  <thead>\n",
       "    <tr style=\"text-align: right;\">\n",
       "      <th></th>\n",
       "      <th>cik</th>\n",
       "      <th>effdate</th>\n",
       "      <th>thrudate</th>\n",
       "      <th>gvk</th>\n",
       "    </tr>\n",
       "  </thead>\n",
       "  <tbody>\n",
       "    <tr>\n",
       "      <th>0</th>\n",
       "      <td>0000940800</td>\n",
       "      <td>2007-01-18T00:00:00</td>\n",
       "      <td>2007-03-14T23:59:59</td>\n",
       "      <td>061411</td>\n",
       "    </tr>\n",
       "  </tbody>\n",
       "</table>\n",
       "</div>"
      ],
      "text/plain": [
       "          cik              effdate             thrudate     gvk\n",
       "0  0000940800  2007-01-18T00:00:00  2007-03-14T23:59:59  061411"
      ]
     },
     "execution_count": 3,
     "metadata": {},
     "output_type": "execute_result"
    }
   ],
   "source": [
    "gvk_mapper.get_cik_from_gvk(gvk=61411, as_of_date='2007-01-18')"
   ]
  },
  {
   "cell_type": "markdown",
   "metadata": {},
   "source": [
    "### ItemMapper\n",
    "\n",
    "It provides mapping between keywords and description of Compustat items."
   ]
  },
  {
   "cell_type": "code",
   "execution_count": 4,
   "metadata": {
    "ExecuteTime": {
     "end_time": "2020-12-06T13:35:24.993391Z",
     "start_time": "2020-12-06T13:35:24.868835Z"
    },
    "pycharm": {
     "is_executing": false,
     "name": "#%%\n"
    }
   },
   "outputs": [
    {
     "data": {
      "text/html": [
       "<div>\n",
       "<style scoped>\n",
       "    .dataframe tbody tr th:only-of-type {\n",
       "        vertical-align: middle;\n",
       "    }\n",
       "\n",
       "    .dataframe tbody tr th {\n",
       "        vertical-align: top;\n",
       "    }\n",
       "\n",
       "    .dataframe thead th {\n",
       "        text-align: right;\n",
       "    }\n",
       "</style>\n",
       "<table border=\"1\" class=\"dataframe\">\n",
       "  <thead>\n",
       "    <tr style=\"text-align: right;\">\n",
       "      <th></th>\n",
       "      <th>item</th>\n",
       "      <th>description</th>\n",
       "    </tr>\n",
       "  </thead>\n",
       "  <tbody>\n",
       "    <tr>\n",
       "      <th>0</th>\n",
       "      <td>IVSTCH_YEAR</td>\n",
       "      <td>Short-Term Investments - Change</td>\n",
       "    </tr>\n",
       "    <tr>\n",
       "      <th>1</th>\n",
       "      <td>CHE_QUARTER</td>\n",
       "      <td>Cash and Short-Term Investments</td>\n",
       "    </tr>\n",
       "    <tr>\n",
       "      <th>2</th>\n",
       "      <td>ALTO_QUARTER</td>\n",
       "      <td>Other Long-term Assets</td>\n",
       "    </tr>\n",
       "    <tr>\n",
       "      <th>3</th>\n",
       "      <td>IVLT_QUARTER</td>\n",
       "      <td>Total Long-term Investments</td>\n",
       "    </tr>\n",
       "    <tr>\n",
       "      <th>4</th>\n",
       "      <td>DLTT_QUARTER</td>\n",
       "      <td>Long-Term Debt - Total</td>\n",
       "    </tr>\n",
       "    <tr>\n",
       "      <th>5</th>\n",
       "      <td>DLTR_YEAR</td>\n",
       "      <td>Long-Term Debt - Reduction</td>\n",
       "    </tr>\n",
       "    <tr>\n",
       "      <th>6</th>\n",
       "      <td>DLTIS_YEAR</td>\n",
       "      <td>Long-Term Debt - Issuance</td>\n",
       "    </tr>\n",
       "  </tbody>\n",
       "</table>\n",
       "</div>"
      ],
      "text/plain": [
       "           item                      description\n",
       "0   IVSTCH_YEAR  Short-Term Investments - Change\n",
       "1   CHE_QUARTER  Cash and Short-Term Investments\n",
       "2  ALTO_QUARTER           Other Long-term Assets\n",
       "3  IVLT_QUARTER      Total Long-term Investments\n",
       "4  DLTT_QUARTER           Long-Term Debt - Total\n",
       "5     DLTR_YEAR       Long-Term Debt - Reduction\n",
       "6    DLTIS_YEAR        Long-Term Debt - Issuance"
      ]
     },
     "execution_count": 4,
     "metadata": {},
     "output_type": "execute_result"
    }
   ],
   "source": [
    "item_mapper = p1_edg.ItemMapper(base_url=P1_API_URL, token=P1_API_TOKEN)\n",
    "item_mapper.get_item_from_keywords(\n",
    "            keywords=['short-term', 'short term'])"
   ]
  },
  {
   "cell_type": "code",
   "execution_count": 5,
   "metadata": {
    "ExecuteTime": {
     "end_time": "2020-12-06T13:35:25.075227Z",
     "start_time": "2020-12-06T13:35:24.995102Z"
    },
    "pycharm": {
     "is_executing": false,
     "name": "#%%\n"
    }
   },
   "outputs": [
    {
     "data": {
      "text/html": [
       "<div>\n",
       "<style scoped>\n",
       "    .dataframe tbody tr th:only-of-type {\n",
       "        vertical-align: middle;\n",
       "    }\n",
       "\n",
       "    .dataframe tbody tr th {\n",
       "        vertical-align: top;\n",
       "    }\n",
       "\n",
       "    .dataframe thead th {\n",
       "        text-align: right;\n",
       "    }\n",
       "</style>\n",
       "<table border=\"1\" class=\"dataframe\">\n",
       "  <thead>\n",
       "    <tr style=\"text-align: right;\">\n",
       "      <th></th>\n",
       "      <th>item</th>\n",
       "      <th>description</th>\n",
       "    </tr>\n",
       "  </thead>\n",
       "  <tbody>\n",
       "    <tr>\n",
       "      <th>0</th>\n",
       "      <td>ACCHG_QUARTER</td>\n",
       "      <td>Accounting Changes / Cumulative Effect</td>\n",
       "    </tr>\n",
       "    <tr>\n",
       "      <th>1</th>\n",
       "      <td>ACOMINC_QUARTER</td>\n",
       "      <td>Accumulated Other Comprehensive Income (Loss)</td>\n",
       "    </tr>\n",
       "    <tr>\n",
       "      <th>2</th>\n",
       "      <td>ACO_QUARTER</td>\n",
       "      <td>Current Assets - Other - Total</td>\n",
       "    </tr>\n",
       "    <tr>\n",
       "      <th>3</th>\n",
       "      <td>ACT_QUARTER</td>\n",
       "      <td>Current Assets - Total</td>\n",
       "    </tr>\n",
       "    <tr>\n",
       "      <th>4</th>\n",
       "      <td>ADRR_QUARTER</td>\n",
       "      <td>ADR Ratio</td>\n",
       "    </tr>\n",
       "    <tr>\n",
       "      <th>...</th>\n",
       "      <td>...</td>\n",
       "      <td>...</td>\n",
       "    </tr>\n",
       "    <tr>\n",
       "      <th>167</th>\n",
       "      <td>XIDO_QUARTER</td>\n",
       "      <td>Extraordinary Items and Discontinued Operations</td>\n",
       "    </tr>\n",
       "    <tr>\n",
       "      <th>168</th>\n",
       "      <td>XINT_QUARTER</td>\n",
       "      <td>Interest and Related Expense- Total</td>\n",
       "    </tr>\n",
       "    <tr>\n",
       "      <th>169</th>\n",
       "      <td>XI_QUARTER</td>\n",
       "      <td>Extraordinary Items</td>\n",
       "    </tr>\n",
       "    <tr>\n",
       "      <th>170</th>\n",
       "      <td>XRD_QUARTER</td>\n",
       "      <td>Research and Development Expense</td>\n",
       "    </tr>\n",
       "    <tr>\n",
       "      <th>171</th>\n",
       "      <td>XSGA_QUARTER</td>\n",
       "      <td>Selling, General and Administrative Expenses</td>\n",
       "    </tr>\n",
       "  </tbody>\n",
       "</table>\n",
       "<p>172 rows × 2 columns</p>\n",
       "</div>"
      ],
      "text/plain": [
       "                item                                      description\n",
       "0      ACCHG_QUARTER           Accounting Changes / Cumulative Effect\n",
       "1    ACOMINC_QUARTER    Accumulated Other Comprehensive Income (Loss)\n",
       "2        ACO_QUARTER                   Current Assets - Other - Total\n",
       "3        ACT_QUARTER                           Current Assets - Total\n",
       "4       ADRR_QUARTER                                        ADR Ratio\n",
       "..               ...                                              ...\n",
       "167     XIDO_QUARTER  Extraordinary Items and Discontinued Operations\n",
       "168     XINT_QUARTER              Interest and Related Expense- Total\n",
       "169       XI_QUARTER                              Extraordinary Items\n",
       "170      XRD_QUARTER                 Research and Development Expense\n",
       "171     XSGA_QUARTER     Selling, General and Administrative Expenses\n",
       "\n",
       "[172 rows x 2 columns]"
      ]
     },
     "execution_count": 5,
     "metadata": {},
     "output_type": "execute_result"
    }
   ],
   "source": [
    "item_mapper.get_mapping()"
   ]
  },
  {
   "cell_type": "markdown",
   "metadata": {},
   "source": [
    "## Payload data"
   ]
  },
  {
   "cell_type": "markdown",
   "metadata": {},
   "source": [
    "### Form8"
   ]
  },
  {
   "cell_type": "code",
   "execution_count": 6,
   "metadata": {
    "ExecuteTime": {
     "end_time": "2020-12-06T13:35:25.217887Z",
     "start_time": "2020-12-06T13:35:25.077160Z"
    },
    "pycharm": {
     "is_executing": false,
     "name": "#%%\n"
    }
   },
   "outputs": [
    {
     "data": {
      "text/html": [
       "<div>\n",
       "<style scoped>\n",
       "    .dataframe tbody tr th:only-of-type {\n",
       "        vertical-align: middle;\n",
       "    }\n",
       "\n",
       "    .dataframe tbody tr th {\n",
       "        vertical-align: top;\n",
       "    }\n",
       "\n",
       "    .dataframe thead th {\n",
       "        text-align: right;\n",
       "    }\n",
       "</style>\n",
       "<table border=\"1\" class=\"dataframe\">\n",
       "  <thead>\n",
       "    <tr style=\"text-align: right;\">\n",
       "      <th></th>\n",
       "      <th>form_uuid</th>\n",
       "      <th>filing_url</th>\n",
       "      <th>form_publication_timestamp</th>\n",
       "      <th>filing_date</th>\n",
       "      <th>creation_timestamp</th>\n",
       "      <th>cik</th>\n",
       "      <th>ticker</th>\n",
       "      <th>item_name</th>\n",
       "      <th>form_table_row_name</th>\n",
       "      <th>item_value</th>\n",
       "      <th>compustat_timestamp</th>\n",
       "      <th>period_of_report</th>\n",
       "      <th>compustat_coifnd_id</th>\n",
       "      <th>gvk</th>\n",
       "    </tr>\n",
       "  </thead>\n",
       "  <tbody>\n",
       "    <tr>\n",
       "      <th>0</th>\n",
       "      <td>514be1a9-88d1-426b-be7e-d7b5a0ff64e6</td>\n",
       "      <td>https://www.sec.gov/Archives/edgar/data/18498/...</td>\n",
       "      <td>2020-03-12T11:45:58</td>\n",
       "      <td>2020-03-12</td>\n",
       "      <td>2020-06-12 23:49:03.580</td>\n",
       "      <td>18498</td>\n",
       "      <td>GCO</td>\n",
       "      <td>ACT_QUARTER</td>\n",
       "      <td>Total current assets</td>\n",
       "      <td>508.18300000000005</td>\n",
       "      <td>2020-03-12T20:00:00</td>\n",
       "      <td>2020-01-31T00:00:00</td>\n",
       "      <td>10099821</td>\n",
       "      <td>5109</td>\n",
       "    </tr>\n",
       "    <tr>\n",
       "      <th>1</th>\n",
       "      <td>70a8c7b9-d0a7-4c41-902c-89d84d3b9122</td>\n",
       "      <td>https://www.sec.gov/Archives/edgar/data/18498/...</td>\n",
       "      <td>2020-06-09T11:21:05</td>\n",
       "      <td>2020-06-09</td>\n",
       "      <td>2020-12-01 17:13:22.396</td>\n",
       "      <td>18498</td>\n",
       "      <td>GCO</td>\n",
       "      <td>ACT_QUARTER</td>\n",
       "      <td>Total current assets</td>\n",
       "      <td>735.008</td>\n",
       "      <td>2020-06-09T20:00:00</td>\n",
       "      <td>2020-04-30T00:00:00</td>\n",
       "      <td>10164135</td>\n",
       "      <td>5109</td>\n",
       "    </tr>\n",
       "    <tr>\n",
       "      <th>2</th>\n",
       "      <td>30cc5db5-e9ce-4d43-830b-d5d5a94b201a</td>\n",
       "      <td>https://www.sec.gov/Archives/edgar/data/18498/...</td>\n",
       "      <td>2020-09-03T11:30:54</td>\n",
       "      <td>2020-09-03</td>\n",
       "      <td>2020-09-03 11:32:58.186</td>\n",
       "      <td>18498</td>\n",
       "      <td>GCO</td>\n",
       "      <td>ACT_QUARTER</td>\n",
       "      <td>Total current assets</td>\n",
       "      <td>777.658</td>\n",
       "      <td>None</td>\n",
       "      <td>2020-07-31T00:00:00</td>\n",
       "      <td></td>\n",
       "      <td>5109</td>\n",
       "    </tr>\n",
       "  </tbody>\n",
       "</table>\n",
       "</div>"
      ],
      "text/plain": [
       "                              form_uuid  \\\n",
       "0  514be1a9-88d1-426b-be7e-d7b5a0ff64e6   \n",
       "1  70a8c7b9-d0a7-4c41-902c-89d84d3b9122   \n",
       "2  30cc5db5-e9ce-4d43-830b-d5d5a94b201a   \n",
       "\n",
       "                                          filing_url  \\\n",
       "0  https://www.sec.gov/Archives/edgar/data/18498/...   \n",
       "1  https://www.sec.gov/Archives/edgar/data/18498/...   \n",
       "2  https://www.sec.gov/Archives/edgar/data/18498/...   \n",
       "\n",
       "  form_publication_timestamp filing_date      creation_timestamp    cik  \\\n",
       "0        2020-03-12T11:45:58  2020-03-12 2020-06-12 23:49:03.580  18498   \n",
       "1        2020-06-09T11:21:05  2020-06-09 2020-12-01 17:13:22.396  18498   \n",
       "2        2020-09-03T11:30:54  2020-09-03 2020-09-03 11:32:58.186  18498   \n",
       "\n",
       "  ticker    item_name   form_table_row_name          item_value  \\\n",
       "0    GCO  ACT_QUARTER  Total current assets  508.18300000000005   \n",
       "1    GCO  ACT_QUARTER  Total current assets             735.008   \n",
       "2    GCO  ACT_QUARTER  Total current assets             777.658   \n",
       "\n",
       "   compustat_timestamp     period_of_report compustat_coifnd_id   gvk  \n",
       "0  2020-03-12T20:00:00  2020-01-31T00:00:00            10099821  5109  \n",
       "1  2020-06-09T20:00:00  2020-04-30T00:00:00            10164135  5109  \n",
       "2                 None  2020-07-31T00:00:00                      5109  "
      ]
     },
     "execution_count": 6,
     "metadata": {},
     "output_type": "execute_result"
    }
   ],
   "source": [
    "client = p1_edg.EdgarClient(base_url=P1_API_URL, token=P1_API_TOKEN)\n",
    "\n",
    "client.get_payload(\n",
    "            form_name=\"form8k\",\n",
    "            cik=18498,\n",
    "            start_date=\"2020-01-04\",\n",
    "            end_date=\"2020-12-04\",\n",
    "            item=\"ACT_QUARTER\",\n",
    "        )"
   ]
  },
  {
   "cell_type": "code",
   "execution_count": 7,
   "metadata": {
    "ExecuteTime": {
     "end_time": "2020-12-06T13:35:26.101350Z",
     "start_time": "2020-12-06T13:35:25.221213Z"
    },
    "pycharm": {
     "is_executing": false,
     "name": "#%%\n"
    }
   },
   "outputs": [
    {
     "data": {
      "text/html": [
       "<div>\n",
       "<style scoped>\n",
       "    .dataframe tbody tr th:only-of-type {\n",
       "        vertical-align: middle;\n",
       "    }\n",
       "\n",
       "    .dataframe tbody tr th {\n",
       "        vertical-align: top;\n",
       "    }\n",
       "\n",
       "    .dataframe thead th {\n",
       "        text-align: right;\n",
       "    }\n",
       "</style>\n",
       "<table border=\"1\" class=\"dataframe\">\n",
       "  <thead>\n",
       "    <tr style=\"text-align: right;\">\n",
       "      <th></th>\n",
       "      <th>form_uuid</th>\n",
       "      <th>filing_url</th>\n",
       "      <th>form_publication_timestamp</th>\n",
       "      <th>filing_date</th>\n",
       "      <th>creation_timestamp</th>\n",
       "      <th>cik</th>\n",
       "      <th>ticker</th>\n",
       "      <th>item_name</th>\n",
       "      <th>form_table_row_name</th>\n",
       "      <th>item_value</th>\n",
       "      <th>compustat_timestamp</th>\n",
       "      <th>period_of_report</th>\n",
       "      <th>compustat_coifnd_id</th>\n",
       "      <th>gvk</th>\n",
       "    </tr>\n",
       "  </thead>\n",
       "  <tbody>\n",
       "    <tr>\n",
       "      <th>0</th>\n",
       "      <td>9f600236-5a62-4861-bcf3-59c2e884cd90</td>\n",
       "      <td>https://www.sec.gov/Archives/edgar/data/5768/0...</td>\n",
       "      <td>2010-02-09T21:17:04</td>\n",
       "      <td>2010-02-09</td>\n",
       "      <td>2020-06-12 22:52:22.626</td>\n",
       "      <td>5768</td>\n",
       "      <td>ASEI</td>\n",
       "      <td>ACO_QUARTER</td>\n",
       "      <td>Other current assets</td>\n",
       "      <td>14.109000000000002</td>\n",
       "      <td>None</td>\n",
       "      <td>2009-12-31T00:00:00</td>\n",
       "      <td>7007593</td>\n",
       "      <td>1554</td>\n",
       "    </tr>\n",
       "    <tr>\n",
       "      <th>1</th>\n",
       "      <td>9f600236-5a62-4861-bcf3-59c2e884cd90</td>\n",
       "      <td>https://www.sec.gov/Archives/edgar/data/5768/0...</td>\n",
       "      <td>2010-02-09T21:17:04</td>\n",
       "      <td>2010-02-09</td>\n",
       "      <td>2020-06-12 22:52:22.626</td>\n",
       "      <td>5768</td>\n",
       "      <td>ASEI</td>\n",
       "      <td>AO_QUARTER</td>\n",
       "      <td>Other assets</td>\n",
       "      <td>5.257999999999999</td>\n",
       "      <td>None</td>\n",
       "      <td>2009-12-31T00:00:00</td>\n",
       "      <td>7007593</td>\n",
       "      <td>1554</td>\n",
       "    </tr>\n",
       "    <tr>\n",
       "      <th>2</th>\n",
       "      <td>9f600236-5a62-4861-bcf3-59c2e884cd90</td>\n",
       "      <td>https://www.sec.gov/Archives/edgar/data/5768/0...</td>\n",
       "      <td>2010-02-09T21:17:04</td>\n",
       "      <td>2010-02-09</td>\n",
       "      <td>2020-06-12 22:52:22.626</td>\n",
       "      <td>5768</td>\n",
       "      <td>ASEI</td>\n",
       "      <td>INVT_QUARTER</td>\n",
       "      <td>Inventories</td>\n",
       "      <td>47.305</td>\n",
       "      <td>None</td>\n",
       "      <td>2009-12-31T00:00:00</td>\n",
       "      <td>7007593</td>\n",
       "      <td>1554</td>\n",
       "    </tr>\n",
       "    <tr>\n",
       "      <th>3</th>\n",
       "      <td>9f600236-5a62-4861-bcf3-59c2e884cd90</td>\n",
       "      <td>https://www.sec.gov/Archives/edgar/data/5768/0...</td>\n",
       "      <td>2010-02-09T21:17:04</td>\n",
       "      <td>2010-02-09</td>\n",
       "      <td>2020-06-12 22:52:22.626</td>\n",
       "      <td>5768</td>\n",
       "      <td>ASEI</td>\n",
       "      <td>LT_QUARTER</td>\n",
       "      <td>Total liabilities</td>\n",
       "      <td>64.296</td>\n",
       "      <td>2010-02-10T05:00:00</td>\n",
       "      <td>2009-12-31T00:00:00</td>\n",
       "      <td>7007593</td>\n",
       "      <td>1554</td>\n",
       "    </tr>\n",
       "    <tr>\n",
       "      <th>4</th>\n",
       "      <td>9b8180b0-6fd8-4628-841e-e7340fc3a6fc</td>\n",
       "      <td>https://www.sec.gov/Archives/edgar/data/18498/...</td>\n",
       "      <td>2010-03-04T13:05:44</td>\n",
       "      <td>2010-03-04</td>\n",
       "      <td>2020-06-12 22:52:26.607</td>\n",
       "      <td>18498</td>\n",
       "      <td>GCO</td>\n",
       "      <td>ACO_QUARTER</td>\n",
       "      <td>Other current assets</td>\n",
       "      <td>49.733000000000004</td>\n",
       "      <td>2010-03-05T05:00:00</td>\n",
       "      <td>2010-01-31T00:00:00</td>\n",
       "      <td>7035518</td>\n",
       "      <td>5109</td>\n",
       "    </tr>\n",
       "    <tr>\n",
       "      <th>...</th>\n",
       "      <td>...</td>\n",
       "      <td>...</td>\n",
       "      <td>...</td>\n",
       "      <td>...</td>\n",
       "      <td>...</td>\n",
       "      <td>...</td>\n",
       "      <td>...</td>\n",
       "      <td>...</td>\n",
       "      <td>...</td>\n",
       "      <td>...</td>\n",
       "      <td>...</td>\n",
       "      <td>...</td>\n",
       "      <td>...</td>\n",
       "      <td>...</td>\n",
       "    </tr>\n",
       "    <tr>\n",
       "      <th>911</th>\n",
       "      <td>30cc5db5-e9ce-4d43-830b-d5d5a94b201a</td>\n",
       "      <td>https://www.sec.gov/Archives/edgar/data/18498/...</td>\n",
       "      <td>2020-09-03T11:30:54</td>\n",
       "      <td>2020-09-03</td>\n",
       "      <td>2020-09-03 11:32:58.186</td>\n",
       "      <td>18498</td>\n",
       "      <td>GCO</td>\n",
       "      <td>LCT_QUARTER</td>\n",
       "      <td>Total current liabilities</td>\n",
       "      <td>490.84</td>\n",
       "      <td>None</td>\n",
       "      <td>2020-07-31T00:00:00</td>\n",
       "      <td></td>\n",
       "      <td>5109</td>\n",
       "    </tr>\n",
       "    <tr>\n",
       "      <th>912</th>\n",
       "      <td>30cc5db5-e9ce-4d43-830b-d5d5a94b201a</td>\n",
       "      <td>https://www.sec.gov/Archives/edgar/data/18498/...</td>\n",
       "      <td>2020-09-03T11:30:54</td>\n",
       "      <td>2020-09-03</td>\n",
       "      <td>2020-09-03 11:32:58.186</td>\n",
       "      <td>18498</td>\n",
       "      <td>GCO</td>\n",
       "      <td>LO_QUARTER</td>\n",
       "      <td>Other long-term liabilities</td>\n",
       "      <td>38.552</td>\n",
       "      <td>None</td>\n",
       "      <td>2020-07-31T00:00:00</td>\n",
       "      <td></td>\n",
       "      <td>5109</td>\n",
       "    </tr>\n",
       "    <tr>\n",
       "      <th>913</th>\n",
       "      <td>30cc5db5-e9ce-4d43-830b-d5d5a94b201a</td>\n",
       "      <td>https://www.sec.gov/Archives/edgar/data/18498/...</td>\n",
       "      <td>2020-09-03T11:30:54</td>\n",
       "      <td>2020-09-03</td>\n",
       "      <td>2020-09-03 11:32:58.186</td>\n",
       "      <td>18498</td>\n",
       "      <td>GCO</td>\n",
       "      <td>RECT_QUARTER</td>\n",
       "      <td>Accounts receivable</td>\n",
       "      <td>54.793</td>\n",
       "      <td>None</td>\n",
       "      <td>2020-07-31T00:00:00</td>\n",
       "      <td></td>\n",
       "      <td>5109</td>\n",
       "    </tr>\n",
       "    <tr>\n",
       "      <th>914</th>\n",
       "      <td>3d0e68ab-6e3e-4bd7-8a7f-08634faa33a8</td>\n",
       "      <td>https://www.sec.gov/Archives/edgar/data/319201...</td>\n",
       "      <td>2020-10-28T20:39:33</td>\n",
       "      <td>2020-10-28</td>\n",
       "      <td>2020-10-28 20:40:45.962</td>\n",
       "      <td>319201</td>\n",
       "      <td>KLAC</td>\n",
       "      <td>NI_QUARTER</td>\n",
       "      <td>Net income attributable to KLA</td>\n",
       "      <td>420.56699999999995</td>\n",
       "      <td>2020-10-29T04:00:00</td>\n",
       "      <td>2020-09-30T00:00:00</td>\n",
       "      <td>10256672</td>\n",
       "      <td>6304</td>\n",
       "    </tr>\n",
       "    <tr>\n",
       "      <th>915</th>\n",
       "      <td>3d0e68ab-6e3e-4bd7-8a7f-08634faa33a8</td>\n",
       "      <td>https://www.sec.gov/Archives/edgar/data/319201...</td>\n",
       "      <td>2020-10-28T20:39:33</td>\n",
       "      <td>2020-10-28</td>\n",
       "      <td>2020-10-28 20:40:45.962</td>\n",
       "      <td>319201</td>\n",
       "      <td>KLAC</td>\n",
       "      <td>SALE_QUARTER</td>\n",
       "      <td>Total revenues</td>\n",
       "      <td>1538.62</td>\n",
       "      <td>2020-10-29T04:00:00</td>\n",
       "      <td>2020-09-30T00:00:00</td>\n",
       "      <td>10256672</td>\n",
       "      <td>6304</td>\n",
       "    </tr>\n",
       "  </tbody>\n",
       "</table>\n",
       "<p>916 rows × 14 columns</p>\n",
       "</div>"
      ],
      "text/plain": [
       "                                form_uuid  \\\n",
       "0    9f600236-5a62-4861-bcf3-59c2e884cd90   \n",
       "1    9f600236-5a62-4861-bcf3-59c2e884cd90   \n",
       "2    9f600236-5a62-4861-bcf3-59c2e884cd90   \n",
       "3    9f600236-5a62-4861-bcf3-59c2e884cd90   \n",
       "4    9b8180b0-6fd8-4628-841e-e7340fc3a6fc   \n",
       "..                                    ...   \n",
       "911  30cc5db5-e9ce-4d43-830b-d5d5a94b201a   \n",
       "912  30cc5db5-e9ce-4d43-830b-d5d5a94b201a   \n",
       "913  30cc5db5-e9ce-4d43-830b-d5d5a94b201a   \n",
       "914  3d0e68ab-6e3e-4bd7-8a7f-08634faa33a8   \n",
       "915  3d0e68ab-6e3e-4bd7-8a7f-08634faa33a8   \n",
       "\n",
       "                                            filing_url  \\\n",
       "0    https://www.sec.gov/Archives/edgar/data/5768/0...   \n",
       "1    https://www.sec.gov/Archives/edgar/data/5768/0...   \n",
       "2    https://www.sec.gov/Archives/edgar/data/5768/0...   \n",
       "3    https://www.sec.gov/Archives/edgar/data/5768/0...   \n",
       "4    https://www.sec.gov/Archives/edgar/data/18498/...   \n",
       "..                                                 ...   \n",
       "911  https://www.sec.gov/Archives/edgar/data/18498/...   \n",
       "912  https://www.sec.gov/Archives/edgar/data/18498/...   \n",
       "913  https://www.sec.gov/Archives/edgar/data/18498/...   \n",
       "914  https://www.sec.gov/Archives/edgar/data/319201...   \n",
       "915  https://www.sec.gov/Archives/edgar/data/319201...   \n",
       "\n",
       "    form_publication_timestamp filing_date      creation_timestamp     cik  \\\n",
       "0          2010-02-09T21:17:04  2010-02-09 2020-06-12 22:52:22.626    5768   \n",
       "1          2010-02-09T21:17:04  2010-02-09 2020-06-12 22:52:22.626    5768   \n",
       "2          2010-02-09T21:17:04  2010-02-09 2020-06-12 22:52:22.626    5768   \n",
       "3          2010-02-09T21:17:04  2010-02-09 2020-06-12 22:52:22.626    5768   \n",
       "4          2010-03-04T13:05:44  2010-03-04 2020-06-12 22:52:26.607   18498   \n",
       "..                         ...         ...                     ...     ...   \n",
       "911        2020-09-03T11:30:54  2020-09-03 2020-09-03 11:32:58.186   18498   \n",
       "912        2020-09-03T11:30:54  2020-09-03 2020-09-03 11:32:58.186   18498   \n",
       "913        2020-09-03T11:30:54  2020-09-03 2020-09-03 11:32:58.186   18498   \n",
       "914        2020-10-28T20:39:33  2020-10-28 2020-10-28 20:40:45.962  319201   \n",
       "915        2020-10-28T20:39:33  2020-10-28 2020-10-28 20:40:45.962  319201   \n",
       "\n",
       "    ticker     item_name             form_table_row_name          item_value  \\\n",
       "0     ASEI   ACO_QUARTER            Other current assets  14.109000000000002   \n",
       "1     ASEI    AO_QUARTER                    Other assets   5.257999999999999   \n",
       "2     ASEI  INVT_QUARTER                     Inventories              47.305   \n",
       "3     ASEI    LT_QUARTER               Total liabilities              64.296   \n",
       "4      GCO   ACO_QUARTER            Other current assets  49.733000000000004   \n",
       "..     ...           ...                             ...                 ...   \n",
       "911    GCO   LCT_QUARTER       Total current liabilities              490.84   \n",
       "912    GCO    LO_QUARTER     Other long-term liabilities              38.552   \n",
       "913    GCO  RECT_QUARTER             Accounts receivable              54.793   \n",
       "914   KLAC    NI_QUARTER  Net income attributable to KLA  420.56699999999995   \n",
       "915   KLAC  SALE_QUARTER                  Total revenues             1538.62   \n",
       "\n",
       "     compustat_timestamp     period_of_report compustat_coifnd_id   gvk  \n",
       "0                   None  2009-12-31T00:00:00             7007593  1554  \n",
       "1                   None  2009-12-31T00:00:00             7007593  1554  \n",
       "2                   None  2009-12-31T00:00:00             7007593  1554  \n",
       "3    2010-02-10T05:00:00  2009-12-31T00:00:00             7007593  1554  \n",
       "4    2010-03-05T05:00:00  2010-01-31T00:00:00             7035518  5109  \n",
       "..                   ...                  ...                 ...   ...  \n",
       "911                 None  2020-07-31T00:00:00                      5109  \n",
       "912                 None  2020-07-31T00:00:00                      5109  \n",
       "913                 None  2020-07-31T00:00:00                      5109  \n",
       "914  2020-10-29T04:00:00  2020-09-30T00:00:00            10256672  6304  \n",
       "915  2020-10-29T04:00:00  2020-09-30T00:00:00            10256672  6304  \n",
       "\n",
       "[916 rows x 14 columns]"
      ]
     },
     "execution_count": 7,
     "metadata": {},
     "output_type": "execute_result"
    }
   ],
   "source": [
    "client.get_payload(\n",
    "            form_name=\"form8k\",\n",
    "            cik=[18498, 319201, 5768]\n",
    "        )"
   ]
  },
  {
   "cell_type": "markdown",
   "metadata": {
    "ExecuteTime": {
     "end_time": "2020-12-06T13:40:05.559373Z",
     "start_time": "2020-12-06T13:39:16.943Z"
    }
   },
   "source": [
    "### Form10"
   ]
  },
  {
   "cell_type": "code",
   "execution_count": 10,
   "metadata": {
    "ExecuteTime": {
     "end_time": "2020-12-06T13:43:07.153155Z",
     "start_time": "2020-12-06T13:40:38.354408Z"
    }
   },
   "outputs": [],
   "source": [
    "payload = client.get_form10_payload(\n",
    "    cik=1002910,\n",
    "    start_date=\"2020-05-11\",\n",
    "    end_date=\"2020-05-12\",\n",
    ")"
   ]
  },
  {
   "cell_type": "code",
   "execution_count": 16,
   "metadata": {
    "ExecuteTime": {
     "end_time": "2020-12-06T13:44:49.559733Z",
     "start_time": "2020-12-06T13:44:49.556597Z"
    }
   },
   "outputs": [
    {
     "name": "stdout",
     "output_type": "stream",
     "text": [
      "len(payload)= 1\n",
      "payload[0].keys()= dict_keys(['meta', 'data'])\n"
     ]
    }
   ],
   "source": [
    "print(\"len(payload)=\", len(payload))\n",
    "print(\"payload[0].keys()=\", payload[0].keys())"
   ]
  },
  {
   "cell_type": "code",
   "execution_count": 14,
   "metadata": {
    "ExecuteTime": {
     "end_time": "2020-12-06T13:43:48.167310Z",
     "start_time": "2020-12-06T13:43:48.163297Z"
    }
   },
   "outputs": [
    {
     "data": {
      "text/plain": [
       "{'uuid': {'0': '981cfc73-7380-4093-8cd7-f0d6a845b3e4'},\n",
       " 'form_type': {'0': '10-Q'},\n",
       " 'cik': {'0': 1002910},\n",
       " 'filing_date': {'0': '2020-05-11'},\n",
       " 'filing_url': {'0': 'https://www.sec.gov/Archives/edgar/data/1002910/000100291020000115/0001002910-20-000115-index.html'}}"
      ]
     },
     "execution_count": 14,
     "metadata": {},
     "output_type": "execute_result"
    }
   ],
   "source": [
    "print(payload[0][\"meta\"])"
   ]
  },
  {
   "cell_type": "code",
   "execution_count": 25,
   "metadata": {
    "ExecuteTime": {
     "end_time": "2020-12-06T13:47:49.319215Z",
     "start_time": "2020-12-06T13:47:41.578397Z"
    }
   },
   "outputs": [
    {
     "name": "stdout",
     "output_type": "stream",
     "text": [
      "{'calculation': {'calculationLinkbase': [['linkRole',\n",
      "                                          {'definition': '1002000 - Statement '\n",
      "                                                         '- Consolidated '\n",
      "                                                         'Statement of Income '\n",
      "                                                         '(Loss) and '\n",
      "                                                         'Comprehensive Income '\n",
      "                                                         '(Loss)',\n",
      "                                           'role': 'http://www.ameren.com/role/ConsolidatedStatementOfIncomeLossAndComprehensiveIncomeLoss'},\n",
      "                                          {},\n",
      "                                          ['concept',\n",
      "                                           {'label': 'Net Income (Loss) '\n",
      "                                                     'Attributable to Parent',\n",
      "                                            'name': 'us-gaap:NetIncomeLoss'},\n",
      "                                           {'balance': 'credit'},\n",
      "                                           ['concept',\n",
      "                                            {'label': '(+1) Net Income (Loss), '\n",
      "                                                      'Including Portion '\n",
      "                                                      'Attributable to '\n",
      "                                                      'Noncontrolling Interest',\n",
      "                                             'name': 'us-gaap:ProfitLoss'},\n",
      "                                            {'balance': 'credit',\n",
      "                                             'weight': '1 '},\n",
      "                                            ['concept',\n",
      "                                             {'label': '(+1) Income (Loss) '\n",
      "                                                       'from Continuing '\n",
      "                                                       'Operations before '\n",
      "                                                       'Equity Method '\n",
      "                             \n"
     ]
    }
   ],
   "source": [
    "import pprint\n",
    "json_str = payload[0][\"data\"]\n",
    "print(pprint.pformat(payload[0][\"data\"])[:2000])"
   ]
  }
 ],
 "metadata": {
  "hide_input": false,
  "jupytext": {
   "text_representation": {
    "extension": ".py",
    "format_name": "percent",
    "format_version": "1.3",
    "jupytext_version": "1.4.2"
   }
  },
  "kernelspec": {
   "display_name": "Python 3",
   "language": "python",
   "name": "python3"
  },
  "language_info": {
   "codemirror_mode": {
    "name": "ipython",
    "version": 3
   },
   "file_extension": ".py",
   "mimetype": "text/x-python",
   "name": "python",
   "nbconvert_exporter": "python",
   "pygments_lexer": "ipython3",
   "version": "3.7.6"
  },
  "pycharm": {
   "stem_cell": {
    "cell_type": "raw",
    "metadata": {
     "collapsed": false
    },
    "source": []
   }
  },
  "toc": {
   "base_numbering": 1,
   "nav_menu": {},
   "number_sections": true,
   "sideBar": true,
   "skip_h1_title": false,
   "title_cell": "Table of Contents",
   "title_sidebar": "Contents",
   "toc_cell": false,
   "toc_position": {},
   "toc_section_display": true,
   "toc_window_display": false
  },
  "varInspector": {
   "cols": {
    "lenName": 16,
    "lenType": 16,
    "lenVar": 40
   },
   "kernels_config": {
    "python": {
     "delete_cmd_postfix": "",
     "delete_cmd_prefix": "del ",
     "library": "var_list.py",
     "varRefreshCmd": "print(var_dic_list())"
    },
    "r": {
     "delete_cmd_postfix": ") ",
     "delete_cmd_prefix": "rm(",
     "library": "var_list.r",
     "varRefreshCmd": "cat(var_dic_list()) "
    }
   },
   "types_to_exclude": [
    "module",
    "function",
    "builtin_function_or_method",
    "instance",
    "_Feature"
   ],
   "window_display": false
  }
 },
 "nbformat": 4,
 "nbformat_minor": 1
}
