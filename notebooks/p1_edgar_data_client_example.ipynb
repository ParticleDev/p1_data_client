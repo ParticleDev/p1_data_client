{
 "cells": [
  {
   "cell_type": "markdown",
   "metadata": {
    "pycharm": {
     "name": "#%% md\n"
    }
   },
   "source": [
    "# P1 Edgar data client for REST API"
   ]
  },
  {
   "cell_type": "markdown",
   "metadata": {},
   "source": [
    "## Initialization"
   ]
  },
  {
   "cell_type": "code",
   "execution_count": 9,
   "outputs": [
    {
     "name": "stdout",
     "text": [
      "env: P1_EDGAR_API_URL=https://data.particle.one/edgar/v2/\n",
      "env: P1_EDGAR_API_TOKEN=8c9c9458b145202c7a6b6cceaabd82023e957a46d6cf7061ed8e1c94a168f2fd\n"
     ],
     "output_type": "stream"
    }
   ],
   "source": [
    "%env P1_EDGAR_API_URL=https://data.particle.one/edgar/v2/\n",
    "%env P1_EDGAR_API_TOKEN=8c9c9458b145202c7a6b6cceaabd82023e957a46d6cf7061ed8e1c94a168f2fd"
   ],
   "metadata": {
    "collapsed": false,
    "pycharm": {
     "name": "#%%\n",
     "is_executing": false
    }
   }
  },
  {
   "cell_type": "code",
   "execution_count": 10,
   "metadata": {
    "ExecuteTime": {
     "end_time": "2020-11-22T01:55:31.086788Z",
     "start_time": "2020-11-22T01:55:30.697354Z"
    },
    "pycharm": {
     "is_executing": false,
     "name": "#%%\n"
    }
   },
   "outputs": [
    {
     "name": "stdout",
     "text": [
      "P1_API_URL= https://data.particle.one/edgar/v2/\n",
      "P1_API_TOKEN= 8c9c9458b145202c7a6b6cceaabd82023e957a46d6cf7061ed8e1c94a168f2fd\n"
     ],
     "output_type": "stream"
    }
   ],
   "source": [
    "import os\n",
    "\n",
    "import p1_data_client_python.edgar_client as p1_edg\n",
    "\n",
    "# Enter your token here.\n",
    "# You can get your token by signing up at `www.particle.one`.\n",
    "#TOKEN = \"YOUR_TOKEN_HERE\"\n",
    "# An example token is like:\n",
    "P1_API_URL = os.environ[\"P1_EDGAR_API_URL\"]\n",
    "print(\"P1_API_URL=\", P1_API_URL)\n",
    "\n",
    "P1_API_TOKEN = os.environ[\"P1_EDGAR_API_TOKEN\"]\n",
    "print(\"P1_API_TOKEN=\", P1_API_TOKEN)"
   ]
  },
  {
   "cell_type": "markdown",
   "metadata": {},
   "source": [
    "## Quick start\n",
    "\n",
    "There are 3 steps: \n",
    "1. Get information about ticker identifiers \n",
    "2. Get information about financial items available\n",
    "3. Download data\n",
    "\n",
    "## Mappers\n",
    "\n",
    "### GvkCikMapper\n",
    "\n",
    "It handles CIK <-> GVK transformation."
   ]
  },
  {
   "cell_type": "code",
   "execution_count": 11,
   "metadata": {
    "ExecuteTime": {
     "end_time": "2020-11-22T01:55:32.004868Z",
     "start_time": "2020-11-22T01:55:31.089939Z"
    },
    "pycharm": {
     "is_executing": false,
     "name": "#%%\n"
    }
   },
   "outputs": [
    {
     "data": {
      "text/plain": "          cik              effdate             thrudate     gvk\n0  0000940800  2007-01-18T00:00:00  2007-03-14T23:59:59  061411",
      "text/html": "<div>\n<style scoped>\n    .dataframe tbody tr th:only-of-type {\n        vertical-align: middle;\n    }\n\n    .dataframe tbody tr th {\n        vertical-align: top;\n    }\n\n    .dataframe thead th {\n        text-align: right;\n    }\n</style>\n<table border=\"1\" class=\"dataframe\">\n  <thead>\n    <tr style=\"text-align: right;\">\n      <th></th>\n      <th>cik</th>\n      <th>effdate</th>\n      <th>thrudate</th>\n      <th>gvk</th>\n    </tr>\n  </thead>\n  <tbody>\n    <tr>\n      <th>0</th>\n      <td>0000940800</td>\n      <td>2007-01-18T00:00:00</td>\n      <td>2007-03-14T23:59:59</td>\n      <td>061411</td>\n    </tr>\n  </tbody>\n</table>\n</div>"
     },
     "metadata": {},
     "output_type": "execute_result",
     "execution_count": 11
    }
   ],
   "source": [
    "gvk_mapper = p1_edg.GvkCikMapper(base_url=P1_API_URL, token=P1_API_TOKEN)\n",
    "gvk_mapper.get_gvk_from_cik(cik='0000940800', as_of_date='2007-01-18')"
   ]
  },
  {
   "cell_type": "code",
   "execution_count": 12,
   "metadata": {
    "ExecuteTime": {
     "end_time": "2020-11-22T01:55:32.732728Z",
     "start_time": "2020-11-22T01:55:32.007043Z"
    },
    "pycharm": {
     "is_executing": false,
     "name": "#%%\n"
    }
   },
   "outputs": [
    {
     "data": {
      "text/plain": "          cik              effdate             thrudate     gvk\n0  0000940800  2007-01-18T00:00:00  2007-03-14T23:59:59  061411",
      "text/html": "<div>\n<style scoped>\n    .dataframe tbody tr th:only-of-type {\n        vertical-align: middle;\n    }\n\n    .dataframe tbody tr th {\n        vertical-align: top;\n    }\n\n    .dataframe thead th {\n        text-align: right;\n    }\n</style>\n<table border=\"1\" class=\"dataframe\">\n  <thead>\n    <tr style=\"text-align: right;\">\n      <th></th>\n      <th>cik</th>\n      <th>effdate</th>\n      <th>thrudate</th>\n      <th>gvk</th>\n    </tr>\n  </thead>\n  <tbody>\n    <tr>\n      <th>0</th>\n      <td>0000940800</td>\n      <td>2007-01-18T00:00:00</td>\n      <td>2007-03-14T23:59:59</td>\n      <td>061411</td>\n    </tr>\n  </tbody>\n</table>\n</div>"
     },
     "metadata": {},
     "output_type": "execute_result",
     "execution_count": 12
    }
   ],
   "source": [
    "gvk_mapper.get_cik_from_gvk(gvk='061411', as_of_date='2007-01-18')"
   ]
  },
  {
   "cell_type": "markdown",
   "metadata": {},
   "source": [
    "### ItemMapper\n",
    "\n",
    "It provides mapping between keywords and description of Compustat items."
   ]
  },
  {
   "cell_type": "code",
   "execution_count": 13,
   "metadata": {
    "ExecuteTime": {
     "end_time": "2020-11-22T01:55:32.855261Z",
     "start_time": "2020-11-22T01:55:32.734392Z"
    },
    "pycharm": {
     "is_executing": false,
     "name": "#%%\n"
    }
   },
   "outputs": [
    {
     "data": {
      "text/plain": "      item                      description\n0  IVSTCHY  Short-Term Investments - Change\n1     CHEQ  Cash and Short-Term Investments\n2    ALTOQ           Other Long-term Assets\n3    IVLTQ      Total Long-term Investments\n4    DLTTQ           Long-Term Debt - Total\n5    DLTRY       Long-Term Debt - Reduction\n6   DLTISY        Long-Term Debt - Issuance",
      "text/html": "<div>\n<style scoped>\n    .dataframe tbody tr th:only-of-type {\n        vertical-align: middle;\n    }\n\n    .dataframe tbody tr th {\n        vertical-align: top;\n    }\n\n    .dataframe thead th {\n        text-align: right;\n    }\n</style>\n<table border=\"1\" class=\"dataframe\">\n  <thead>\n    <tr style=\"text-align: right;\">\n      <th></th>\n      <th>item</th>\n      <th>description</th>\n    </tr>\n  </thead>\n  <tbody>\n    <tr>\n      <th>0</th>\n      <td>IVSTCHY</td>\n      <td>Short-Term Investments - Change</td>\n    </tr>\n    <tr>\n      <th>1</th>\n      <td>CHEQ</td>\n      <td>Cash and Short-Term Investments</td>\n    </tr>\n    <tr>\n      <th>2</th>\n      <td>ALTOQ</td>\n      <td>Other Long-term Assets</td>\n    </tr>\n    <tr>\n      <th>3</th>\n      <td>IVLTQ</td>\n      <td>Total Long-term Investments</td>\n    </tr>\n    <tr>\n      <th>4</th>\n      <td>DLTTQ</td>\n      <td>Long-Term Debt - Total</td>\n    </tr>\n    <tr>\n      <th>5</th>\n      <td>DLTRY</td>\n      <td>Long-Term Debt - Reduction</td>\n    </tr>\n    <tr>\n      <th>6</th>\n      <td>DLTISY</td>\n      <td>Long-Term Debt - Issuance</td>\n    </tr>\n  </tbody>\n</table>\n</div>"
     },
     "metadata": {},
     "output_type": "execute_result",
     "execution_count": 13
    }
   ],
   "source": [
    "item_mapper = p1_edg.ItemMapper(base_url=P1_API_URL, token=P1_API_TOKEN)\n",
    "item_mapper.get_item_from_keywords(\n",
    "            keywords=['short-term', 'short term'])"
   ]
  },
  {
   "cell_type": "code",
   "execution_count": 14,
   "metadata": {
    "ExecuteTime": {
     "end_time": "2020-11-22T01:55:32.923256Z",
     "start_time": "2020-11-22T01:55:32.856857Z"
    },
    "pycharm": {
     "is_executing": false,
     "name": "#%%\n"
    }
   },
   "outputs": [
    {
     "data": {
      "text/plain": "         item                                      description\n0      ACCHGQ           Accounting Changes / Cumulative Effect\n1    ACOMINCQ    Accumulated Other Comprehensive Income (Loss)\n2        ACOQ                   Current Assets - Other - Total\n3        ACTQ                           Current Assets - Total\n4       ADRRQ                                        ADR Ratio\n..        ...                                              ...\n167     XIDOQ  Extraordinary Items and Discontinued Operations\n168     XINTQ              Interest and Related Expense- Total\n169       XIQ                              Extraordinary Items\n170      XRDQ                 Research and Development Expense\n171     XSGAQ     Selling, General and Administrative Expenses\n\n[172 rows x 2 columns]",
      "text/html": "<div>\n<style scoped>\n    .dataframe tbody tr th:only-of-type {\n        vertical-align: middle;\n    }\n\n    .dataframe tbody tr th {\n        vertical-align: top;\n    }\n\n    .dataframe thead th {\n        text-align: right;\n    }\n</style>\n<table border=\"1\" class=\"dataframe\">\n  <thead>\n    <tr style=\"text-align: right;\">\n      <th></th>\n      <th>item</th>\n      <th>description</th>\n    </tr>\n  </thead>\n  <tbody>\n    <tr>\n      <th>0</th>\n      <td>ACCHGQ</td>\n      <td>Accounting Changes / Cumulative Effect</td>\n    </tr>\n    <tr>\n      <th>1</th>\n      <td>ACOMINCQ</td>\n      <td>Accumulated Other Comprehensive Income (Loss)</td>\n    </tr>\n    <tr>\n      <th>2</th>\n      <td>ACOQ</td>\n      <td>Current Assets - Other - Total</td>\n    </tr>\n    <tr>\n      <th>3</th>\n      <td>ACTQ</td>\n      <td>Current Assets - Total</td>\n    </tr>\n    <tr>\n      <th>4</th>\n      <td>ADRRQ</td>\n      <td>ADR Ratio</td>\n    </tr>\n    <tr>\n      <th>...</th>\n      <td>...</td>\n      <td>...</td>\n    </tr>\n    <tr>\n      <th>167</th>\n      <td>XIDOQ</td>\n      <td>Extraordinary Items and Discontinued Operations</td>\n    </tr>\n    <tr>\n      <th>168</th>\n      <td>XINTQ</td>\n      <td>Interest and Related Expense- Total</td>\n    </tr>\n    <tr>\n      <th>169</th>\n      <td>XIQ</td>\n      <td>Extraordinary Items</td>\n    </tr>\n    <tr>\n      <th>170</th>\n      <td>XRDQ</td>\n      <td>Research and Development Expense</td>\n    </tr>\n    <tr>\n      <th>171</th>\n      <td>XSGAQ</td>\n      <td>Selling, General and Administrative Expenses</td>\n    </tr>\n  </tbody>\n</table>\n<p>172 rows × 2 columns</p>\n</div>"
     },
     "metadata": {},
     "output_type": "execute_result",
     "execution_count": 14
    }
   ],
   "source": [
    "item_mapper.get_mapping()"
   ]
  },
  {
   "cell_type": "markdown",
   "metadata": {},
   "source": [
    "## Payload data\n",
    "\n",
    "After collecting all necessary identifiers we are ready to download the payload data.\n",
    "- form_name: Edgar form short code\n",
    "- cik: Company Identification Key. Optional. Also, could be a list of cik. \n",
    "- start_date and end_date: limit our selection by dates\n",
    "- items: list of items that we want to see in a result set.\n",
    "\n",
    "Keep in mind that if you specify a broad range of search, the result could be very large."
   ]
  },
  {
   "cell_type": "code",
   "execution_count": 17,
   "metadata": {
    "ExecuteTime": {
     "end_time": "2020-11-22T01:55:33.066977Z",
     "start_time": "2020-11-22T01:55:32.925007Z"
    },
    "pycharm": {
     "is_executing": false,
     "name": "#%%\n"
    }
   },
   "outputs": [
    {
     "data": {
      "text/plain": "                              form_uuid  \\\n0  514be1a9-88d1-426b-be7e-d7b5a0ff64e6   \n1  30cc5db5-e9ce-4d43-830b-d5d5a94b201a   \n2  70a8c7b9-d0a7-4c41-902c-89d84d3b9122   \n\n                                          filing_url  \\\n0  https://www.sec.gov/Archives/edgar/data/18498/...   \n1  https://www.sec.gov/Archives/edgar/data/18498/...   \n2  https://www.sec.gov/Archives/edgar/data/18498/...   \n\n  form_publication_timestamp filing_date      creation_timestamp    cik  \\\n0        2020-03-12T11:45:58  2020-03-12 2020-06-12 23:49:03.580  18498   \n1        2020-09-03T11:30:54  2020-09-03 2020-09-03 11:32:58.186  18498   \n2        2020-06-09T11:21:05  2020-06-09 2020-12-01 17:13:22.396  18498   \n\n  ticker    item_name   form_table_row_name          item_value  \\\n0    GCO  ACT_QUARTER  Total current assets  508.18300000000005   \n1    GCO  ACT_QUARTER  Total current assets             777.658   \n2    GCO  ACT_QUARTER  Total current assets             735.008   \n\n   compustat_timestamp     period_of_report compustat_coifnd_id   gvk  \n0  2020-03-12T20:00:00  2020-01-31T00:00:00            10099821  5109  \n1                 None  2020-07-31T00:00:00                      5109  \n2  2020-06-09T20:00:00  2020-04-30T00:00:00            10164135  5109  ",
      "text/html": "<div>\n<style scoped>\n    .dataframe tbody tr th:only-of-type {\n        vertical-align: middle;\n    }\n\n    .dataframe tbody tr th {\n        vertical-align: top;\n    }\n\n    .dataframe thead th {\n        text-align: right;\n    }\n</style>\n<table border=\"1\" class=\"dataframe\">\n  <thead>\n    <tr style=\"text-align: right;\">\n      <th></th>\n      <th>form_uuid</th>\n      <th>filing_url</th>\n      <th>form_publication_timestamp</th>\n      <th>filing_date</th>\n      <th>creation_timestamp</th>\n      <th>cik</th>\n      <th>ticker</th>\n      <th>item_name</th>\n      <th>form_table_row_name</th>\n      <th>item_value</th>\n      <th>compustat_timestamp</th>\n      <th>period_of_report</th>\n      <th>compustat_coifnd_id</th>\n      <th>gvk</th>\n    </tr>\n  </thead>\n  <tbody>\n    <tr>\n      <th>0</th>\n      <td>514be1a9-88d1-426b-be7e-d7b5a0ff64e6</td>\n      <td>https://www.sec.gov/Archives/edgar/data/18498/...</td>\n      <td>2020-03-12T11:45:58</td>\n      <td>2020-03-12</td>\n      <td>2020-06-12 23:49:03.580</td>\n      <td>18498</td>\n      <td>GCO</td>\n      <td>ACT_QUARTER</td>\n      <td>Total current assets</td>\n      <td>508.18300000000005</td>\n      <td>2020-03-12T20:00:00</td>\n      <td>2020-01-31T00:00:00</td>\n      <td>10099821</td>\n      <td>5109</td>\n    </tr>\n    <tr>\n      <th>1</th>\n      <td>30cc5db5-e9ce-4d43-830b-d5d5a94b201a</td>\n      <td>https://www.sec.gov/Archives/edgar/data/18498/...</td>\n      <td>2020-09-03T11:30:54</td>\n      <td>2020-09-03</td>\n      <td>2020-09-03 11:32:58.186</td>\n      <td>18498</td>\n      <td>GCO</td>\n      <td>ACT_QUARTER</td>\n      <td>Total current assets</td>\n      <td>777.658</td>\n      <td>None</td>\n      <td>2020-07-31T00:00:00</td>\n      <td></td>\n      <td>5109</td>\n    </tr>\n    <tr>\n      <th>2</th>\n      <td>70a8c7b9-d0a7-4c41-902c-89d84d3b9122</td>\n      <td>https://www.sec.gov/Archives/edgar/data/18498/...</td>\n      <td>2020-06-09T11:21:05</td>\n      <td>2020-06-09</td>\n      <td>2020-12-01 17:13:22.396</td>\n      <td>18498</td>\n      <td>GCO</td>\n      <td>ACT_QUARTER</td>\n      <td>Total current assets</td>\n      <td>735.008</td>\n      <td>2020-06-09T20:00:00</td>\n      <td>2020-04-30T00:00:00</td>\n      <td>10164135</td>\n      <td>5109</td>\n    </tr>\n  </tbody>\n</table>\n</div>"
     },
     "metadata": {},
     "output_type": "execute_result",
     "execution_count": 17
    }
   ],
   "source": [
    "client = p1_edg.EdgarClient(base_url=P1_API_URL, token=P1_API_TOKEN)\n",
    "\n",
    "client.get_payload(\n",
    "            form_name=\"form8k\",\n",
    "            cik=18498,\n",
    "            start_date=\"2020-01-04\",\n",
    "            end_date=\"2020-12-04\",\n",
    "            item=\"ACT_QUARTER\",\n",
    "        )"
   ]
  },
  {
   "cell_type": "code",
   "execution_count": 18,
   "outputs": [
    {
     "data": {
      "text/plain": "                                form_uuid  \\\n0    c5584895-6261-4449-9845-1ffae0acdc3b   \n1    c5584895-6261-4449-9845-1ffae0acdc3b   \n2    c5584895-6261-4449-9845-1ffae0acdc3b   \n3    c5584895-6261-4449-9845-1ffae0acdc3b   \n4    c5584895-6261-4449-9845-1ffae0acdc3b   \n..                                    ...   \n911  60a92f86-bfa8-4adc-b8c5-0b517ad51571   \n912  b0afa528-1457-4476-bbae-bfac01adf31f   \n913  a350f89d-cfaa-4d52-9514-5f146c91070d   \n914  d303ca47-ab39-4c50-9129-6c8163f5e176   \n915  d303ca47-ab39-4c50-9129-6c8163f5e176   \n\n                                            filing_url  \\\n0    https://www.sec.gov/Archives/edgar/data/18498/...   \n1    https://www.sec.gov/Archives/edgar/data/18498/...   \n2    https://www.sec.gov/Archives/edgar/data/18498/...   \n3    https://www.sec.gov/Archives/edgar/data/18498/...   \n4    https://www.sec.gov/Archives/edgar/data/18498/...   \n..                                                 ...   \n911  https://www.sec.gov/Archives/edgar/data/5768/0...   \n912  https://www.sec.gov/Archives/edgar/data/5768/0...   \n913  https://www.sec.gov/Archives/edgar/data/5768/0...   \n914  https://www.sec.gov/Archives/edgar/data/5768/0...   \n915  https://www.sec.gov/Archives/edgar/data/5768/0...   \n\n    form_publication_timestamp filing_date      creation_timestamp    cik  \\\n0          2016-12-02T12:09:31  2016-12-02 2020-06-12 21:12:47.669  18498   \n1          2016-12-02T12:09:31  2016-12-02 2020-06-12 21:12:47.669  18498   \n2          2016-12-02T12:09:31  2016-12-02 2020-06-12 21:12:47.669  18498   \n3          2016-12-02T12:09:31  2016-12-02 2020-06-12 21:12:47.669  18498   \n4          2016-12-02T12:09:31  2016-12-02 2020-06-12 21:12:47.669  18498   \n..                         ...         ...                     ...    ...   \n911        2010-08-09T20:13:08  2010-08-09 2020-06-13 01:15:52.318   5768   \n912        2015-11-09T21:10:49  2015-11-09 2020-06-13 01:23:40.678   5768   \n913        2011-02-08T21:08:41  2011-02-08 2020-06-13 01:34:29.280   5768   \n914        2011-11-07T21:10:52  2011-11-07 2020-06-13 01:41:54.087   5768   \n915        2011-11-07T21:10:52  2011-11-07 2020-06-13 01:41:54.087   5768   \n\n    ticker     item_name                      form_table_row_name  \\\n0      GCO   ACO_QUARTER                     Other current assets   \n1      GCO   ACT_QUARTER                     Total current assets   \n2      GCO    AP_QUARTER                         Accounts payable   \n3      GCO   CHE_QUARTER                Cash and cash equivalents   \n4      GCO   DLC_QUARTER           Current portion long-term debt   \n..     ...           ...                                      ...   \n911   ASEI  SALE_QUARTER    Total net sales and contract revenues   \n912   ASEI  SALE_QUARTER  Total   net sales and contract revenues   \n913   ASEI    AO_QUARTER                             Other assets   \n914   ASEI    NI_QUARTER                               Net income   \n915   ASEI  SALE_QUARTER  Total net sales and contract   revenues   \n\n             item_value  compustat_timestamp     period_of_report  \\\n0                88.969  2016-12-02T21:00:00  2016-10-31T00:00:00   \n1               894.573  2016-12-02T21:00:00  2016-10-31T00:00:00   \n2               247.282  2016-12-02T21:00:00  2016-10-31T00:00:00   \n3                 30.52  2016-12-02T21:00:00  2016-10-31T00:00:00   \n4                12.172  2016-12-02T21:00:00  2016-10-31T00:00:00   \n..                  ...                  ...                  ...   \n911              53.643  2010-08-10T04:00:00  2010-06-30T00:00:00   \n912  25.136999999999997  2015-11-10T05:00:00  2015-09-30T00:00:00   \n913               5.432                 None  2010-12-31T00:00:00   \n914               6.851  2011-11-08T05:00:00  2011-09-30T00:00:00   \n915              54.778  2011-11-08T05:00:00  2011-09-30T00:00:00   \n\n    compustat_coifnd_id   gvk  \n0               9121134  5109  \n1               9121134  5109  \n2               9121134  5109  \n3               9121134  5109  \n4               9121134  5109  \n..                  ...   ...  \n911             7153084  1554  \n912             8733305  1554  \n913             7263012  1554  \n914             7509872  1554  \n915             7509872  1554  \n\n[916 rows x 14 columns]",
      "text/html": "<div>\n<style scoped>\n    .dataframe tbody tr th:only-of-type {\n        vertical-align: middle;\n    }\n\n    .dataframe tbody tr th {\n        vertical-align: top;\n    }\n\n    .dataframe thead th {\n        text-align: right;\n    }\n</style>\n<table border=\"1\" class=\"dataframe\">\n  <thead>\n    <tr style=\"text-align: right;\">\n      <th></th>\n      <th>form_uuid</th>\n      <th>filing_url</th>\n      <th>form_publication_timestamp</th>\n      <th>filing_date</th>\n      <th>creation_timestamp</th>\n      <th>cik</th>\n      <th>ticker</th>\n      <th>item_name</th>\n      <th>form_table_row_name</th>\n      <th>item_value</th>\n      <th>compustat_timestamp</th>\n      <th>period_of_report</th>\n      <th>compustat_coifnd_id</th>\n      <th>gvk</th>\n    </tr>\n  </thead>\n  <tbody>\n    <tr>\n      <th>0</th>\n      <td>c5584895-6261-4449-9845-1ffae0acdc3b</td>\n      <td>https://www.sec.gov/Archives/edgar/data/18498/...</td>\n      <td>2016-12-02T12:09:31</td>\n      <td>2016-12-02</td>\n      <td>2020-06-12 21:12:47.669</td>\n      <td>18498</td>\n      <td>GCO</td>\n      <td>ACO_QUARTER</td>\n      <td>Other current assets</td>\n      <td>88.969</td>\n      <td>2016-12-02T21:00:00</td>\n      <td>2016-10-31T00:00:00</td>\n      <td>9121134</td>\n      <td>5109</td>\n    </tr>\n    <tr>\n      <th>1</th>\n      <td>c5584895-6261-4449-9845-1ffae0acdc3b</td>\n      <td>https://www.sec.gov/Archives/edgar/data/18498/...</td>\n      <td>2016-12-02T12:09:31</td>\n      <td>2016-12-02</td>\n      <td>2020-06-12 21:12:47.669</td>\n      <td>18498</td>\n      <td>GCO</td>\n      <td>ACT_QUARTER</td>\n      <td>Total current assets</td>\n      <td>894.573</td>\n      <td>2016-12-02T21:00:00</td>\n      <td>2016-10-31T00:00:00</td>\n      <td>9121134</td>\n      <td>5109</td>\n    </tr>\n    <tr>\n      <th>2</th>\n      <td>c5584895-6261-4449-9845-1ffae0acdc3b</td>\n      <td>https://www.sec.gov/Archives/edgar/data/18498/...</td>\n      <td>2016-12-02T12:09:31</td>\n      <td>2016-12-02</td>\n      <td>2020-06-12 21:12:47.669</td>\n      <td>18498</td>\n      <td>GCO</td>\n      <td>AP_QUARTER</td>\n      <td>Accounts payable</td>\n      <td>247.282</td>\n      <td>2016-12-02T21:00:00</td>\n      <td>2016-10-31T00:00:00</td>\n      <td>9121134</td>\n      <td>5109</td>\n    </tr>\n    <tr>\n      <th>3</th>\n      <td>c5584895-6261-4449-9845-1ffae0acdc3b</td>\n      <td>https://www.sec.gov/Archives/edgar/data/18498/...</td>\n      <td>2016-12-02T12:09:31</td>\n      <td>2016-12-02</td>\n      <td>2020-06-12 21:12:47.669</td>\n      <td>18498</td>\n      <td>GCO</td>\n      <td>CHE_QUARTER</td>\n      <td>Cash and cash equivalents</td>\n      <td>30.52</td>\n      <td>2016-12-02T21:00:00</td>\n      <td>2016-10-31T00:00:00</td>\n      <td>9121134</td>\n      <td>5109</td>\n    </tr>\n    <tr>\n      <th>4</th>\n      <td>c5584895-6261-4449-9845-1ffae0acdc3b</td>\n      <td>https://www.sec.gov/Archives/edgar/data/18498/...</td>\n      <td>2016-12-02T12:09:31</td>\n      <td>2016-12-02</td>\n      <td>2020-06-12 21:12:47.669</td>\n      <td>18498</td>\n      <td>GCO</td>\n      <td>DLC_QUARTER</td>\n      <td>Current portion long-term debt</td>\n      <td>12.172</td>\n      <td>2016-12-02T21:00:00</td>\n      <td>2016-10-31T00:00:00</td>\n      <td>9121134</td>\n      <td>5109</td>\n    </tr>\n    <tr>\n      <th>...</th>\n      <td>...</td>\n      <td>...</td>\n      <td>...</td>\n      <td>...</td>\n      <td>...</td>\n      <td>...</td>\n      <td>...</td>\n      <td>...</td>\n      <td>...</td>\n      <td>...</td>\n      <td>...</td>\n      <td>...</td>\n      <td>...</td>\n      <td>...</td>\n    </tr>\n    <tr>\n      <th>911</th>\n      <td>60a92f86-bfa8-4adc-b8c5-0b517ad51571</td>\n      <td>https://www.sec.gov/Archives/edgar/data/5768/0...</td>\n      <td>2010-08-09T20:13:08</td>\n      <td>2010-08-09</td>\n      <td>2020-06-13 01:15:52.318</td>\n      <td>5768</td>\n      <td>ASEI</td>\n      <td>SALE_QUARTER</td>\n      <td>Total net sales and contract revenues</td>\n      <td>53.643</td>\n      <td>2010-08-10T04:00:00</td>\n      <td>2010-06-30T00:00:00</td>\n      <td>7153084</td>\n      <td>1554</td>\n    </tr>\n    <tr>\n      <th>912</th>\n      <td>b0afa528-1457-4476-bbae-bfac01adf31f</td>\n      <td>https://www.sec.gov/Archives/edgar/data/5768/0...</td>\n      <td>2015-11-09T21:10:49</td>\n      <td>2015-11-09</td>\n      <td>2020-06-13 01:23:40.678</td>\n      <td>5768</td>\n      <td>ASEI</td>\n      <td>SALE_QUARTER</td>\n      <td>Total   net sales and contract revenues</td>\n      <td>25.136999999999997</td>\n      <td>2015-11-10T05:00:00</td>\n      <td>2015-09-30T00:00:00</td>\n      <td>8733305</td>\n      <td>1554</td>\n    </tr>\n    <tr>\n      <th>913</th>\n      <td>a350f89d-cfaa-4d52-9514-5f146c91070d</td>\n      <td>https://www.sec.gov/Archives/edgar/data/5768/0...</td>\n      <td>2011-02-08T21:08:41</td>\n      <td>2011-02-08</td>\n      <td>2020-06-13 01:34:29.280</td>\n      <td>5768</td>\n      <td>ASEI</td>\n      <td>AO_QUARTER</td>\n      <td>Other assets</td>\n      <td>5.432</td>\n      <td>None</td>\n      <td>2010-12-31T00:00:00</td>\n      <td>7263012</td>\n      <td>1554</td>\n    </tr>\n    <tr>\n      <th>914</th>\n      <td>d303ca47-ab39-4c50-9129-6c8163f5e176</td>\n      <td>https://www.sec.gov/Archives/edgar/data/5768/0...</td>\n      <td>2011-11-07T21:10:52</td>\n      <td>2011-11-07</td>\n      <td>2020-06-13 01:41:54.087</td>\n      <td>5768</td>\n      <td>ASEI</td>\n      <td>NI_QUARTER</td>\n      <td>Net income</td>\n      <td>6.851</td>\n      <td>2011-11-08T05:00:00</td>\n      <td>2011-09-30T00:00:00</td>\n      <td>7509872</td>\n      <td>1554</td>\n    </tr>\n    <tr>\n      <th>915</th>\n      <td>d303ca47-ab39-4c50-9129-6c8163f5e176</td>\n      <td>https://www.sec.gov/Archives/edgar/data/5768/0...</td>\n      <td>2011-11-07T21:10:52</td>\n      <td>2011-11-07</td>\n      <td>2020-06-13 01:41:54.087</td>\n      <td>5768</td>\n      <td>ASEI</td>\n      <td>SALE_QUARTER</td>\n      <td>Total net sales and contract   revenues</td>\n      <td>54.778</td>\n      <td>2011-11-08T05:00:00</td>\n      <td>2011-09-30T00:00:00</td>\n      <td>7509872</td>\n      <td>1554</td>\n    </tr>\n  </tbody>\n</table>\n<p>916 rows × 14 columns</p>\n</div>"
     },
     "metadata": {},
     "output_type": "execute_result",
     "execution_count": 18
    }
   ],
   "source": [
    "client.get_payload(\n",
    "            form_name=\"form8k\",\n",
    "            cik=[18498, 319201, 5768]\n",
    "        )"
   ],
   "metadata": {
    "collapsed": false,
    "pycharm": {
     "name": "#%%\n",
     "is_executing": false
    }
   }
  }
 ],
 "metadata": {
  "hide_input": false,
  "jupytext": {
   "text_representation": {
    "extension": ".py",
    "format_name": "percent",
    "format_version": "1.3",
    "jupytext_version": "1.4.2"
   }
  },
  "kernelspec": {
   "display_name": "Python 3",
   "language": "python",
   "name": "python3"
  },
  "language_info": {
   "codemirror_mode": {
    "name": "ipython",
    "version": 3
   },
   "file_extension": ".py",
   "mimetype": "text/x-python",
   "name": "python",
   "nbconvert_exporter": "python",
   "pygments_lexer": "ipython3",
   "version": "3.7.6"
  },
  "pycharm": {
   "stem_cell": {
    "cell_type": "raw",
    "source": [],
    "metadata": {
     "collapsed": false
    }
   }
  },
  "toc": {
   "base_numbering": 1,
   "nav_menu": {},
   "number_sections": true,
   "sideBar": true,
   "skip_h1_title": false,
   "title_cell": "Table of Contents",
   "title_sidebar": "Contents",
   "toc_cell": false,
   "toc_position": {},
   "toc_section_display": true,
   "toc_window_display": false
  },
  "varInspector": {
   "cols": {
    "lenName": 16,
    "lenType": 16,
    "lenVar": 40
   },
   "kernels_config": {
    "python": {
     "delete_cmd_postfix": "",
     "delete_cmd_prefix": "del ",
     "library": "var_list.py",
     "varRefreshCmd": "print(var_dic_list())"
    },
    "r": {
     "delete_cmd_postfix": ") ",
     "delete_cmd_prefix": "rm(",
     "library": "var_list.r",
     "varRefreshCmd": "cat(var_dic_list()) "
    }
   },
   "types_to_exclude": [
    "module",
    "function",
    "builtin_function_or_method",
    "instance",
    "_Feature"
   ],
   "window_display": false
  }
 },
 "nbformat": 4,
 "nbformat_minor": 1
}
