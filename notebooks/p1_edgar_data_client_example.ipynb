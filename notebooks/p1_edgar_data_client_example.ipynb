{
 "cells": [
  {
   "cell_type": "markdown",
   "metadata": {
    "pycharm": {
     "name": "#%% md\n"
    }
   },
   "source": [
    "# P1 Edgar data client for REST API"
   ]
  },
  {
   "cell_type": "markdown",
   "metadata": {},
   "source": [
    "## Initialization"
   ]
  },
  {
   "cell_type": "code",
   "execution_count": 3,
   "metadata": {
    "ExecuteTime": {
     "end_time": "2021-01-15T15:17:19.857730Z",
     "start_time": "2021-01-15T15:17:19.145972Z"
    },
    "lines_to_next_cell": 2,
    "pycharm": {
     "is_executing": false,
     "name": "#%%\n"
    }
   },
   "outputs": [
    {
     "name": "stdout",
     "output_type": "stream",
     "text": [
      "WARNING: Running in Jupyter\n",
      "P1_API_TOKEN= 8c9c9458b145202c7a6b6cceaabd82023e957a46d6cf7061ed8e1c94a168f2fd\n"
     ]
    }
   ],
   "source": [
    "%load_ext autoreload\n",
    "%autoreload 2\n",
    "\n",
    "import os\n",
    "import json\n",
    "import pprint\n",
    "from typing import Any\n",
    "\n",
    "import pandas as pd\n",
    "\n",
    "if False:\n",
    "    import sys\n",
    "    sys.path.append(\"/commodity_research/p1_data_client_python_private\")\n",
    "    print(sys.path)\n",
    "    os.environ[\"P1_API_TOKEN\"]='e44e7c6b04ef3ea1cfb7a8a67db74751c177259e'\n",
    "    os.environ[\"P1_EDGAR_API_TOKEN\"]='8c9c9458b145202c7a6b6cceaabd82023e957a46d6cf7061ed8e1c94a168f2fd'\n",
    "\n",
    "import p1_data_client_python.edgar.edgar_client as p1_edg\n",
    "import p1_data_client_python.edgar.mappers as p1_map\n",
    "\n",
    "# Enter your token here.\n",
    "# You can get your token by signing up at `www.particle.one`.\n",
    "# P1_API_TOKEN = \"YOUR_TOKEN_HERE\"\n",
    "# An example token is like:\n",
    "\n",
    "P1_API_TOKEN = os.environ[\"P1_EDGAR_API_TOKEN\"]\n",
    "print(\"P1_API_TOKEN=\", P1_API_TOKEN)"
   ]
  },
  {
   "cell_type": "markdown",
   "metadata": {},
   "source": [
    "## Quick start\n",
    "\n",
    "There are 3 steps:\n",
    "1. Get information about company identifiers\n",
    "2. Get information about financial items available\n",
    "3. Download data\n",
    "\n",
    "## Mappers\n",
    "\n",
    "### GvkCikMapper\n",
    "\n",
    "It handles CIK <-> GVK transformation."
   ]
  },
  {
   "cell_type": "code",
   "execution_count": 4,
   "metadata": {
    "ExecuteTime": {
     "end_time": "2021-01-15T15:17:20.661766Z",
     "start_time": "2021-01-15T15:17:19.860283Z"
    },
    "pycharm": {
     "is_executing": false,
     "name": "#%%\n"
    }
   },
   "outputs": [
    {
     "data": {
      "text/html": [
       "<div>\n",
       "<style scoped>\n",
       "    .dataframe tbody tr th:only-of-type {\n",
       "        vertical-align: middle;\n",
       "    }\n",
       "\n",
       "    .dataframe tbody tr th {\n",
       "        vertical-align: top;\n",
       "    }\n",
       "\n",
       "    .dataframe thead th {\n",
       "        text-align: right;\n",
       "    }\n",
       "</style>\n",
       "<table border=\"1\" class=\"dataframe\">\n",
       "  <thead>\n",
       "    <tr style=\"text-align: right;\">\n",
       "      <th></th>\n",
       "      <th>cik</th>\n",
       "      <th>effdate</th>\n",
       "      <th>thrudate</th>\n",
       "      <th>gvk</th>\n",
       "    </tr>\n",
       "  </thead>\n",
       "  <tbody>\n",
       "    <tr>\n",
       "      <th>0</th>\n",
       "      <td>0000940800</td>\n",
       "      <td>2007-01-18T00:00:00</td>\n",
       "      <td>2007-03-14T23:59:59</td>\n",
       "      <td>061411</td>\n",
       "    </tr>\n",
       "  </tbody>\n",
       "</table>\n",
       "</div>"
      ],
      "text/plain": [
       "          cik              effdate             thrudate     gvk\n",
       "0  0000940800  2007-01-18T00:00:00  2007-03-14T23:59:59  061411"
      ]
     },
     "execution_count": 4,
     "metadata": {},
     "output_type": "execute_result"
    }
   ],
   "source": [
    "gvk_mapper = p1_map.GvkCikMapper(token=P1_API_TOKEN)\n",
    "gvk_mapper.get_gvk_from_cik(cik=940800, as_of_date=\"2007-01-18\")"
   ]
  },
  {
   "cell_type": "code",
   "execution_count": 5,
   "metadata": {
    "ExecuteTime": {
     "end_time": "2021-01-15T15:17:21.335306Z",
     "start_time": "2021-01-15T15:17:20.666376Z"
    },
    "pycharm": {
     "is_executing": false,
     "name": "#%%\n"
    }
   },
   "outputs": [
    {
     "data": {
      "text/html": [
       "<div>\n",
       "<style scoped>\n",
       "    .dataframe tbody tr th:only-of-type {\n",
       "        vertical-align: middle;\n",
       "    }\n",
       "\n",
       "    .dataframe tbody tr th {\n",
       "        vertical-align: top;\n",
       "    }\n",
       "\n",
       "    .dataframe thead th {\n",
       "        text-align: right;\n",
       "    }\n",
       "</style>\n",
       "<table border=\"1\" class=\"dataframe\">\n",
       "  <thead>\n",
       "    <tr style=\"text-align: right;\">\n",
       "      <th></th>\n",
       "      <th>cik</th>\n",
       "      <th>effdate</th>\n",
       "      <th>thrudate</th>\n",
       "      <th>gvk</th>\n",
       "    </tr>\n",
       "  </thead>\n",
       "  <tbody>\n",
       "    <tr>\n",
       "      <th>0</th>\n",
       "      <td>0000940800</td>\n",
       "      <td>2007-01-18T00:00:00</td>\n",
       "      <td>2007-03-14T23:59:59</td>\n",
       "      <td>061411</td>\n",
       "    </tr>\n",
       "  </tbody>\n",
       "</table>\n",
       "</div>"
      ],
      "text/plain": [
       "          cik              effdate             thrudate     gvk\n",
       "0  0000940800  2007-01-18T00:00:00  2007-03-14T23:59:59  061411"
      ]
     },
     "execution_count": 5,
     "metadata": {},
     "output_type": "execute_result"
    }
   ],
   "source": [
    "gvk_mapper.get_cik_from_gvk(gvk=61411, as_of_date=\"2007-01-18\")"
   ]
  },
  {
   "cell_type": "markdown",
   "metadata": {},
   "source": [
    "### ItemMapper\n",
    "\n",
    "It provides mapping between keywords and description of Compustat items."
   ]
  },
  {
   "cell_type": "code",
   "execution_count": 7,
   "metadata": {
    "ExecuteTime": {
     "end_time": "2021-01-15T15:17:21.532120Z",
     "start_time": "2021-01-15T15:17:21.339535Z"
    },
    "pycharm": {
     "is_executing": false,
     "name": "#%%\n"
    }
   },
   "outputs": [
    {
     "data": {
      "text/html": [
       "<div>\n",
       "<style scoped>\n",
       "    .dataframe tbody tr th:only-of-type {\n",
       "        vertical-align: middle;\n",
       "    }\n",
       "\n",
       "    .dataframe tbody tr th {\n",
       "        vertical-align: top;\n",
       "    }\n",
       "\n",
       "    .dataframe thead th {\n",
       "        text-align: right;\n",
       "    }\n",
       "</style>\n",
       "<table border=\"1\" class=\"dataframe\">\n",
       "  <thead>\n",
       "    <tr style=\"text-align: right;\">\n",
       "      <th></th>\n",
       "      <th>item</th>\n",
       "      <th>description</th>\n",
       "    </tr>\n",
       "  </thead>\n",
       "  <tbody>\n",
       "    <tr>\n",
       "      <th>0</th>\n",
       "      <td>IVSTCH_YEAR</td>\n",
       "      <td>Short-Term Investments - Change</td>\n",
       "    </tr>\n",
       "    <tr>\n",
       "      <th>1</th>\n",
       "      <td>CHE_QUARTER</td>\n",
       "      <td>Cash and Short-Term Investments</td>\n",
       "    </tr>\n",
       "    <tr>\n",
       "      <th>2</th>\n",
       "      <td>ALTO_QUARTER</td>\n",
       "      <td>Other Long-term Assets</td>\n",
       "    </tr>\n",
       "    <tr>\n",
       "      <th>3</th>\n",
       "      <td>IVLT_QUARTER</td>\n",
       "      <td>Total Long-term Investments</td>\n",
       "    </tr>\n",
       "    <tr>\n",
       "      <th>4</th>\n",
       "      <td>DLTT_QUARTER</td>\n",
       "      <td>Long-Term Debt - Total</td>\n",
       "    </tr>\n",
       "    <tr>\n",
       "      <th>5</th>\n",
       "      <td>DLTR_YEAR</td>\n",
       "      <td>Long-Term Debt - Reduction</td>\n",
       "    </tr>\n",
       "    <tr>\n",
       "      <th>6</th>\n",
       "      <td>DLTIS_YEAR</td>\n",
       "      <td>Long-Term Debt - Issuance</td>\n",
       "    </tr>\n",
       "  </tbody>\n",
       "</table>\n",
       "</div>"
      ],
      "text/plain": [
       "           item                      description\n",
       "0   IVSTCH_YEAR  Short-Term Investments - Change\n",
       "1   CHE_QUARTER  Cash and Short-Term Investments\n",
       "2  ALTO_QUARTER           Other Long-term Assets\n",
       "3  IVLT_QUARTER      Total Long-term Investments\n",
       "4  DLTT_QUARTER           Long-Term Debt - Total\n",
       "5     DLTR_YEAR       Long-Term Debt - Reduction\n",
       "6    DLTIS_YEAR        Long-Term Debt - Issuance"
      ]
     },
     "execution_count": 7,
     "metadata": {},
     "output_type": "execute_result"
    }
   ],
   "source": [
    "item_mapper = p1_map.ItemMapper(token=P1_API_TOKEN)\n",
    "item_mapper.get_item_from_keywords(keywords=[\"short-term\", \"short term\"])"
   ]
  },
  {
   "cell_type": "code",
   "execution_count": 5,
   "metadata": {
    "ExecuteTime": {
     "end_time": "2021-01-15T15:17:21.658974Z",
     "start_time": "2021-01-15T15:17:21.536977Z"
    },
    "pycharm": {
     "is_executing": false,
     "name": "#%%\n"
    }
   },
   "outputs": [
    {
     "data": {
      "text/html": [
       "<div>\n",
       "<style scoped>\n",
       "    .dataframe tbody tr th:only-of-type {\n",
       "        vertical-align: middle;\n",
       "    }\n",
       "\n",
       "    .dataframe tbody tr th {\n",
       "        vertical-align: top;\n",
       "    }\n",
       "\n",
       "    .dataframe thead th {\n",
       "        text-align: right;\n",
       "    }\n",
       "</style>\n",
       "<table border=\"1\" class=\"dataframe\">\n",
       "  <thead>\n",
       "    <tr style=\"text-align: right;\">\n",
       "      <th></th>\n",
       "      <th>item</th>\n",
       "      <th>description</th>\n",
       "    </tr>\n",
       "  </thead>\n",
       "  <tbody>\n",
       "    <tr>\n",
       "      <th>0</th>\n",
       "      <td>ACCHG_QUARTER</td>\n",
       "      <td>Accounting Changes / Cumulative Effect</td>\n",
       "    </tr>\n",
       "    <tr>\n",
       "      <th>1</th>\n",
       "      <td>ACOMINC_QUARTER</td>\n",
       "      <td>Accumulated Other Comprehensive Income (Loss)</td>\n",
       "    </tr>\n",
       "    <tr>\n",
       "      <th>2</th>\n",
       "      <td>ACO_QUARTER</td>\n",
       "      <td>Current Assets - Other - Total</td>\n",
       "    </tr>\n",
       "    <tr>\n",
       "      <th>3</th>\n",
       "      <td>ACT_QUARTER</td>\n",
       "      <td>Current Assets - Total</td>\n",
       "    </tr>\n",
       "    <tr>\n",
       "      <th>4</th>\n",
       "      <td>ADRR_QUARTER</td>\n",
       "      <td>ADR Ratio</td>\n",
       "    </tr>\n",
       "    <tr>\n",
       "      <th>...</th>\n",
       "      <td>...</td>\n",
       "      <td>...</td>\n",
       "    </tr>\n",
       "    <tr>\n",
       "      <th>167</th>\n",
       "      <td>XIDO_QUARTER</td>\n",
       "      <td>Extraordinary Items and Discontinued Operations</td>\n",
       "    </tr>\n",
       "    <tr>\n",
       "      <th>168</th>\n",
       "      <td>XINT_QUARTER</td>\n",
       "      <td>Interest and Related Expense- Total</td>\n",
       "    </tr>\n",
       "    <tr>\n",
       "      <th>169</th>\n",
       "      <td>XI_QUARTER</td>\n",
       "      <td>Extraordinary Items</td>\n",
       "    </tr>\n",
       "    <tr>\n",
       "      <th>170</th>\n",
       "      <td>XRD_QUARTER</td>\n",
       "      <td>Research and Development Expense</td>\n",
       "    </tr>\n",
       "    <tr>\n",
       "      <th>171</th>\n",
       "      <td>XSGA_QUARTER</td>\n",
       "      <td>Selling, General and Administrative Expenses</td>\n",
       "    </tr>\n",
       "  </tbody>\n",
       "</table>\n",
       "<p>172 rows × 2 columns</p>\n",
       "</div>"
      ],
      "text/plain": [
       "                item                                      description\n",
       "0      ACCHG_QUARTER           Accounting Changes / Cumulative Effect\n",
       "1    ACOMINC_QUARTER    Accumulated Other Comprehensive Income (Loss)\n",
       "2        ACO_QUARTER                   Current Assets - Other - Total\n",
       "3        ACT_QUARTER                           Current Assets - Total\n",
       "4       ADRR_QUARTER                                        ADR Ratio\n",
       "..               ...                                              ...\n",
       "167     XIDO_QUARTER  Extraordinary Items and Discontinued Operations\n",
       "168     XINT_QUARTER              Interest and Related Expense- Total\n",
       "169       XI_QUARTER                              Extraordinary Items\n",
       "170      XRD_QUARTER                 Research and Development Expense\n",
       "171     XSGA_QUARTER     Selling, General and Administrative Expenses\n",
       "\n",
       "[172 rows x 2 columns]"
      ]
     },
     "execution_count": 5,
     "metadata": {},
     "output_type": "execute_result"
    }
   ],
   "source": [
    "item_mapper.get_mapping()"
   ]
  },
  {
   "cell_type": "markdown",
   "metadata": {},
   "source": [
    "## Metadata"
   ]
  },
  {
   "cell_type": "code",
   "execution_count": 8,
   "metadata": {
    "ExecuteTime": {
     "end_time": "2021-01-15T15:17:21.710678Z",
     "start_time": "2021-01-15T15:17:21.664016Z"
    }
   },
   "outputs": [],
   "source": [
    "client = p1_edg.EdgarClient(token=P1_API_TOKEN)"
   ]
  },
  {
   "cell_type": "code",
   "execution_count": 9,
   "metadata": {
    "ExecuteTime": {
     "end_time": "2021-01-15T15:17:21.755302Z",
     "start_time": "2021-01-15T15:17:21.714654Z"
    }
   },
   "outputs": [],
   "source": [
    "def display_df(df: pd.DataFrame) -> None:\n",
    "    print(\"num_rows=%s\" % df.shape[0])\n",
    "    display(df.head(3))\n",
    "\n",
    "    \n",
    "def print_payload(payload: str, n: int = 300) -> None:\n",
    "    print(pprint.pformat(payload)[:n])"
   ]
  },
  {
   "cell_type": "code",
   "execution_count": 10,
   "metadata": {
    "ExecuteTime": {
     "end_time": "2021-01-15T15:17:22.441073Z",
     "start_time": "2021-01-15T15:17:21.765597Z"
    },
    "scrolled": false
   },
   "outputs": [
    {
     "data": {
      "application/vnd.jupyter.widget-view+json": {
       "model_id": "01033e0f4ebe47aebaf592238300a28c",
       "version_major": 2,
       "version_minor": 0
      },
      "text/plain": [
       "Processing CIK:   0%|          | 0/1 [00:00<?, ?it/s]"
      ]
     },
     "metadata": {},
     "output_type": "display_data"
    },
    {
     "data": {
      "application/vnd.jupyter.widget-view+json": {
       "model_id": "",
       "version_major": 2,
       "version_minor": 0
      },
      "text/plain": [
       "Pages: : 0it [00:00, ?it/s]"
      ]
     },
     "metadata": {},
     "output_type": "display_data"
    },
    {
     "name": "stdout",
     "output_type": "stream",
     "text": [
      "num_rows=7\n"
     ]
    },
    {
     "data": {
      "text/html": [
       "<div>\n",
       "<style scoped>\n",
       "    .dataframe tbody tr th:only-of-type {\n",
       "        vertical-align: middle;\n",
       "    }\n",
       "\n",
       "    .dataframe tbody tr th {\n",
       "        vertical-align: top;\n",
       "    }\n",
       "\n",
       "    .dataframe thead th {\n",
       "        text-align: right;\n",
       "    }\n",
       "</style>\n",
       "<table border=\"1\" class=\"dataframe\">\n",
       "  <thead>\n",
       "    <tr style=\"text-align: right;\">\n",
       "      <th></th>\n",
       "      <th>uuid</th>\n",
       "      <th>cik</th>\n",
       "      <th>filing_date</th>\n",
       "      <th>form_type</th>\n",
       "      <th>edgar_path</th>\n",
       "      <th>company</th>\n",
       "      <th>acceptance_datetime</th>\n",
       "      <th>period_of_report</th>\n",
       "      <th>created_at</th>\n",
       "    </tr>\n",
       "  </thead>\n",
       "  <tbody>\n",
       "    <tr>\n",
       "      <th>0</th>\n",
       "      <td>c01879c6-3f25-4873-bb8c-4c8f94e2eb02</td>\n",
       "      <td>5272</td>\n",
       "      <td>2020-10-30</td>\n",
       "      <td>4</td>\n",
       "      <td>edgar/data/5272/000120919120056278/0001209191-...</td>\n",
       "      <td>AMERICAN INTERNATIONAL GROUP INC</td>\n",
       "      <td>2020-10-30T13:27:59+00:00</td>\n",
       "      <td>2020-10-28T04:00:00+00:00</td>\n",
       "      <td>2020-10-30T13:29:17.316747+00:00</td>\n",
       "    </tr>\n",
       "    <tr>\n",
       "      <th>1</th>\n",
       "      <td>528e0c88-9ffc-4a31-a570-40da058f2eaa</td>\n",
       "      <td>5272</td>\n",
       "      <td>2020-10-30</td>\n",
       "      <td>4</td>\n",
       "      <td>edgar/data/5272/000120919120056279/0001209191-...</td>\n",
       "      <td>AMERICAN INTERNATIONAL GROUP INC</td>\n",
       "      <td>2020-10-30T13:29:01+00:00</td>\n",
       "      <td>2020-10-28T04:00:00+00:00</td>\n",
       "      <td>2020-10-30T13:30:44.767449+00:00</td>\n",
       "    </tr>\n",
       "    <tr>\n",
       "      <th>2</th>\n",
       "      <td>24e25e67-4cbf-4c2c-afc7-a70be29dd6de</td>\n",
       "      <td>320193</td>\n",
       "      <td>2020-10-30</td>\n",
       "      <td>10-K</td>\n",
       "      <td>edgar/data/320193/000032019320000096/000032019...</td>\n",
       "      <td>Apple Inc.</td>\n",
       "      <td>2020-10-29T22:06:25+00:00</td>\n",
       "      <td>2020-09-26T04:00:00+00:00</td>\n",
       "      <td>2020-10-30T10:06:34.131935+00:00</td>\n",
       "    </tr>\n",
       "  </tbody>\n",
       "</table>\n",
       "</div>"
      ],
      "text/plain": [
       "                                   uuid     cik filing_date form_type  \\\n",
       "0  c01879c6-3f25-4873-bb8c-4c8f94e2eb02    5272  2020-10-30         4   \n",
       "1  528e0c88-9ffc-4a31-a570-40da058f2eaa    5272  2020-10-30         4   \n",
       "2  24e25e67-4cbf-4c2c-afc7-a70be29dd6de  320193  2020-10-30      10-K   \n",
       "\n",
       "                                          edgar_path  \\\n",
       "0  edgar/data/5272/000120919120056278/0001209191-...   \n",
       "1  edgar/data/5272/000120919120056279/0001209191-...   \n",
       "2  edgar/data/320193/000032019320000096/000032019...   \n",
       "\n",
       "                            company        acceptance_datetime  \\\n",
       "0  AMERICAN INTERNATIONAL GROUP INC  2020-10-30T13:27:59+00:00   \n",
       "1  AMERICAN INTERNATIONAL GROUP INC  2020-10-30T13:29:01+00:00   \n",
       "2                        Apple Inc.  2020-10-29T22:06:25+00:00   \n",
       "\n",
       "            period_of_report                        created_at  \n",
       "0  2020-10-28T04:00:00+00:00  2020-10-30T13:29:17.316747+00:00  \n",
       "1  2020-10-28T04:00:00+00:00  2020-10-30T13:30:44.767449+00:00  \n",
       "2  2020-09-26T04:00:00+00:00  2020-10-30T10:06:34.131935+00:00  "
      ]
     },
     "metadata": {},
     "output_type": "display_data"
    }
   ],
   "source": [
    "# Get forms for a subset of forms and CIKs.\n",
    "headers = client.get_form_headers(\n",
    "            form_type=['13F-HR', '10-K', '3', '4'],\n",
    "            cik=[918504, 1048286, 5272, 947263, 1759760, 320193],\n",
    "            start_date='2020-10-30',\n",
    "            end_date='2020-10-30',\n",
    "            date_mode='publication_date'\n",
    ")\n",
    "display_df(headers)"
   ]
  },
  {
   "cell_type": "code",
   "execution_count": 11,
   "metadata": {
    "ExecuteTime": {
     "end_time": "2021-01-15T15:20:23.959728Z",
     "start_time": "2021-01-15T15:17:22.452817Z"
    }
   },
   "outputs": [
    {
     "data": {
      "application/vnd.jupyter.widget-view+json": {
       "model_id": "1847437fbedf4688b5fe02af7ba4313f",
       "version_major": 2,
       "version_minor": 0
      },
      "text/plain": [
       "Processing :   0%|          | 0/1 [00:00<?, ?it/s]"
      ]
     },
     "metadata": {},
     "output_type": "display_data"
    },
    {
     "data": {
      "application/vnd.jupyter.widget-view+json": {
       "model_id": "",
       "version_major": 2,
       "version_minor": 0
      },
      "text/plain": [
       "Pages: : 0it [00:00, ?it/s]"
      ]
     },
     "metadata": {},
     "output_type": "display_data"
    },
    {
     "name": "stdout",
     "output_type": "stream",
     "text": [
      "num_rows=7815\n"
     ]
    },
    {
     "data": {
      "text/html": [
       "<div>\n",
       "<style scoped>\n",
       "    .dataframe tbody tr th:only-of-type {\n",
       "        vertical-align: middle;\n",
       "    }\n",
       "\n",
       "    .dataframe tbody tr th {\n",
       "        vertical-align: top;\n",
       "    }\n",
       "\n",
       "    .dataframe thead th {\n",
       "        text-align: right;\n",
       "    }\n",
       "</style>\n",
       "<table border=\"1\" class=\"dataframe\">\n",
       "  <thead>\n",
       "    <tr style=\"text-align: right;\">\n",
       "      <th></th>\n",
       "      <th>uuid</th>\n",
       "      <th>cik</th>\n",
       "      <th>filing_date</th>\n",
       "      <th>form_type</th>\n",
       "      <th>edgar_path</th>\n",
       "      <th>company</th>\n",
       "      <th>acceptance_datetime</th>\n",
       "      <th>period_of_report</th>\n",
       "      <th>created_at</th>\n",
       "    </tr>\n",
       "  </thead>\n",
       "  <tbody>\n",
       "    <tr>\n",
       "      <th>0</th>\n",
       "      <td>835b433c-fcaa-4615-bd3a-7ac996ca7c95</td>\n",
       "      <td>1750</td>\n",
       "      <td>2020-01-02</td>\n",
       "      <td>4</td>\n",
       "      <td>edgar/data/1750/0001127602-20-000197.txt</td>\n",
       "      <td>AAR CORP</td>\n",
       "      <td>2020-01-02T21:47:54+00:00</td>\n",
       "      <td>2019-12-24T05:00:00+00:00</td>\n",
       "      <td>2020-06-12T23:46:24.395414+00:00</td>\n",
       "    </tr>\n",
       "    <tr>\n",
       "      <th>1</th>\n",
       "      <td>a9ead7b8-4af6-4ee5-8af7-f793a8632952</td>\n",
       "      <td>1750</td>\n",
       "      <td>2020-01-02</td>\n",
       "      <td>4</td>\n",
       "      <td>edgar/data/1750/0001127602-20-000091.txt</td>\n",
       "      <td>AAR CORP</td>\n",
       "      <td>2020-01-02T20:23:00+00:00</td>\n",
       "      <td>2019-12-31T05:00:00+00:00</td>\n",
       "      <td>2020-06-12T23:46:24.395414+00:00</td>\n",
       "    </tr>\n",
       "    <tr>\n",
       "      <th>2</th>\n",
       "      <td>51772308-6109-40b9-a97c-e1048cf9dc6c</td>\n",
       "      <td>6769</td>\n",
       "      <td>2020-01-02</td>\n",
       "      <td>4</td>\n",
       "      <td>edgar/data/6769/0001357400-20-000007.txt</td>\n",
       "      <td>APACHE CORP</td>\n",
       "      <td>2020-01-02T19:33:37+00:00</td>\n",
       "      <td>2019-12-31T05:00:00+00:00</td>\n",
       "      <td>2020-06-12T23:46:28.584799+00:00</td>\n",
       "    </tr>\n",
       "  </tbody>\n",
       "</table>\n",
       "</div>"
      ],
      "text/plain": [
       "                                   uuid   cik filing_date form_type  \\\n",
       "0  835b433c-fcaa-4615-bd3a-7ac996ca7c95  1750  2020-01-02         4   \n",
       "1  a9ead7b8-4af6-4ee5-8af7-f793a8632952  1750  2020-01-02         4   \n",
       "2  51772308-6109-40b9-a97c-e1048cf9dc6c  6769  2020-01-02         4   \n",
       "\n",
       "                                 edgar_path      company  \\\n",
       "0  edgar/data/1750/0001127602-20-000197.txt     AAR CORP   \n",
       "1  edgar/data/1750/0001127602-20-000091.txt     AAR CORP   \n",
       "2  edgar/data/6769/0001357400-20-000007.txt  APACHE CORP   \n",
       "\n",
       "         acceptance_datetime           period_of_report  \\\n",
       "0  2020-01-02T21:47:54+00:00  2019-12-24T05:00:00+00:00   \n",
       "1  2020-01-02T20:23:00+00:00  2019-12-31T05:00:00+00:00   \n",
       "2  2020-01-02T19:33:37+00:00  2019-12-31T05:00:00+00:00   \n",
       "\n",
       "                         created_at  \n",
       "0  2020-06-12T23:46:24.395414+00:00  \n",
       "1  2020-06-12T23:46:24.395414+00:00  \n",
       "2  2020-06-12T23:46:28.584799+00:00  "
      ]
     },
     "metadata": {},
     "output_type": "display_data"
    }
   ],
   "source": [
    "# Get forms for a subset of forms and all CIKs for 1 year.\n",
    "headers = client.get_form_headers(\n",
    "            form_type=['4'],\n",
    "            cik=None,\n",
    "            start_date='2020-01-01',\n",
    "            end_date='2020-01-31',\n",
    "            date_mode='publication_date'\n",
    ")\n",
    "display_df(headers)"
   ]
  },
  {
   "cell_type": "markdown",
   "metadata": {},
   "source": [
    "## Payload data"
   ]
  },
  {
   "cell_type": "markdown",
   "metadata": {},
   "source": [
    "### Form8"
   ]
  },
  {
   "cell_type": "code",
   "execution_count": 12,
   "metadata": {
    "ExecuteTime": {
     "end_time": "2021-01-15T15:20:24.317785Z",
     "start_time": "2021-01-15T15:20:23.963408Z"
    },
    "pycharm": {
     "is_executing": false,
     "name": "#%%\n"
    }
   },
   "outputs": [
    {
     "data": {
      "application/vnd.jupyter.widget-view+json": {
       "model_id": "dec63d7435ca4413b481245897428b42",
       "version_major": 2,
       "version_minor": 0
      },
      "text/plain": [
       "Processing CIK:   0%|          | 0/1 [00:00<?, ?it/s]"
      ]
     },
     "metadata": {},
     "output_type": "display_data"
    },
    {
     "data": {
      "application/vnd.jupyter.widget-view+json": {
       "model_id": "",
       "version_major": 2,
       "version_minor": 0
      },
      "text/plain": [
       "Pages: : 0it [00:00, ?it/s]"
      ]
     },
     "metadata": {},
     "output_type": "display_data"
    },
    {
     "name": "stdout",
     "output_type": "stream",
     "text": [
      "num_rows=4\n"
     ]
    },
    {
     "data": {
      "text/html": [
       "<div>\n",
       "<style scoped>\n",
       "    .dataframe tbody tr th:only-of-type {\n",
       "        vertical-align: middle;\n",
       "    }\n",
       "\n",
       "    .dataframe tbody tr th {\n",
       "        vertical-align: top;\n",
       "    }\n",
       "\n",
       "    .dataframe thead th {\n",
       "        text-align: right;\n",
       "    }\n",
       "</style>\n",
       "<table border=\"1\" class=\"dataframe\">\n",
       "  <thead>\n",
       "    <tr style=\"text-align: right;\">\n",
       "      <th></th>\n",
       "      <th>form_uuid</th>\n",
       "      <th>filing_url</th>\n",
       "      <th>form_publication_timestamp</th>\n",
       "      <th>filing_date</th>\n",
       "      <th>creation_timestamp</th>\n",
       "      <th>cik</th>\n",
       "      <th>ticker</th>\n",
       "      <th>item_name</th>\n",
       "      <th>form_table_row_name</th>\n",
       "      <th>item_value</th>\n",
       "      <th>compustat_timestamp</th>\n",
       "      <th>period_of_report</th>\n",
       "      <th>compustat_coifnd_id</th>\n",
       "      <th>gvk</th>\n",
       "    </tr>\n",
       "  </thead>\n",
       "  <tbody>\n",
       "    <tr>\n",
       "      <th>0</th>\n",
       "      <td>514be1a9-88d1-426b-be7e-d7b5a0ff64e6</td>\n",
       "      <td>https://www.sec.gov/Archives/edgar/data/18498/...</td>\n",
       "      <td>2020-03-12T11:45:58</td>\n",
       "      <td>2020-03-12</td>\n",
       "      <td>2020-06-12T23:49:03.580000</td>\n",
       "      <td>18498</td>\n",
       "      <td>GCO</td>\n",
       "      <td>ACT_QUARTER</td>\n",
       "      <td>Total current assets</td>\n",
       "      <td>508.18300000000005</td>\n",
       "      <td>2020-03-12T20:00:00</td>\n",
       "      <td>2020-01-31T00:00:00</td>\n",
       "      <td>10099821</td>\n",
       "      <td>5109</td>\n",
       "    </tr>\n",
       "    <tr>\n",
       "      <th>1</th>\n",
       "      <td>70a8c7b9-d0a7-4c41-902c-89d84d3b9122</td>\n",
       "      <td>https://www.sec.gov/Archives/edgar/data/18498/...</td>\n",
       "      <td>2020-06-09T11:21:05</td>\n",
       "      <td>2020-06-09</td>\n",
       "      <td>2020-12-01T17:13:22.396000</td>\n",
       "      <td>18498</td>\n",
       "      <td>GCO</td>\n",
       "      <td>ACT_QUARTER</td>\n",
       "      <td>Total current assets</td>\n",
       "      <td>735.008</td>\n",
       "      <td>2020-06-09T20:00:00</td>\n",
       "      <td>2020-04-30T00:00:00</td>\n",
       "      <td>10164135</td>\n",
       "      <td>5109</td>\n",
       "    </tr>\n",
       "    <tr>\n",
       "      <th>2</th>\n",
       "      <td>30cc5db5-e9ce-4d43-830b-d5d5a94b201a</td>\n",
       "      <td>https://www.sec.gov/Archives/edgar/data/18498/...</td>\n",
       "      <td>2020-09-03T11:30:54</td>\n",
       "      <td>2020-09-03</td>\n",
       "      <td>2020-09-03T11:32:58.186000</td>\n",
       "      <td>18498</td>\n",
       "      <td>GCO</td>\n",
       "      <td>ACT_QUARTER</td>\n",
       "      <td>Total current assets</td>\n",
       "      <td>777.658</td>\n",
       "      <td>None</td>\n",
       "      <td>2020-07-31T00:00:00</td>\n",
       "      <td></td>\n",
       "      <td>5109</td>\n",
       "    </tr>\n",
       "  </tbody>\n",
       "</table>\n",
       "</div>"
      ],
      "text/plain": [
       "                              form_uuid  \\\n",
       "0  514be1a9-88d1-426b-be7e-d7b5a0ff64e6   \n",
       "1  70a8c7b9-d0a7-4c41-902c-89d84d3b9122   \n",
       "2  30cc5db5-e9ce-4d43-830b-d5d5a94b201a   \n",
       "\n",
       "                                          filing_url  \\\n",
       "0  https://www.sec.gov/Archives/edgar/data/18498/...   \n",
       "1  https://www.sec.gov/Archives/edgar/data/18498/...   \n",
       "2  https://www.sec.gov/Archives/edgar/data/18498/...   \n",
       "\n",
       "  form_publication_timestamp filing_date          creation_timestamp    cik  \\\n",
       "0        2020-03-12T11:45:58  2020-03-12  2020-06-12T23:49:03.580000  18498   \n",
       "1        2020-06-09T11:21:05  2020-06-09  2020-12-01T17:13:22.396000  18498   \n",
       "2        2020-09-03T11:30:54  2020-09-03  2020-09-03T11:32:58.186000  18498   \n",
       "\n",
       "  ticker    item_name   form_table_row_name          item_value  \\\n",
       "0    GCO  ACT_QUARTER  Total current assets  508.18300000000005   \n",
       "1    GCO  ACT_QUARTER  Total current assets             735.008   \n",
       "2    GCO  ACT_QUARTER  Total current assets             777.658   \n",
       "\n",
       "   compustat_timestamp     period_of_report compustat_coifnd_id   gvk  \n",
       "0  2020-03-12T20:00:00  2020-01-31T00:00:00            10099821  5109  \n",
       "1  2020-06-09T20:00:00  2020-04-30T00:00:00            10164135  5109  \n",
       "2                 None  2020-07-31T00:00:00                      5109  "
      ]
     },
     "metadata": {},
     "output_type": "display_data"
    }
   ],
   "source": [
    "# Get all Form8 data for one CIK, one item in a range of time.\n",
    "payload = client.get_form8_payload(\n",
    "    cik=18498, \n",
    "    start_date=\"2020-01-04\", \n",
    "    end_date=\"2020-12-04\", \n",
    "    date_mode=\"publication_date\",\n",
    "    item=\"ACT_QUARTER\",\n",
    ")\n",
    "display_df(payload)"
   ]
  },
  {
   "cell_type": "code",
   "execution_count": 13,
   "metadata": {
    "ExecuteTime": {
     "end_time": "2021-01-15T15:20:25.893527Z",
     "start_time": "2021-01-15T15:20:24.323257Z"
    },
    "pycharm": {
     "is_executing": false,
     "name": "#%%\n"
    }
   },
   "outputs": [
    {
     "data": {
      "application/vnd.jupyter.widget-view+json": {
       "model_id": "7c712409d470488fbde8a7ff9d1b4e1f",
       "version_major": 2,
       "version_minor": 0
      },
      "text/plain": [
       "Processing CIK:   0%|          | 0/1 [00:00<?, ?it/s]"
      ]
     },
     "metadata": {},
     "output_type": "display_data"
    },
    {
     "data": {
      "application/vnd.jupyter.widget-view+json": {
       "model_id": "",
       "version_major": 2,
       "version_minor": 0
      },
      "text/plain": [
       "Pages: : 0it [00:00, ?it/s]"
      ]
     },
     "metadata": {},
     "output_type": "display_data"
    },
    {
     "name": "stdout",
     "output_type": "stream",
     "text": [
      "num_rows=961\n"
     ]
    },
    {
     "data": {
      "text/html": [
       "<div>\n",
       "<style scoped>\n",
       "    .dataframe tbody tr th:only-of-type {\n",
       "        vertical-align: middle;\n",
       "    }\n",
       "\n",
       "    .dataframe tbody tr th {\n",
       "        vertical-align: top;\n",
       "    }\n",
       "\n",
       "    .dataframe thead th {\n",
       "        text-align: right;\n",
       "    }\n",
       "</style>\n",
       "<table border=\"1\" class=\"dataframe\">\n",
       "  <thead>\n",
       "    <tr style=\"text-align: right;\">\n",
       "      <th></th>\n",
       "      <th>form_uuid</th>\n",
       "      <th>filing_url</th>\n",
       "      <th>form_publication_timestamp</th>\n",
       "      <th>filing_date</th>\n",
       "      <th>creation_timestamp</th>\n",
       "      <th>cik</th>\n",
       "      <th>ticker</th>\n",
       "      <th>item_name</th>\n",
       "      <th>form_table_row_name</th>\n",
       "      <th>item_value</th>\n",
       "      <th>compustat_timestamp</th>\n",
       "      <th>period_of_report</th>\n",
       "      <th>compustat_coifnd_id</th>\n",
       "      <th>gvk</th>\n",
       "    </tr>\n",
       "  </thead>\n",
       "  <tbody>\n",
       "    <tr>\n",
       "      <th>0</th>\n",
       "      <td>782bb3b5-a1b0-42f9-9071-d13a98849a5f</td>\n",
       "      <td>https://www.sec.gov/Archives/edgar/data/319201...</td>\n",
       "      <td>2010-01-28T21:23:27</td>\n",
       "      <td>2010-01-28</td>\n",
       "      <td>2020-06-12T22:52:30.433000</td>\n",
       "      <td>319201</td>\n",
       "      <td>KLAC</td>\n",
       "      <td>NI_QUARTER</td>\n",
       "      <td>Net income (loss)</td>\n",
       "      <td>21.794</td>\n",
       "      <td>2010-01-29T05:00:00</td>\n",
       "      <td>2009-12-31T00:00:00</td>\n",
       "      <td>6999592</td>\n",
       "      <td>6304</td>\n",
       "    </tr>\n",
       "    <tr>\n",
       "      <th>1</th>\n",
       "      <td>782bb3b5-a1b0-42f9-9071-d13a98849a5f</td>\n",
       "      <td>https://www.sec.gov/Archives/edgar/data/319201...</td>\n",
       "      <td>2010-01-28T21:23:27</td>\n",
       "      <td>2010-01-28</td>\n",
       "      <td>2020-06-12T22:52:30.433000</td>\n",
       "      <td>319201</td>\n",
       "      <td>KLAC</td>\n",
       "      <td>SALE_QUARTER</td>\n",
       "      <td>Total revenues</td>\n",
       "      <td>440.355</td>\n",
       "      <td>2010-01-29T05:00:00</td>\n",
       "      <td>2009-12-31T00:00:00</td>\n",
       "      <td>6999592</td>\n",
       "      <td>6304</td>\n",
       "    </tr>\n",
       "    <tr>\n",
       "      <th>2</th>\n",
       "      <td>9f600236-5a62-4861-bcf3-59c2e884cd90</td>\n",
       "      <td>https://www.sec.gov/Archives/edgar/data/5768/0...</td>\n",
       "      <td>2010-02-09T21:17:04</td>\n",
       "      <td>2010-02-09</td>\n",
       "      <td>2020-06-12T22:52:22.626000</td>\n",
       "      <td>5768</td>\n",
       "      <td>ASEI</td>\n",
       "      <td>NI_QUARTER</td>\n",
       "      <td>Net income</td>\n",
       "      <td>5.819</td>\n",
       "      <td>2010-02-10T05:00:00</td>\n",
       "      <td>2009-12-31T00:00:00</td>\n",
       "      <td>7007593</td>\n",
       "      <td>1554</td>\n",
       "    </tr>\n",
       "  </tbody>\n",
       "</table>\n",
       "</div>"
      ],
      "text/plain": [
       "                              form_uuid  \\\n",
       "0  782bb3b5-a1b0-42f9-9071-d13a98849a5f   \n",
       "1  782bb3b5-a1b0-42f9-9071-d13a98849a5f   \n",
       "2  9f600236-5a62-4861-bcf3-59c2e884cd90   \n",
       "\n",
       "                                          filing_url  \\\n",
       "0  https://www.sec.gov/Archives/edgar/data/319201...   \n",
       "1  https://www.sec.gov/Archives/edgar/data/319201...   \n",
       "2  https://www.sec.gov/Archives/edgar/data/5768/0...   \n",
       "\n",
       "  form_publication_timestamp filing_date          creation_timestamp     cik  \\\n",
       "0        2010-01-28T21:23:27  2010-01-28  2020-06-12T22:52:30.433000  319201   \n",
       "1        2010-01-28T21:23:27  2010-01-28  2020-06-12T22:52:30.433000  319201   \n",
       "2        2010-02-09T21:17:04  2010-02-09  2020-06-12T22:52:22.626000    5768   \n",
       "\n",
       "  ticker     item_name form_table_row_name item_value  compustat_timestamp  \\\n",
       "0   KLAC    NI_QUARTER   Net income (loss)     21.794  2010-01-29T05:00:00   \n",
       "1   KLAC  SALE_QUARTER      Total revenues    440.355  2010-01-29T05:00:00   \n",
       "2   ASEI    NI_QUARTER          Net income      5.819  2010-02-10T05:00:00   \n",
       "\n",
       "      period_of_report compustat_coifnd_id   gvk  \n",
       "0  2009-12-31T00:00:00             6999592  6304  \n",
       "1  2009-12-31T00:00:00             6999592  6304  \n",
       "2  2009-12-31T00:00:00             7007593  1554  "
      ]
     },
     "metadata": {},
     "output_type": "display_data"
    }
   ],
   "source": [
    "# Get all Form8 data for multiple CIK, all items, and entire period of time.\n",
    "payload = client.get_form8_payload(cik=[18498, 319201, 5768])\n",
    "display_df(payload)"
   ]
  },
  {
   "cell_type": "markdown",
   "metadata": {},
   "source": [
    "### Form4\n"
   ]
  },
  {
   "cell_type": "markdown",
   "metadata": {},
   "source": [
    "#### Examples of queries"
   ]
  },
  {
   "cell_type": "code",
   "execution_count": 14,
   "metadata": {
    "ExecuteTime": {
     "end_time": "2021-01-15T15:20:25.960055Z",
     "start_time": "2021-01-15T15:20:25.898004Z"
    },
    "pycharm": {
     "is_executing": false
    }
   },
   "outputs": [],
   "source": [
    "# Initalize the client.\n",
    "client = p1_edg.EdgarClient(token=P1_API_TOKEN)"
   ]
  },
  {
   "cell_type": "code",
   "execution_count": 15,
   "metadata": {
    "ExecuteTime": {
     "end_time": "2021-01-15T15:20:27.327625Z",
     "start_time": "2021-01-15T15:20:25.964660Z"
    },
    "pycharm": {
     "name": "#%%\n"
    }
   },
   "outputs": [
    {
     "data": {
      "application/vnd.jupyter.widget-view+json": {
       "model_id": "e516742fc55c4f1ea3a8a90f2ec32b32",
       "version_major": 2,
       "version_minor": 0
      },
      "text/plain": [
       "Processing CIK:   0%|          | 0/1 [00:00<?, ?it/s]"
      ]
     },
     "metadata": {},
     "output_type": "display_data"
    },
    {
     "data": {
      "application/vnd.jupyter.widget-view+json": {
       "model_id": "",
       "version_major": 2,
       "version_minor": 0
      },
      "text/plain": [
       "Pages: : 0it [00:00, ?it/s]"
      ]
     },
     "metadata": {},
     "output_type": "display_data"
    }
   ],
   "source": [
    "# Get Form4 data for one CIK and one day, as dataframe.\n",
    "payload = client.get_form4_payload(\n",
    "    cik=1524358, \n",
    "    start_date=\"2015-10-23\", \n",
    "    end_date=\"2020-10-23\", \n",
    "    date_mode=\"publication_date\",\n",
    "    output_type=\"dataframes\"\n",
    ")"
   ]
  },
  {
   "cell_type": "code",
   "execution_count": 16,
   "metadata": {
    "ExecuteTime": {
     "end_time": "2021-01-15T15:20:27.383311Z",
     "start_time": "2021-01-15T15:20:27.331543Z"
    }
   },
   "outputs": [
    {
     "data": {
      "text/plain": [
       "dict_keys(['metadata', 'derivative_table', 'footnotes', 'general_info', 'non_derivative_table', 'reporting_owner_info'])"
      ]
     },
     "execution_count": 16,
     "metadata": {},
     "output_type": "execute_result"
    }
   ],
   "source": [
    "payload.keys()"
   ]
  },
  {
   "cell_type": "code",
   "execution_count": 17,
   "metadata": {
    "ExecuteTime": {
     "end_time": "2021-01-15T15:20:27.492796Z",
     "start_time": "2021-01-15T15:20:27.387939Z"
    }
   },
   "outputs": [
    {
     "name": "stdout",
     "output_type": "stream",
     "text": [
      "num_rows=382\n"
     ]
    },
    {
     "data": {
      "text/html": [
       "<div>\n",
       "<style scoped>\n",
       "    .dataframe tbody tr th:only-of-type {\n",
       "        vertical-align: middle;\n",
       "    }\n",
       "\n",
       "    .dataframe tbody tr th {\n",
       "        vertical-align: top;\n",
       "    }\n",
       "\n",
       "    .dataframe thead th {\n",
       "        text-align: right;\n",
       "    }\n",
       "</style>\n",
       "<table border=\"1\" class=\"dataframe\">\n",
       "  <thead>\n",
       "    <tr style=\"text-align: right;\">\n",
       "      <th></th>\n",
       "      <th>uuid</th>\n",
       "      <th>url</th>\n",
       "      <th>date_of_original_submission</th>\n",
       "      <th>document_type</th>\n",
       "      <th>form3_holdings_reported</th>\n",
       "      <th>form4_transactions_reported</th>\n",
       "      <th>issuer_cik</th>\n",
       "      <th>issuer_name</th>\n",
       "      <th>issuer_trading_symbol</th>\n",
       "      <th>no_securities_owned</th>\n",
       "      <th>not_subject_to_section_16</th>\n",
       "      <th>period_of_report</th>\n",
       "      <th>remarks</th>\n",
       "      <th>schema_version</th>\n",
       "      <th>signature_date</th>\n",
       "      <th>signature_name</th>\n",
       "      <th>footnote_ids</th>\n",
       "    </tr>\n",
       "  </thead>\n",
       "  <tbody>\n",
       "    <tr>\n",
       "      <th>0</th>\n",
       "      <td>0000008f-b9a2-4b2a-bdb2-cb4605c895c4</td>\n",
       "      <td>https://www.sec.gov/Archives/edgar/data/152435...</td>\n",
       "      <td>None</td>\n",
       "      <td>4</td>\n",
       "      <td>NaN</td>\n",
       "      <td>NaN</td>\n",
       "      <td>1524358</td>\n",
       "      <td>MARRIOTT VACATIONS WORLDWIDE Corp</td>\n",
       "      <td>VAC</td>\n",
       "      <td>NaN</td>\n",
       "      <td>0.0</td>\n",
       "      <td>2015-10-22</td>\n",
       "      <td>None</td>\n",
       "      <td>X0306</td>\n",
       "      <td>2015-10-23</td>\n",
       "      <td>/s/ Catherine Meeker, Attorney-in-Fact</td>\n",
       "      <td>[]</td>\n",
       "    </tr>\n",
       "    <tr>\n",
       "      <th>1</th>\n",
       "      <td>01101471-7ee9-4fc5-afef-73d5ac86d756</td>\n",
       "      <td>https://www.sec.gov/Archives/edgar/data/152435...</td>\n",
       "      <td>None</td>\n",
       "      <td>4</td>\n",
       "      <td>NaN</td>\n",
       "      <td>NaN</td>\n",
       "      <td>1524358</td>\n",
       "      <td>MARRIOTT VACATIONS WORLDWIDE Corp</td>\n",
       "      <td>VAC</td>\n",
       "      <td>NaN</td>\n",
       "      <td>0.0</td>\n",
       "      <td>2020-03-12</td>\n",
       "      <td>None</td>\n",
       "      <td>X0306</td>\n",
       "      <td>2020-03-16</td>\n",
       "      <td>/s/James H Hunter, IV\\nAttorney-In-Fact</td>\n",
       "      <td>[]</td>\n",
       "    </tr>\n",
       "    <tr>\n",
       "      <th>2</th>\n",
       "      <td>0164245c-a57e-4ea8-b730-69bb7f4104d0</td>\n",
       "      <td>https://www.sec.gov/Archives/edgar/data/152435...</td>\n",
       "      <td>None</td>\n",
       "      <td>4</td>\n",
       "      <td>NaN</td>\n",
       "      <td>NaN</td>\n",
       "      <td>1524358</td>\n",
       "      <td>MARRIOTT VACATIONS WORLDWIDE Corp</td>\n",
       "      <td>VAC</td>\n",
       "      <td>NaN</td>\n",
       "      <td>0.0</td>\n",
       "      <td>2015-12-15</td>\n",
       "      <td>None</td>\n",
       "      <td>X0306</td>\n",
       "      <td>2015-12-17</td>\n",
       "      <td>/s/ Catherine Meeker, Attorney-in-Fact</td>\n",
       "      <td>[]</td>\n",
       "    </tr>\n",
       "  </tbody>\n",
       "</table>\n",
       "</div>"
      ],
      "text/plain": [
       "                                   uuid  \\\n",
       "0  0000008f-b9a2-4b2a-bdb2-cb4605c895c4   \n",
       "1  01101471-7ee9-4fc5-afef-73d5ac86d756   \n",
       "2  0164245c-a57e-4ea8-b730-69bb7f4104d0   \n",
       "\n",
       "                                                 url  \\\n",
       "0  https://www.sec.gov/Archives/edgar/data/152435...   \n",
       "1  https://www.sec.gov/Archives/edgar/data/152435...   \n",
       "2  https://www.sec.gov/Archives/edgar/data/152435...   \n",
       "\n",
       "  date_of_original_submission document_type  form3_holdings_reported  \\\n",
       "0                        None             4                      NaN   \n",
       "1                        None             4                      NaN   \n",
       "2                        None             4                      NaN   \n",
       "\n",
       "   form4_transactions_reported  issuer_cik                        issuer_name  \\\n",
       "0                          NaN     1524358  MARRIOTT VACATIONS WORLDWIDE Corp   \n",
       "1                          NaN     1524358  MARRIOTT VACATIONS WORLDWIDE Corp   \n",
       "2                          NaN     1524358  MARRIOTT VACATIONS WORLDWIDE Corp   \n",
       "\n",
       "  issuer_trading_symbol  no_securities_owned  not_subject_to_section_16  \\\n",
       "0                   VAC                  NaN                        0.0   \n",
       "1                   VAC                  NaN                        0.0   \n",
       "2                   VAC                  NaN                        0.0   \n",
       "\n",
       "  period_of_report remarks schema_version signature_date  \\\n",
       "0       2015-10-22    None          X0306     2015-10-23   \n",
       "1       2020-03-12    None          X0306     2020-03-16   \n",
       "2       2015-12-15    None          X0306     2015-12-17   \n",
       "\n",
       "                            signature_name footnote_ids  \n",
       "0   /s/ Catherine Meeker, Attorney-in-Fact           []  \n",
       "1  /s/James H Hunter, IV\\nAttorney-In-Fact           []  \n",
       "2   /s/ Catherine Meeker, Attorney-in-Fact           []  "
      ]
     },
     "metadata": {},
     "output_type": "display_data"
    }
   ],
   "source": [
    "display_df(payload['general_info'])"
   ]
  },
  {
   "cell_type": "code",
   "execution_count": 18,
   "metadata": {
    "ExecuteTime": {
     "end_time": "2021-01-15T15:20:27.902614Z",
     "start_time": "2021-01-15T15:20:27.499036Z"
    }
   },
   "outputs": [
    {
     "data": {
      "application/vnd.jupyter.widget-view+json": {
       "model_id": "9ab939e53ab14aa79f28f20ed5e5026d",
       "version_major": 2,
       "version_minor": 0
      },
      "text/plain": [
       "Processing CIK:   0%|          | 0/1 [00:00<?, ?it/s]"
      ]
     },
     "metadata": {},
     "output_type": "display_data"
    },
    {
     "data": {
      "application/vnd.jupyter.widget-view+json": {
       "model_id": "",
       "version_major": 2,
       "version_minor": 0
      },
      "text/plain": [
       "Pages: : 0it [00:00, ?it/s]"
      ]
     },
     "metadata": {},
     "output_type": "display_data"
    }
   ],
   "source": [
    "# Get Form4 data for one CIK and a week.\n",
    "payload = client.get_form4_payload(\n",
    "    cik=1002910, \n",
    "    start_date=\"2015-10-20\", \n",
    "    end_date=\"2015-10-27\",\n",
    "    date_mode=\"publication_date\",\n",
    ")"
   ]
  },
  {
   "cell_type": "code",
   "execution_count": 19,
   "metadata": {
    "ExecuteTime": {
     "end_time": "2021-01-15T15:20:28.766199Z",
     "start_time": "2021-01-15T15:20:27.905163Z"
    }
   },
   "outputs": [
    {
     "data": {
      "application/vnd.jupyter.widget-view+json": {
       "model_id": "19a96aad8c2f4b859ad67ad5b2d853c4",
       "version_major": 2,
       "version_minor": 0
      },
      "text/plain": [
       "Processing CIK:   0%|          | 0/1 [00:00<?, ?it/s]"
      ]
     },
     "metadata": {},
     "output_type": "display_data"
    },
    {
     "data": {
      "application/vnd.jupyter.widget-view+json": {
       "model_id": "",
       "version_major": 2,
       "version_minor": 0
      },
      "text/plain": [
       "Pages: : 0it [00:00, ?it/s]"
      ]
     },
     "metadata": {},
     "output_type": "display_data"
    }
   ],
   "source": [
    "# Get Form4 data for multiple CIKs and a week.\n",
    "payload = client.get_form4_payload(\n",
    "    cik=[910521, 883241, 80424], \n",
    "    start_date=\"2020-12-10\", \n",
    "    end_date=\"2020-12-17\", \n",
    "    date_mode=\"publication_date\",\n",
    "    output_type=\"dataframes\"\n",
    ")"
   ]
  },
  {
   "cell_type": "code",
   "execution_count": 20,
   "metadata": {
    "ExecuteTime": {
     "end_time": "2021-01-15T15:20:28.848812Z",
     "start_time": "2021-01-15T15:20:28.770974Z"
    }
   },
   "outputs": [
    {
     "name": "stdout",
     "output_type": "stream",
     "text": [
      "num_rows=23\n"
     ]
    },
    {
     "data": {
      "text/html": [
       "<div>\n",
       "<style scoped>\n",
       "    .dataframe tbody tr th:only-of-type {\n",
       "        vertical-align: middle;\n",
       "    }\n",
       "\n",
       "    .dataframe tbody tr th {\n",
       "        vertical-align: top;\n",
       "    }\n",
       "\n",
       "    .dataframe thead th {\n",
       "        text-align: right;\n",
       "    }\n",
       "</style>\n",
       "<table border=\"1\" class=\"dataframe\">\n",
       "  <thead>\n",
       "    <tr style=\"text-align: right;\">\n",
       "      <th></th>\n",
       "      <th>uuid</th>\n",
       "      <th>form_type</th>\n",
       "      <th>company</th>\n",
       "      <th>cik</th>\n",
       "      <th>release_date</th>\n",
       "      <th>edgar_path</th>\n",
       "      <th>payload_path</th>\n",
       "      <th>created_at</th>\n",
       "      <th>period</th>\n",
       "    </tr>\n",
       "  </thead>\n",
       "  <tbody>\n",
       "    <tr>\n",
       "      <th>0</th>\n",
       "      <td>4b59d19c-45f5-4a35-8ecb-736b59079a77</td>\n",
       "      <td>4</td>\n",
       "      <td>PROCTER &amp; GAMBLE Co</td>\n",
       "      <td>80424</td>\n",
       "      <td>2020-12-17</td>\n",
       "      <td>edgar/data/80424/000112760220031658/0001127602...</td>\n",
       "      <td>s3://edgar-store/form4/2020/8f9905ed8b24fbe3bd...</td>\n",
       "      <td>2020-12-17T14:37:55.298000</td>\n",
       "      <td>2020-12-17T00:00:00</td>\n",
       "    </tr>\n",
       "    <tr>\n",
       "      <th>1</th>\n",
       "      <td>bf76a297-b067-44fa-9c09-aa9579487cc6</td>\n",
       "      <td>4</td>\n",
       "      <td>PROCTER &amp; GAMBLE Co</td>\n",
       "      <td>80424</td>\n",
       "      <td>2020-12-17</td>\n",
       "      <td>edgar/data/80424/000112760220031735/0001127602...</td>\n",
       "      <td>s3://edgar-store/form4/2020/c6d86b0107ac3e4dc3...</td>\n",
       "      <td>2020-12-17T18:57:17.888000</td>\n",
       "      <td>2020-12-17T00:00:00</td>\n",
       "    </tr>\n",
       "    <tr>\n",
       "      <th>2</th>\n",
       "      <td>cb47a9e7-75cc-485c-8605-cfc36e578df5</td>\n",
       "      <td>4</td>\n",
       "      <td>PROCTER &amp; GAMBLE Co</td>\n",
       "      <td>80424</td>\n",
       "      <td>2020-12-17</td>\n",
       "      <td>edgar/data/80424/000112760220031737/0001127602...</td>\n",
       "      <td>s3://edgar-store/form4/2020/37f6fda98d0f71f6d1...</td>\n",
       "      <td>2020-12-17T18:59:23.359000</td>\n",
       "      <td>2020-12-17T00:00:00</td>\n",
       "    </tr>\n",
       "  </tbody>\n",
       "</table>\n",
       "</div>"
      ],
      "text/plain": [
       "                                   uuid form_type              company    cik  \\\n",
       "0  4b59d19c-45f5-4a35-8ecb-736b59079a77         4  PROCTER & GAMBLE Co  80424   \n",
       "1  bf76a297-b067-44fa-9c09-aa9579487cc6         4  PROCTER & GAMBLE Co  80424   \n",
       "2  cb47a9e7-75cc-485c-8605-cfc36e578df5         4  PROCTER & GAMBLE Co  80424   \n",
       "\n",
       "  release_date                                         edgar_path  \\\n",
       "0   2020-12-17  edgar/data/80424/000112760220031658/0001127602...   \n",
       "1   2020-12-17  edgar/data/80424/000112760220031735/0001127602...   \n",
       "2   2020-12-17  edgar/data/80424/000112760220031737/0001127602...   \n",
       "\n",
       "                                        payload_path  \\\n",
       "0  s3://edgar-store/form4/2020/8f9905ed8b24fbe3bd...   \n",
       "1  s3://edgar-store/form4/2020/c6d86b0107ac3e4dc3...   \n",
       "2  s3://edgar-store/form4/2020/37f6fda98d0f71f6d1...   \n",
       "\n",
       "                   created_at               period  \n",
       "0  2020-12-17T14:37:55.298000  2020-12-17T00:00:00  \n",
       "1  2020-12-17T18:57:17.888000  2020-12-17T00:00:00  \n",
       "2  2020-12-17T18:59:23.359000  2020-12-17T00:00:00  "
      ]
     },
     "metadata": {},
     "output_type": "display_data"
    }
   ],
   "source": [
    "display_df(payload['metadata'])"
   ]
  },
  {
   "cell_type": "code",
   "execution_count": 21,
   "metadata": {
    "ExecuteTime": {
     "end_time": "2021-01-15T15:20:30.716119Z",
     "start_time": "2021-01-15T15:20:28.852439Z"
    },
    "pycharm": {
     "name": "#%%\n"
    }
   },
   "outputs": [
    {
     "data": {
      "application/vnd.jupyter.widget-view+json": {
       "model_id": "133051d156cb4c26b481636d33dc8792",
       "version_major": 2,
       "version_minor": 0
      },
      "text/plain": [
       "Processing :   0%|          | 0/1 [00:00<?, ?it/s]"
      ]
     },
     "metadata": {},
     "output_type": "display_data"
    },
    {
     "data": {
      "application/vnd.jupyter.widget-view+json": {
       "model_id": "",
       "version_major": 2,
       "version_minor": 0
      },
      "text/plain": [
       "Pages: : 0it [00:00, ?it/s]"
      ]
     },
     "metadata": {},
     "output_type": "display_data"
    },
    {
     "name": "stdout",
     "output_type": "stream",
     "text": [
      "{'derivative_table':                                      uuid  transaction_index_within_table  \\\n",
      "0    0084fea9-6b26-430b-b5f1-e1c26da2434c                               0   \n",
      "1    0084fea9-6b26-430b-b5f1-e1c26da2434c                               1   \n",
      "2    0084fea9-6b26-430b-b5f1-e1c26da2434c       \n"
     ]
    }
   ],
   "source": [
    "# Get Form4 data for all companies and one day.\n",
    "payload = client.get_form4_payload(\n",
    "    start_date=\"2020-12-17\", \n",
    "    end_date=\"2020-12-17\",     \n",
    "    date_mode=\"publication_date\",\n",
    ")\n",
    "print_payload(payload)"
   ]
  },
  {
   "cell_type": "markdown",
   "metadata": {
    "pycharm": {
     "name": "#%% md\n"
    }
   },
   "source": [
    "#### How to handle and show payload data"
   ]
  },
  {
   "cell_type": "code",
   "execution_count": 22,
   "metadata": {
    "ExecuteTime": {
     "end_time": "2021-01-15T15:20:30.818422Z",
     "start_time": "2021-01-15T15:20:30.718663Z"
    },
    "pycharm": {
     "name": "#%%\n"
    }
   },
   "outputs": [
    {
     "name": "stdout",
     "output_type": "stream",
     "text": [
      "len(payload)=6\n",
      "payload.keys()=dict_keys(['metadata', 'derivative_table', 'footnotes', 'general_info', 'non_derivative_table', 'reporting_owner_info'])\n",
      "payload[\"metadata\"]=\n",
      "                                   uuid form_type  \\\n",
      "0  28bf899e-e47d-4063-a9a8-b05a0a5dc571         4   \n",
      "1  45ab2b89-9a2e-4fba-a53c-0f51076307be         4   \n",
      "\n",
      "                           company      cik release_date  \\\n",
      "0  Armada Hoffler Properties, Inc.  1569187   2020-12-17   \n",
      "1                     RAYONIER INC    52827   2020-12-17   \n",
      "\n",
      "                                          edgar_path  \\\n",
      "0  edgar/data/1569187/000156918720000067/00015691...   \n",
      "1  edgar/data/52827/000005282720000244/0000052827...   \n",
      "\n",
      "                                        payload_path  \\\n",
      "0  s3://edgar-store/form4/2020/ffb0d1daa1928ac1a3...   \n",
      "1  s3://edgar-store/form4/2020/cbc1c144ea30740c24...   \n",
      "\n",
      "                   created_at               period  \n",
      "0  2020-12-17T11:09:21.909000  2020-12-17T00:00:00  \n",
      "1  2020-12-17T11:05:10.096000  2020-12-17T00:00:00  \n",
      "                                     uuid  \\\n",
      "0    003a0a75-d38f-4629-b1e3-fc0b3e254c0a   \n",
      "1    0084fea9-6b26-430b-b5f1-e1c26da2434c   \n",
      "2    00c0018d-19d5-4716-8a43-f63d15952ceb   \n",
      "3    0138921f-cff1-4fb3-aca1-942f10103af5   \n",
      "4    0153b994-77fc-4155-8744-3998998a0311   \n",
      "..                            \n"
     ]
    }
   ],
   "source": [
    "# Print out a length, and a table names inside a payload.\n",
    "print(\"len(payload)=%s\" % len(payload))\n",
    "print(\"payload.keys()=%s\" % payload.keys())\n",
    "\n",
    "# Show a metadata of a payload.\n",
    "print('payload[\"metadata\"]=\\n%s' % pprint.pformat(payload[\"metadata\"][:2]))\n",
    "\n",
    "# Print prettified \"general_info\" table of a payload.\n",
    "print_payload(payload[\"general_info\"])"
   ]
  },
  {
   "cell_type": "markdown",
   "metadata": {},
   "source": [
    "### Form13"
   ]
  },
  {
   "cell_type": "markdown",
   "metadata": {},
   "source": [
    "#### Examples of queries"
   ]
  },
  {
   "cell_type": "code",
   "execution_count": 23,
   "metadata": {
    "ExecuteTime": {
     "end_time": "2021-01-15T15:20:30.892074Z",
     "start_time": "2021-01-15T15:20:30.822163Z"
    },
    "pycharm": {
     "name": "#%%\n"
    }
   },
   "outputs": [],
   "source": [
    "# Initalize the client.\n",
    "client = p1_edg.EdgarClient(token=P1_API_TOKEN)"
   ]
  },
  {
   "cell_type": "code",
   "execution_count": 24,
   "metadata": {
    "ExecuteTime": {
     "end_time": "2021-01-15T15:20:31.418803Z",
     "start_time": "2021-01-15T15:20:30.896167Z"
    }
   },
   "outputs": [
    {
     "data": {
      "application/vnd.jupyter.widget-view+json": {
       "model_id": "299cc918e58f48aaaabbcefb2d5537e1",
       "version_major": 2,
       "version_minor": 0
      },
      "text/plain": [
       "Processing CIK:   0%|          | 0/1 [00:00<?, ?it/s]"
      ]
     },
     "metadata": {},
     "output_type": "display_data"
    },
    {
     "data": {
      "application/vnd.jupyter.widget-view+json": {
       "model_id": "",
       "version_major": 2,
       "version_minor": 0
      },
      "text/plain": [
       "Pages: : 0it [00:00, ?it/s]"
      ]
     },
     "metadata": {},
     "output_type": "display_data"
    },
    {
     "name": "stdout",
     "output_type": "stream",
     "text": [
      "num_rows=1\n"
     ]
    },
    {
     "data": {
      "text/html": [
       "<div>\n",
       "<style scoped>\n",
       "    .dataframe tbody tr th:only-of-type {\n",
       "        vertical-align: middle;\n",
       "    }\n",
       "\n",
       "    .dataframe tbody tr th {\n",
       "        vertical-align: top;\n",
       "    }\n",
       "\n",
       "    .dataframe thead th {\n",
       "        text-align: right;\n",
       "    }\n",
       "</style>\n",
       "<table border=\"1\" class=\"dataframe\">\n",
       "  <thead>\n",
       "    <tr style=\"text-align: right;\">\n",
       "      <th></th>\n",
       "      <th>uuid</th>\n",
       "      <th>form_type</th>\n",
       "      <th>company</th>\n",
       "      <th>cik</th>\n",
       "      <th>edgar_path</th>\n",
       "      <th>payload_path</th>\n",
       "      <th>created_at</th>\n",
       "      <th>period</th>\n",
       "      <th>release_date</th>\n",
       "    </tr>\n",
       "  </thead>\n",
       "  <tbody>\n",
       "    <tr>\n",
       "      <th>0</th>\n",
       "      <td>00024613-c236-4f49-bf40-b110f49155f6</td>\n",
       "      <td>13F-HR</td>\n",
       "      <td>ARES MANAGEMENT LLC</td>\n",
       "      <td>1259313</td>\n",
       "      <td>edgar/data/1259313/0001104659-15-079368.txt</td>\n",
       "      <td>s3://edgar-store/form13f%/2015/bc80e15e513a52b...</td>\n",
       "      <td>2020-06-13T01:21:33.030000</td>\n",
       "      <td>2015-11-16T00:00:00</td>\n",
       "      <td>2015-11-16T00:00:00</td>\n",
       "    </tr>\n",
       "  </tbody>\n",
       "</table>\n",
       "</div>"
      ],
      "text/plain": [
       "                                   uuid form_type              company  \\\n",
       "0  00024613-c236-4f49-bf40-b110f49155f6    13F-HR  ARES MANAGEMENT LLC   \n",
       "\n",
       "       cik                                   edgar_path  \\\n",
       "0  1259313  edgar/data/1259313/0001104659-15-079368.txt   \n",
       "\n",
       "                                        payload_path  \\\n",
       "0  s3://edgar-store/form13f%/2015/bc80e15e513a52b...   \n",
       "\n",
       "                   created_at               period         release_date  \n",
       "0  2020-06-13T01:21:33.030000  2015-11-16T00:00:00  2015-11-16T00:00:00  "
      ]
     },
     "metadata": {},
     "output_type": "display_data"
    }
   ],
   "source": [
    "# Get Form13 data for one filer as CIK and one day.\n",
    "payload = client.get_form13_payload(\n",
    "    cik=1259313, \n",
    "    start_date=\"2015-11-16\", end_date=\"2015-11-16\",\n",
    "    date_mode=\"publication_date\",\n",
    ")\n",
    "display_df(payload['metadata'])"
   ]
  },
  {
   "cell_type": "code",
   "execution_count": 25,
   "metadata": {
    "ExecuteTime": {
     "end_time": "2021-01-15T15:20:34.648521Z",
     "start_time": "2021-01-15T15:20:31.437771Z"
    },
    "lines_to_next_cell": 2,
    "pycharm": {
     "is_executing": false,
     "name": "#%%\n"
    }
   },
   "outputs": [
    {
     "data": {
      "application/vnd.jupyter.widget-view+json": {
       "model_id": "a11256c3fcb84238a396474d571bf013",
       "version_major": 2,
       "version_minor": 0
      },
      "text/plain": [
       "Processing CUSIP:   0%|          | 0/1 [00:00<?, ?it/s]"
      ]
     },
     "metadata": {},
     "output_type": "display_data"
    },
    {
     "data": {
      "application/vnd.jupyter.widget-view+json": {
       "model_id": "",
       "version_major": 2,
       "version_minor": 0
      },
      "text/plain": [
       "Pages: : 0it [00:00, ?it/s]"
      ]
     },
     "metadata": {},
     "output_type": "display_data"
    },
    {
     "name": "stdout",
     "output_type": "stream",
     "text": [
      "{'cover_page':                                    uuid  \\\n",
      "0  00024613-c236-4f49-bf40-b110f49155f6   \n",
      "1  3ed94d62-9e28-474a-96d4-8ce273be6b27   \n",
      "2  52087cd2-caa0-45ff-af9a-c8d43fd0f35d   \n",
      "3  5a3ff825-8ab6-481f-9777-c45b27aedc5f   \n",
      "4  a223d2b6-d8eb-4fa5-a2c4-35e424802bd9   \n",
      "5  ac568d7b-3f5d-4779-a864-\n"
     ]
    }
   ],
   "source": [
    "# Get Form13 data for one filed company as CUSIP and one day.\n",
    "payload = client.get_form13_payload(\n",
    "    cusip=\"01449J204\", start_date=\"2015-11-16\", end_date=\"2015-11-16\",\n",
    "    date_mode=\"publication_date\",\n",
    ")\n",
    "print_payload(payload)"
   ]
  },
  {
   "cell_type": "code",
   "execution_count": 26,
   "metadata": {
    "ExecuteTime": {
     "end_time": "2021-01-15T15:20:39.220691Z",
     "start_time": "2021-01-15T15:20:34.657965Z"
    },
    "pycharm": {
     "name": "#%%\n"
    }
   },
   "outputs": [
    {
     "data": {
      "application/vnd.jupyter.widget-view+json": {
       "model_id": "8295b05dbd6348128b99fb3aee01832c",
       "version_major": 2,
       "version_minor": 0
      },
      "text/plain": [
       "Processing CUSIP:   0%|          | 0/1 [00:00<?, ?it/s]"
      ]
     },
     "metadata": {},
     "output_type": "display_data"
    },
    {
     "data": {
      "application/vnd.jupyter.widget-view+json": {
       "model_id": "",
       "version_major": 2,
       "version_minor": 0
      },
      "text/plain": [
       "Pages: : 0it [00:00, ?it/s]"
      ]
     },
     "metadata": {},
     "output_type": "display_data"
    },
    {
     "name": "stdout",
     "output_type": "stream",
     "text": [
      "{'cover_page':                                     uuid additional_information  amendment_no  \\\n",
      "0   00205d8a-371b-499d-9b24-40ae176d59e2                   None           NaN   \n",
      "1   0122f9ff-26b3-4be7-afe7-24a815409501                   None           NaN   \n",
      "2   02cb7011-9d3f-406a-beb7-bd2a3b79e0b2  \n"
     ]
    }
   ],
   "source": [
    "# Get Form13 data for a list of CUSIPs and one day.\n",
    "payload = client.get_form13_payload(\n",
    "    cusip=[\"002824100\", \"01449J204\"], \n",
    "    start_date=\"2016-11-15\", \n",
    "    end_date=\"2016-11-15\", \n",
    "    date_mode=\"publication_date\",\n",
    "    output_type=\"dataframes\"\n",
    ")\n",
    "print_payload(payload)"
   ]
  },
  {
   "cell_type": "markdown",
   "metadata": {},
   "source": [
    "#### How to handle and show payload data"
   ]
  },
  {
   "cell_type": "code",
   "execution_count": 27,
   "metadata": {
    "ExecuteTime": {
     "end_time": "2021-01-15T15:20:39.299590Z",
     "start_time": "2021-01-15T15:20:39.229936Z"
    },
    "pycharm": {
     "name": "#%%\n"
    }
   },
   "outputs": [
    {
     "name": "stdout",
     "output_type": "stream",
     "text": [
      "len(payload)=6\n",
      "payload.keys()=dict_keys(['metadata', 'cover_page', 'header_data', 'information_table', 'signature_block', 'summary_page'])\n"
     ]
    }
   ],
   "source": [
    "# Print out a length, and a table names inside a payload.\n",
    "print(\"len(payload)=%s\" % len(payload))\n",
    "print(\"payload.keys()=%s\" % payload.keys())"
   ]
  },
  {
   "cell_type": "code",
   "execution_count": 28,
   "metadata": {
    "ExecuteTime": {
     "end_time": "2021-01-15T15:20:39.405479Z",
     "start_time": "2021-01-15T15:20:39.309748Z"
    },
    "pycharm": {
     "name": "#%%\n"
    }
   },
   "outputs": [
    {
     "name": "stdout",
     "output_type": "stream",
     "text": [
      "num_rows=77\n"
     ]
    },
    {
     "data": {
      "text/html": [
       "<div>\n",
       "<style scoped>\n",
       "    .dataframe tbody tr th:only-of-type {\n",
       "        vertical-align: middle;\n",
       "    }\n",
       "\n",
       "    .dataframe tbody tr th {\n",
       "        vertical-align: top;\n",
       "    }\n",
       "\n",
       "    .dataframe thead th {\n",
       "        text-align: right;\n",
       "    }\n",
       "</style>\n",
       "<table border=\"1\" class=\"dataframe\">\n",
       "  <thead>\n",
       "    <tr style=\"text-align: right;\">\n",
       "      <th></th>\n",
       "      <th>uuid</th>\n",
       "      <th>form_type</th>\n",
       "      <th>company</th>\n",
       "      <th>cik</th>\n",
       "      <th>edgar_path</th>\n",
       "      <th>payload_path</th>\n",
       "      <th>created_at</th>\n",
       "      <th>period</th>\n",
       "      <th>release_date</th>\n",
       "    </tr>\n",
       "  </thead>\n",
       "  <tbody>\n",
       "    <tr>\n",
       "      <th>0</th>\n",
       "      <td>2e368dfe-a609-4d3c-9772-6cf84907ab5b</td>\n",
       "      <td>13F-HR</td>\n",
       "      <td>LOWE BROCKENBROUGH &amp; CO INC</td>\n",
       "      <td>22657</td>\n",
       "      <td>edgar/data/22657/0000022657-16-000011.txt</td>\n",
       "      <td>s3://edgar-store/form13f%/2016/455a6b63c9e0705...</td>\n",
       "      <td>2020-06-12T21:11:04.298000</td>\n",
       "      <td>2016-11-15T00:00:00</td>\n",
       "      <td>2016-11-15T00:00:00</td>\n",
       "    </tr>\n",
       "    <tr>\n",
       "      <th>1</th>\n",
       "      <td>443e3fcb-5a07-472c-b305-592ab23d2b10</td>\n",
       "      <td>13F-HR</td>\n",
       "      <td>WAYNE HUMMER INVESTMENTS L.L.C.</td>\n",
       "      <td>49096</td>\n",
       "      <td>edgar/data/49096/0000049096-16-000010.txt</td>\n",
       "      <td>s3://edgar-store/form13f%/2016/8ca17dd798114d1...</td>\n",
       "      <td>2020-06-12T21:11:08.061000</td>\n",
       "      <td>2016-11-15T00:00:00</td>\n",
       "      <td>2016-11-15T00:00:00</td>\n",
       "    </tr>\n",
       "    <tr>\n",
       "      <th>2</th>\n",
       "      <td>b0725596-b951-4816-be2b-68407df4a398</td>\n",
       "      <td>13F-HR</td>\n",
       "      <td>CAPITAL GUARDIAN TRUST CO</td>\n",
       "      <td>314965</td>\n",
       "      <td>edgar/data/314965/0000732812-16-000118.txt</td>\n",
       "      <td>s3://edgar-store/form13f%/2016/75bd42a1e0f9365...</td>\n",
       "      <td>2020-06-12T21:11:04.298000</td>\n",
       "      <td>2016-11-15T00:00:00</td>\n",
       "      <td>2016-11-15T00:00:00</td>\n",
       "    </tr>\n",
       "  </tbody>\n",
       "</table>\n",
       "</div>"
      ],
      "text/plain": [
       "                                   uuid form_type  \\\n",
       "0  2e368dfe-a609-4d3c-9772-6cf84907ab5b    13F-HR   \n",
       "1  443e3fcb-5a07-472c-b305-592ab23d2b10    13F-HR   \n",
       "2  b0725596-b951-4816-be2b-68407df4a398    13F-HR   \n",
       "\n",
       "                           company     cik  \\\n",
       "0      LOWE BROCKENBROUGH & CO INC   22657   \n",
       "1  WAYNE HUMMER INVESTMENTS L.L.C.   49096   \n",
       "2        CAPITAL GUARDIAN TRUST CO  314965   \n",
       "\n",
       "                                   edgar_path  \\\n",
       "0   edgar/data/22657/0000022657-16-000011.txt   \n",
       "1   edgar/data/49096/0000049096-16-000010.txt   \n",
       "2  edgar/data/314965/0000732812-16-000118.txt   \n",
       "\n",
       "                                        payload_path  \\\n",
       "0  s3://edgar-store/form13f%/2016/455a6b63c9e0705...   \n",
       "1  s3://edgar-store/form13f%/2016/8ca17dd798114d1...   \n",
       "2  s3://edgar-store/form13f%/2016/75bd42a1e0f9365...   \n",
       "\n",
       "                   created_at               period         release_date  \n",
       "0  2020-06-12T21:11:04.298000  2016-11-15T00:00:00  2016-11-15T00:00:00  \n",
       "1  2020-06-12T21:11:08.061000  2016-11-15T00:00:00  2016-11-15T00:00:00  \n",
       "2  2020-06-12T21:11:04.298000  2016-11-15T00:00:00  2016-11-15T00:00:00  "
      ]
     },
     "metadata": {},
     "output_type": "display_data"
    }
   ],
   "source": [
    "# Show a metadata of a payload.\n",
    "display_df(payload[\"metadata\"])"
   ]
  },
  {
   "cell_type": "markdown",
   "metadata": {
    "ExecuteTime": {
     "end_time": "2020-12-06T13:40:05.559373Z",
     "start_time": "2020-12-06T13:39:16.943Z"
    }
   },
   "source": [
    "### Form10"
   ]
  },
  {
   "cell_type": "code",
   "execution_count": 29,
   "metadata": {
    "ExecuteTime": {
     "end_time": "2021-01-15T15:20:58.976032Z",
     "start_time": "2021-01-15T15:20:39.409378Z"
    }
   },
   "outputs": [
    {
     "data": {
      "application/vnd.jupyter.widget-view+json": {
       "model_id": "ca923c08249947ee94e695edf3437bd5",
       "version_major": 2,
       "version_minor": 0
      },
      "text/plain": [
       "Output()"
      ]
     },
     "metadata": {},
     "output_type": "display_data"
    },
    {
     "data": {
      "application/vnd.jupyter.widget-view+json": {
       "model_id": "4e39d0017a3a45b39ff8307cad3c7a6a",
       "version_major": 2,
       "version_minor": 0
      },
      "text/plain": [
       "Processing CIK:   0%|          | 0/1 [00:00<?, ?it/s]"
      ]
     },
     "metadata": {},
     "output_type": "display_data"
    },
    {
     "name": "stdout",
     "output_type": "stream",
     "text": [
      "1002910: 1 forms loaded\n"
     ]
    }
   ],
   "source": [
    "# Get Form10 data for one CIK and 2 days.\n",
    "payload = client.get_form10_payload(\n",
    "    cik=1002910, start_date=\"2020-05-11\", end_date=\"2020-05-12\",\n",
    "    date_mode=\"publication_date\",\n",
    ")"
   ]
  },
  {
   "cell_type": "code",
   "execution_count": 30,
   "metadata": {
    "ExecuteTime": {
     "end_time": "2021-01-15T15:20:59.035424Z",
     "start_time": "2021-01-15T15:20:58.978840Z"
    }
   },
   "outputs": [
    {
     "name": "stdout",
     "output_type": "stream",
     "text": [
      "len(payload)=1\n",
      "payload[0].keys()=dict_keys(['meta', 'data'])\n"
     ]
    }
   ],
   "source": [
    "print(\"len(payload)=%s\" % len(payload))\n",
    "print(\"payload[0].keys()=%s\" % payload[0].keys())"
   ]
  },
  {
   "cell_type": "code",
   "execution_count": 31,
   "metadata": {
    "ExecuteTime": {
     "end_time": "2021-01-15T15:20:59.095185Z",
     "start_time": "2021-01-15T15:20:59.039102Z"
    }
   },
   "outputs": [
    {
     "name": "stdout",
     "output_type": "stream",
     "text": [
      "payload[0][\"meta\"]=\n",
      "{'cik': {'0': 1002910},\n",
      " 'filing_date': {'0': '2020-05-11'},\n",
      " 'filing_url': {'0': 'https://www.sec.gov/Archives/edgar/data/1002910/000100291020000115/0001002910-20-000115-index.html'},\n",
      " 'form_type': {'0': '10-Q'},\n",
      " 'uuid': {'0': '981cfc73-7380-4093-8cd7-f0d6a845b3e4'}}\n"
     ]
    }
   ],
   "source": [
    "print('payload[0][\"meta\"]=\\n%s' % pprint.pformat(payload[0][\"meta\"]))"
   ]
  },
  {
   "cell_type": "code",
   "execution_count": 32,
   "metadata": {
    "ExecuteTime": {
     "end_time": "2021-01-15T15:21:13.252391Z",
     "start_time": "2021-01-15T15:20:59.099622Z"
    },
    "lines_to_next_cell": 2
   },
   "outputs": [
    {
     "name": "stdout",
     "output_type": "stream",
     "text": [
      "{'calculation': {'calculationLinkbase': [['linkRole',\n",
      "                                          {'definition': '1002000 - Statement '\n",
      "                                                         '- Consolidated '\n",
      "                                                         'Statement of Income '\n",
      "                                                         '(Loss) and '\n",
      "                                                         'Comprehensive Income '\n",
      "                                                         '(Loss)',\n",
      "                                           'role': 'http://www.ameren.com/role/ConsolidatedStatementOfIncomeLossAndComprehensiveIncomeLoss'},\n",
      "                                          {},\n",
      "                                          ['concept',\n",
      "                                           {'label': 'Net Income (Loss) '\n",
      "                                                     'Attributable to Parent',\n",
      "                                            'name': 'us-gaap:NetIncomeLoss'},\n",
      "                                           {'balance': 'credit'},\n",
      "                                           ['concept',\n",
      "                                            {'label': '(+1) Net Income (Loss), '\n",
      "                                                      'Including Portion '\n",
      "                                                      'Attributable to '\n",
      "                                                      'Noncontrolling Interest',\n",
      "                                             'name': 'us-gaap:ProfitLoss'},\n",
      "                                            {'balance': 'credit',\n",
      "                                             'weight': '1 '},\n",
      "                                            ['concept',\n",
      "                                             {'label': '(+1) Income (Loss) '\n",
      "                                                       'from Continuing '\n",
      "                                                       'Operations before '\n",
      "                                                       'Equity Method '\n",
      "                             \n"
     ]
    }
   ],
   "source": [
    "json_str = payload[0][\"data\"]\n",
    "print(pprint.pformat(payload[0][\"data\"])[:2000])"
   ]
  },
  {
   "cell_type": "code",
   "execution_count": null,
   "metadata": {},
   "outputs": [],
   "source": []
  }
 ],
 "metadata": {
  "hide_input": false,
  "jupytext": {
   "text_representation": {
    "extension": ".py",
    "format_name": "percent",
    "format_version": "1.3",
    "jupytext_version": "1.7.1"
   }
  },
  "kernelspec": {
   "display_name": "Python 3",
   "language": "python",
   "name": "python3"
  },
  "language_info": {
   "codemirror_mode": {
    "name": "ipython",
    "version": 3
   },
   "file_extension": ".py",
   "mimetype": "text/x-python",
   "name": "python",
   "nbconvert_exporter": "python",
   "pygments_lexer": "ipython3",
   "version": "3.8.5"
  },
  "pycharm": {
   "stem_cell": {
    "cell_type": "raw",
    "metadata": {
     "collapsed": false
    },
    "source": []
   }
  },
  "toc": {
   "base_numbering": 1,
   "nav_menu": {},
   "number_sections": true,
   "sideBar": true,
   "skip_h1_title": false,
   "title_cell": "Table of Contents",
   "title_sidebar": "Contents",
   "toc_cell": false,
   "toc_position": {},
   "toc_section_display": true,
   "toc_window_display": true
  },
  "varInspector": {
   "cols": {
    "lenName": 16,
    "lenType": 16,
    "lenVar": 40
   },
   "kernels_config": {
    "python": {
     "delete_cmd_postfix": "",
     "delete_cmd_prefix": "del ",
     "library": "var_list.py",
     "varRefreshCmd": "print(var_dic_list())"
    },
    "r": {
     "delete_cmd_postfix": ") ",
     "delete_cmd_prefix": "rm(",
     "library": "var_list.r",
     "varRefreshCmd": "cat(var_dic_list()) "
    }
   },
   "types_to_exclude": [
    "module",
    "function",
    "builtin_function_or_method",
    "instance",
    "_Feature"
   ],
   "window_display": false
  }
 },
 "nbformat": 4,
 "nbformat_minor": 1
}
